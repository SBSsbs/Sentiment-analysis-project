{
 "cells": [
  {
   "cell_type": "code",
   "execution_count": 2,
   "metadata": {},
   "outputs": [],
   "source": [
    "import pandas as pd\n",
    "import numpy as np\n",
    "import matplotlib.pyplot as plt\n",
    "import string\n",
    "import re\n",
    "from nltk.corpus import stopwords\n",
    "from sklearn.model_selection import train_test_split, GridSearchCV\n",
    "from sklearn.feature_extraction.text import TfidfVectorizer\n",
    "from sklearn.pipeline import make_pipeline\n",
    "from sklearn.metrics import confusion_matrix,accuracy_score, classification_report"
   ]
  },
  {
   "cell_type": "code",
   "execution_count": 3,
   "metadata": {},
   "outputs": [
    {
     "name": "stdout",
     "output_type": "stream",
     "text": [
      "   Unnamed: 0                                            Comment  Sentiment\n",
      "0           0     مقداد قداش مره تجيبوه افهمونا ماسط الشعب يحبوش          0\n",
      "1           1             karim gharbi masit i sitcom ma3jibnich          0\n",
      "2           2                                            mabldou          0\n",
      "3           3  الهالكا مختصه قناه الزيتونه محايده وانتهت مهمت...          0\n",
      "4           4  اتحاد الخراب والدمار خرب بلادنا يريدون افريقيا...          0\n"
     ]
    }
   ],
   "source": [
    "data1 = pd.read_excel(r\"output.xlsx\")\n",
    "print(data1.head(5))"
   ]
  },
  {
   "cell_type": "markdown",
   "metadata": {},
   "source": [
    "## STEP 4: Création du modèle de Machine Learning"
   ]
  },
  {
   "cell_type": "markdown",
   "metadata": {},
   "source": [
    "### Deep Learning model with CNN"
   ]
  },
  {
   "cell_type": "code",
   "execution_count": 11,
   "metadata": {},
   "outputs": [
    {
     "name": "stderr",
     "output_type": "stream",
     "text": [
      "Using TensorFlow backend.\n"
     ]
    }
   ],
   "source": [
    "import pandas as pd\n",
    "import numpy as np\n",
    "import re\n",
    "import nltk\n",
    "import tensorflow\n",
    "from nltk.corpus import stopwords\n",
    "from numpy import array\n",
    "from keras.preprocessing.text import one_hot\n",
    "from keras.preprocessing.sequence import pad_sequences\n",
    "#from keras.models import Sequential\n",
    "from tensorflow.python.keras.models import Sequential\n",
    "from tensorflow.python.keras.layers.core import Activation, Dropout, Dense\n",
    "from tensorflow.python.keras.layers import Flatten\n",
    "from tensorflow.python.keras.layers import GlobalMaxPooling1D\n",
    "from tensorflow.python.keras.layers.embeddings import Embedding\n",
    "from sklearn.model_selection import train_test_split\n",
    "from tensorflow.keras.preprocessing.text import Tokenizer"
   ]
  },
  {
   "cell_type": "code",
   "execution_count": 12,
   "metadata": {},
   "outputs": [
    {
     "data": {
      "text/plain": [
       "10001     يفرغها الفرحه يسافر يمشي للماناج يعمل كمبينغ ...\n",
       "2732       اعوذ سماهم وجوههم منظرك يخلي يايس الدنيا الاخره\n",
       "9882     موتيفا بالصغار تحب تعطي رساله نبيله لربي سبحان...\n",
       "1527                                           ماشاء وبارك\n",
       "9541                 قدم فكره procédure recrutement متاحم \n",
       "3905     وشكون حاسبها اصلوا مسخه بايعه شرفها خاطر الفلو...\n",
       "58                                                   khayb\n",
       "7735                                  نحبووو خاطرو نيه قلب\n",
       "9987                                   خليك متعبتك الحكايه\n",
       "10059             مده كبيره نجمت تفهموا بالباهي تجيني عروض\n",
       "6562     masset lasset aenten mel kalasset wooooooooooo...\n",
       "8347                                ريت تعاودو عرضو النهار\n",
       "10287    شوف دكتور عبد النور نومه مدنين جنراليست فالح ا...\n",
       "6515     tfouh ye mou3a9 yeli meta7yech nsa tesma3 ema ...\n",
       "9944     ظل السلبيات دايره تنساش صغيرك ولدك يستحق لهوه ...\n",
       "6972               محلاك بنك امير عسل الغنايه غنيتها حلوه \n",
       "414                                            ensan tafeh\n",
       "9871            تقري افق وحيد تخدم معلم ريسك تخلطش تنجم شء\n",
       "3971     والله عهر هرج مرج ديوث قله تربيه حياء وانصياع ...\n",
       "8149                                yar7mou ena3mou sbou3i\n",
       "9951                                lzem y7ki biha yt3lmha\n",
       "6182           سامي خوياااااا هكااا ملالالا سيناريووو ماسط\n",
       "7923                                           rabbi maana\n",
       "5728              mamestik wmamsat elkleb jabouk kemcha m \n",
       "6897        bravo walid baradtli 9albi ya3tik sa7a skotech\n",
       "4978                                               bal3out\n",
       "1897                                          موفق انشالله\n",
       "5763                   يعطك وهف يلمك شوف عاد يقدم النصيحه \n",
       "4028     احمد الاندلسي اشرف الميبون مد كلام الناس شكونك...\n",
       "7187     لطفي العبدلي ممثل شامل كميديا تلقاه دراما والح...\n",
       "                               ...                        \n",
       "189                                     مستوي المسلسل منحط\n",
       "9998     cv 70 ya3ni netouj3 najm nebki ya3ni madem wa3...\n",
       "9167                              tbi3chi robinet wahadha \n",
       "2747                              تعليقات الشعب تكفي سلومه\n",
       "2047                                         vrais m3allem\n",
       "7849                                     ya5i youm yzidou \n",
       "2558                                           rabi ioltof\n",
       "9274     الbootstrap عباره code مخدوم بالcss js يعاونك ...\n",
       "8666                                        نحب نعدي كومند\n",
       "6396                                        يليق البرنامج \n",
       "3385                          مخيب المنظر وع والساحل محاسن\n",
       "4555               a7sen mouselsel 9a3id yet3ada alou jeda\n",
       "1184            بخير بمناسبه المولد النبوي الشريف ياجينرال\n",
       "6420                                     كلب كاراكوز اتفوه\n",
       "5051                                           ta7an kbire\n",
       "5311                             maset lasseta hhhhhhhhhhh\n",
       "2433                                            تعيس مسكين\n",
       "6949                   قداش تعجبني كبير صريح ربي اطول عمرك\n",
       "769                      توحشتو تكميم الافواه وهزان القفه \n",
       "1685                                      m7al barka 5ouna\n",
       "8322     7assb 7kit todh her 3andek mo5ek donc 3andekch...\n",
       "5578                                        قله حياء تربيه\n",
       "4426                                     ياصتار تصتر ياربي\n",
       "466                                       احتقرك طاهر حسين\n",
       "6265                                        ﻹنحطاط اﻷخلاقي\n",
       "5734                                5et foooooooh 3liiikom\n",
       "5191                                              mabledha\n",
       "5390                                                   كلب\n",
       "860       ياخي فرض واجبه يذكر الناس فلك الاختيار الجنه ...\n",
       "7270                                                   مهف\n",
       "Name: Comment, Length: 8315, dtype: object"
      ]
     },
     "execution_count": 12,
     "metadata": {},
     "output_type": "execute_result"
    }
   ],
   "source": [
    "feature = data1.Comment.fillna(' ')\n",
    "target = data1.Sentiment\n",
    "X_train, X_test, Y_train, Y_test = train_test_split(feature, target, test_size=0.2, random_state=42, shuffle=True)\n",
    "X_train"
   ]
  },
  {
   "cell_type": "code",
   "execution_count": 13,
   "metadata": {},
   "outputs": [],
   "source": [
    "from keras.layers import  Dropout, Dense\n",
    "from keras.models import Sequential\n",
    "from sklearn.feature_extraction.text import TfidfVectorizer\n",
    "import numpy as np\n",
    "from keras import layers\n",
    "from sklearn import metrics"
   ]
  },
  {
   "cell_type": "code",
   "execution_count": 14,
   "metadata": {},
   "outputs": [],
   "source": [
    "def TFIDF(X_train, X_test,MAX_NB_WORDS=75000):\n",
    "    vectorizer_x = TfidfVectorizer(max_features=MAX_NB_WORDS)\n",
    "    X_train = vectorizer_x.fit_transform(X_train).toarray()\n",
    "    X_test = vectorizer_x.transform(X_test).toarray()\n",
    "    print(\"tf-idf with\",str(np.array(X_train).shape[1]),\"features\")\n",
    "    return (X_train,X_test)"
   ]
  },
  {
   "cell_type": "code",
   "execution_count": 36,
   "metadata": {},
   "outputs": [],
   "source": [
    "def Build_Model_DNN_Text(shape, dropout=0.5):\n",
    "    \"\"\"\n",
    "    buildModel_DNN_Tex(shape, nClasses,dropout)\n",
    "    Build Deep neural networks Model for text classification\n",
    "    Shape is input feature space\n",
    "    nClasses is number of classes\n",
    "    \"\"\"\n",
    "    model = Sequential()\n",
    "    node = 40 # number of nodes parfois 64\n",
    "    nLayers = 2 # number of  hidden layer  2 per default\n",
    "\n",
    "    model.add(Dense(node,input_dim=shape,activation='relu'))\n",
    "    model.add(Dropout(dropout))\n",
    "    for i in range(0,nLayers):\n",
    "        model.add(Dense(node,input_dim=node,activation='relu'))\n",
    "        model.add(Dropout(dropout))\n",
    "    model.add(Dense(4, activation='softmax'))\n",
    "\n",
    "    model.compile(loss='sparse_categorical_crossentropy',\n",
    "                  optimizer='adam',\n",
    "                  metrics=['accuracy'])\n",
    "\n",
    "    return model\n"
   ]
  },
  {
   "cell_type": "code",
   "execution_count": 37,
   "metadata": {},
   "outputs": [
    {
     "name": "stdout",
     "output_type": "stream",
     "text": [
      "tf-idf with 26392 features\n"
     ]
    }
   ],
   "source": [
    "X_train_tfidf,X_test_tfidf = TFIDF(X_train,X_test)"
   ]
  },
  {
   "cell_type": "code",
   "execution_count": 38,
   "metadata": {},
   "outputs": [
    {
     "data": {
      "text/plain": [
       "(8315, 26392)"
      ]
     },
     "execution_count": 38,
     "metadata": {},
     "output_type": "execute_result"
    }
   ],
   "source": [
    "X_train_tfidf.shape"
   ]
  },
  {
   "cell_type": "code",
   "execution_count": 39,
   "metadata": {},
   "outputs": [
    {
     "name": "stdout",
     "output_type": "stream",
     "text": [
      "Model: \"sequential_6\"\n",
      "_________________________________________________________________\n",
      "Layer (type)                 Output Shape              Param #   \n",
      "=================================================================\n",
      "dense_26 (Dense)             (None, 40)                1055720   \n",
      "_________________________________________________________________\n",
      "dropout_21 (Dropout)         (None, 40)                0         \n",
      "_________________________________________________________________\n",
      "dense_27 (Dense)             (None, 40)                1640      \n",
      "_________________________________________________________________\n",
      "dropout_22 (Dropout)         (None, 40)                0         \n",
      "_________________________________________________________________\n",
      "dense_28 (Dense)             (None, 40)                1640      \n",
      "_________________________________________________________________\n",
      "dropout_23 (Dropout)         (None, 40)                0         \n",
      "_________________________________________________________________\n",
      "dense_29 (Dense)             (None, 4)                 164       \n",
      "=================================================================\n",
      "Total params: 1,059,164\n",
      "Trainable params: 1,059,164\n",
      "Non-trainable params: 0\n",
      "_________________________________________________________________\n",
      "Train on 8315 samples, validate on 2079 samples\n",
      "Epoch 1/100\n",
      " - 6s - loss: 1.3843 - accuracy: 0.2633 - val_loss: 1.3740 - val_accuracy: 0.4416\n",
      "Epoch 2/100\n",
      " - 3s - loss: 1.3286 - accuracy: 0.3828 - val_loss: 1.1914 - val_accuracy: 0.6258\n",
      "Epoch 3/100\n",
      " - 2s - loss: 1.0283 - accuracy: 0.5806 - val_loss: 0.8446 - val_accuracy: 0.6691\n",
      "Epoch 4/100\n",
      " - 2s - loss: 0.6952 - accuracy: 0.7041 - val_loss: 0.7576 - val_accuracy: 0.7124\n",
      "Epoch 5/100\n",
      " - 2s - loss: 0.5026 - accuracy: 0.8022 - val_loss: 0.7605 - val_accuracy: 0.7138\n",
      "Epoch 6/100\n",
      " - 2s - loss: 0.3655 - accuracy: 0.8667 - val_loss: 0.7846 - val_accuracy: 0.7225\n",
      "Epoch 7/100\n",
      " - 3s - loss: 0.2799 - accuracy: 0.9028 - val_loss: 0.8231 - val_accuracy: 0.7268\n",
      "Epoch 8/100\n",
      " - 3s - loss: 0.2177 - accuracy: 0.9347 - val_loss: 0.8589 - val_accuracy: 0.7282\n",
      "Epoch 9/100\n",
      " - 2s - loss: 0.1733 - accuracy: 0.9477 - val_loss: 0.9352 - val_accuracy: 0.7278\n",
      "Epoch 10/100\n",
      " - 2s - loss: 0.1377 - accuracy: 0.9583 - val_loss: 0.9881 - val_accuracy: 0.7278\n",
      "Epoch 11/100\n",
      " - 2s - loss: 0.1207 - accuracy: 0.9655 - val_loss: 1.0383 - val_accuracy: 0.7278\n",
      "Epoch 12/100\n",
      " - 2s - loss: 0.0942 - accuracy: 0.9708 - val_loss: 1.1199 - val_accuracy: 0.7273\n",
      "Epoch 13/100\n",
      " - 2s - loss: 0.0778 - accuracy: 0.9781 - val_loss: 1.1804 - val_accuracy: 0.7253\n",
      "Epoch 14/100\n",
      " - 2s - loss: 0.0784 - accuracy: 0.9778 - val_loss: 1.2224 - val_accuracy: 0.7258\n",
      "Epoch 15/100\n",
      " - 2s - loss: 0.0621 - accuracy: 0.9827 - val_loss: 1.2725 - val_accuracy: 0.7220\n",
      "Epoch 16/100\n",
      " - 2s - loss: 0.0741 - accuracy: 0.9805 - val_loss: 1.2715 - val_accuracy: 0.7215\n",
      "Epoch 17/100\n",
      " - 2s - loss: 0.0625 - accuracy: 0.9847 - val_loss: 1.3216 - val_accuracy: 0.7229\n",
      "Epoch 18/100\n",
      " - 2s - loss: 0.0545 - accuracy: 0.9854 - val_loss: 1.3483 - val_accuracy: 0.7201\n",
      "Epoch 19/100\n",
      " - 2s - loss: 0.0551 - accuracy: 0.9865 - val_loss: 1.3575 - val_accuracy: 0.7229\n",
      "Epoch 20/100\n",
      " - 2s - loss: 0.0507 - accuracy: 0.9875 - val_loss: 1.4083 - val_accuracy: 0.7186\n",
      "Epoch 21/100\n",
      " - 2s - loss: 0.0478 - accuracy: 0.9876 - val_loss: 1.4094 - val_accuracy: 0.7234\n",
      "Epoch 22/100\n",
      " - 2s - loss: 0.0459 - accuracy: 0.9875 - val_loss: 1.4390 - val_accuracy: 0.7201\n",
      "Epoch 23/100\n",
      " - 2s - loss: 0.0409 - accuracy: 0.9899 - val_loss: 1.4681 - val_accuracy: 0.7210\n",
      "Epoch 24/100\n",
      " - 2s - loss: 0.0433 - accuracy: 0.9877 - val_loss: 1.4950 - val_accuracy: 0.7196\n",
      "Epoch 25/100\n",
      " - 2s - loss: 0.0366 - accuracy: 0.9903 - val_loss: 1.5386 - val_accuracy: 0.7201\n",
      "Epoch 26/100\n",
      " - 2s - loss: 0.0422 - accuracy: 0.9904 - val_loss: 1.5373 - val_accuracy: 0.7210\n",
      "Epoch 27/100\n",
      " - 2s - loss: 0.0398 - accuracy: 0.9882 - val_loss: 1.5386 - val_accuracy: 0.7196\n",
      "Epoch 28/100\n",
      " - 3s - loss: 0.0352 - accuracy: 0.9913 - val_loss: 1.5871 - val_accuracy: 0.7181\n",
      "Epoch 29/100\n",
      " - 2s - loss: 0.0367 - accuracy: 0.9895 - val_loss: 1.6049 - val_accuracy: 0.7196\n",
      "Epoch 30/100\n",
      " - 2s - loss: 0.0322 - accuracy: 0.9904 - val_loss: 1.6379 - val_accuracy: 0.7191\n",
      "Epoch 31/100\n",
      " - 2s - loss: 0.0318 - accuracy: 0.9917 - val_loss: 1.6798 - val_accuracy: 0.7119\n",
      "Epoch 32/100\n",
      " - 2s - loss: 0.0374 - accuracy: 0.9909 - val_loss: 1.6442 - val_accuracy: 0.7205\n",
      "Epoch 33/100\n",
      " - 2s - loss: 0.0305 - accuracy: 0.9922 - val_loss: 1.6501 - val_accuracy: 0.7186\n",
      "Epoch 34/100\n",
      " - 2s - loss: 0.0313 - accuracy: 0.9910 - val_loss: 1.6613 - val_accuracy: 0.7220\n",
      "Epoch 35/100\n",
      " - 3s - loss: 0.0307 - accuracy: 0.9903 - val_loss: 1.6966 - val_accuracy: 0.7177\n",
      "Epoch 36/100\n",
      " - 2s - loss: 0.0302 - accuracy: 0.9922 - val_loss: 1.7005 - val_accuracy: 0.7205\n",
      "Epoch 37/100\n",
      " - 2s - loss: 0.0334 - accuracy: 0.9911 - val_loss: 1.6916 - val_accuracy: 0.7263\n",
      "Epoch 38/100\n",
      " - 2s - loss: 0.0280 - accuracy: 0.9924 - val_loss: 1.7273 - val_accuracy: 0.7152\n",
      "Epoch 39/100\n",
      " - 3s - loss: 0.0284 - accuracy: 0.9921 - val_loss: 1.7237 - val_accuracy: 0.7138\n",
      "Epoch 40/100\n",
      " - 2s - loss: 0.0300 - accuracy: 0.9928 - val_loss: 1.7098 - val_accuracy: 0.7234\n",
      "Epoch 41/100\n",
      " - 2s - loss: 0.0247 - accuracy: 0.9924 - val_loss: 1.7379 - val_accuracy: 0.7143\n",
      "Epoch 42/100\n",
      " - 2s - loss: 0.0267 - accuracy: 0.9915 - val_loss: 1.7639 - val_accuracy: 0.7138\n",
      "Epoch 43/100\n",
      " - 2s - loss: 0.0241 - accuracy: 0.9929 - val_loss: 1.8108 - val_accuracy: 0.7133\n",
      "Epoch 44/100\n",
      " - 2s - loss: 0.0234 - accuracy: 0.9930 - val_loss: 1.7910 - val_accuracy: 0.7133\n",
      "Epoch 45/100\n",
      " - 2s - loss: 0.0221 - accuracy: 0.9941 - val_loss: 1.8703 - val_accuracy: 0.7152\n",
      "Epoch 46/100\n",
      " - 2s - loss: 0.0254 - accuracy: 0.9928 - val_loss: 1.8455 - val_accuracy: 0.7138\n",
      "Epoch 47/100\n",
      " - 3s - loss: 0.0260 - accuracy: 0.9939 - val_loss: 1.8118 - val_accuracy: 0.7196\n",
      "Epoch 48/100\n",
      " - 3s - loss: 0.0237 - accuracy: 0.9928 - val_loss: 1.8015 - val_accuracy: 0.7177\n",
      "Epoch 49/100\n",
      " - 2s - loss: 0.0163 - accuracy: 0.9952 - val_loss: 1.9278 - val_accuracy: 0.7119\n",
      "Epoch 50/100\n",
      " - 3s - loss: 0.0209 - accuracy: 0.9933 - val_loss: 1.9624 - val_accuracy: 0.7148\n",
      "Epoch 51/100\n",
      " - 3s - loss: 0.0268 - accuracy: 0.9922 - val_loss: 1.9165 - val_accuracy: 0.7249\n",
      "Epoch 52/100\n",
      " - 3s - loss: 0.0220 - accuracy: 0.9942 - val_loss: 1.9048 - val_accuracy: 0.7253\n",
      "Epoch 53/100\n",
      " - 2s - loss: 0.0246 - accuracy: 0.9931 - val_loss: 1.8777 - val_accuracy: 0.7128\n",
      "Epoch 54/100\n",
      " - 2s - loss: 0.0178 - accuracy: 0.9946 - val_loss: 1.9603 - val_accuracy: 0.7244\n",
      "Epoch 55/100\n",
      " - 3s - loss: 0.0215 - accuracy: 0.9939 - val_loss: 1.9287 - val_accuracy: 0.7196\n",
      "Epoch 56/100\n"
     ]
    },
    {
     "ename": "KeyboardInterrupt",
     "evalue": "",
     "output_type": "error",
     "traceback": [
      "\u001b[1;31m---------------------------------------------------------------------------\u001b[0m",
      "\u001b[1;31mKeyboardInterrupt\u001b[0m                         Traceback (most recent call last)",
      "\u001b[1;32m<ipython-input-39-72a01e3ff076>\u001b[0m in \u001b[0;36m<module>\u001b[1;34m\u001b[0m\n\u001b[0;32m      7\u001b[0m                               \u001b[0mepochs\u001b[0m\u001b[1;33m=\u001b[0m\u001b[1;36m100\u001b[0m\u001b[1;33m,\u001b[0m\u001b[1;33m\u001b[0m\u001b[1;33m\u001b[0m\u001b[0m\n\u001b[0;32m      8\u001b[0m                               \u001b[0mbatch_size\u001b[0m\u001b[1;33m=\u001b[0m\u001b[1;36m128\u001b[0m\u001b[1;33m,\u001b[0m\u001b[1;33m\u001b[0m\u001b[1;33m\u001b[0m\u001b[0m\n\u001b[1;32m----> 9\u001b[1;33m                               verbose=2,shuffle=True)\n\u001b[0m\u001b[0;32m     10\u001b[0m \u001b[1;33m\u001b[0m\u001b[0m\n\u001b[0;32m     11\u001b[0m \u001b[0mpredicted\u001b[0m \u001b[1;33m=\u001b[0m \u001b[0mmodel_DNN\u001b[0m\u001b[1;33m.\u001b[0m\u001b[0mpredict_classes\u001b[0m\u001b[1;33m(\u001b[0m\u001b[0mX_test_tfidf\u001b[0m\u001b[1;33m)\u001b[0m\u001b[1;33m\u001b[0m\u001b[1;33m\u001b[0m\u001b[0m\n",
      "\u001b[1;32mC:\\Anaconda\\lib\\site-packages\\keras\\engine\\training.py\u001b[0m in \u001b[0;36mfit\u001b[1;34m(self, x, y, batch_size, epochs, verbose, callbacks, validation_split, validation_data, shuffle, class_weight, sample_weight, initial_epoch, steps_per_epoch, validation_steps, validation_freq, max_queue_size, workers, use_multiprocessing, **kwargs)\u001b[0m\n\u001b[0;32m   1237\u001b[0m                                         \u001b[0msteps_per_epoch\u001b[0m\u001b[1;33m=\u001b[0m\u001b[0msteps_per_epoch\u001b[0m\u001b[1;33m,\u001b[0m\u001b[1;33m\u001b[0m\u001b[1;33m\u001b[0m\u001b[0m\n\u001b[0;32m   1238\u001b[0m                                         \u001b[0mvalidation_steps\u001b[0m\u001b[1;33m=\u001b[0m\u001b[0mvalidation_steps\u001b[0m\u001b[1;33m,\u001b[0m\u001b[1;33m\u001b[0m\u001b[1;33m\u001b[0m\u001b[0m\n\u001b[1;32m-> 1239\u001b[1;33m                                         validation_freq=validation_freq)\n\u001b[0m\u001b[0;32m   1240\u001b[0m \u001b[1;33m\u001b[0m\u001b[0m\n\u001b[0;32m   1241\u001b[0m     def evaluate(self,\n",
      "\u001b[1;32mC:\\Anaconda\\lib\\site-packages\\keras\\engine\\training_arrays.py\u001b[0m in \u001b[0;36mfit_loop\u001b[1;34m(model, fit_function, fit_inputs, out_labels, batch_size, epochs, verbose, callbacks, val_function, val_inputs, shuffle, initial_epoch, steps_per_epoch, validation_steps, validation_freq)\u001b[0m\n\u001b[0;32m    182\u001b[0m                         \u001b[1;31m# Do not slice the training phase flag.\u001b[0m\u001b[1;33m\u001b[0m\u001b[1;33m\u001b[0m\u001b[1;33m\u001b[0m\u001b[0m\n\u001b[0;32m    183\u001b[0m                         ins_batch = slice_arrays(\n\u001b[1;32m--> 184\u001b[1;33m                             fit_inputs[:-1], batch_ids) + [fit_inputs[-1]]\n\u001b[0m\u001b[0;32m    185\u001b[0m                     \u001b[1;32melse\u001b[0m\u001b[1;33m:\u001b[0m\u001b[1;33m\u001b[0m\u001b[1;33m\u001b[0m\u001b[0m\n\u001b[0;32m    186\u001b[0m                         \u001b[0mins_batch\u001b[0m \u001b[1;33m=\u001b[0m \u001b[0mslice_arrays\u001b[0m\u001b[1;33m(\u001b[0m\u001b[0mfit_inputs\u001b[0m\u001b[1;33m,\u001b[0m \u001b[0mbatch_ids\u001b[0m\u001b[1;33m)\u001b[0m\u001b[1;33m\u001b[0m\u001b[1;33m\u001b[0m\u001b[0m\n",
      "\u001b[1;32mC:\\Anaconda\\lib\\site-packages\\keras\\utils\\generic_utils.py\u001b[0m in \u001b[0;36mslice_arrays\u001b[1;34m(arrays, start, stop)\u001b[0m\n\u001b[0;32m    553\u001b[0m             \u001b[1;32mif\u001b[0m \u001b[0mhasattr\u001b[0m\u001b[1;33m(\u001b[0m\u001b[0mstart\u001b[0m\u001b[1;33m,\u001b[0m \u001b[1;34m'shape'\u001b[0m\u001b[1;33m)\u001b[0m\u001b[1;33m:\u001b[0m\u001b[1;33m\u001b[0m\u001b[1;33m\u001b[0m\u001b[0m\n\u001b[0;32m    554\u001b[0m                 \u001b[0mstart\u001b[0m \u001b[1;33m=\u001b[0m \u001b[0mstart\u001b[0m\u001b[1;33m.\u001b[0m\u001b[0mtolist\u001b[0m\u001b[1;33m(\u001b[0m\u001b[1;33m)\u001b[0m\u001b[1;33m\u001b[0m\u001b[1;33m\u001b[0m\u001b[0m\n\u001b[1;32m--> 555\u001b[1;33m             \u001b[1;32mreturn\u001b[0m \u001b[1;33m[\u001b[0m\u001b[1;32mNone\u001b[0m \u001b[1;32mif\u001b[0m \u001b[0mx\u001b[0m \u001b[1;32mis\u001b[0m \u001b[1;32mNone\u001b[0m \u001b[1;32melse\u001b[0m \u001b[0mx\u001b[0m\u001b[1;33m[\u001b[0m\u001b[0mstart\u001b[0m\u001b[1;33m]\u001b[0m \u001b[1;32mfor\u001b[0m \u001b[0mx\u001b[0m \u001b[1;32min\u001b[0m \u001b[0marrays\u001b[0m\u001b[1;33m]\u001b[0m\u001b[1;33m\u001b[0m\u001b[1;33m\u001b[0m\u001b[0m\n\u001b[0m\u001b[0;32m    556\u001b[0m         \u001b[1;32melse\u001b[0m\u001b[1;33m:\u001b[0m\u001b[1;33m\u001b[0m\u001b[1;33m\u001b[0m\u001b[0m\n\u001b[0;32m    557\u001b[0m             \u001b[1;32mreturn\u001b[0m \u001b[1;33m[\u001b[0m\u001b[1;32mNone\u001b[0m \u001b[1;32mif\u001b[0m \u001b[0mx\u001b[0m \u001b[1;32mis\u001b[0m \u001b[1;32mNone\u001b[0m \u001b[1;32melse\u001b[0m \u001b[0mx\u001b[0m\u001b[1;33m[\u001b[0m\u001b[0mstart\u001b[0m\u001b[1;33m:\u001b[0m\u001b[0mstop\u001b[0m\u001b[1;33m]\u001b[0m \u001b[1;32mfor\u001b[0m \u001b[0mx\u001b[0m \u001b[1;32min\u001b[0m \u001b[0marrays\u001b[0m\u001b[1;33m]\u001b[0m\u001b[1;33m\u001b[0m\u001b[1;33m\u001b[0m\u001b[0m\n",
      "\u001b[1;32mC:\\Anaconda\\lib\\site-packages\\keras\\utils\\generic_utils.py\u001b[0m in \u001b[0;36m<listcomp>\u001b[1;34m(.0)\u001b[0m\n\u001b[0;32m    553\u001b[0m             \u001b[1;32mif\u001b[0m \u001b[0mhasattr\u001b[0m\u001b[1;33m(\u001b[0m\u001b[0mstart\u001b[0m\u001b[1;33m,\u001b[0m \u001b[1;34m'shape'\u001b[0m\u001b[1;33m)\u001b[0m\u001b[1;33m:\u001b[0m\u001b[1;33m\u001b[0m\u001b[1;33m\u001b[0m\u001b[0m\n\u001b[0;32m    554\u001b[0m                 \u001b[0mstart\u001b[0m \u001b[1;33m=\u001b[0m \u001b[0mstart\u001b[0m\u001b[1;33m.\u001b[0m\u001b[0mtolist\u001b[0m\u001b[1;33m(\u001b[0m\u001b[1;33m)\u001b[0m\u001b[1;33m\u001b[0m\u001b[1;33m\u001b[0m\u001b[0m\n\u001b[1;32m--> 555\u001b[1;33m             \u001b[1;32mreturn\u001b[0m \u001b[1;33m[\u001b[0m\u001b[1;32mNone\u001b[0m \u001b[1;32mif\u001b[0m \u001b[0mx\u001b[0m \u001b[1;32mis\u001b[0m \u001b[1;32mNone\u001b[0m \u001b[1;32melse\u001b[0m \u001b[0mx\u001b[0m\u001b[1;33m[\u001b[0m\u001b[0mstart\u001b[0m\u001b[1;33m]\u001b[0m \u001b[1;32mfor\u001b[0m \u001b[0mx\u001b[0m \u001b[1;32min\u001b[0m \u001b[0marrays\u001b[0m\u001b[1;33m]\u001b[0m\u001b[1;33m\u001b[0m\u001b[1;33m\u001b[0m\u001b[0m\n\u001b[0m\u001b[0;32m    556\u001b[0m         \u001b[1;32melse\u001b[0m\u001b[1;33m:\u001b[0m\u001b[1;33m\u001b[0m\u001b[1;33m\u001b[0m\u001b[0m\n\u001b[0;32m    557\u001b[0m             \u001b[1;32mreturn\u001b[0m \u001b[1;33m[\u001b[0m\u001b[1;32mNone\u001b[0m \u001b[1;32mif\u001b[0m \u001b[0mx\u001b[0m \u001b[1;32mis\u001b[0m \u001b[1;32mNone\u001b[0m \u001b[1;32melse\u001b[0m \u001b[0mx\u001b[0m\u001b[1;33m[\u001b[0m\u001b[0mstart\u001b[0m\u001b[1;33m:\u001b[0m\u001b[0mstop\u001b[0m\u001b[1;33m]\u001b[0m \u001b[1;32mfor\u001b[0m \u001b[0mx\u001b[0m \u001b[1;32min\u001b[0m \u001b[0marrays\u001b[0m\u001b[1;33m]\u001b[0m\u001b[1;33m\u001b[0m\u001b[1;33m\u001b[0m\u001b[0m\n",
      "\u001b[1;31mKeyboardInterrupt\u001b[0m: "
     ]
    }
   ],
   "source": [
    "model_DNN = Build_Model_DNN_Text(X_train_tfidf.shape[1])\n",
    "model_DNN.summary()\n",
    "exit(1)\n",
    "model_DNN.fit(X_train_tfidf, Y_train,\n",
    "                              validation_data=(X_test_tfidf, Y_test),\n",
    "                              validation_split=0.2,\n",
    "                              epochs=100,\n",
    "                              batch_size=128,\n",
    "                              verbose=2,shuffle=True)\n",
    "\n",
    "predicted = model_DNN.predict_classes(X_test_tfidf)\n",
    "\n",
    "print(metrics.classification_report(Y_test, predicted))"
   ]
  },
  {
   "cell_type": "code",
   "execution_count": null,
   "metadata": {},
   "outputs": [],
   "source": [
    "X_train_tfidf.shape"
   ]
  },
  {
   "cell_type": "code",
   "execution_count": null,
   "metadata": {},
   "outputs": [],
   "source": [
    "Y_train.shape"
   ]
  },
  {
   "cell_type": "code",
   "execution_count": null,
   "metadata": {},
   "outputs": [],
   "source": [
    "X_test_tfidf"
   ]
  },
  {
   "cell_type": "code",
   "execution_count": null,
   "metadata": {},
   "outputs": [],
   "source": [
    "Y_test"
   ]
  },
  {
   "cell_type": "code",
   "execution_count": 44,
   "metadata": {},
   "outputs": [],
   "source": [
    "seed = 7\n",
    "np.random.seed(seed)\n",
    "from keras.models import Sequential\n",
    "from keras.layers import Dense, Dropout\n",
    "from keras.layers import Flatten\n",
    "from keras.layers.embeddings import Embedding\n",
    "from keras.preprocessing import sequence"
   ]
  },
  {
   "cell_type": "markdown",
   "metadata": {},
   "source": [
    "### Using a CNN model"
   ]
  },
  {
   "cell_type": "code",
   "execution_count": 55,
   "metadata": {},
   "outputs": [],
   "source": [
    "# Some handy libraries to build a baseline CNN model\n",
    "from keras.models import Sequential\n",
    "from keras.layers import Conv1D, MaxPool1D, Dense, Dropout, Flatten, MaxPooling1D\n",
    "from keras.layers import Activation, GlobalMaxPooling1D\n",
    "from keras import optimizers\n",
    "from keras.layers.embeddings import Embedding"
   ]
  },
  {
   "cell_type": "code",
   "execution_count": 56,
   "metadata": {},
   "outputs": [],
   "source": [
    "from numpy import newaxis\n",
    "\n",
    "def baseline_cnn_model(fea_matrix, n_class, mode, compiler):\n",
    "  # create model\n",
    "    model = Sequential()\n",
    "    model.add(Conv1D(64,3, activation = 'relu'))\n",
    "    model.add(MaxPool1D(pool_size = 2))\n",
    "    model.add(Conv1D(filters=128, kernel_size = (3), activation = 'relu'))\n",
    "    model.add(MaxPool1D(pool_size = 2))\n",
    "    model.add(Flatten())\n",
    "    model.add(Activation('relu'))\n",
    "    model.add(Dense(n_class, activation = 'softmax'))\n",
    "    #model.compile(loss='binary_crossentropy', optimizer='adam', metrics=['accuracy'])\n",
    "\n",
    "    model.compile(loss='sparse_categorical_crossentropy',optimizer='rmsprop',  metrics=['acc'])\n",
    "    #model_ptw2v.add(Dense(1, activation='sigmoid'))\n",
    "\n",
    "    return model"
   ]
  },
  {
   "cell_type": "code",
   "execution_count": 57,
   "metadata": {},
   "outputs": [
    {
     "name": "stdout",
     "output_type": "stream",
     "text": [
      "shape= 26392\n"
     ]
    },
    {
     "ename": "ValueError",
     "evalue": "Input 0 is incompatible with layer conv1d_1: expected ndim=3, found ndim=2",
     "output_type": "error",
     "traceback": [
      "\u001b[1;31m---------------------------------------------------------------------------\u001b[0m",
      "\u001b[1;31mValueError\u001b[0m                                Traceback (most recent call last)",
      "\u001b[1;32m<ipython-input-57-939f106582d7>\u001b[0m in \u001b[0;36m<module>\u001b[1;34m\u001b[0m\n\u001b[0;32m     14\u001b[0m \u001b[0mmodel\u001b[0m\u001b[1;33m=\u001b[0m\u001b[0mbaseline_cnn_model\u001b[0m\u001b[1;33m(\u001b[0m\u001b[0mX_train_tfidf\u001b[0m\u001b[1;33m,\u001b[0m\u001b[0mn_class\u001b[0m\u001b[1;33m,\u001b[0m\u001b[0mmode\u001b[0m\u001b[1;33m,\u001b[0m\u001b[0mNadam\u001b[0m\u001b[1;33m)\u001b[0m\u001b[1;33m\u001b[0m\u001b[1;33m\u001b[0m\u001b[0m\n\u001b[0;32m     15\u001b[0m history = model.fit(X_train_tfidf, Y_train,epochs=10, \n\u001b[1;32m---> 16\u001b[1;33m                     validation_data=(X_test_tfidf, Y_test))\n\u001b[0m",
      "\u001b[1;32mC:\\Anaconda\\lib\\site-packages\\keras\\engine\\training.py\u001b[0m in \u001b[0;36mfit\u001b[1;34m(self, x, y, batch_size, epochs, verbose, callbacks, validation_split, validation_data, shuffle, class_weight, sample_weight, initial_epoch, steps_per_epoch, validation_steps, validation_freq, max_queue_size, workers, use_multiprocessing, **kwargs)\u001b[0m\n\u001b[0;32m   1152\u001b[0m             \u001b[0msample_weight\u001b[0m\u001b[1;33m=\u001b[0m\u001b[0msample_weight\u001b[0m\u001b[1;33m,\u001b[0m\u001b[1;33m\u001b[0m\u001b[1;33m\u001b[0m\u001b[0m\n\u001b[0;32m   1153\u001b[0m             \u001b[0mclass_weight\u001b[0m\u001b[1;33m=\u001b[0m\u001b[0mclass_weight\u001b[0m\u001b[1;33m,\u001b[0m\u001b[1;33m\u001b[0m\u001b[1;33m\u001b[0m\u001b[0m\n\u001b[1;32m-> 1154\u001b[1;33m             batch_size=batch_size)\n\u001b[0m\u001b[0;32m   1155\u001b[0m \u001b[1;33m\u001b[0m\u001b[0m\n\u001b[0;32m   1156\u001b[0m         \u001b[1;31m# Prepare validation data.\u001b[0m\u001b[1;33m\u001b[0m\u001b[1;33m\u001b[0m\u001b[1;33m\u001b[0m\u001b[0m\n",
      "\u001b[1;32mC:\\Anaconda\\lib\\site-packages\\keras\\engine\\training.py\u001b[0m in \u001b[0;36m_standardize_user_data\u001b[1;34m(self, x, y, sample_weight, class_weight, check_array_lengths, batch_size)\u001b[0m\n\u001b[0;32m    502\u001b[0m             \u001b[1;31m# to match the value shapes.\u001b[0m\u001b[1;33m\u001b[0m\u001b[1;33m\u001b[0m\u001b[1;33m\u001b[0m\u001b[0m\n\u001b[0;32m    503\u001b[0m             \u001b[1;32mif\u001b[0m \u001b[1;32mnot\u001b[0m \u001b[0mself\u001b[0m\u001b[1;33m.\u001b[0m\u001b[0minputs\u001b[0m\u001b[1;33m:\u001b[0m\u001b[1;33m\u001b[0m\u001b[1;33m\u001b[0m\u001b[0m\n\u001b[1;32m--> 504\u001b[1;33m                 \u001b[0mself\u001b[0m\u001b[1;33m.\u001b[0m\u001b[0m_set_inputs\u001b[0m\u001b[1;33m(\u001b[0m\u001b[0mx\u001b[0m\u001b[1;33m)\u001b[0m\u001b[1;33m\u001b[0m\u001b[1;33m\u001b[0m\u001b[0m\n\u001b[0m\u001b[0;32m    505\u001b[0m \u001b[1;33m\u001b[0m\u001b[0m\n\u001b[0;32m    506\u001b[0m         \u001b[1;32mif\u001b[0m \u001b[0my\u001b[0m \u001b[1;32mis\u001b[0m \u001b[1;32mnot\u001b[0m \u001b[1;32mNone\u001b[0m\u001b[1;33m:\u001b[0m\u001b[1;33m\u001b[0m\u001b[1;33m\u001b[0m\u001b[0m\n",
      "\u001b[1;32mC:\\Anaconda\\lib\\site-packages\\keras\\engine\\training.py\u001b[0m in \u001b[0;36m_set_inputs\u001b[1;34m(self, inputs, outputs, training)\u001b[0m\n\u001b[0;32m    414\u001b[0m                 \u001b[1;32massert\u001b[0m \u001b[0mlen\u001b[0m\u001b[1;33m(\u001b[0m\u001b[0minputs\u001b[0m\u001b[1;33m)\u001b[0m \u001b[1;33m==\u001b[0m \u001b[1;36m1\u001b[0m\u001b[1;33m\u001b[0m\u001b[1;33m\u001b[0m\u001b[0m\n\u001b[0;32m    415\u001b[0m                 \u001b[0minputs\u001b[0m \u001b[1;33m=\u001b[0m \u001b[0minputs\u001b[0m\u001b[1;33m[\u001b[0m\u001b[1;36m0\u001b[0m\u001b[1;33m]\u001b[0m\u001b[1;33m\u001b[0m\u001b[1;33m\u001b[0m\u001b[0m\n\u001b[1;32m--> 416\u001b[1;33m             \u001b[0mself\u001b[0m\u001b[1;33m.\u001b[0m\u001b[0mbuild\u001b[0m\u001b[1;33m(\u001b[0m\u001b[0minput_shape\u001b[0m\u001b[1;33m=\u001b[0m\u001b[1;33m(\u001b[0m\u001b[1;32mNone\u001b[0m\u001b[1;33m,\u001b[0m\u001b[1;33m)\u001b[0m \u001b[1;33m+\u001b[0m \u001b[0minputs\u001b[0m\u001b[1;33m.\u001b[0m\u001b[0mshape\u001b[0m\u001b[1;33m[\u001b[0m\u001b[1;36m1\u001b[0m\u001b[1;33m:\u001b[0m\u001b[1;33m]\u001b[0m\u001b[1;33m)\u001b[0m\u001b[1;33m\u001b[0m\u001b[1;33m\u001b[0m\u001b[0m\n\u001b[0m\u001b[0;32m    417\u001b[0m             \u001b[1;32mreturn\u001b[0m\u001b[1;33m\u001b[0m\u001b[1;33m\u001b[0m\u001b[0m\n\u001b[0;32m    418\u001b[0m \u001b[1;33m\u001b[0m\u001b[0m\n",
      "\u001b[1;32mC:\\Anaconda\\lib\\site-packages\\keras\\engine\\sequential.py\u001b[0m in \u001b[0;36mbuild\u001b[1;34m(self, input_shape)\u001b[0m\n\u001b[0;32m    220\u001b[0m             \u001b[0mself\u001b[0m\u001b[1;33m.\u001b[0m\u001b[0minputs\u001b[0m \u001b[1;33m=\u001b[0m \u001b[1;33m[\u001b[0m\u001b[0mx\u001b[0m\u001b[1;33m]\u001b[0m\u001b[1;33m\u001b[0m\u001b[1;33m\u001b[0m\u001b[0m\n\u001b[0;32m    221\u001b[0m             \u001b[1;32mfor\u001b[0m \u001b[0mlayer\u001b[0m \u001b[1;32min\u001b[0m \u001b[0mself\u001b[0m\u001b[1;33m.\u001b[0m\u001b[0m_layers\u001b[0m\u001b[1;33m:\u001b[0m\u001b[1;33m\u001b[0m\u001b[1;33m\u001b[0m\u001b[0m\n\u001b[1;32m--> 222\u001b[1;33m                 \u001b[0mx\u001b[0m \u001b[1;33m=\u001b[0m \u001b[0mlayer\u001b[0m\u001b[1;33m(\u001b[0m\u001b[0mx\u001b[0m\u001b[1;33m)\u001b[0m\u001b[1;33m\u001b[0m\u001b[1;33m\u001b[0m\u001b[0m\n\u001b[0m\u001b[0;32m    223\u001b[0m             \u001b[0mself\u001b[0m\u001b[1;33m.\u001b[0m\u001b[0moutputs\u001b[0m \u001b[1;33m=\u001b[0m \u001b[1;33m[\u001b[0m\u001b[0mx\u001b[0m\u001b[1;33m]\u001b[0m\u001b[1;33m\u001b[0m\u001b[1;33m\u001b[0m\u001b[0m\n\u001b[0;32m    224\u001b[0m             \u001b[0mself\u001b[0m\u001b[1;33m.\u001b[0m\u001b[0m_build_input_shape\u001b[0m \u001b[1;33m=\u001b[0m \u001b[0minput_shape\u001b[0m\u001b[1;33m\u001b[0m\u001b[1;33m\u001b[0m\u001b[0m\n",
      "\u001b[1;32mC:\\Anaconda\\lib\\site-packages\\keras\\engine\\base_layer.py\u001b[0m in \u001b[0;36m__call__\u001b[1;34m(self, inputs, **kwargs)\u001b[0m\n\u001b[0;32m    444\u001b[0m                 \u001b[1;31m# Raise exceptions in case the input is not compatible\u001b[0m\u001b[1;33m\u001b[0m\u001b[1;33m\u001b[0m\u001b[1;33m\u001b[0m\u001b[0m\n\u001b[0;32m    445\u001b[0m                 \u001b[1;31m# with the input_spec specified in the layer constructor.\u001b[0m\u001b[1;33m\u001b[0m\u001b[1;33m\u001b[0m\u001b[1;33m\u001b[0m\u001b[0m\n\u001b[1;32m--> 446\u001b[1;33m                 \u001b[0mself\u001b[0m\u001b[1;33m.\u001b[0m\u001b[0massert_input_compatibility\u001b[0m\u001b[1;33m(\u001b[0m\u001b[0minputs\u001b[0m\u001b[1;33m)\u001b[0m\u001b[1;33m\u001b[0m\u001b[1;33m\u001b[0m\u001b[0m\n\u001b[0m\u001b[0;32m    447\u001b[0m \u001b[1;33m\u001b[0m\u001b[0m\n\u001b[0;32m    448\u001b[0m                 \u001b[1;31m# Collect input shapes to build layer.\u001b[0m\u001b[1;33m\u001b[0m\u001b[1;33m\u001b[0m\u001b[1;33m\u001b[0m\u001b[0m\n",
      "\u001b[1;32mC:\\Anaconda\\lib\\site-packages\\keras\\engine\\base_layer.py\u001b[0m in \u001b[0;36massert_input_compatibility\u001b[1;34m(self, inputs)\u001b[0m\n\u001b[0;32m    340\u001b[0m                                      \u001b[0mself\u001b[0m\u001b[1;33m.\u001b[0m\u001b[0mname\u001b[0m \u001b[1;33m+\u001b[0m \u001b[1;34m': expected ndim='\u001b[0m \u001b[1;33m+\u001b[0m\u001b[1;33m\u001b[0m\u001b[1;33m\u001b[0m\u001b[0m\n\u001b[0;32m    341\u001b[0m                                      \u001b[0mstr\u001b[0m\u001b[1;33m(\u001b[0m\u001b[0mspec\u001b[0m\u001b[1;33m.\u001b[0m\u001b[0mndim\u001b[0m\u001b[1;33m)\u001b[0m \u001b[1;33m+\u001b[0m \u001b[1;34m', found ndim='\u001b[0m \u001b[1;33m+\u001b[0m\u001b[1;33m\u001b[0m\u001b[1;33m\u001b[0m\u001b[0m\n\u001b[1;32m--> 342\u001b[1;33m                                      str(K.ndim(x)))\n\u001b[0m\u001b[0;32m    343\u001b[0m             \u001b[1;32mif\u001b[0m \u001b[0mspec\u001b[0m\u001b[1;33m.\u001b[0m\u001b[0mmax_ndim\u001b[0m \u001b[1;32mis\u001b[0m \u001b[1;32mnot\u001b[0m \u001b[1;32mNone\u001b[0m\u001b[1;33m:\u001b[0m\u001b[1;33m\u001b[0m\u001b[1;33m\u001b[0m\u001b[0m\n\u001b[0;32m    344\u001b[0m                 \u001b[0mndim\u001b[0m \u001b[1;33m=\u001b[0m \u001b[0mK\u001b[0m\u001b[1;33m.\u001b[0m\u001b[0mndim\u001b[0m\u001b[1;33m(\u001b[0m\u001b[0mx\u001b[0m\u001b[1;33m)\u001b[0m\u001b[1;33m\u001b[0m\u001b[1;33m\u001b[0m\u001b[0m\n",
      "\u001b[1;31mValueError\u001b[0m: Input 0 is incompatible with layer conv1d_1: expected ndim=3, found ndim=2"
     ]
    }
   ],
   "source": [
    "# Tuning hyper-parameters\n",
    "import math\n",
    "print('shape=',X_train_tfidf.shape[1])\n",
    "lr = math.exp(-3)\n",
    "batch_size=128\n",
    "num_epochs=100\n",
    "decay= math.exp(-4)\n",
    "mode=\"reg\"\n",
    "n_class=4 #5\n",
    "adm=optimizers.Adam(lr=lr,decay=decay)\n",
    "sgd=optimizers.SGD(lr=lr, nesterov=True,momentum=0.7,decay=decay)\n",
    "Nadam= optimizers.Nadam(lr=lr, beta_1=0.9,beta_2=0.999,epsilon=math.exp(-8))\n",
    "\n",
    "model=baseline_cnn_model(X_train_tfidf,n_class,mode,Nadam)\n",
    "history = model.fit(X_train_tfidf, Y_train,epochs=10, \n",
    "                    validation_data=(X_test_tfidf, Y_test))\n"
   ]
  },
  {
   "cell_type": "code",
   "execution_count": null,
   "metadata": {},
   "outputs": [],
   "source": [
    "\n",
    "# Model Training\n",
    "history=model.fit(X_train_tfidf,Y_train,batch_size=batch_size,epochs=num_epochs,verbose=1,validation_split=0.2)"
   ]
  },
  {
   "cell_type": "code",
   "execution_count": null,
   "metadata": {},
   "outputs": [],
   "source": [
    "model.compile(optimizer='adam', loss='binary_crossentropy', metrics=['acc'])\n",
    "input_shape = X_train_tfidf.shape  \n",
    "model.build(input_shape) \n",
    "\n",
    "print(model.summary())"
   ]
  },
  {
   "cell_type": "code",
   "execution_count": null,
   "metadata": {},
   "outputs": [],
   "source": [
    "history = model.fit(X_train_tfidf, Y_train, batch_size=128, epochs=30, verbose=1, validation_split=0.2)"
   ]
  },
  {
   "cell_type": "code",
   "execution_count": null,
   "metadata": {},
   "outputs": [],
   "source": [
    "score = model.evaluate(X_test, Y_test, verbose=1)"
   ]
  },
  {
   "cell_type": "code",
   "execution_count": null,
   "metadata": {},
   "outputs": [],
   "source": [
    "print(\"Test Score:\", score[0])\n",
    "print(\"Test Accuracy:\", score[1])"
   ]
  },
  {
   "cell_type": "code",
   "execution_count": null,
   "metadata": {},
   "outputs": [],
   "source": [
    "%matplotlib inline\n",
    "from matplotlib import pyplot as plt\n",
    "plt.title('model accuracy')\n",
    "plt.ylabel('accuracy')\n",
    "plt.xlabel('epoch')\n",
    "plt.legend(['train','test'], loc='upper left')\n",
    "plt.show()\n",
    "\n",
    "plt.plot(history.history['loss'])\n",
    "plt.plot(history.history['val_loss'])\n",
    "\n",
    "plt.title('model loss')\n",
    "plt.ylabel('loss')\n",
    "plt.xlabel('epoch')\n",
    "plt.legend(['train','test'], loc='upper left')\n",
    "plt.show()"
   ]
  },
  {
   "cell_type": "code",
   "execution_count": null,
   "metadata": {},
   "outputs": [],
   "source": []
  },
  {
   "cell_type": "markdown",
   "metadata": {},
   "source": [
    "### Deep Learning models using an LSTM"
   ]
  },
  {
   "cell_type": "code",
   "execution_count": 58,
   "metadata": {},
   "outputs": [],
   "source": [
    "# Import the tools needed from keras\n",
    "import keras.backend as K\n",
    "#from keras.layers import Dense, Embedding, LSTM\n",
    "from tensorflow.keras.layers import Dense, Embedding, LSTM\n",
    "#from keras.models import Sequential\n",
    "from tensorflow.keras.models import Sequential\n",
    "from keras.preprocessing.text import Tokenizer\n",
    "from keras.preprocessing.sequence import pad_sequences"
   ]
  },
  {
   "cell_type": "code",
   "execution_count": 59,
   "metadata": {},
   "outputs": [],
   "source": [
    "# Initialize and fit the tokenizer\n",
    "tokenizer = Tokenizer()\n",
    "tokenizer.fit_on_texts(X_train)"
   ]
  },
  {
   "cell_type": "code",
   "execution_count": 60,
   "metadata": {},
   "outputs": [],
   "source": [
    "# Use that tokenizer to transform the text messages in the training and test sets\n",
    "X_train_seq = tokenizer.texts_to_sequences(X_train)\n",
    "X_test_seq = tokenizer.texts_to_sequences(X_test)"
   ]
  },
  {
   "cell_type": "code",
   "execution_count": 61,
   "metadata": {},
   "outputs": [],
   "source": [
    "# Pad the sequences so each sequence is the same length\n",
    "X_train_seq_padded = pad_sequences(X_train_seq, 50)\n",
    "X_test_seq_padded = pad_sequences(X_test_seq, 50)"
   ]
  },
  {
   "cell_type": "code",
   "execution_count": 62,
   "metadata": {},
   "outputs": [],
   "source": [
    "model = Sequential()"
   ]
  },
  {
   "cell_type": "code",
   "execution_count": 63,
   "metadata": {},
   "outputs": [
    {
     "name": "stdout",
     "output_type": "stream",
     "text": [
      "WARNING:tensorflow:From C:\\Anaconda\\lib\\site-packages\\tensorflow\\python\\keras\\initializers.py:119: calling RandomUniform.__init__ (from tensorflow.python.ops.init_ops) with dtype is deprecated and will be removed in a future version.\n",
      "Instructions for updating:\n",
      "Call initializer instance with the dtype argument instead of passing it to the constructor\n",
      "WARNING:tensorflow:From C:\\Anaconda\\lib\\site-packages\\tensorflow\\python\\ops\\init_ops.py:1251: calling VarianceScaling.__init__ (from tensorflow.python.ops.init_ops) with dtype is deprecated and will be removed in a future version.\n",
      "Instructions for updating:\n",
      "Call initializer instance with the dtype argument instead of passing it to the constructor\n",
      "Model: \"sequential\"\n",
      "_________________________________________________________________\n",
      "Layer (type)                 Output Shape              Param #   \n",
      "=================================================================\n",
      "embedding (Embedding)        (None, None, 32)          845952    \n",
      "_________________________________________________________________\n",
      "lstm (LSTM)                  (None, 32)                8320      \n",
      "_________________________________________________________________\n",
      "dense (Dense)                (None, 32)                1056      \n",
      "_________________________________________________________________\n",
      "dense_1 (Dense)              (None, 1)                 33        \n",
      "=================================================================\n",
      "Total params: 855,361\n",
      "Trainable params: 855,361\n",
      "Non-trainable params: 0\n",
      "_________________________________________________________________\n"
     ]
    }
   ],
   "source": [
    "model.add(Embedding(len(tokenizer.word_index)+1, 32))\n",
    "model.add(LSTM(32, dropout=0, recurrent_dropout=0))\n",
    "model.add(Dense(32, activation='relu'))\n",
    "model.add(Dense(1, activation='sigmoid'))\n",
    "model.summary()\n"
   ]
  },
  {
   "cell_type": "code",
   "execution_count": 64,
   "metadata": {},
   "outputs": [
    {
     "name": "stdout",
     "output_type": "stream",
     "text": [
      "WARNING:tensorflow:From C:\\Anaconda\\lib\\site-packages\\tensorflow\\python\\ops\\nn_impl.py:180: add_dispatch_support.<locals>.wrapper (from tensorflow.python.ops.array_ops) is deprecated and will be removed in a future version.\n",
      "Instructions for updating:\n",
      "Use tf.where in 2.0, which has the same broadcast rule as np.where\n"
     ]
    }
   ],
   "source": [
    "# Compile the model\n",
    "model.compile(optimizer='adam',\n",
    "              loss='binary_crossentropy',\n",
    "              metrics=['accuracy'])"
   ]
  },
  {
   "cell_type": "code",
   "execution_count": 65,
   "metadata": {},
   "outputs": [
    {
     "data": {
      "text/plain": [
       "7061     2\n",
       "2709     0\n",
       "1217     2\n",
       "35       0\n",
       "8920     3\n",
       "9900     3\n",
       "9325     3\n",
       "4226     1\n",
       "8775     3\n",
       "4560     2\n",
       "1458     2\n",
       "1660     2\n",
       "7823     3\n",
       "8418     2\n",
       "6603     0\n",
       "3006     1\n",
       "9534     3\n",
       "6066     0\n",
       "2742     0\n",
       "311      0\n",
       "5419     0\n",
       "9246     3\n",
       "10203    3\n",
       "6054     0\n",
       "439      0\n",
       "2484     0\n",
       "2769     0\n",
       "39       0\n",
       "5066     0\n",
       "2680     0\n",
       "        ..\n",
       "3728     1\n",
       "6461     1\n",
       "8638     3\n",
       "2919     0\n",
       "5228     1\n",
       "4640     2\n",
       "3118     1\n",
       "7212     2\n",
       "7508     2\n",
       "4881     1\n",
       "5526     0\n",
       "9938     3\n",
       "2271     0\n",
       "1109     2\n",
       "6664     0\n",
       "6492     1\n",
       "1038     2\n",
       "20       0\n",
       "5580     0\n",
       "2495     0\n",
       "4562     2\n",
       "7949     3\n",
       "934      2\n",
       "6373     0\n",
       "2955     1\n",
       "394      0\n",
       "4913     1\n",
       "1737     2\n",
       "561      0\n",
       "1162     2\n",
       "Name: Sentiment, Length: 2079, dtype: int64"
      ]
     },
     "execution_count": 65,
     "metadata": {},
     "output_type": "execute_result"
    }
   ],
   "source": [
    "Y_test"
   ]
  },
  {
   "cell_type": "code",
   "execution_count": 66,
   "metadata": {},
   "outputs": [
    {
     "name": "stdout",
     "output_type": "stream",
     "text": [
      "Train on 8315 samples, validate on 2079 samples\n",
      "Epoch 1/20\n",
      "8315/8315 [==============================] - 22s 3ms/sample - loss: -25.5264 - acc: 0.2463 - val_loss: -63.9894 - val_acc: 0.2650\n",
      "Epoch 2/20\n",
      "8315/8315 [==============================] - 20s 2ms/sample - loss: -136.3987 - acc: 0.2462 - val_loss: -213.2073 - val_acc: 0.2650\n",
      "Epoch 3/20\n",
      "8315/8315 [==============================] - 20s 2ms/sample - loss: -340.7050 - acc: 0.2462 - val_loss: -451.1419 - val_acc: 0.2650\n",
      "Epoch 4/20\n",
      "8315/8315 [==============================] - 19s 2ms/sample - loss: -631.0549 - acc: 0.2462 - val_loss: -765.3185 - val_acc: 0.2650\n",
      "Epoch 5/20\n",
      "8315/8315 [==============================] - 20s 2ms/sample - loss: -1002.8105 - acc: 0.2462 - val_loss: -1159.5187 - val_acc: 0.2650\n",
      "Epoch 6/20\n",
      "8315/8315 [==============================] - 20s 2ms/sample - loss: -1452.3197 - acc: 0.2462 - val_loss: -1619.6822 - val_acc: 0.2650\n",
      "Epoch 7/20\n",
      "1472/8315 [====>.........................] - ETA: 15s - loss: -1641.0090 - acc: 0.2391"
     ]
    },
    {
     "ename": "KeyboardInterrupt",
     "evalue": "",
     "output_type": "error",
     "traceback": [
      "\u001b[1;31m---------------------------------------------------------------------------\u001b[0m",
      "\u001b[1;31mKeyboardInterrupt\u001b[0m                         Traceback (most recent call last)",
      "\u001b[1;32m<ipython-input-66-2754f9a9c868>\u001b[0m in \u001b[0;36m<module>\u001b[1;34m\u001b[0m\n\u001b[0;32m      2\u001b[0m history = model.fit(X_train_seq_padded, Y_train, \n\u001b[0;32m      3\u001b[0m                     \u001b[0mbatch_size\u001b[0m\u001b[1;33m=\u001b[0m\u001b[1;36m32\u001b[0m\u001b[1;33m,\u001b[0m \u001b[0mepochs\u001b[0m\u001b[1;33m=\u001b[0m\u001b[1;36m20\u001b[0m\u001b[1;33m,\u001b[0m\u001b[1;33m\u001b[0m\u001b[1;33m\u001b[0m\u001b[0m\n\u001b[1;32m----> 4\u001b[1;33m                     validation_data=(X_test_seq_padded, Y_test.values))\n\u001b[0m",
      "\u001b[1;32mC:\\Anaconda\\lib\\site-packages\\tensorflow\\python\\keras\\engine\\training.py\u001b[0m in \u001b[0;36mfit\u001b[1;34m(self, x, y, batch_size, epochs, verbose, callbacks, validation_split, validation_data, shuffle, class_weight, sample_weight, initial_epoch, steps_per_epoch, validation_steps, validation_freq, max_queue_size, workers, use_multiprocessing, **kwargs)\u001b[0m\n\u001b[0;32m    778\u001b[0m           \u001b[0mvalidation_steps\u001b[0m\u001b[1;33m=\u001b[0m\u001b[0mvalidation_steps\u001b[0m\u001b[1;33m,\u001b[0m\u001b[1;33m\u001b[0m\u001b[1;33m\u001b[0m\u001b[0m\n\u001b[0;32m    779\u001b[0m           \u001b[0mvalidation_freq\u001b[0m\u001b[1;33m=\u001b[0m\u001b[0mvalidation_freq\u001b[0m\u001b[1;33m,\u001b[0m\u001b[1;33m\u001b[0m\u001b[1;33m\u001b[0m\u001b[0m\n\u001b[1;32m--> 780\u001b[1;33m           steps_name='steps_per_epoch')\n\u001b[0m\u001b[0;32m    781\u001b[0m \u001b[1;33m\u001b[0m\u001b[0m\n\u001b[0;32m    782\u001b[0m   def evaluate(self,\n",
      "\u001b[1;32mC:\\Anaconda\\lib\\site-packages\\tensorflow\\python\\keras\\engine\\training_arrays.py\u001b[0m in \u001b[0;36mmodel_iteration\u001b[1;34m(model, inputs, targets, sample_weights, batch_size, epochs, verbose, callbacks, val_inputs, val_targets, val_sample_weights, shuffle, initial_epoch, steps_per_epoch, validation_steps, validation_freq, mode, validation_in_fit, prepared_feed_values_from_dataset, steps_name, **kwargs)\u001b[0m\n\u001b[0;32m    361\u001b[0m \u001b[1;33m\u001b[0m\u001b[0m\n\u001b[0;32m    362\u001b[0m         \u001b[1;31m# Get outputs.\u001b[0m\u001b[1;33m\u001b[0m\u001b[1;33m\u001b[0m\u001b[1;33m\u001b[0m\u001b[0m\n\u001b[1;32m--> 363\u001b[1;33m         \u001b[0mbatch_outs\u001b[0m \u001b[1;33m=\u001b[0m \u001b[0mf\u001b[0m\u001b[1;33m(\u001b[0m\u001b[0mins_batch\u001b[0m\u001b[1;33m)\u001b[0m\u001b[1;33m\u001b[0m\u001b[1;33m\u001b[0m\u001b[0m\n\u001b[0m\u001b[0;32m    364\u001b[0m         \u001b[1;32mif\u001b[0m \u001b[1;32mnot\u001b[0m \u001b[0misinstance\u001b[0m\u001b[1;33m(\u001b[0m\u001b[0mbatch_outs\u001b[0m\u001b[1;33m,\u001b[0m \u001b[0mlist\u001b[0m\u001b[1;33m)\u001b[0m\u001b[1;33m:\u001b[0m\u001b[1;33m\u001b[0m\u001b[1;33m\u001b[0m\u001b[0m\n\u001b[0;32m    365\u001b[0m           \u001b[0mbatch_outs\u001b[0m \u001b[1;33m=\u001b[0m \u001b[1;33m[\u001b[0m\u001b[0mbatch_outs\u001b[0m\u001b[1;33m]\u001b[0m\u001b[1;33m\u001b[0m\u001b[1;33m\u001b[0m\u001b[0m\n",
      "\u001b[1;32mC:\\Anaconda\\lib\\site-packages\\tensorflow\\python\\keras\\backend.py\u001b[0m in \u001b[0;36m__call__\u001b[1;34m(self, inputs)\u001b[0m\n\u001b[0;32m   3290\u001b[0m \u001b[1;33m\u001b[0m\u001b[0m\n\u001b[0;32m   3291\u001b[0m     fetched = self._callable_fn(*array_vals,\n\u001b[1;32m-> 3292\u001b[1;33m                                 run_metadata=self.run_metadata)\n\u001b[0m\u001b[0;32m   3293\u001b[0m     \u001b[0mself\u001b[0m\u001b[1;33m.\u001b[0m\u001b[0m_call_fetch_callbacks\u001b[0m\u001b[1;33m(\u001b[0m\u001b[0mfetched\u001b[0m\u001b[1;33m[\u001b[0m\u001b[1;33m-\u001b[0m\u001b[0mlen\u001b[0m\u001b[1;33m(\u001b[0m\u001b[0mself\u001b[0m\u001b[1;33m.\u001b[0m\u001b[0m_fetches\u001b[0m\u001b[1;33m)\u001b[0m\u001b[1;33m:\u001b[0m\u001b[1;33m]\u001b[0m\u001b[1;33m)\u001b[0m\u001b[1;33m\u001b[0m\u001b[1;33m\u001b[0m\u001b[0m\n\u001b[0;32m   3294\u001b[0m     output_structure = nest.pack_sequence_as(\n",
      "\u001b[1;32mC:\\Anaconda\\lib\\site-packages\\tensorflow\\python\\client\\session.py\u001b[0m in \u001b[0;36m__call__\u001b[1;34m(self, *args, **kwargs)\u001b[0m\n\u001b[0;32m   1456\u001b[0m         ret = tf_session.TF_SessionRunCallable(self._session._session,\n\u001b[0;32m   1457\u001b[0m                                                \u001b[0mself\u001b[0m\u001b[1;33m.\u001b[0m\u001b[0m_handle\u001b[0m\u001b[1;33m,\u001b[0m \u001b[0margs\u001b[0m\u001b[1;33m,\u001b[0m\u001b[1;33m\u001b[0m\u001b[1;33m\u001b[0m\u001b[0m\n\u001b[1;32m-> 1458\u001b[1;33m                                                run_metadata_ptr)\n\u001b[0m\u001b[0;32m   1459\u001b[0m         \u001b[1;32mif\u001b[0m \u001b[0mrun_metadata\u001b[0m\u001b[1;33m:\u001b[0m\u001b[1;33m\u001b[0m\u001b[1;33m\u001b[0m\u001b[0m\n\u001b[0;32m   1460\u001b[0m           \u001b[0mproto_data\u001b[0m \u001b[1;33m=\u001b[0m \u001b[0mtf_session\u001b[0m\u001b[1;33m.\u001b[0m\u001b[0mTF_GetBuffer\u001b[0m\u001b[1;33m(\u001b[0m\u001b[0mrun_metadata_ptr\u001b[0m\u001b[1;33m)\u001b[0m\u001b[1;33m\u001b[0m\u001b[1;33m\u001b[0m\u001b[0m\n",
      "\u001b[1;31mKeyboardInterrupt\u001b[0m: "
     ]
    }
   ],
   "source": [
    "# Fit the RNN model\n",
    "history = model.fit(X_train_seq_padded, Y_train, \n",
    "                    batch_size=32, epochs=20,\n",
    "                    validation_data=(X_test_seq_padded, Y_test.values))"
   ]
  },
  {
   "cell_type": "markdown",
   "metadata": {},
   "source": [
    "# Deep Learning Model with CNN"
   ]
  },
  {
   "cell_type": "code",
   "execution_count": 168,
   "metadata": {},
   "outputs": [
    {
     "data": {
      "text/plain": [
       "array([[0],\n",
       "       [0],\n",
       "       [0],\n",
       "       ...,\n",
       "       [3],\n",
       "       [3],\n",
       "       [3]], dtype=int64)"
      ]
     },
     "execution_count": 168,
     "metadata": {},
     "output_type": "execute_result"
    }
   ],
   "source": [
    "from sklearn.preprocessing import LabelEncoder\n",
    "from keras.utils import to_categorical\n",
    "\n",
    "X = data1.Comment.fillna(' ')\n",
    "Y = data1.Sentiment\n",
    "\n",
    "label_encoder = LabelEncoder()\n",
    "\n",
    "Y = label_encoder.fit_transform(Y)\n",
    "\n",
    "Y = Y.reshape(-1, 1)\n",
    "Y"
   ]
  },
  {
   "cell_type": "code",
   "execution_count": 169,
   "metadata": {},
   "outputs": [
    {
     "name": "stdout",
     "output_type": "stream",
     "text": [
      "[('ماتعطيكش', 1)]\n"
     ]
    }
   ],
   "source": [
    "# Program to find most frequent \n",
    "# element in a list\n",
    "  \n",
    "from collections import Counter\n",
    "  \n",
    "def most_frequent(List):\n",
    "    occurence_count = Counter(List)\n",
    "    #return occurence_count.most_common(1)[0][0]\n",
    "    return occurence_count.most_common(1)\n",
    "  \n",
    "vocab= set(\" \".join(X).split())\n",
    "print(most_frequent(vocab))"
   ]
  },
  {
   "cell_type": "code",
   "execution_count": 170,
   "metadata": {},
   "outputs": [],
   "source": [
    "def word_count(voc):\n",
    "    counts = dict()\n",
    "    \n",
    "\n",
    "    for word in voc:\n",
    "        if word in counts:\n",
    "            counts[word] += 1\n",
    "        else:\n",
    "            counts[word] = 1\n",
    "\n",
    "    return counts\n",
    "\n",
    "vocab= set(\" \".join(X).split())\n",
    "#print( word_count(vocab))"
   ]
  },
  {
   "cell_type": "code",
   "execution_count": 171,
   "metadata": {},
   "outputs": [
    {
     "data": {
      "text/plain": [
       "0           مقداد قداش مره تجيبوه افهمونا ماسط الشعب يحبوش\n",
       "1                   karim gharbi masit i sitcom ma3jibnich\n",
       "2                                                  mabldou\n",
       "3        الهالكا مختصه قناه الزيتونه محايده وانتهت مهمت...\n",
       "4        اتحاد الخراب والدمار خرب بلادنا يريدون افريقيا...\n",
       "5                   سلب لفلوسهم خاطر التوانسه فاقو بسرقتهم\n",
       "6                   المءسسات الخاصه المصانع يشملهم الاضراب\n",
       "7                              مدخل المقروض الاضراب يامعلم\n",
       "8                   والخاصه طز اخاطر يخلصو زوز فرنك السميك\n",
       "9                                        اتحاد الخراب ينجح\n",
       "10       اطمع يهز للهاويه بلاد شافه الافلاس والاتحاد هو...\n",
       "11       الاتحاد يتفاوظ الحكومه مداخيله الخاصه حل مشاكل...\n",
       "12                        تشخر زادت بوف يهلك التحاد الخراب\n",
       "13                مره ازيدنا كجيو القحوا اقلك نفاذ المخزون\n",
       "14       الكميه ناقصه مشطلع سومها الحمد لله مرضنا وبرين...\n",
       "15       تفدلك 6 ملاين تتحصل عامين اطيشها الزبله الشعب ...\n",
       "16                                              لقاح مشكوك\n",
       "17       الكلام تقول صحيح تمنيك الشعب اتصور خطابكم وكلا...\n",
       "18                                          بلاد تنتج الشر\n",
       "19         الغاز الماء يشملوا اطياف الشعب يهمهمش الخوانجيه\n",
       "20                                         وزير يركب المرض\n",
       "21                            akhmaj etayaran tunisair nul\n",
       "22       marra tisma33 7kaya jdida bled 7arfaa ken lmsa...\n",
       "23                          يهلكوو ماصيرو يتشد ماعندو هارب\n",
       "24                                  lmohem tetlakch boulis\n",
       "25                                          عمله مسوده ذكي\n",
       "26                                          walah te7chmou\n",
       "27       الموظفين العمومين والنقابيين يتقاضون اجورا يقو...\n",
       "28        راجل كبير مانجم نحترم بياض شعرك ونمقط سواد وم...\n",
       "29                                                 التفليم\n",
       "                               ...                        \n",
       "10364     deux domaines b3ad lezmek takhtar haja maghro...\n",
       "10365     kenek parcours mte3ek maghrouma math info cot...\n",
       "10366    wa9tha kammel domaine kenek maghrouma s v t su...\n",
       "10367         sinon kenek belha9 dhay3a bin deux domaines \n",
       "10368    akhtar thnia ashal a9sar médecine awel salaire...\n",
       "10369    aandek concours résidanat yta3ab weli yejem ma...\n",
       "10370    insat mpi ba3d 2 ans fama risque matekhouch br...\n",
       "10371    khrouj barra médecine tokhrej lezmek t3adi con...\n",
       "10372    sinon t9oss parcours mte3ek zone 4ème 5 ème an...\n",
       "10373    par contre insat tejem tpostuli campus france ...\n",
       "10374    yjewbouk haja rare tel9aha domainet okhra wya3...\n",
       "10375    chouf l médecine lezem ta9ra 5 ans t3adi resid...\n",
       "10376    beh kenik thebha vas hawka l 5edma sbitarat 7a...\n",
       "10377    pour l ingénierie t5awelik ak4ar inik te5dem a...\n",
       "10378    filo5er makich moula l moul te5dem 5edmtik to5...\n",
       "10379     ak4ar mel medecine i9olik dentaire ena manins...\n",
       "10380    عسلامه ينجم يعاوني يفسرلي نتعامل جدتي مريضه زه...\n",
       "10381                          ouii taadi aand tbib o shay\n",
       "10382      labes otlob nsaya7 kifeh yelzem tet3amlou m3aha\n",
       "10383    lina3rfou lzm tsayerha 5ater ta3k3sha tod5el b...\n",
       "10384          طريقه التعامل مهمه لازمها دواء ينقص الهلاوس\n",
       "10385    ena jdati akaka lezm tsaysha 5atr mokhha mokh ...\n",
       "10386    lezem thezouha l tbib fama dweyet inajem yaati...\n",
       "10387    o ntouma tahkiw maaha tabda aala hajet 9dom aa...\n",
       "10388    aham haja metbadelhash m blasetha maaneha l bl...\n",
       "10389    o5ti lezmk temchi m3aha fl5at chma3neha tsayer...\n",
       "10390    wrod belk tji dhedha 5ater m3 lwa9t thess rou7...\n",
       "10391     wblwa9t twali 3anifa wtonkorkom ahama haja 7a...\n",
       "10392    7ot l7aja hethi fibelk fita3amlok m3aha wchoft...\n",
       "10393    as3eb maredh memety mridha byh khaleha tahki k...\n",
       "Name: Comment, Length: 10394, dtype: object"
      ]
     },
     "execution_count": 171,
     "metadata": {},
     "output_type": "execute_result"
    }
   ],
   "source": [
    "X"
   ]
  },
  {
   "cell_type": "code",
   "execution_count": 172,
   "metadata": {},
   "outputs": [
    {
     "name": "stdout",
     "output_type": "stream",
     "text": [
      "28128\n",
      "4430\n",
      "28128\n",
      "{'ماتعطيكش', 'شوكات', 'نطاق', 'تفسخني', 'فريال', 'ريف', 'as2aliii', 'عمي', 'ياحاوين', 'tawer', 'للرسول', 'المولي', 'mehadhamtouch', 'عصك', 'لمين', 'الابيض', 'rebi', 'الدخول', 'za3ma', 'شغل', 'éfe9', 'صانع', 'قيمت', 'leb3a4hom', 'الدينار', 'وحبيبنا', 'ولاقوه', 'الثغرات', 'imha', 'partage', 'سرعه', 'للرجوله', 'avantage', 'الvariant', 'مالخر', 'ينصحوها', 'اراب', 'rabiii', 'تختارو', 'يبزنسو', 'حسيبكم', 'ليغني', 'يهدوو', 'متواجده', 'تفهمو', 'rbo3', 'خطه', 'مختلفه', 'حظوظهم', 'امهات', 'ليله', 'فاسق', 'yestfazou', '4irhom', 'ونتعلموهم', 'moula', 'بالتصريح', 'khirlek', 'لمجابهه', 'sincère', 'للحل', 'مسيطرين', 'خلاهملنا', 'لجابتكم', 'yahfdhek', 'مفعولو', 'وحه', 'شغف', 'وقعدت', 'متباعدين', 'خييييير', 'تستطيعوا', '3bad', 'ضربه', 'ايجيه', 'thamer', 'تحشمش', 'بفففف', 'تتقدم', '3ases', 'fransa', 'مرجع', 'نعتبرها', 'ماقالوش', 'ينعمه', '3eyla', 'والتضحيات', 'but', 'twenssa', 'المسءوله', 'واله', 'للضمان', 'السنوات', 'مقلوبه', 'تحققلها', 'يصطاد', 'haw', 'ايامكم', 'w9ilit', 'ma5yebhaaaaaa', 'جرذ', 'matchyakche', 'akik', 'نريدوا', 'mosrara', 'ضروره', 'سروال', 'نسالو', 'وجيهه', 'procédure', 'منظر', 'ياراب', 'thnia', 'بللاهي', 'اغسل', 'احراج', 'la7doude', 'كاسح', 'غضبه', 'الكنكور', '2oghlot', 'لقوبسيه', 'tnajjem', 'بلكلام', 'ك', 'حجامه', 'm7al', 'القيت', 'تفااااهه', 'ابهيم', '3aim', 'm3e', '9raytha', 'تشجعوا', 'telvza', 'لدار', 'متقلق', 'القهوه', 'سيريات', '9a3din', 'تحطها', 'اضرابها', 'prix', 'ma5alounich', 'entre', 'ودلل', 'اثر', 'نشكي', 'لتتفرج', 'بمعتمديه', 'jehla', 'ابداع', 'غريزه', 'البلاتووات', 'yepratyki', 'الهدره', 'me7lehom', 'لجهاد', '7ot', 'بالصحيح', 'المحايد', '9ob7', 'جبتك', 'الصارم', 'للتجاره', 'نعطيكم', 'مسعود', 'مبيروك', 'alahou', 'تنظف', 'طويله', 'وفيق', 'ماتذوب', 'بصله', '3500x', 'مشت', 'الما', 'متشرفش', 'حاشيته', 'فالنص', 'dhedha', 'اختي', 'méded', 'zbéla', 'ennah9a', 'التاست', 'ta7anna', 'مايمشي', 'وماتضيعش', 'join', 'techri', 'tasir', 'wbrefffffff', 'تسمعون', 'منااااا', 'الاجازتين', 'عارمه', 'لنفس', 'وكلوشاره', 'شباها', 'تعليم', 'عارفين', 'الطوفان', 'هالوجوه', 'امكانيات', 'tbarkalah', 'فهذي', 'وزره', 'عاهره', 'الاصوات', 'الحالات', 'skill', 'النفاق', 'rawdha', 'nekerhek', 'بتاتا', 'وتركنا', 'aala', 't5awelik', 'الاسلحه', 'farhat', 'yahafdhou', 'فهموا', 'hetou', 'الوفيات', 'ma9arona', 'سينون', 'yrou7', 'اللذي', 'بااااااااااااارداه', 'mardi', 'alihhh', 'الرجااال', '7a9ou', 'yth7k', 'akmaj', 'مستوي', 'jibo', 'raw3aa', '7atine', 'اباحيه', 'وبا', 'hawell', 'hdheka', 'يتقسمو', 'تلقاك', 'لوجود', 'نلقاش', 'لوغه', 'الاموات', 'machalh', 'tkhaliha', 'فسد', 'قولولوا', 'كانكم', 'ismik', 'dinars', 'دوامه', 'حقوقهم', 'اليتيم', 'تمت', 'النقص', 'فتاه', 'بنسها', 'فالعباد', 'forums', 'عسولك', 'lbe9iiiin', 'يشملوا', 'insenia', 'nhib', 'لابعد', 'عالسابعه', 'a3ma', 'ltlafez', 'hes', 'وادعيلو', 'فاطمه', 'momathlin', 'aarfi', 'ووين', 'ترجعلي', 'برشااا', 'شواي', 'fannen', 'والعسل', 't3rf', 'الممثلين', 'الثوره', '5iiiiit', 'ويلكم', 'الضعف', 'وامشي', 'admin', 'يتفلسف', 'سلمي', 'khallini', 'wasa3', 'البيدون', 'للمستثمر', 'jaaaaaaaahél', 'rouuuu7o', 'ابعدوا', 'leyma', 'لاجانب', 'chiheb', 'y9oli', 'likes', 'تفقد', 'mou3ayen', 'طبقنا', 'يحللو', 'الاسلام', 'ya3jebni', 'صح', 'علامات', 'rou7ou', 'tfed', 'be5ir', 'الفاجرات', 'يمكث', 'meyl9ou', 'عبدالله', 'marehbe', 'chnda5el', 'وتشجيع', 'الحاجيات', 'بكف', 'هزان', 'جامع', 'css', 'torbiya', 'متخلو', 'وكيل', 'وتفكيرهم', 'مساله', 'klwa', '10000000', 'طريقه', 'صوره', 'chritou', 'وناداووه', 'يل', 'تقرف', 'صفاقص', 'يورثش', 'اغنيه', 'يعبر', '5addem', 'نيڨاتيف', 'خلق', 'تحس', 'يصيرلهمش', 'اضمر', 'لمليون', 'الحياء', 'jay', '5orda', 'تلتفت', 'شهبندر', 'm3haa', '5ali', 'xd', 'ابلدو', 'يستحق', 'وظيفه', 'spagetti', 'صدقوني', 'ياخذو', 'لعدد', 'المتعصبين', 'النواب', 'عبي', 'بالكارط', 'ماتنسهاش', 'البلاء', 'وتافه', 'ونهب', 'a3lah', 'more', 'nos5a', 'منظرهااااا', 'mou5alft', 'l3ib', 'تقزز', 'الحاله', 'صور', 'oxygène', 'boulis', 'مفكرا', 'لازموش', 'yo5lsou', 'عيايلات', 'الجاااست', 'tna7ni', 'mouledkom', 'يكفيها', 'المبررات', 'ٱختلفت', 'جرحك', 'بكلهم', 'appels', 'برفض', 'msaminik', 'mariyouma', 'jquery', 'عشانا', 'المعنيين', 'نار', 'et7ine', 'مستشهدا', 'ويجمع', 'الكللللللللاب', 'bklamou', 'قاومت', 'انستك', 'ettalla3', 'anahi', 'حشي', 'المليارات', 'yrtfarjou', 'wdfa3', 'y2ather', 'reze9', 'يسلبوهم', 'cht7ki', 'نكرهك', 'المنستير', 'للبرلمان', 'wer9a', 'خاءن', 'mamset', 'قرودت', 'resto', 'masiiiit', 'لماسط', 'ezzebi', 'mofred', 'والسياسيه', 'ادخلو', 'صوتيه', '95tha', 'abd3ou', 'الدور', 'نتقبلش', 'معلللللم', 'fhem', '3maltou', 'رحلته', 'فيبالي', 'للبوسطه', 'خلاش', 'tokhrej', 'manti9at', 'يعلمه', 'siwa', 'tetgata3', 'اخرت', 'بنتك', 'والفقر', 'ضعيييييييييييف', 'يعصيه', 'مرخصك', 'joumhourha', 'مشاهده', 'attoyor', 'لحالتك', 'ﻛﻠﺐ', 'nafs', 'الغرض', 'ne5ou', 'المجالات', 'tebni', 'قديمه', 'chemise', 'poulisiya', 'لوبيات', 'صعيب', 'madhmoun', 'ممستوا', 'اصعب', 'الاسعار', 'omou', 'مستوايا', 'لوله', 'mercii', 'مطلوبين', 'wow', 'kaf', 'يحبو', 'abonnée', 'تتفرجو', 'لعمرو', 'المصاءب', 'تحكمون', 'يمسخ', 'مايقدم', 'الزوز', 'ارهن', 'واضلو', 'zeyd', 'يدعون', 'حولكم', 'بيناتكم', 'الخوانجي', 'تتجاوزي', 'بالاعتذار', 'ha9ek', 'hassra', 'اموالهم', 'رفعكم', 'ka3eba', 'kahba', 'الصيني', 'ma7lek', 'مفيه', 'الراي', 'et9alle9', 'لسود', 'يقلق', 'بروحي', 'بالenglish', 'sade9ni', 'essentiel', 'الرام', 'beja', '3amlt', 'امانتو', 'نجاه', 'lahsou', 'اطلعت', 'بتهمه', 'العمري', 'ثواني', 'belkasm', 'sanfourrrr', 'وتمتعت', 'خااااطيني', 'وتخليلو', '9ritha', 'لميستاهل', 'ووقاحته', 'محاوله', 'اتفق', 'كبره', 'وراكب', 'n7bk', 'ysahelk', 'زرته', 'patron', 'عودتمونا', 'mazl', 'arzen', 'soueletttt', 'ikbssilna', 'gal3ouha', 'الغلام', 'تغتصب', 'اصفقو', '3ani', 'ostoura', 'عمل', 'vulgaire', 'البﻻتوات', 'ومساكن', 'اخرجت', 'وتتعثر', 'الحيش', 'hitte', 'm3a9id', 'تلوث', 'التعب', 'سنتر', 'déférence', 'شوفلي', 'كرهبتو', 'الشجره', 'والخدم', 'متشرفوش', 'تعاونا', 'fekt', 'ennas', 'جرتكم', 'جبدتوا', 'فالصراع', 'الامل', 'dh3yfa', 'تسكر', 'l3afya', 'واطعمه', 'omak', 'formi', 'ولدك', 'معز', 'تقص', 'القوات', 'التريكا', 'السن', 'ro5ssssss', 'القفه', 'ملهندسه', 'تالي', 'marzenouu', 'sou2', 'harra', 'dont', 'entii', 'معندهم', 'انشالاه', 'حيام', 'errye7i', 'المذكوره', 'الماركه', 'الصعبه', 'نناقش', 'sad9ouni', 'hahahahaha', 'الخليقه', '2m', 'sa5fitni', '300', 'يشهي', 'الفقمه', 'mawhba', 'توابعهم', 'chtekhtar', 'مهرج', 'm5ybou', 'بحبك', 'حياتها', 'tga3ad', 'اختفاء', 'الهمامي', 'ma3nich', 'y9drr', 'tounis', 'lamis', 'متخلف', 'zidna', 'الفخفاخ', 'تقولي', 'a9waaaa', 'واختك', 'لغير', 'ne7eb', 'القانونيه', 'قماش', 'ميسوري', 'قالك', 'activities', 'ذكورا', 'tnayek', 'kaleb', 'tjibou', 'تسعيره', 'القاعده', 'fsedet', 'مرا', 'علء', 'روحها', 'جلول', 'yechfina', 'hetheka', 'حميده', 'ratsa', 'اءتلاف', 'عملنا', 'نرسخوا', 'تسبي', 'تفكيرو', 'تحترم', '9ou7ab', 'قصوي', 'وعمرك', 'الاسباب', 'bsara7a', 'y3awnou', 'يانفسي', '7awli', 'الدراسه', 'lkoll', 'ابانه', 'ورقه', 'علاقاتها', 'تحاولين', 'masett', 'بالمساطه', 'nbedel', 'وصمه', 'مسابقات', 'العرس', 'gueule', 'ياعبقري', 'wenafdhan', 'ﻗﺪﺍﻡ', 'للمجموعه', 'الجايه', 'insi7abon', 'نرجعوا', 'تربح', 'لاتربحكم', 'بنتيجتك', 'يمسو', 'تربينا', 'mahleh', 'لعار', 'ekbir', 'yam3alm', 'toktal', 'essmeh', 'ترجع', 'thaweb', 'matisma7ech', 'ندوه', 'aslema', 'حطواالقياسات', 'بطله', 'heya', 'ra7a', 'الفءات', 'رزق', 'kalamtou', 'للتسريع', 'ارض', 'maaaaaasssssssseeeeeeettttt', 'عيد', 'avoir', 'محبوبين', 'اتزيد', '27', 'ومستقيم', 'لضربات', 'coleur', 'مليح', 'camp', 'ميسالش', 'ey', 'متقبل', 'ردع', 'عندا', 'طاب', 'تحرض', 'ووقحه', 'اعوان', 'ولهوتك', 'ennhom', 'لتربح', 'خاطينك', 'تنصح', 'ويلعنكم', 'sabab', 'العكر', 'metfehmetha', 'my', 'sater', 'bflous', 'البسيط', 'الحصه', 'توقف', 'يبارك', 'vendu', 'متفقين', 'طبيب', 'لثنين', 'ã', 'تقضي', 'رايو', 's3at', 'قتلك', 'muskine', 'dohretli', 'المعني', 'ولادهم', 'الضمان', 'لاتخاذ', 'مستوصف', 'المبرر', 'السفهاء', 'l9alb', 'مخيبهم', 'الصلاح', 'التقدم', 'جلا', '3rjel', 'bnayet', 'laha', 'الشابي', 'متمكنه', 'ma3loumet', 'testfazou', 'menaiek', 'zido', 'p', 'تعاوني', 'فيديو', 'البو', 'تتمتعو', 'عز', 'zayd', 'chweya', 'tsobhoum', 'بارا', 'omhom', 'batar', 'بحاله', 'وترقيعيه', 'tallah', 'للحصول', 'كرهتو', 'ta3melha', 'annest', 'خاي', 'كرمبيط', 'mere', 'huile', 'grise', 'رجولته', 'insi7abou', 'سبعيني', 'للجانب', 'fokma', 'mar7ba', 'القدامي', 'اخليلك', 'taleeb', 'barchaaaaa', 'الديوث', 'الصبر', 'وباعت', 'علماء', 'حارزه', 'كومه', 'يقال', 'يطيشوك', 'محلل', 'lemsata', 'راجل', 'لهموكان', 'لارباك', 'htva', 'اشربي', 'مخبريا', 'اغلبيه', 'الشخصيات', 'lkelwa', 'وصباب', 'كلك', 'يحقر', 'taarefha', 'استري', '7rayer', 'كليات', 'سمح', 'staghrabt', 'ماتكتبوش', 'isa7a', 'تحسدوه', 'lghali', 'jamais', 'العالي', 'يدخلون', 'nejih', 'x000d', 'بعثان', 'مفسدين', 'رجعونا', 'ماهوا', 'matelbes', 'ناقصنا', 'وجهوا', 'sélectionner', 'bidha', 'mo9ded', 'البارد', 'يطالع', '9ima', 'ابعدي', 'سالمين', 'ماااسطه', 'tfooooouuuuuuuuuuuuuuuuuuuuh', 'نفاق', 'ammar', 'majnoun', 'rou7i', 'yakhedh', 'sade9ny', 'رامز', 'dora', 'ماكره', 'bekri', 'بفضل', 'لابسها', 'تهدم', 'ouf', 'yfadhlou', 'وزوج', 'barka', 'التقليدي', 'الهبال', 'a3tak', 'فلن', 'استاذاه', 'السعد', 'هالشي', 'يتقصلهم', 'el7ichri', 'الملاين', 'شارجي', 'tfohhhhhhhhhhhhhhhh', 'ekalb', 'ezyen', 'غلط', 'وشمس', 'وفما', 'يلمها', 'risks', 'ent', 'هاجمهم', 'اناء', 'والبركات', 'للشعب', 'محبش', 'tbrklh', 'makamltech', 'لتفاهات', 'ya7mihom', 'n7isha', 'مسيء', 'وغيريتك', 'والمساجد', 'يعلموناش', 'وصوت', 'الشهيق', 'mariitesh', 'fiih', 'المصنعين', 'microsoft', 'n3amkom', 'منع', 'الربي', 'مسيبه', 'شلكوها', 'بااااارشا', 'مستقبلها', 'اتحب', 'زلزلها', 'تزايد', 'جراءم', 'انكار', 'رخصت', 'وبابورك', 'الضامن', 'mafetek', 'يهزك', 'يعين', 't9alet', 'bonjour', 'préparatrice', 'اجهل', 'تمضغو', 'corticoide', 'عملت', 'korona', 'b2', 'العيشه', 'tab3ouh', 'chaîne', 't5ales', 'sa7by', 'bilha9', 'الاقليه', 'ديارهم', '5outh', 'yarhm', 'تاي', 'تحمينا', 'tfooooouh', '5aliwah', 'المذكره', 'شيم', 'المعدنوس', 'لبن', 'للمات', 'ارخيس', 'قبلاتو', 'korza', 'machrou3', 'fihoum', 'twaffa', 'وقفوا', 'y7asra', 'صوتها', 'اكتفاء', 'يفظلها', 'يقع', 'محلاه', '3ati', 'انسان', 'وعارفه', 'منين', 'اخخه', 'المقاييس', 'ورجالنا', 'لطبيب', 'جنس', 'terrestse', 'wa7adhom', 'بتاريخ', 'عشاقه', 'رزيييين', 'الامام', 'لوجيك', 'منجموش', 'امبراطور', 'الانبياء', 'wtonkorkom', 'ماسطه', 'الحلفه', 'علهم', 'التلحيس', 'annoncé', 'للمصنعين', 'والحكومه', 'الغازات', 'na3ma', 'couverture', 'وافاقها', 'برجالها', 'venture', 'anniversaire', 'tal3ab', 'lbera7', 'نداء', 'مسلسل', 'enti5abet', 'خان', 'جدد', 'تمنياتي', 'الاخصاءي', 'اتونسه', 'com', 'fac', 'anika', 'شنيه', 'زيتون', 'ثقافي', 'parallèle', 'ضامر', 'واستعلتها', 'جدااااا', 'fikra', 'نجمو', 'mo9tana3', 's8arhem', 'gayr', 'مستحق', 'للحضيض', 'بمناسبه', 'المحترم', 'يحكو', 'mn3rfhaaa', 'سناجاتك', 'ydhaher', 'محلاكم', 'ماسط', 'teeejebni', 'ybda', 'لحنين', 'واغتصاب', 'mridhhh', 'خلتني', 'ياجبل', 'دارت', 'mokrza', 'soft', 'ya9ta3', 'غنوشي', 'يقلي', 'الاداب', 'يقولولنا', 'machia', 'والافتراء', 'يذكر', 'بعيدا', 'tfouhh', 'tajrebtou', 'bravoooooooooooooooooooooooo', 'vaste', 'kont', 'مااااسط', 'ﺷﻬﺮ', 'جره', 'الزبله', 'تحبنا', 'رجع', 'برافوووو', '9alet', 'ayamek', 'تسويقيه', 'maye3jbou', 'تفرهد', 'تنقرض', 'المفلسين', 'وهري', '9adach', 'الزانيه', 'وفساد', 'خطورتو', 'احداث', 'يهمو', 'التحفظات', 'صحافيين', 'اجيك', 'ستخجل', 'طويييله', 'يعقد', 'tfffiih', 'سطوحات', '7a99ek', 'جبريين', 'khamij', 'اليلاد', '3iyab', 'largeur', 'tefeh', 'التعبير', 'rôle', 'bedhabt', '3000', '9offa', 'it7ebha', 'بالقران', 'توجهات', 'machla', 'اشكي', 'transporteur', 'الخواطر', 'mo7tarma', 'روهراب', 'استبيان', 'نطلب', 'bel3akes', 'كلفار', 'عصبا', 'لغايات', 'العاطفيه', 'تبكي', 'fhemtha', 'soussa', 'ثﻻثه', 'تتلموا', 'المنظر', 'résultat', 'ويطلب', 'i3aytoulou', 'تلم', 'chedni', 'dhkiya', 'tfiih', 'مراكز', 'facon', 'fomha', 'maaasett', 'یمساط', 'la5er', 'videos', 'elkoul', 'mehich', 'walha', '7ème', 'undrestand', 'tog3ed', 'يلطف', 'wa9tech', '0000000', 'سوق', 'حقوديين', 'ذيل', 'landolsi', 'للفتنه', 'wléha', 'ba7theya', 'rod', '9otli', 'yet3aref', 'الدال', 'نديفيلوبي', 'ماسييييييييط', 'نطبقو', 'بات', 'يفسرلي', 'تمجد', 'mamstouuuuu', 'ليروفات', 'base', 'kariouka', 'ilkelib', 'l9tha', 'نعملوا', 'ena3mou', 'préparations', 'meriem', 'محاميا', 'مارك', 'تاجر', 'metakef', 'ماه', 'المريضه', 'bien', 'طبيعتها', 'البدن', 'زميلها', 'المحامي', 'btbi3tk', 'plateaux', 'del', 'بودن', 'خمر', 'لاختي', 'وليداتنا', 'الحدث', 'تشاهدو', 'موهر', 'اغاني', 'بالوضع', 'mayhemhomch', '3abed', 'tetfe3el', 'lwakil', 'سكس', 'matjib', 'نيش', 'يحن', 'نجيبك', 'ماشيين', 'ردوه', 'تعافها', 'طيبين', 'وقاره', 'متعافين', 'الحساب', 't3ama9', 'نحبها', 'والعار', 'وبالنسبه', 'كالكلاسه', 'عالتربيه', 'المرضي', 'java', 'الهادفه', 'formatage', 'yoltof', 'parc', 'قشرتها', 'اتقدم', 'تحطي', 'نشك', 'الفرصه', 'ورومنسي', 'wakteli', 'تسبو', 'ودم', 'يحير', 'المسمار', 'botox', 'فارسي', 'معصيه', 'majeure', 'tfadlik', 'مدخل', 'pffffffffffffff', 'النار', 'خطيبك', 'لاهيين', 'يحرقكم', 'tajamou3i', 'legion', 'abda', 'تجابو', 'حسابكم', 'complexes', 'العويل', 'كرهتها', 'lilnahdha', 'birouhik', 'تقلق', 'lebsal', 'اكرر', 'y3awnek', 'moustawayet', 'الصلاعه', 'koura', 'الازمات', 'قريت', '9adrou', 'السيده', 'جهلكم', 'راقصه', 'الموبن', 'ynajim', 'بلاتوات', 'مستهلكي', 'ناءب', 'to9sed', 'اللحظه', 'نقوم', 'allh', 'ضهرلك', 'ولديه', 'moutou', 'الحاكم', 'مايعجبنيش', 'aisément', 'شارك', 'masetou', 'افطايبر', 'يضحكش', 'nhotou', 'zebla', 'للزواوله', 'tweli', 'وساءل', 'تمرمدت', 'fang', 'mazell', 'البدر', 'قرايتك', 'صحري', 'حظور', 'لغلق', 'يدن', 'مايديكم', 'tkhalehoum', 'محلاهااا', 'القراءه', 'النهضه', 'الشعوب', 'africain', 'حقير', 'fayda', 'taknagna', 'médecin', 'وتعاود', 'الجاني', 'رحمه', 't7el', 'مخدوم', 'اعظم', 'واحدو', 'المتربين', 'تكذبو', 'fet7ine', 'اكلي', 'ouh', 'عظروته', 'bourse', 'ماعندكمش', 'شهد', 'يعبرشي', 'fondo', 'نحملوش', 'يمصاط', 'ayech', 'المناظره', 'joret', 'bledna', 'naamellhe', 'ادوار', 'يتغير', 'غاده', 'ta9raa', 'lahhassa', 'تجري', 'ihizou', 'ورءيس', 'غدار', 'فجيره', 'فايق', 'plan', 'المستوي', 'عبره', 'عزكم', 'يزيدو', 'تروجوا', 'ينالون', 'اجراءهم', 'جلغكم', 'html', 'المتعلقه', 'a5ra', 'ياغورته', 'ورسمله', 'mléyéktou', 'اجتماعيه', 'inshallah', 'كمجرمي', 'جابوها', 'ودرورها', 'ورسول', 'vista', 'el3arabi', 'تدخل', 'بواحد', 'ra2is', 'wqtech', 'احتمال', '9immat', 'عوض', 'يبثون', 'صنعتوا', 'للنسيان', 'hidhab', 'techbah', 'نكملو', 'يبدللو', 'الانبطاح', 'ضعيفه', 'والكلمه', 'معلومات', 'فيقوه', 'shnowa', 'كمل', 'hlouwa', 'مبيض', 'مغني', 'انوثه', 'b3athoum', 'i3ayef', 'الحقار', '5esrou', 'الاستماره', '10000', 'ماثر', 'النخبه', 'كرتاج', 'ولقيتول', 'تكتبهم', 'يخري', 'yeji', 'ولما', 'sbit', 'botia', 'mezelt', 'tchof', 'tfouu', 'we9to', 'حوار', 'الموظفين', 'e7tytetik', 'تعتذر', 'يمساط', 'ماتطلعش', 'بالفلوس', 'فاتت', 'eness', 'mal9itesh', 'berez9', 'ادوم', 'ونعدل', 'voies', 'mê3kom', 'يخلصو', 'يستدعي', 'اخليهولك', 'الامراض', 'يخزيكم', 'اتخذت', 'm3dch', 'ينمي', 'ومعروفه', 'titrage', 'بالتمهبيل', 'tiii', 'وتقلي', 'اهو', 'mitribi', 'maya', 'ragim', 'بمشكلتك', 'n5abiew', 'masrik', 'الصوت', 'dayrine', 'twafew', 'صفقه', 'm3lim', 'ظني', 'يكه', 'زلاوجه', 'nchwfwh', '3laya', 'jme3a', '3alatounes', '7ajét', 'اغني', 'بالجلجلان', 'tahiya', '7am', 'lillah', 'taaraf', 'شاريه', 'تشرف', 'ramdhan', 'chaines', 'هاثوره', 'denya', 'ريم', 'تجمع', 'خاءبه', 'y9azizzz', 'مصاطه', 'نعرس', 'يبلغونا', 'mastt', 'النضال', 'الفارغ', 'tafhat', 'lab3id', 'يستضيفوا', 'chbih', 'الترته', 'الاصغر', 'اشرفلو', 'مخدوع', 'ezzouz', 'thank', 'carthage', 'ولايات', 'marit', 'msatekkkk', 'mon', 'شكلو', 'الحقوق', 'wlhh', 'فخر', 'حذاء', 'مجال', 'n7ebou', 'ميلقاوش', 'الصغاروالكبار', 'اداب', 'séances', 'natenn', '78000', 'اهوي', 'غناه', 'le7keya', 'بالسياسه', 'ﺍﻟﺤﻖ', 'hadika', 'houmetna', 'للاستعانه', 'how', 'hisa', 'a3leeeeem', 'وضع', 'فتنه', 'الاعلاميه', 'hedhika', 'successive', 'البلجيكي', 'megaleba', 'التحاد', 'تيتر', 'ومصابه', 'فيبالهمش', 'تجي', 'اقصاها', 'الكفره', 'ekdem', 'may7ebouch', 'smela', 'to7t', 'tfiiiiiiiiiiiiiiiiiiiiiiiiiiiiih', 'ji3an', 'ماجات', 'bnsr', 'غلا', 'n9olhom', 'kita3', 'باقصي', 'الاباء', 'الجهل', 'tsibi', 'kaled', 'confiante', 'animateur', 'صبحو', 'جانفي2020', 'وهدف', 'sebsi', 'سلطان', 'تفجير', 'ny', 'بالڤدا', 'masl7etha', 'والمرتزقه', '7awelt', 'mhantelllll', 'السماء', 'اسيادك', 'inty', 'تلقاهم', 'كلياني', 'mamesstek', 'يحفظهمك', 'تمر', 'ييسر', 'mousalselll', 'للعالم', 'ne9es', 'واطفال', 'faciliter', 'قفافتهم', 'malhit', 'عطاتو', 'na7kilek', 'الحميد', 'صدري', 'قشرتهم', 'tlahmeg', '2ème', 'سيدو', 't7founa', 'ونادمه', 'lettres', 'aalik', 'بسيكوم', 'مخو', 'autre', 'ya7ra9', 'sbab', 'الاستثمار', 'بلدان', 'jy', 'النقابه', 'ye5dmou', 'طارت', 'a7echmou', 'ل2015', 'himeel', 'mefich', 'الطالبي', 'حساره', 'جدودهم', 'الواقي', 'cha3malna', 'fehriii', 'والشفاء', 'لايقبل', 'ram', 'لقيتش', 'الجزاير', 'aychoucha', 'تحطم', 'واحتجاج', 'yar7em', 'aarkom', 'ya3oudou', 'الفدلكه', 'bras', 'اكرم', 'la7asss', 'temlat', 'نتناقشو', 'تعفسو', 'ta5tar', 'nab9a', 'عقوليه', 'وايزد', 'يتكا', 'واولاد', 'قبحك', 'والمحافظه', 'المستهترين', 'sa77a', 'موزون', 'بعدهم', 'الخنار', 'ڨدااش', 'عقب', 'خدمتكم', 'للحنجره', 'باستاذ', 'تحمي', 'wrahom', 'تمكين', 'yarhim', 'المشروبات', 'lout', 'لفساد', '26', 'president', 'ذاتك', 'سيتدفق', 'hhhhhhhhhhh', 'démocratie', 'sabrina', 'زهانغ', 'رام', '9tai3', 'تخسرنا', 'dari', 'يءدي', 'ابواب', 'معدنوس', 'تستشهد', 'متعمل', 'ومخليتها', 'بمنطق', 'ماكانش', 'solta', 'walah', 'خدمت', 'yesir', 'lcapo', 'massset', 'افاقها', 'numro', 'تتواني', 'yekhy', 'باللي', 'ااطحين', 'mryem', 'chiiiiib', 'غلطه', 'قدمت', 'arja3', 'ma3rouf', 'وضعك', 'apres', 'toskot', 'یحب', 'msatet', 'loled', 'متاكدا', '3arfkom', 'réve', 'ads', 'مكبوب', 'الشلايك', 'مشاءالله', 'تنسيق', 'يبلد', 'avenir', 'jabek', 'توصل', 'zayid', 'سيري', 'الهانا', 'tnjm', 'مقيم', 'لهاك', 'jooolie', 'صغير', 'براميل', 'لعلي', 'شكسبير', 'tanja7', 'ليبه', 'لامثاله', 'waaaaaaaaak', 'm3alemmmmmmmm', 'تنيك', 'لسان', 'نوابه', 'blasa', 'ya9ra', 'وتبقي', 'ياااااا', 'dhmn', 'الرءيه', 'تكتمل', 'y7eb', 'محضنه', 'الفجور', 'نكرها', 'mabldou', 'ينعمون', 'صوطو', 'نتعامل', 'elmoustache', 'المشاكل', 'yadelhek', 'b12345789900', 'انار', 'سخخخخخخيف', 'سيدات', 'hh', 'ملايكه', 'المركزي', 'anfé9', 'وحاط', 'تحشم', 'مسمار', 'صنعت', 'يتمهمش', 'بنتي', 'balbla', 'tkhamem', 'j3fr', 'بحالتي', 'جاب', 'ومدام', 'اشاعه', 'مدينتي', 'نتبرعلك', 'الشرف', 'ensane', 'الڨفاصي', 'متعرفش', 'kano', 'العوق', 'اعتداء', 'maximum', 'فريم', 'hokouma', 'يفجع', 'le7ram', 'jaime', 'ومحمد', 'كبييير', 'اللطف', 'pefff', 'ennada', '8000d', 'الخمر', 'mawlouda', 'حاولوا', 'admire', 'b3adha', 'جلها', 'ytayeb', 'teched', 'maaloul', 'كليا', 'django', 'تكلم', 'نضحكو', 'هالمسخييين', '2025', 'روحك', 'هبط', 'هوه', 'الافارقه', 'tefhaaaaaaa', 'شنهي', 'ريتهاا', 'قروضها', 'lgit', 'تبارك', 'باليخدم', 'anfesek', 'يلقاوش', 'yeb9a', 'تتجلطم', 'سبق', 'تستشيرها', 'يستغلوا', 'ندل', 'kab', 'تتلهي', 'زوجتك', 'يفدددد', 'ويشفرو', 'awatef', 'semmi', 'a5ter', 'lahou', 'مثقف', 'raciste', 'العباره', 'البهاما', 'فخامه', 'maaaaaaarigue', 'احضر', 'tfouhhhh', 'تجاوزتش', 'حيو', 'تشوهون', 'sona3', 'استفساراتكم', 'صورتك', 'anaa', 'يبرد', 'انوثتوا', '5louha', 'الاغلاق', 'وقفتوه', 'bilfou9ara', 'easily', 'مقاطعينكم', 'ومقنع', 'مايستاهلش', 'الريق', 'تفوووووه', 'خبرا', 'وللهي', 'والمعلومات', 'ma7leeeee', 'والمهندسين', 'ser', 'تعبها', 'ونبينا', 'منافقه', 'سطر', 'تنظفش', 'عطوه', 'mzyena', 'الدورات', 'يصدقوا', 'not9', 'تغرميه', 'بالانجليزيه', 'te9derr', '3in', 'تحشوفيه', 'حلق', 'سكر', 'يتربا', 'بالحق', 'ياريتني', 'الاحيان', 'كاءنيه', 'الدومان', 'وﻻت', 'تقاهم', 'للنظام', 'انصر', 'tandem', 'متتعبش', 'بابورو', 'touns', 'فاده', 'tinba7', '3mayel', 'mista3mel', 'yekber', 'sbitar', 'ويعطيها', 'التلفاز', 'move', 'lmajanin', 'كارثه', '3la', 'wprix', 'قوم', 'بلدانهم', 'حاطين', 'ومشيت', 'kalba', 'قدوتهم', 'عماركم', 'ykhadem', 'bravooooooooo', 'war9a', 'omok', 'بالرزق', 'ملتزمين', '5anou', 'sout', 'العاهره', 'sbou3i', 'ydhaye3', 'خلايق', 'لكحل', 'ci', 'eslim', 'مت', 'سباقه', 'ybandarlah', 'مانظمتش', 'بشوش', 'متاحم', 'd3a', 'ytejrou', 'ونعاونو', 'aghlet', 'fyhech', 'صفرررررر', 'tnajjam', 'wmamstou', 'matatach', 'قال', 'blasethaa', 'يخاليهولك', 'الجنس', 'ومكلفين', 'صيامك', 'nal9aha', 'tathir', 'مسطت', 'وعمللها', 'irajil', 'ماامسطهاا', 'r5is', 'library', 'العصيان', 'ارحمنا', 'kent', 'الفكارن', 'gdiiiiim', 'nekraha', 'عبادو', 'تفرجتيش', 'بروفيسيونال', '9waya', 'يخليه', 'دورهااا', 'لاها', 'bonheur', 'خدامتها', 'فالمسارح', 'فقدانها', 'tounseya', 'مرزوق', 'الامر', 'فكرتني', 'lkafirin', 'ايقاف', '9oulou', 'حراره', 'mo5', 'حللها', 'همها', 'اجرام', 'nahdhaoui', 'خول', 'المليح', 'تبعيه', 'يشمل', 'والمثقفين', 'حللت', 'وطيااااااااااااااااااا', 'صون', 'n3awnou', 'ابركولنا', 'هالوقح', 'المصروف', 'ghorab', 'ويارب', 'كسل', 'المظلومين', 'echaab', 'taadew', '5ra', 'la7asa', 'commande', 'المسمومه', 'الهويه', 'والله', 'ااااااامين', 'chaytani', 'ماخور', 'مرحلتك', 'نعرفكش', 'اليله', 'الاحترام', 'الميساجات', 'ظحك', 'ويعرف', 'فيهوش', 'اليوث', 'نستني', 'tfff', 'وتموت', 'raouwaa', 'بخصوص', 'المعرفه', 'صدقه', 'الكريمه', '9illet', 'be9i', 'ماشت', 'تتحول', 'يعرفها', 'ممسطوووو', 'كلامو', 'e5retha', 'تقنعو', '23موتي', '3okaa', 'klab', 's3ib', 'bethabt', 'مناضله', 'عامللها', 'احب', 'meta3', 'akaber', 'ميتفقوش', 'حزب', 'اجرنا', 'echri', 'داخلي', 'had', 'مبرمجين', 'افار', 'bare7', 'بوشناق', 'نهار', 'يتعدو', 'fiât', 'واصحابه', '3aaar', 'callek', 'wkolhom', 'تعرضت', 'اخواتي', 'دبري', 'août', 'ويعحبوا', 'طليت', 'yet7alou', 'll', 'ghne', 'العضم', 'tnajm', 'ya3teha', 'ت', 'وغباء', 'لبرنامج', 'yetfarij', 'يشجعو', 'الحيوان', 'ستر', 'شركتهم', 'saidi', 'ommmm', 'droit', 'السيسي', 'نخرجك', 'mareg', 'بمخططاتهم', 'program', 'وفيقها', 'المخصصه', 'احزاب', '1024go', 'cheniya', 'widely', 'عملينا', 'le9a7b', 'بلدي', '𝓾𝓰𝓽𝓮', 'ya3tk', 'broo', 'معبد', 'الزيتون', 'ضجه', 'kleeeb', 'عالشريطه', 'lė', 'رمضانكم', 'العماله', 'خبت', 'tfoouuhhh', 'نانشان', 'مساباقات', 'العاملون', 'gmail', 'يستقبل', 'مهتزه', '5adam', 'bhema', 'maaak', 'يردها', 'lhaja', 'كجيو', 'arjel', 'ينضمو', 'بناتك', 'اجابه', 'دخلهم', 'حنانه', 'مقسم', 'احسبه', 'للنساء', 'yhabtohom', 'يلهثو', '4alia', 'chouf', 'ويستثني', 'tetlakch', 'قدرك', 'boudi', 'wa7da', 'الاتصالات', 'ومكره', 'ma3maltich', 'قضاياها', 'بمساهمه', 'ya3tiiik', 'للاخوه', 'masa7ech', 'للخدمه', 'brjouliya', 'الجمعه', 'بالاقناع', 'yhemouch', 'الفارق', 'مدفوعا', 'قردان', 'inajho', 'قطوسه', 'رغبه', 'mahleeeeek', 'جرثوما', 'ثانوي', '3fatt', 'بجذورنا', 'misalech', 'friv', 'اعود', 'bousa7a', 'امعلم', 'الطبي', 'بناو', 'mazelett', 'mousalssal', 'صابر', 'وكلتو', 'يترك', 'الضراءب', 'نكبه', 'ولوط', 'chbi', 'نيه', '3azbe', 'ستاج', 'مابدلتش', 'بنمشي', 'ikaddir', 'يستشيرها', 'واعطي', 'n7ebbou', 'france', 'طينه', 'انتماءه', 'الاخراج', '5ouyaaaa', 'يسب', 'وستعسر', 'نذل', 'تءديه', 'باتينده', 'يستجدي', 'narr', 'enhom', 'الهياكل', 'معقد', 'sm3to', 'علمو', 'تتحل', 'قعدولنا', 'وانما', 'البيره', 'بقوه', 'انواعها', '3morha', 'essa7a', 'بنجاحو', 'للمدينه', 'وقلو', 'وميمتك', 'متشرفنيش', 'oikil', 'حاج', 'يصوبلك', 'هالكازي', 'merha', 'الواجب', 'القوابسيه', 'زبي', 'طاقات', 'ناجحين', 'للثلاثيه', 'تربحو', 'لصارتلي', 'نتاخر', 'chnéya', 'tfattak', 'قدك', 'i3lem', 'بالاخره', 'ينفعكم', 'mchlh', 'engineers', 'wooooooooooooooooooooh', 'كذل', 'te5o', 'مرجتونا', 'معفط', 'دبرت', 'fiat', '3andhom', 'اخييييييييت', 'والمصنعين', 'يهلكم', 'ڨلب', 'meziana', 'yaani', 'البرميل', 'وقتهم', 'boy', 'yssir', 'ouiuuuuf', 'menna', '3almsata', 'للرجال', 'faut', 'الاهانه', 'ennès', 'me7lek', 'b3d', 'اتبع', 'الpdg', 'وصلتني', 'ومناقشه', '2019', 'yalemima', 'حلوه', 'بشراء', 'الحمدلله', 'jrayer', 'نمرض', 'wiouuuu', 'روس', 'لخوات', 'ذكوررا', 'اليوتوب', 'ولکن', 'تنظافش', 'التلاميد', 'يصير', 'تحكيو', 'واقتطاع', 'moumathel', 'a9ra', 'تتقطع', 'm3akom', 'انصارها', 'الاستيبان', 'والتلحيس', 'الذءاب', 'الماجستير', 'n7ebhaaaaa', 'force', 'نسانده', 'استثناء', 'عنكم', 'watani', 'tones', 'ومطالب', 'madchich', 'احكيو', 'يشفيلو', '3alakhar', 'زبيب', 'والقطيع', 'المليون', 'الازواج', 'nchalllah', 'gassrin', 'حرب', 'مستوياتتت', 'yarhmek', 'اخويه', 'فارغه', 'nidham', 'بعثت', 'شااااذه', 'يحتذي', 'بالخل', 'tbendir', 'حبيبتي', 'dabbegh', 'راجلي', 'مهله', 'ينطق', 'والفسفاط', 'جدو', 'زهرك', 'مشكلت', 'boutola', 'الseo', 'برافوووووو', 'حومه', 'ويجعلو', 'تحققلك', 'propos', 'لتعمل', 'لتلقي', 'theb', 'manajamtech', 'alahoum', 'يبرز', 'حاسسيه', 'النقابيه', 'amaa', 'هدره', 'm3aaaaaaaalem', 'تشاركو', 'وترتحها', 'inesss', 'الاطباء', 'yahebtou', 'اقمار', 'قلقتهم', 'للشارع', 'السوقيه', '9allek', 'el7koma', 'اسلاميه', 'npartie', 'البروميار', 'دفينه', '9ayma', 'mathlete', 'هكي', 'الخوانجيه', 'يغرم', '2020', 'ingénierie', 'مطالبين', 'كف', 'طاعتكم', 'm3andi', 'wa3lali', 'يرتفع', 'شكروه', 'نحييك', 'مخببو', 'gerda', 'kilométrage', 'يقبلش', 'thabel', 'رساله', 'اعلامنا', 'اسم', 'ملعونين', 'بالshort', 'masabitkch', 'الصغرون', 'وصاحبتك', 'سماع', 'صوتك', 'مستوايات', 'yarja3ech', 'فالجابك', 'no9sod', 'jé', 'نهي', 'chaine', 'الطريق', 'نسيت', 'المظاهرات', 'الاقتصادي', 'yhl', 'مفصل', 'kifma', 'التهميش', 'تفشي', 'ma3ejbetnich', 'الم', 'لخصت', 'تزيدنا', 'rabiye', 'قمرت', 'التشغيل', 'وشيخه', 'وسلامه', '3zek', '800', 'fahmi', 'haja', 'فرعس', 'medit', 'قحبه', 'hayawanettt', '5ommaj', 'الشك', 'entoma', 'بصناعه', 'يتوهمون', 'litti7ad', 'يختار', 'ج', 'baaaaaaarch', 'touniisss', 'الاماكن', 'wejhouuu', 'تتسلف', 'ومقل', 'مصباحي', 'esc', 'يءثر', 'ltounes', 'rbi', 'لاسطه', 'nhabou', 'تعاود', 'مذبيه', 'remz', 'alim', 'mahleeena', 'تسترنا', 'يزيد', 'ye5iii', 'يحشمش', 'ويسهل', 'boulisiyya', 'echay', 'تحرقت', 'يقترح', 'بالغيره', 'rahaz', 'ميروح', 'massa5', 'yst7a9o', 'وشتم', 'choix', 'القطاع', 'olfa', 'erahmouni', 'ارخس', 'رميم', 'elmouhem', 'الماكينات', 'يرتدع', 'النوفيام', 'miskin', 'شروط', 'ينجح', 'نقولها', 'issa7a', 'ka3ba', 'ma3ach', 'راحتك', 'بروفه', 'واشياء', 'jedan', 'wafe9o', 'تستفيد', 'بنساء', 'تكتب', 'واحلام', 'aklek', 'najm', 'conseille', 'الحقيره', 'للقرار', 'tossama', 'thezha', 'allaho', 'تتاسف', 'kbiiiiir', 'ل12', 'نعمل', 'ولله', 'takhdim', 'العيب', 'وضعها', 'السموم', 'متوسط', 'beli', 'تتفرهد', 'يعرسو', 'الكيف', 't3adel', 'انقلاب', 'واغلب', 'المصادره', 'kotlou', 'ma3llem', 'nakrhouuuuuu', 'نفعش', 'سيطي', 'لبسه', 'chaj3ou', 'wledi', 'الطليعه', 'ikob', 'nal9ach', 'aandkch', 'اكسرسيسات', 'بالطحانه', 'الcoding', 'بجنبوا', 'تذكرني', 'تادي', 'تستنشقو', 'brass', '5iiiiih', 'مذيعه', 'المغالطه', 's3aaa', 'المفروضه', 'محطه', 'rani', 'فالعمر', 'ورتناش', 'يطالها', 'نعرش', 'محامي', 'بلها', 'hab', 'بالصحه', 'tet9arra', 'zone', 'محله', 'تتمعجن', 'ambulance', 't7out', 'معادي', 'عري', 'm3elem', 'باكتشاف', 'hkeya', 'التزعبين', 'متغرب', 'ناجحه', 'انعاش', 'يربط', 'ani9a', 'عمرك', 'yet3adech', 'تدهنهم', 'عرفتها', 'mistakes', 'mana9fouch', 'اطياف', 'yab9ach', 'مبرووووووك', 'mnawera', 'cht3ml', 'وفارغ', 'ايخلي', 'بالكرطوش', 'قلوبكم', 'مشالله', 'naarfou', '7na', 'فاير', 'الجرباء', 'winekech', 'ننصحك', 'ايجا', 'عملي', 'وطالبو', 'نكراء', '256', 'y2assef', 'jdide', 'fergha', 'تسخن', 'يبقاش', 'esta9se2i', 'ازدم', 'echacha', 'بنور', 'راضيه', 'ممسطك', '3amilah', 'للشركه', 'itala3', 'باعهم', 'تصوروا', 'فاضيه', 'مسرحي', 'فوري', 'marattt', 'المنطقيه', 'dhab', 'الالمان', 'غرف', 'تعيس', 'انهار', 'تاله', 'ثعلوب', 'ملء', 'الكلمه', '9ariib', 'kalmek', 'ويجعل', 'it3awiiif', 'ykalina', 'عملولي', 'فيهاش', 'تجارب', 'netfarhed', 'a7le', 'يهزنا', 'فاءض', 'bledi', 'تركتور', 'انجلترا', 'تيييييييييييت', 'يهبط', 'blk', 'تننجم', 'الاختيارات', 'tiiiiiit', 'makch', 'الداء', 'anyek', 'nitsawir', 'للمنصب', 'صوماليه', 'الظروف', 'belou', 'annas', 'omék', 'نظام', 'الجمهولريه', 'm5yeb', 'اطفال', 'بعنقو', 'تحبوها', 'اهاوكم', 'elhekma', 'mati3jibnich', 'متطابقه', 'انقول', 'وصلنالو', 'american', 'init', 'ghneyetou', 'المرءه', 'حمار', 'nrawek', 'souk', 'تسرق', 'الصناعيه', 'افظل', 'مريض', 'hadhoukom', 'ikhtiyar', 'jayin', 'درج', 'العلامات', 'ونساء', 'trawa7', 'مخرجا', 'المشكل', 'ويسكنو', 'شفتها', 'االه', 'machabha', '338d', 'الامم', '9aloli', 'litemchilha', 'بلعصا', 'الغربي', 'خوي', 'ح', 'يجاوب', 'صباحا', 'تسهل', 'a3lihe', 'المسرح', 'malion', 'تتحير', 'اقصد', 'غدوا', 'عليكي', 'sare9', 'دڨله', 'العسكري', 'جراتهم', 'اسمك', 'اعرف', '3ali', 'yal9aw', 'كليتو', 'سلفي', 'والتخفيضات', 'jech', 'ونشالله', 'mousalsal', 'لوضع', 'masseta', 'لنقل', 'ya3tek', 'اصبر', 'معرفه', 'تيتروات', 'فالله', 'والمسلمين', 'toghletch', 'ibereklik', 'حرمتنا', 'yberik', 'ظوحكا', 'may7chmch', 'meyel', 'وتستشهد', 'اخليك', 'elmetwafin', 'm3alemmmm', 'professeur', 'may', 'نحكيو', '1818', 'tekhdbou', 'b3idaa', 'wa7ad', 'لسبيطار', 'look', 'موعدنا', 'وخارجه', 'nikom', 'افواج', 'ابعثوه', 'الذمار', 'للتداول', 'المنح', 'tsakbin', 'لقدام', 'الصراحه', 'ماتاه', 'tokyou', 'لوحده', 'kalbe', 'عالui', 'الداخل', 'سمع', 'التساءلات', 'واداء', 'alaya', 'ekbes', 'mnawra', 'لغه', 'b3ayn', 'نستناو', 'tanjah', 'ناقشو', 'متر', 'جريءه', 'راسو', 'مافيات', 'طريقو', 'طبي', 'na9ratha', 'الوباءي', 'تهلكو', 'فالواقع', 'تفووووو', 'ma7lk', 'tfoooooooooooooooooooooo', 'matnajmch', 'bravoooooooooooo', 'اخلاقكم', 'metha9ef', 'a3ti9', 'خلاص', 'mar5sssou', 'يتحملوا', 'yelbsou', 'far5', 'ورخس', 'وانها', 'يشفيناويشفي', 'نرفض', 'يسافر', 'maktoub', 'يسود', 'يعلم', 'نجحك', 'man9ek', 'الارادي', 'نشر', 'matal3abhach', 'تدعم', 'ramet', 'واعتبارا', 'قرد', 'شاف', 'الحرث', 'hkek', 'rjouliya', '7ayawenia', 'bedha7k', 'والتنكيل', 'شم', 'لمتواضع', 'ejaw', 'chna3mlou', 'حينها', 'صله', 'w9et', 'حفتر', 'منبر', 'k3baa', 'قلقك', 'عداه', 'الماعون', 'والسراق', 'تبعثلو', 'منيكه', 'الفيس', 'وشكون', 'yerta7', 'ننتظر', 'بشمس', 'مقالات', 'اجتماع', 'sraf', 'ويشفي', 'سيدك', 'raki', 'لاوله', 'tneket', 'chrytou', '7yaaa', 'متسميه', 'الصافي', 'طاحت', 'tesmaa', 'lward', 'حمامه', 'yetgal', 'يخافوا', 'نورمال', 'عقلك', 'بشري', 'حاتم', 'شتتت', 'complete', 'recrutment', 'khaletek', 'اقامه', 'سكرها', 'madhin', 'الركاكه', '3ordhotni', 'غلق', 'يبدي', 'tsalli', 'الاختصاصات', 'الاتصال', 'وبحميها', 'وضيوفكم', 'مسلسلاتوا', 'yzidou', 'باهميه', 'تيماهو', 'beyna', 'chahreyet', 'ماقالو', 'faserli', 'المساعدات', 'yetfarej', 'يخلطوك', 'لاوت', 'بحذاك', 'اعملتو', 'عليهبل', 'el7a9', 'بالصيدليه', 'manins7ikch', 'ارتفاع', 'يدفن', 'الامن', '3edi', 'choftouijib', 'يهلكها', 'المهنيه', 'ابتسامتو', 'انتظم', 'شك', 'جنبوا', 'ياجنرال', 'دينكم', 'نخمم', 'a3like', 'welda', 'هكاكه', 'تنتهي', 'تعديش', '3omrek', 'oooh', 'للتغيير', 'ناكل', 'gou3er', 'الاستهلاك', 'تفصيل', 'ب7000مليار', 'مثقل', 'والمصالحه', 'promo', 'musiqua', 'درسو', '7echma', 'bdaou', 'نصايح', 'ساده', 'المحدد', 'i3adher', 'يلحس', 'يخلص', 'coulira', 'بدارك', 'للغايه', 'سبحانو', 'mamstha', 'باباك', '10mlyen', 'وماركك', 'متربيه', 'totlose9', 'بالبلاصه', 'ماهلكاها', 'ow', 'mathmouna', 'tsa5ef', 'والبشريه', 'وقتك', 'عرفها', 'جثه', 'بينه', 'خشبيه', 'كول', 'mehi', 'الوزير', 'yehlekom', 'chamous', '1920', '100000000صلاه', 'ﺍﻟﻔﻀﻴﻞ', 'الزريعه', 'belhi', 'قداشو', 'الارهابيه', 'تقريبا', 'rythme', 'يمسخكم', 'وتعامله', 'ادغفونا', 'a3od', 'wb9odret', 'amal', 'احرش', 'pub', 'وزايد', 'l3i', 'ynaf9ou', 'حاسبه', '9o7b', 'لمختص', 'amine', 'والامام', 'زربه', '4k', 'bnét', 'رات', 'تفرجت', 'امالا', 'inheb', 'غراب', 'بالخمور', 'ضيق', 'الاستبيان', 'blasitha', 'ويشدكم', 'gen', 'تفوووووووووووه', 'ال13', 'مقدمين', 'زينت', 'wihabouna', 'اقياسكم', 'وساقط', 'nbet', 'gourou', 'fisa3', 'inchalah', 'الانفلات', 'لبرنامجك', 'يمسخك', 'ٱخرتك', 'بروفيلك', 'تتصلحش', '3youniiii', 'mo5tarem', 't3aber', 'النخب', 'ابرز', '3lech', '9otlokch', 'تلفزتنا', 'سلسله', 'yama', 'tisma33', 'ykhaddem', 'ensan', 'alhe', '3atrous', 'ويفتح', 'تصريحات', 'اللوم', 'جنانه', 'dhaher', 'panne', 'البلاده', 'lmosalsell', 'mll', 'nchouf', 'ياخونه', 'مساج', 'الاتهام', 'ma3nii', 'il3ib', 'لميزانيه', 'نوصللها', 'العالميه', 'matetmna', 'الصفاقسيه', '9raytek', 'soumhom', 'منظمه', 'هوايه', 'عباداللهوانذل', 'amin', 'المستعمر', 'ma3azou', 'ele3lam', 'ay', 'ereheb', 'besoin', 'one', 'جاري', 'احترامتي', 'مسمي', 'forset', '9awm', 'fy', 'وتحاسب', 'ضاهره', 'massettttt', 'نعاندو', 'tetkelem', 'حجه', 'معفطه', 'افلست', 'تبث', 'thaib', 'اقنعه', 'اوقيت', 'yetfanen', 'خبير', 'جهلت', 'تمثيل', '3amin', 'مثليه', 'wbinesba', 'sex', 'تتحصل', '9dah', 'ماسوني', 'قدمه', 'يصنع', 'بمتابعه', 'hathaka', 'اللجنه', '9alouh', 'anahouma', 'وهويتنا', '3arbi', 'e7mdi', 'ya3fes', 'klay', 'tayarat', 'mosta9blik', 'الراحمين', 'aarbi', 'اسفي', 'fomhaa', 'hdhi', 'نومه', 'pharmacie', 'الزغرات', 'محرزيه', 'سعدوا', 'lebled', 'الشاشه', 'masssssssit', 'besh', 'تتخرجي', 'فلوسو', 'والكهوف', 'yezy', 'البساطه', 'نقولو', 'مقياس', 'barra', 'kilet', 'tmathel', 'سيبت', 'والصوت', 'massi5', 'السلاح', 'تبقو', 'الناقص', 'ta3tiwha', 'après', 'الفراعنه', 'واعيين', 'بالاصابه', 'ya3rfouni', 'تناقشو', 'معتدش', 'عبيط', 'يختمها', 'بفضايحكم', 'na3tik', 'kolli', 'berger', 'وازكي', 'ljensiya', 'عذابك', 'me3lm', 'notre', 'kalmet', 'تقود', 'النشاط', 'انذال', 'هداه', 'ويقلولي', 'قالتها', 'تعرض', 'فضحت', 'يضحكو', 'akbara', 'rit', 'يفرض', 'ydha7ekni', 'بجميع', 'moufid', 'design', 'dawer', 'رحم', 'يقبلوا', 'ta9dirou', 'نفاقكم', 'كثر', 'لصندوق', 'نتفرجو', 'mat7chemch', 'رني', 'امت', 'نقبضوه', 'kourona', 'الاجراء', 'لفت', 'الدواعش', 'daeman', 'واحدنا', 'الغرد', 'الفاحشه', 'a3lih', 'كارو', 'العزباء', 'nad7ek', 'ya3tih', 'شتكون', 'raw3aaaaaaa', 'السيسب', 'مصطنعه', 'libi', 'التونسي', 'سويلم', 'عيدك', 'والمواد', 'الاوصول', 'ولدي', '𝓾𝓰تو', 'rou7ik', 'ماسكينها', 'thabet', 'baya', 'math9loo', 'كورات', '3likoum', 'tari5', 'الضغط', 'هاحد', 'manoula', 'question', 'نزل', 'yo93dou', 'ta3i', 'طاح', 'مسبوكه', 'للسعوديه', 'ترجعلو', 'استرجل', 'فوج', 'الفلاحه', 'سابقين', 'madhyin', 'القناه', 'فالاخلاق', 'تباركله', 'raj3oulna', 'la3nt', 'y3ayf', 'تستقات', 'ياصاحب', 'ليلۍ', 'maasta', 'الغناء', 'مفسد', 'سيبوه', 'انصحه', 'tahia', 'الوان', 'الصهيونيه', 'n3ichou', 'oumour', 'حصريا', 'ندرا', 'ja3four', 'المباشر', 'للطبيب', 'ملاحظه', 'تتخبط', 'بلادنا', 'ﻻن', 'dolek', 'joyeux', 'الشماليه', 'rabahkom', 'بالمجلس', 'التونسا', 'hedya', 'مررتها', 'ستالين', 'fela9ta', 'iwaf9ik', 'ساقطه', 'بالبعيد', 'الرد', 'nssi7a', 'lezem', 'مادا', 'مااااااااااااااااااااااسطه', 'لكزه', 'براتيك', 'yarham', 'بعلن', 'لعامين', 's2el', 'والكناتري', 'مجالي', '2080', 'newi', 'b9adeh', 'متفكرش', 'تتفوق', 'لحمزه', 'ch', 'ويحمينا', 'ومايسالش', 'ماشالله', 'مرحبا', 'يريده', 'rourou', 'يتقي', 'يزونا', 'ywafa9ha', 'الpc', 'domaine', 'نتحصل', 'tsi7', 'لفك', 'بالاعداد', '3jebni', 'b9adech', 'بانهيار', 'kife', 'جابولنا', 'لنسمسي', 'معقول', 'kadija', '4500dt', 'الفنانه', 'الريحه', 'imasa5', 'لولي', 'حصيلوا', 'سفاسف', 'ملاعين', 'kderha', 'واتشرف', 'بريفي', '3efcha', 'brens', 'jnab', 'اعراض', 'مسكيييييين', '5adija', 'كساءر', '9olto', 'moumathla', 'اللون', 'والفءات', 'mourou', 'يتفهم', 'تعرفه', 'فالرجل', 'skekenha', 'maw9aa', 'بالمصري', 'سيكرهم', 'دعات', 'bal3out', '9ouia', 'dhaw', 'encore', 'واقحاب', 'responsables', 'جابها', 'rouz', 'rivez', 'kbire', 'm5alino', 'ملايين', 'واشلاء', 'mesures', 'تذكر', 'matsayeeb', 'rodbelek', 'الحل', 'للباجي', 'f7am', 'mawjoudaa', 'تقراء', 'جرده', 'sites', 'jaba', 'ناكره', 'ydawem', 'يتنسي', 'صباب', 'yarhmou', 'masittt', 'بالنفس', 'التصدير', 'ويحفظهم', 'عصر', 'تسخنها', '100000000', 'dyarha', 'far7etkom', 'بدستورنا', 'نطقطقهولها', 'fawzi', 'زبورامكم', 'عالرخص', 'توفرله', 'm3alm', 'tafssir', 'jidane', 'math9el', 'istakfa', 'ahbabna', 'mouselsil', 'pourquoi', '10', 'قررت', 'mat7ali', 'قعدلي', 'امتيازات', 'amssit', 'توجيهات', 'بريطانيا', 'جايبوا', 'paroles', 'ساهديكي', 'الservice', 'مخبر', 'مقصودتبقي', 'borjouliya', 'عالقطاطس', 'وجهين', 't7ebou', 'weldikk', 'lbleed', 'التقنيات', 'mahich', 'yoltif', 'حره', 'اعلمونا', 'medtronics', 'مايسالش', 'da5lo', 'مسءلين', 'ترابحكم', 'مايعنيكمش', 'lasseta', 'chbabe', 'تافها', 'دورها', 'فتوق', 'veste', 'fsad', 'اوجعهم', 'جمعيات', 'اﻻوظاع', 'ماتلقي', 'وضعو', 'seter', 'مصتك', 'باكوات', 'الاضراب', '3lick', 'mlayktek', '1100', 'kal5a', 'هلكتونا', 'تسالني', 'يدافعو', 'chlyk', 'mounachet', 'nchkoun', 'adha', 'rabho', 'ويغني', 'andich', 'تخليك', 'بالاسلام', 'حاير', 'والفتنه', 'الطبيه', 'اغتيال', '3tak', 'autres', 'تسمت', 'yetlaeb', 'nhéb', 'edukat', 'tabarkaallah', 'جيل', 'elfaza', 'm3allemmmmmmmmmmmm', 'جبان', 'السلطات', 'shabeb', 'klamik', 'ويتجاهل', 'يدمروه', 'manquin', 'والخامج', 'تفوووووووه', 'rabbi', 'met', 'mamstuuuuuuu', 'لاعاد', 'عدوي', 'عدي', 'تلامذتك', 'الڤرده', 'يتقبلو', 'وصدقني', 'etffffooooo', 'nechrilak', 'يتنحي', 'حيا', 'توجد', 'vasi', 'mamchitich', 'تفااهه', 'yesterna', 'صنعه', 'تحليلا', 'تحياش', 'n7b', 'hanen', 'حيونات', 'شاءالله', 'ادارتها', 'ryzen', 'ابرمت', 'مشحونه', 'yo9tol', 'jaafour', '9atous', 'wma9al', 'تسميه', 'دم', 'yetarjem', 'ساشي', 'الناقصه', 'تثمرش', 'وماصاب', 'كرهكم', 'بخير', 'وبنت', 'الموقره', 'عموميه', 'جاءحه', 'قدمها', 'عالبشر', 'jet', 'ويهينون', '7odoude', 'ywajhek', 'والمطربات', 'فاشرف', 'جلي', 'تتعلموا', 'yesher', 'حفضه', 'محليه', 'yfathalholek', 'افهمو', 'ma5ayb', 'الاحزان', 'ليسته', 'خليه', 'yesma3ik', 'erkeb', 'التخدير', 'ياقواد', 'صدرك', 'وخوك', 'كشف', 'الكلوشاره', 'كتوفاه', 'عالبلاستيك', 'téfha', 'تجمعي', 'معد', 'المءجر', 'يرحمك', 'li5er', 'المواقف', 'يرشدوك', 'صيانته', 'سايي', 'عايشه', '9aseme', 'ويغفر', '9adha', 'الصغري', 'insen', 'زلت', 'tayyara', 'ناتنا', 'لمستقبلك', 'والتهميش', 'trahdine', 'jazeyr', 's7an', 'wach', 'menhoumm', 'المدي', 'yakalach', 'bay', 'الزيوت', 'ذكري', 'trakeb', 'وشد', 'لقيناش', 'واقرع', '7ajet', 'ونقو', 'cja3rek', 'web', 'ya3raf', 'النشره', 'يومه', 'والحمد', 'سمعتها', 'session', '5oumej', 'b9a', 'غالطين', 'l7ayawen', 'وياسمين', 'nsi7a', 'نصاف', 'ولد', 'boss', 'نجاوبوكم', 'monefi9', 'orabi', 'ted', 'rh', 'الجامعات', 'mtlouba', 'بالسیف', 'امورهم', 'يتعمق', 'العيله', '9183', 'مء', 'وانشاالله', 'واتفه', 'بجيرانها', 'اديب', 'تزيدجو', 'ووفقا', 'الكارت', 'يغطي', '80في', 'العلي', 'الاشاعات', 'والمسلمات', 'ترعش', 'wlhi', 'العربيه', 'مدته', 'بالخطايا', 'بالحجر', 'احل', 'wsakh', 'mentor', 'خبره', 'langage', 'ساس', 'خارجه', 'use', 'mezeèyena', 'gadet', 'wsa7a', 'تافشه', 'يهديكم', 't7azen', 'فارغ', 'kalebbbb', 'imas5a', 'كره', 'تراهم', 'انجازها', 'يقرا', 'mt3jbnich', 'بمخور', 'mo9dad', 'tigani', 'جاء', 'yi7fdha', 'فلوسك', 'ولديهم', 'sne', 'mteek', 'قريبه', 'تتفكرو', 'cabinet', 'nansa7a', 'بصحتو', 'رمز', 'ma3ad', 'بغاء', 'المرزوقي', 'لباس', 'المطار', 'طخانهوقواده', 'مارزن', 'مين', 'تنتج', 'للعاهراه', 'متدني', 'tba3ad', 'نسمه', 'moutour', 'معده', 'ابوك', 'yerkib', 'bhiem', 'والفوله', '574', '5mej', 'itfata9', '3ada', 'رااااااهو', '3assla', 'القطار', '9ilet', 'الحليم', 'باتقان', 'جناءيه', 'ntfarrej', 'مخدرات', 'لجماعه', 'dakhlou', 'na3melo', 'يغير', 'بقله', 'université', 'حسيتها', 'مباركه', 'الغلط', 'italia', 'يحكم', '9lam', 'مبسلو', 'fazet', 'بلقسم', 'tahan', 'hôtel', 'وسيد', 'reb7hom', 'العدوي', 'القمع', 'نقوللها', 'دغيج', 'tho7ek', 'مشاكلها', 'مم', 'للمبعد', 'دربوكه', 'المختصه', 'طول', 'طرف', 'تتخلص', 'يوفقها', 'l4adi', 'لغيرك', 'ويقولو', 'سطل', 'bahom', 'سعيكم', 'ومسلسل', 'مسموح', 'ناسيتها', 'adheka', 'بث', 'تتسمي', 'بسبها', 'الماسنجر', 'يلعنكم', 'moukdi', 'الديون', '9rib', 'fsed', 'براشوك', 'دليل', 'elhodoud', 'عكس', 'الفاحش', 'للاغذيه', 'الكرش', 'طييعتوا', 'شكرا', 'لسفاره', 'ndimt', '8aleb', 'توفت', 'يمكنك', 'وعله', 'تحلو', 'ta3mlou', 'البطمه', 'هالزنديق', 'منشور', 'aghlabia', 'مشكلتك', 'لمقاومه', 'صناديق', 'خليها', 'وكاد', '9hartouna', 'دموع', 'te', 'تعرسي', 'تحي', 'ddr5', 'rajim', 'لمري', 'frrr', 'samsoum', 'بالظلم', 'يعجب', 'wa9i3i', 'يستحقش', 'ahla', 'اخذ', 'المصريين', 'المتحصلين', 'ووليد', 'mrk', 'عسسسسسل', 'mezyeeen', 'nag3ouh', 'يايس', 'عاري', 'سرنا', 'يستدل', 'وريهم', 'cause', 'داوي', 'net3adda', 'memsetha', 'لسلوكه', 'اسعي', 'mertee7', 'inchach3ou', 'الطبيعه', 'والزنا', 'نخبتنا', 'تخصصك', 'العبقريه', 'يااااااا', 'مصران', 'ma3na', 'المهم', 'كورسات', 'jiblek', 'nasmaeha', 'غارينهم', 'النقاب', 'يظهرلي', 'والاجتماعيه', 'باستور', 'يقراش', 'بعمري', 'لحنه', 'للجنه', 'حاسد', 'inchaallah', 'tkaml', 'بزياده', 'الاسواد', 'الاطارات', 'وضاعت', 'raw3avw', 'jemda', 'والتاس', 'منطق', 'mawthou3', 'توالي', 'علبه', 'يمزبلك', 'مرتك', 'مشحوط', 'ddm', 'وياكلو', 'متميز', 'jaybin', 'يستحي', 'fssééd', '3youuuuuuuniiii', 'lelhissa', 'peu', 'سلوك', 'غرار', 'tmadhi', 'طجين', 'allahou', 'اخياتي', 'الاحترافيه', 'يجاوبوك', 'yetna7a', 'الاخلاق', 'يكرو', 'التلميذ', 'mte3', 'ممسط', 'بكاتني', 'نقبض', 'ماستا', '3ichha', 'حاذق', 'a3tini', 'yfadhalha', 'yahdi', 'nchallaa', 'مهضمتوش', 'مانجم', 'aaycha', 'فسدو', 'عههههه', 'jew', 'المنحط', 'corona', 'حیوان', 'فهمو', 'متسيبش', 'تمشيش', 'ومرتين', 'mamste', 'تلميذ', 'التمويل', 'sava', 'تازم', 'للنقاش', 'لمثل', 'نقهوجو', 'e7liltek', 'يعوظك', 'tasta9iila', '5amsa', 'rhout', 'damo', 'التقبل', 'bilaad', 'والمتبني', 'ubersuggest', 'faza', 'مرمد', 'warithom', '5ayeeeeb', 'سبل', 'ميبون', 'يعاونوه', 'الفاشيه', 'klleeeeeb', 'باجه', 'هنديه', 'غدوه', 'بطحان', 'جايبلنا', 'مس', 'نجيبوا', 'وتافهه', 'ekhdem', 'امييييييييييييييين', 'nla97ou', 'المحاسبه', 'الحصص', 'بالكلمه', 'لتبث', 'والاستبداد', 'bidoun', 'شهاريهم', 'بالارهاب', 'yè', 'ﺍﻟﻄﺤﺎﻧﺔ', 'اللتالي', 'harajel', 'بطلوا', 'frer', 'لرعايه', 'لاوراق', 'مهتم', 'cha9noussa', 'ظال', 'tkoun', 'hichem', 'افلم', 'نوفمبري', 'la7kaya', 'يضربو', 'سادسه', 'chalik', 'tajam', 'وبري', 'الكاباس', 'تافهتكم', 'skeken', 'طلبت', 'التيار', 'تصتر', 'ja3fer', 'تعجبه', 'yebdew', 'تهجروهمش', 'بلاصتو', 'يبدلو', 'مسرحيات', 'iy', 'انثليزيه', 'يفكرو', 'العيد', 'الاهوال', 'ikbes', 'عامره', 'رءيه', 'review', 'allmofsidin', 'mathweh', 'كتب', 'yabda', 'echa5sia', 'e5i', 'اغلط', 'mayti7', 'b3dhkom', 'ممصتو', '9aris', 'مستقبلا', 'pause', 'mas5ra', 'محبه', 'خاصه', 'محلك', 'chams', 'رديتوه', 'زهير', 'yedamerna', 'لتربحكم', 'وهادءا', 'a5le9', '3ali5iiir', 'الsecurity', '3afat', 'اخبار', 'صححت', 'tasma3', 'lmkach5ine', 'يمتلك', 'العفن', 'نعرفو', 'رابور', 'الايام', 'قدير', 'العقوبات', 'chawket', 'yba9i', 'البلدان', 'الحياه', 'mhabla', 'مستقل', 'باعو', 'مرضت', 'والقياده', '9olilhom', 'مختص', 'ارفعها', 'iji', 'للتنازل', 'حرفاءها', 'kichad', 'used', 'عصب', 'hej', 'بهشام', 'lui', 'تدفعو', '2016', 'انتظار', 'يتمقعر', 'الموقع', 'mridh', 'mnaika', 'عععععععللللليييييك', 'قولوا', 'حارزات', 'mkhybou', 'متحكي', 'التحصيل', 'nmouuuut', 'bkit', 'واقعدو', 'اعمالها', 'le9hawi', 'بزاف', 'تدور', 'tce', 'la3ra', 'رابارات', 'bidou', 'ينعلبو', 'lakhra', 'wefeyet', 'تاخو', 'mleyiktek', 'bsarraha', 'nlawj', 'parfait', 'حقوق', 'الفاك', 'وقبيحه', 'الراهن', 'دخت', 'odzdom', 'طردوه', 'سمعت', 'meet', 'theleth', 'لدريسه', 'وبمثابه', 'امزنك', 'عاللي', 'haa', 'dho7ik', 'b3ed', 'تشعر', 'وبقداش', 'لرواح', 'نحطها', 'لحياتك', 'توجهها', 'ابدان', 'شهادات', 'نحضرولكم', 'tharra7touh', 'fooooooooolllllll', 'rasseha', 'whdék', 'تبت', 'هالبڤره', 'مساهمه', 'محقهمش', 'العرم', 'تعليقات', 'خزوق', 'twensa', 'فاما', 'جاهله', 'pages', 'masr', 'تشدوهم', 'fatra', 'الاجراءات', 'fi9', 'الممثلات', 'maya3rfch', 'rozen', 'menhoum', 'réaction', 'esaha', 'والصلاه', 'wna3', 'disponibles', 'بلسانها', 'فاسده', 'هالعافنه', 'حانوته', 'توصللها', 'chbeha', 'may9ed', 'ro5s', 'يعرضك', 'خرافه', 'aaaa', 'chiba', 'خمم', 'klebb', 'sadakni', 'الزويز', 'dkom', 'lotfi', 'تلامذه', 'مبتذله', 'l3alem', 'masssssssttttttttttttttttttaaaaaaaaaaa', 'wa5le9ou', 'صواب', 'لعاقبه', '9e3ad', 'ماخذين', 'tardouh', 'وهرب', 'جنسيه', 'etayaran', 'لايمثل', 'kyn', 'حطيتش', 'bio', '9iiiiiiis', 'بطلت', 'berrassmii', 'الطجين', 'هوروزمون', 'الجامع', 'خليقت', 'بوهم', 'تخذو', 'يسيب', 'عملو', 'snin', 'kwi', 'مراسيم', 'بالبكاء', 'bil3aks', 'المنهوبه', 'لقاح', 'wa3jen', 'zbelt', 'وقحيبه', 'ndp', 'تاعبه', 'esmik', 'الكات', 'الرذاءل', 'ye5ou', 'فص', 'تقوللهم', 'مجودره', 'irrjal', 'rapide', 'ناداو', 'itawel', 'byh', 'حليلكم', 'mowaf9a', 'تفهاااا', 'ساره', 'ma3brouk', 'kaloulek', '7a9ha', 'mrifh', 'wmebldou', 'تعيشي', 'استاذ', 'وسبوا', 'ماقدمت', 'وصريح', 'ta5taflek', 'وبالعكس', 'amiin', 'الصح', 'واتف', 'siasi', 'metet', 'bourses', 'لاتباركلكم', 'وبالتوفيق', 'paparazzi', 'الشقراني', 'لقطاء', 'حطيتهم', 'الهوجه', 'وعل', 'التونسيات', 'paramédical', 'درويش', 'بالفاجعه', 'جبل', 'نعشق', 'فطارين', 'عاللخر', 'يحفظنا', 'للخالق', 'معزو', 'باخلاق', 'essa77a', 'nsidkom', 'hakim', 'يعيش', 'يتحفونا', 'مسخين', 'نعدو', 'akahou', 'طيبه', 'ﻻجء', 'ghneya', 'التواصل', 'مهمي', 'لكننا', 'yetfarrej', 'بروو', 'متحشمه', 'amloulou', 'الغافلون', 'تتبعات', 'la79i9a', 'l5ou', 'ba5idh', 'تهزو', 'ناكلهاش', 'الصناعيين', 'حاشه', 'اطلبو', 'اختبار', 'استدعاء', 'bnett', 'يدفع', 'لطحان', 'اﻷخلاقي', 'مورصو', 'تمتعنا', 'bidhabit', 'doctoura', 'تمثلي', 'show', '3a9el', 'الخميس', 'مغلق', 'سبحانه', 'حكايتهم', 'الحان', 'm3akkk', 'برعايته', 'tnajjm', 'حذا', 'مرض', 'ياما', 'tndm', 'سكاكن', 'fhemtak', '5ala', 'المسلمين', 'louzir', '7yeti', 'رسمي', 'يتكلمو', 'تعالي', 'بولبيار', 'يلطبنا', 'nhbha', 'اللب', '3ajbaaaatni', 'تييييييي', 'اسوء', 'thotou', 'tikhdmou', 'الباءس', 'astaghfirou', 'ومادامك', 'leblasa', 'مضي', 'افففف', 'tfouuuuuuuuuuuuuuuuuuuuuuh', 'maykhademch', 'dega3di', 'الاسود', 'افكارها', 'anshouni', 'بالفاظها', 'awlede', 'سلط', '5alih', 'kir', 'مقال', 'يجو', 'lmaleyiiin', 'منشره', 'm3allim', 'تريد', 'mthay3a', 'meyjibouch', 'استخيري', 'tal3ib', 'القومي', 'تتصبلك', 'l3bdili', 'لمشاكل', 'trouver', '9assi', 'طحيييين', 'والليله', 'ظارب', 'الدماله', 'حرمه', 'wlade', 'm9awedddd', 'صارتلي', 'الڨران', 'latrab7ek', 'sabri', 'الشاعر', 'الصفر', 'تنبيه', 'jomhour', 'يباركك', 'دبيبيزه', 'fen', 'stadet', 'mt3k', 'رقيب', 'ههههههههههه', 'tfwh', 'جايه', 'etfuh', 'عوت', 'شراكه', 'دخلوها', 'دايمه', 'طفي', 'النقدي', 'اكاكا', 'والشعوب', 'شعبو', 'اخيييييت', 'يشاهدون', 'لعزيزه', 'قلقني', 'المعيشه', 'msata', 'ghorba', 'mest7a9thom', 'نفهمو', 'kifech', 'a7fadh', '3ar', 'واتوري', 'بنادري', 'chib', 'tkhtar', 'naaml', 'yokhrej', 'tbiba', 'الحقيقيه', 'nshalah', 'عرءسه', 'للنخاع', 'telephone', 'bladk', 'بورجوليه', 'والعشاء', 'nitfarjou', 'النجاح', 'الرساله', 'kamlu', 'تكليف', 'ya9rhom', 'ناقص', 'wallo', 'هجه', 'حكمه', 'الشكل', 'بحت', 'ميتحقرش', '5adouj', 'روسهم', 'نخرج', 'محمدي', '8alta', 'البعد', 'رباك', 'منافقين', 'la5bar', 'القحب', 'بارده', 'منظومه', 'عالفريقي', 'keloua', 'jee', 'wijha', 'tbibek', 'manajmch', 'تكب', 'amma', 'jlassi', 'وناكدلك', 'ديتاي', 'للماناج', 'lpromo', 'ina3bouuu', 'متستاهلش', 'تفعل', 'يحغظ', 'room', 'خوه', 'راينا', 'اصلك', 'منير', 'bref', 'نقمه', 'raa', 'بردلنا', 'propositions', 'شريكا', 'ntab3ou', 'يتبن', 'pure', 'نرجعو', 'والمراه', 'الخمج', 'كانون', 'نفرحو', 'تتفكر', 'انساني', 'ouslou', 'جايبك', 'tsou9', 'امتداد', 'العظيم', 'ysalem', 'لخنفوس', 'chad', 'يعاوني', 'النقل', 'اذكا', 'امشيلو', 'ya3mali', 'رهوط', 'يستغرب', 'al9afila', 'hy', 'wghneyetha', 'كفاه', 'sont', 'nraja3lek', 'بالتنفيل', 'نهايه', 'tetsama', 'rou7ek', 'فالقاع', 'ahelhem', 'tlabtou', 'chalket', 'tjini', 'ghleb', '7ajaa', 'السيد', 'talga', 'njem', 'وفاشل', 'wi', 'متحيل', 'kull', 'غابه', 'redmi', 'هشه', 'عيب', 'فكر', 'اصدقاء', 'tounssiya', 'قراراتها', 'ومتع', 'منضرك', 'chnia', 'لاحولا', 'ثراه', 'طرد', 'fehri1', 'والصومال', 'حلول', 'العالميين', 'yeserrr', 'm3adhebhoum', 'makyebha', 'نلوجو', 'تحبلها', 'نهير', '3mara', 'وضحكتها', 'كمنجاتي', 'خفافيش', 'البلطاجيه', 'لاصدار', 'تحسبو', '3atalifoun', 'المشاريع', 'wa9t', 'maset', 'لنسق', 'سافر', '9atelhom', 'yfarrej', 'arabe', 'ba3d', 'الاكاديمي', 'قالتش', 'وتبردلنا', 'شخصا', 'maynjmouch', 'mou2nnith', 'يتعدي', 'اهي', 'تنقص', 'سلومتي', 't3ebna', 'المعروفه', 'bcarte', 'lwabna', 'بالنجوم', 'تاني', 'الكامل', 'يتكلم', 'هالعبقري', 'sponsorisé', 'liga3da', 'tjewzet', 'choses', 'الفطر', 'njibou', 'مقاربات', 'تسقط', 'مغادرتهم', 'مرضنا', 'الحمامي', 'مرهقه', 'jeu', 'تقرا', 'te7chem', 'kllm', 'الخلايق', 'النهظه', 'ماسته', 'يحفلها', 'مستميتين', 'nchri', 'حساباتهم', 'سترت', 'تتميز', 'والبقيه', 'barnemj', 'الليل', '7yeh', 'nbyy3ou', 'bilislem', '2017', 'تءدي', 'leeeeee', 'تم', 'للسلعه', 'yafdlhlek', 'كافون', 'يتلهاو', 'felil', 'yebda', 'مسيبين', 'القازوزه', 'حركه', 'دراسه', 'ولزبيانه', 'زدت', 'cake', 'wild', 'يموت', 'مثماش', 'youja3', 'اعتصام', 'اللينكدين', 'hathom', 'قعدتو', 'تفهات', 'الاغتصاب', 'تصفو', 'ودمهم', 'نزيدك', 'lemlahet', 'الذكور', 'tfoooouuuh', 'الدايم', 'ommek', 'عايﻻت', 'fancy', 'libled', 'صديقي', 'ma5eybekkkkkkkk', 'internet', 'ماذابيك', 'امثالها', 'القاسمي', '9arya', 'اهانه', 'جوادوا', 'ويحفضك', '7lilto', 'تغني', 'يحفظهوم', 'brother', 'ya3tikk', 'brinss', 'كافي', 'دق', 'قيمتها', 'jazayria', 'wahra', 'بالوراثه', 'رءيس', 'ربور', 'يبراو', 'الاسف', 'المستعان', 'بطرف', 'حمايه', 'اشارات', 'pharmaceutiques', 'والداهيه', 'فاستحقت', 'lbledna', 'n3awnouh', 'yeserr', 'يراها', 'اازوز', 'كريت', 'momken', 'kedhbet', 'فسرتلكم', 'غاطس', 'ekmaj', 'والسلام', 'تيس', 'الpromo', 'السكر', 'الملحد', 'wiharem', 'سترتي', 'ساكنا', 'سكرتو', '7nina', 'naselkou', 'n7ebk', 'y5admha', 'والزاني', 'تتبادلو', 'wertrni', 'يرفضوا', 'aandich', '3andhéch', 'المكان', 'قابسيه', 'مركزه', 'صفحات', 'بالاجر', 'تجربوش', 'والطلبه', 'سمحت', 'much', 'اتحداكم', 'masseeeeeeeet', 'غوغل', 'يخممو', 'صافي', 'sil3a', '9ar4', 'شديتو', 'الرزانه', 'tbarkalla', 'هالجاهل', 'torbya', 'تعطيل', 'الحيوي', 'مقدمه', 'نقاءص', 'khawetkom', 'امخاخ', 'الورد', 'مستواكم', 'الفرنسي', 'وسرق', 'شذاذ', 'قعره', 'khoya', 'المقياس', 'zawwali', 'tendem', 'خوذ', 'محترم', 'نا', 'يولو', 'لتشخيص', 'شربه', 'moslesl', 'ياقو', 'اللقب', 'يظهرش', 'رهدن', 'ستاتو', 'وتزيد', 'اتفو', 'للقلب', 'التضامن', 'jaridét', 'عقلي', 'y5alih', 'الغيره', 'لحوار', 'كلام', 'yettarjem', 'very', 'mabesslouuu', 'التمارين', 'tfouuuuuuuuh', 'mamans', 'ونجح', 'تمرمدهم', 'ازين', 'entihazi', 'ma4ir', 'للحاقدين', 'بيعو', 'مباشر', 'مبدع', 'dhalika', 'الكياس', 'ennahdha', 'دخلت', 'الوحيده', 'choftou', 'l7am', 'خمول', 'يطلعو', 'mafehimtich', 'باولادك', 'اعطيونا', 'اساتذه', 'تمثلني', 't9awem', 'اعيط', 'مڨلبه', 'libya', 'شارع', 'فرحتك', '1646', 'الخارج', 'تتهني', 'تركيا', 'تسخير', 'يشجع', '7loua', 'jét', 'غناياتك', 'ووسخه', 'بحقوقهم', 'تتفلسفش', 'ورجال', 'عملتوه', 'واكون', 'mermez', 'اتفرجوا', 'شهايد', 'التعلقات', 'اقترحوها', 'documentaires', 'المدني', 'يخدموكم', 'mnayka', 'ba3ed', 'مزود', 'yetl3ou', 'الارياف', 'حياتهم', 'عفه', 'بجد', '9a3ed', 'ثلاثه', 'اللواط', 'tjareb', 'الاساسيه', 'العلامه', 'tohfa', 'i9oli', 'behye', 'غر', 'مافيهمش', '35', 'تضرب', 'émission', 'ابراهيم', 'الصبايحيه', 'wkalm', 'كاتمه', 'الصينيه', 'وفكره', 'غرام', 'تصنيعه', 'يعرف', 'جهلك', 'ejdod', 'wilayt', 'na3rach', 'matjiiiich', 'الرشوه', 'rak0', 'فسدت', 'wfthay7', 'روسنا', 'بالنوم', 'زادونا', 'hard', 'aaa', 'يرد', 'te5thouch', 'محلاك', 'اعطاوش', 'mant9', 'nour', 'mita', 'espèce', 'طلعلي', 'البرمجه', 'يشوفك', 'bezaf', 'faye9', 'ya5las', 'ضنوه', 'nahdhawi', 'farah', 'مهمشه', 'بالتحاليل', 'الاعوام', 'تفتخر', 'تشبثنا', 'ازعج', 'الماسك', 'mehani', 'باك', 'bravi', 'yy', 'قاز', 'الفصاله', 'fetalfza', 'hadheya', 'hedheye', 'song', 'متوب', '3070', 'tounnes', 'وساذج', 'اشد', 'echkii', 'mosta9blek', 'فالclasse', 'عاءلات', 'wled', 'وقواد', 'سفيان', 'انتشارو', 'tanssahni', 'zahiiii', 'دكتاتوريين', 'nchl', 'السكوت', 'la7ass', 'تنڤزها', 'jauge', 'يوقفو', 'الكسكسي', 'tab9a', 'التكوين', 'جعنا', 'fort', 'n7bha', 'تشويه', 'an', 'dhneeha', 'te9blou', 'qui', 'wo5tak', 'l3asoula', 'كهنه', 'تتاقلم', 'go3r', 'السماخ', 'للمرضي', 'مالشعب', 'خرجو', '5alehe', 'wlomk', 'etfooooh', 'واتشوفو', 'ekleouna', 'والكات', 'وماشاءالله', 'الرءاسه', 'حطوه', 'البضاءع', 'المراءه', 'يقتنع', 'na7iwhhh', 'تبعد', 'lou7', 'وميولاتها', 'للنصح', 'اتجاه', 'typemat', 'dhohktouu', 'liblaid', '150', 'mochkla', 'na7ki', 'ممصطوا', 'يعتذر', 'الاقتصاديه', 'مخيبو', 'maou', '3ossben', 'كلكلاسط', 'ghadretha', 'صيد', 'bèhi', 'يحبس', 'التجاوزات', 'الصغير', 'عماد', 'matjawezthach', 'نتخاطر', 'medecine', 'تجيبوهم', 'التونس', 'الذهاب', 'mnayekk', 'وقوي', 'مضروبه', 'fenn', 'هرب', 'نمنعو', 'واطيه', 'حماده', 'kalimet', 'والاعتذار', 'اسلام', 'اخطاء', 'رايعه', 'حجاب', 'amman', 'a5lt', 'ويساهمون', 'احياء', 'chambre', 'تقارن', 'manoch3or', 'المعمعه', 'ﻳﺎ', 'الصين', 'الطرد', 'لحيا', 'dini', '3aala', 'mounasbett', 'bouk', 'lhala', '3eme', 'motrabi', 'hal9anet', 'tkamel', 'حمولك', 'الحبس', 'mte3haaa', 'الزناء', 'للمرا', 'ydinlak', 'ورخيص', 'ناري', 'الرحمات', 'الفكريه', 'ارحمه', 'ماحبش', 'maalem', '3ndou', 'sehel', 'i5dim', 'sel', 'yasmina', 'العسل', 'لعماري', 'يتحالف', 'mounef9ine', 'بعابص', 'omrou', 'matjik', 'enhla', 'ندمر', 'بذمتهم', 'واك', 'تحبشنوا', 'ses', 'الاناقه', 'يرحموا', 'اهله', 'خدمو', 'الالم', '3melli', 'am', 'قارص', 'dawr', 'ارتحنا', 'عاللواط', 'قفله', 'matnajemch', 'يحوم', 'الاعتبار', 'لشغل', 'nibi', 'تضمن', 'تشرفناش', 'يتحملو', 'wnesi', 'ab9a', 'tchrii', 'عاجبتها', 'خونه', 'nabara', 'الطرف', 'stouch', 'bsal', 'هلاش', 'استشير', 'للابله', 'فالفلاحه', 'تحتاج', 'ضعيف', 'تعملها', 'المذله', 'خاطروا', 'puissante', 'tahh', 'ساهله', 'نفسها', 'يمشيو', 'oki', 'ملييييح', 'بانها', 'maaaassett', 'لتثبت', 'alf', 'لحمايه', 'لوزاره', 'عبده', 'لمعلم', 'قطر', 'ليييييك', 'لفظيل', 'فاي', 'kanch', 'مسيو', 'mlayaktek', 'maaaaasta', 'شواذ', 'mezel', 'نلقاو', 'يقود', 'ويرسلون', 'zebltek', 'inch', 'يحيكم', '3omrk', 'الزاءفون', 'جاتني', 'بلعتوا', '7al9et', 'الانفاق', 'khamej', '9at3a', 'متمثلش', 'شراب', 'الالام', 'halmasit', 'wfel', 'الحيوانات', 'شيبه', 'féirgh', 'sahhh', 'تواريخ', 'snine', 'وشكر', 'ففعل', 'افخم', 'bh', 'وفايقه', 'yaamlou', 'مواقع', 'للثانوي', 'غرامك', 'ماستر', 'ye7ebeha', '9aredh', 'وقله', 'يستحفض', 'graphique', 'wedhar', 'ورجل', 'بيانو', 'لقيت', 'الشعري', '7ob', 'yee39eeddd', 'القوانين', '9ouiya', 'يصوت', 'hadouma', 'شسمها', 'شعب', 'محرقتولي', 'والعاهرو', 'شهرتو', 'wrod', 'متصابيه', 'افضل', 'wsali', 'اعراضه', 'youtube', 'شاله', 'maye3jebnich', 'ايوقف', 'formidable', 'ندلك', 'mohsen', 'cho3ba', 'يسعد', 'php', 'السويسي', 'تخليله', 'es7i7', 'thebou', 'مڨحفين', 'yabra', 'lmathaliya', 'ميب', 'الخراب', 'وتحكيو', 'للبيع', 'مصور', 'تستخدم', 'طز', 'badroch', 'ولطيف', 'mamsetek', 'تشخر', 'iwarrouk', 'massta', 'يزلزل', 'المسوطيه', 'تتعداها', 'ويفرغ', 'كرهت', 'يخليكم', 'tera7a', 'يتميزو', 'stana', 'وتهميش', 'خلوا', 'نساندك', 'tari9a', 'نجمت', 'wmed', 'abonne', 'adwaaar', 'techry', 'جيراننا', 'تكثيف', 'فصايح', 'yetraba', 'etwensa', 'الفرنكوماسوني', 'saratann', 'l', 'lelatek', 'الاعلام', 'شتمشي', 'المخلفات', 'قداااه', 'فكره', 'الملا', 'bizerte', 'الlycée', 'this', 'فوله', 'تفكر', 'الرخص', 'zidohom', 'صبي', 'مطلوب', 'estiska', 'msalmin', 'وطحين', 'yekki', 'هذيا', 'الهشه', 'ynajem', 'hadedili', 'معجبكش', 'mzlt', 'enaaa', 'طريقك', 'تراتمون', 't7eb', 'lezimha', 'a3tihom', 'شيب', 'نطلبوا', 'khmissa', 'etofla', 'تقتلت', '3aaaaaaaaaaaaaaaaaaaaaaaaar', 'habbet', 'ينعاد', 'like', 'foursa', 'arte7ou', 't3aweni', 'لحلح', 'ذريه', 'mnhom', 'يقريك', 'eda3ara', 'تفويض', 'thakafa', 'نحبوها', 'الوقوع', 'بيدها', 'محترفه', 'gura', 'فانك', 'w9t', 'نتاءجها', 'تفرض', 'الجميله', 'واجبه', 'امسخين', 'testehel', 'rasoul', 'الراس', 'logo', 'شهيدا', 'مغرور', 'comptes', 'محرومه', 'فالمجتمع', 'ywaf9ek', 'ejraet', 'وتتلها', 'sirtout', 'متشرف', '9dech', 'ماصط', 'melli', 'ma7leha', 'kilma', 'yam3alimm', 'تفوووووووو', 'يكسرلي', 'i3ahir', '3ème', 'jam3eyet', 'اقراوهم', 'oltef', 'موفيده', 'bahia', 'الحجره', '9isas', 'nabda', 'متاثرا', 'om', '5alliha', '3malti', 'الحنين', 'bekry', 'للحصر', 'فرنك', 'تترباوش', 'يقدم', 'اسفل', 'لعود', 'mahlahoum', 'events', 'ma7lola', 'غاليه', 'بيض', 'العلاج', 'ta7en', 'نقبلو', 'بهذلو', 'emte3k', 'الجدي', 'جله', 'الطحين', 'ويرزقك', 'قبح', 'انان', 'ch3ouurat', 'جينيرال', 'اعلاه', 'akid', 'nabbara', 'تسليم', 'وكانه', 'بالموزيكا', 'tafha', 'us', 'السعيد', 'برب', 'yablida', 'تخروالوا', 'b3adhhom', 'هز', 'تغزو', 'la7dithe', 'tfiiiiiiih', 'it7in', 'الهلاوس', 'tfakrou', 'تنطبق', 'كالعاده', 'يعرفش', 'الحاشيه', 'no', 'enra', 'techedha', 'المرتاح', 'شرط', 'mahlehhh', 'الزنا', '5itttttttttttttttttttttttt', 'انقاذها', 'مفعمه', 'man3oula', 'وطهر', 'قولو', 'chéque', 'الممثل', 'الفاسقين', 'تفقدي', 'الشلاله', 'w3lihm', 'نجلاء', 'دبر', 'القسم', 'حموم', 'نفرحش', 'بموازنتها', 'yazziiiii', 'te7eb', 'ماسقطتكم', 'كملت', 'الستاغ', 'اضطهاد', 'nchlh', 'ماتقراش', 'سماهم', 'تخليهم', 'ايسونس', '9arth', 'ya3tiha', 'صينيه', 'ru7haa', 'ضاربها', 'بطبيعتك', 'لقاها', 'مسءوله', 'يغرف', 'الانثي', 'يستبدلها', 'الفهيم', 'يغسل', 'تخيبوا', 'lem3alem', 'الاجره', 'اسبركم', 'صبايحيه', 'yab3thou', 'تمتيعكم', 'معارف', 'chai5', 'ka3btne', 'lbagra', 'كومند', 'trop', 'ومااااااسط', 'جهادي', 'البطحاء', 'تخريبيه', 'de7ak', 'عبدلله', 'شعلتوها', 'naoufel', 'الترانني', 'لدمار', 'المانيا', 'wsifna', 'ومنحط', 'تترباو', 'اولادمفيده', 'الطلبه', 'nchrou', 'nakrih', 'politique', 'تتوجع', 'العلمين', 'ويعرفك', 'تعترض', 'اوجدت', 'ليلی', 'ifathalkom', 'hasanet', 'counter', 'اوول', '66', 'omen', 'وتكرس', 'الكريشي', 'سقوط', 'تحط', 'مستجدات', 'prothèse', 'ساقيك', 'نتفرجش', 'ونمقط', 'صحه', 'نصارحك', 'yarja3', 'wyyn', '3daw', 'oehed', '499', 'يواجهوا', 'd', 'tokthor', 'بالوقود', 'لقيتها', 'ma5ir', 'الثوم', 'wa7ed', 'haad', 'خدملها', 'ttfarj', 'chismikb', 'ندم', 'وحيد', 'mhabetna', 'بيهوم', 'ouled', 'yousr', 'الاختلاف', 'laajili', 'yehdikom', '7000', 'ماتنجموش', 'lahné', 'massit', 'وتوصيل', 'labés', 'ظهرتلهم', '9awad', 'سليل', 'y3wdhk', 'يشفيها', 'lemkalba', 'وينقصو', 'الشغل', 'المتعاقبه', 'تقراهم', 'mazzout', 'rabi', 'شيشاني', 'yhbel', 'i7', 'ءادم', 'abdlahmid', 'تنبت', 'موطني', 'حطت', 'هنيءا', 'bihem', 'بلونجونات', 'لمجال', 'حتء', 'القرايه', 'يلزم', 'الضمير', 'beehi', 'جاد', 'تملكها', '9albou', 'لدنيا', 'عويدك', 'رجعيه', 'مشاتش', '9a3dou', 'كلاب', 'يهز', '3melt', 'zide', 'ichalah', 'الزيت', 'mouhami', 'wborjoliya', 'مخرجها', 'ja3far', 'وماسط', 'nes', 'nadh7kou', 'يلعمبوكم', 'tawfik', 'تتخصص', 'الفساد', 'الشبه', 'روحا', 'كامله', 'intégré', 'الجوف', 'هارون', 'اسمه', 'ابتعدوا', 'baiid', 'mat7ebouch', 'الاجازه', 'لحم', 'يهنيكم', 'رواتبهم', 'استبداد', 'la3chiya', 'مايحدث', 'صحتك', 'السم', 'exchage', 'يشملش', 'حط', '8afiloun', 'عجبتنيش', 'رياء', 'jalele', 'email', 'برواحنا', 'البلاتوات', 'ferrari', 'technologique', '5aterhom', 'سود', 'te7lemch', 'نضفو', 'استعن', 'majless', 'الهادي', 'والصحيح', 'الانعاش', 'tlawej', 'alwen', 'rwarik', 'م', '7ié', 'اختاه', 'mousilsil', 'تصويرتو', 'تصريح', 'هذومه', 'na3lbouh', 'eras', 'zibbi', 'التی', 'bl5ir', 'زي', 'قريتو', 'المعرسين', 'لامنطق', 'تمنيك', 'monadhlaaa', 'والنساء', 'القناع', 'wallh', 'قلك', 'اتفرجت', 'شريفه', 'والسياسيين', 'nchoufou', 'hedhum', '5rouj', 'mizyena', 'ملف', 'martyn', 'etbdil', 'baadin', 'خلقك', 'نسوبه', 'فاءز', 'bileh', 'tfhem', 'عمرو', 'لمنازلهم', 'تصرفات', '2014', 'ممجدا', 'ربك', 'na9ef', 'مستحييييل', 'dherya', 'النافع', 'موته', 'domaines', 'دفاعك', 'لرببي', 'بهلوله', 'فالسماء', 'te9ef', 'السياسي', 'المحافظهوانتي', 'يخاف', 'lawi7', 'تفرغها', 'مطموسه', 'وتعويد', 'ba5tha', 'التمكين', 'khawetna', 'الpcr', 'mes5se5tou', 'كوميديه', 'rjel', 'تهيا', 'حاربش', 'العماني', 'ma3indhom', 'tebda', 'الفتان', 'badir', 'free', 'nesel', 'amende', 'fsala', 'حلمك', 'wimchou', 'نرجعلك', 'ستدفعها', 'عفاط', 'ma7lou', 'المندره', 'nej7', 'يوقف', 'tout', 'امون', 'العايله', 'جبيتها', 'العفيفات', 'رءيسه', 'نسيتني', 'المتوسط', 'وسطيه', 'urgente', 'yjiboulna', 'تهدف', 'période', 'استرجاع', 'الانتداب', 'عالمريض', 'denia', 'framework', 'chi55', 'الربايه', 'عصها', 'sali', 'الملهط', 'لطيف', '5iiir', 'محلاهاا', 'عماتهم', 'محترمه', 'kh', 'صام', 'ومعطله', 'me8ir', '5atrou', 'people', 'تحبسك', 'اقد', '3jibni', 'يبول', 'بوجود', 'habtet', 'tho7k', 'فضايح', 'مخزون', 'academy', 'زاءفه', 'tal3at', 'فانا', 'nekerhou', 'yahmina', 'يفضلهالك', 'نتصاور', 'عالماركه', 'باها', 'ma3lam', 'وارداتها', 'ﻭﺍﻟﻠﻪ', 'e9smou', 'سيب', 'صوتو', 'college', 'moun7at', 'lmèyt', 'الجمعيه', 'matahbet', 'اعطاك', 'اعليه', 'code', 'johhell', 'ومخيب', 'tha3lab', 'cha5siya', 'tnajmch', 'chtarhoum', 'ma3adech', 'mas5', 'غالطه', 'w3inik', 'والان', 'tobrez', 'للمربي', 'صهيوني', 'خخخ', 'dobbaaaa', 'janbeha', 'نورتونا', 'بعزاه', 'كانوا', 'وولي', 'dostour', 'سنويا', 'droussek', 'تعرفون', 'ظهرت', 'تعيش', '3amlo', 'براءحه', 'candidats', 'e3lam', 'للثقافه', 'يعامل', 'blassetha', 'tahhana', 'وتربح', 'الباهي', 'yjibleke', 'concept', 'nitro', 'ﻻسط', '3irs', 'مخوا', 'osdoom', 'لبكاء', 'tfoooooooooooooooooh', 'flexible', 'سعدها', 'والاهليه', 'يدلك', 'يبداش', 'خليتهالك', 'elnes', 'الشريفه', 'tfadded', 'rim', 'جيهتك', 'pfffffffffffff', 'ya3rfouch', '7aiawen', 'اضافيه', 'n7ebouk', 'قلبوها', 'بلادك', 'كلاتوس', 'تحسيب', 'halat', 'waldia', 'maséééééééééééééééttttttttt', 'لاجل', 'البلهاء', 'ماخير', 'fesed', 'filastin', 'ibadel', 'الhard', 'ouadi', 'نكبتنا', 'janna', 'amd', 'الخدمه', '7aj', 'الاعضاء', 'احضان', 'تمشي', 'sa3et', 'لتداين', '00', 's2tou', 'لاول', 'بعضك', 'فن', 'rja3tou', 'هب', 'programming', 'سير', 'واحده', 'الدول', 'الخبز', 'وهرا', 'mamsettttouuuuuuuu', 'سقيطه', 'والوهابيه', 'حصر', 'بزوز', 'يااااسر', 'تكشف', 'بالبيكيني', 'تكركيره', 'tnajmou', 'sport', 'twassel', 'تسليما', 'sahritek', 'mabladkom', 'perfectionnement', 'akkeka', 'marznou', 'ta3rathni', 'ken', 'اعليها', 'وثما', 'اذن', 'leb3adhhom', 'صحيه', 'وبالتالي', 'dhaherli', 'ejjeba', 'ekely', 'القواعد', 'yizi', 'العبدلي', 'بلعاني', 'tayer', 'سيدتي', 'سمعتو', 'newegg', 'ايسون', 'السقف', 'garde', 'باراسكولار', 'بتزيدو', 'ويشفيك', 'نصف', 'اقتصاديا', 'gaya', 'lele5er', 'morda', 'bel7ak', 'kerim', 'وماتكبرتش', 'التوصيل', 'yetl3ach', 'نسجل', 'يعن', 'dohek', 'نفسيا', 'احساس', 'mawjoud', '5555555', 'بالتالفون', 'يمشييو', 'المجالس', 'تقلبت', 'elfateh', 'سعر', 'ونزرو', '34', 'elf', '3abd', 'ديالي', 'خمار', 'نغني', 'الثانيه', 'ya7mih', 'melhazen', 'والشعب', 'musique', 'ضيوف', 'ملقينا', 'الشهداء', 'welli', 'm3ek', 'جرد', 'رخييييييييس', 'هالطحان', 'ta3mlouh', 'وتخدم', 'تمارسين', '7bouset', 'halethom', 'namot', 'يحترمش', 'وفضلك', 'bmechekel', 'فالرجال', 'امخاخهم', 'نسمعوا', 'عالفايسبوك', 'jili', 'محتواه', 'ykoun', 'يسترنا', 'yeziiiii', 'تونسي', 'idk', 'وسمت', 'ychouf', 'نبيعهم', 'تتحسب', 'mosta9bel', 'والفاسقات', 'صفحته', 'سبيلا', 'billehi', 'elklém', 'عنصر', 'اعلامكم', 'المطمءنه', 'جمل', 'zebi', 'faha', 'ett', 'جنرال', 'o5tha', 'تراه', 'adoré', 'lahkika', '3ad', 'والمقيمين', 'bkiiraa', 'تنظيرو', '5arja', 'مصدري', 'kifeh', 'k3bet', 'مجاني', 'تابعين', 'التواتي', 'bentek', 'بسيط', '3ale9a', 'recrutement', '5afef', 'yasinou', 'الغذاءي', 'واحسن', 'نحيتو', 'wa9ila', 'eyfadhlhelek', 'تلقاوها', 'الموضه', 'واقعي', 'حياتي', 'tarj3elkom', 'mamstikkk', 'وبني', 'نحوها', '9taya3', 'مقطوعين', 'تقدر', 'bulugda', 'وبرا', 'تترك', 'غبي', 'الرجوله', 'chamem', '1ère', 'bsh', 'صراحه', 'تعلمت', 'وقناه', 'لمرضاااا', 'يخليها', 'عالاخر', 'masettt', 'ورق', 'حطب', 'tarja3', 'تحسها', 'daloula', 'tgou3ir', 'continu', 'هاديك', 'me3kom', 'etfouuuuuuuuuuuuhhhhhh', 'ياجينرال', 'الظلم', 'ذوقو', 'wken', 'ومره', 'اشبع', 'وحكايات', 'chahid', 'ystorna', 'chrah', 'افسد', 'شهوه', 'echo', 'الليله', 'el7al9aaa', 'wdabbouza', 'hot', 'لحمايته', 'mamistik', 'hanan', 'ماكس', 'الغنايه', 'wa77el', 'wmitrobi', 'ihezek', 'thawel', 'فلك', 'ببانكتهم', 'اخمج', 'غوثو', 'msoutiya', 'yssala7em', 'اسمها', 'شوفولنا', 'احفظ', 'هههههههههه', 'ta5o', 'karrrrrrrrrrzetni', 'نهركم', 'tif', 'compatible', 'mayetba3ech', 'واعلم', 'شكري', 'خافو', 'بالرسمي', 'مقنع', 'تجميل', 'اقف', 'التاخير', 'هندسي', 'yal3b', 'الدمقراطيه', 'تحاول', 'machallah', 'العار', 'يوفق', 'تبربيش', 'isehel', 'mlit', 'ياعار', 'اختصاصي', 'قلو', 'تقلهم', 'السيتكوم', 'wahna', 'زوار', 'كندا', 'lwehed', 'اهوكا', 'وسيخه', 'بالتتبعات', 'naatih', 'fiable', '4000', 'تعطوا', 'جنسيات', 'تعلموا', 'ﻣﺘﺎﻋﻚ', 'pcs', 'المكسيكيه', 'للدكتور', 'المقحبه', 'سهوله', 'ياساقط', 'bayouta', 'الرهدان', 'maandek', 'لمصلحته', 'nfadlik', 'yodhhorli', 'ايطول', 'صدرها', 'ارواحكم', 'طبيه', 'سمعوهم', 'hbib', 'للجنوب', 'جناتك', 'inmout', 'madharnich', 'الدار', 'نقدم', 'موت', 'خير', 'la9ta', 'كينجح', 'million', 'domainet', 'القرنفل', 'lesbe7', 'ااش', 'عارف', 'y3inik', 'aswemhom', 'الترمه', 'walew', 'المدرسه', 'طلعولنا', 'قطعي', 'tesman', 'حمد', 'اختم', 'يانب', 'tit3almou', 'خليلها', 'الفكيه', 'قرايه', 'الشبهه', 'elbahi', 'الفص', 'اخرين', 'قاع', 'احترافيه', 'امونه', 'يقلك', 'يجب', 'الادارات', 'samiii', 'hethika', 'ركيكه', 'dali', 'layemmm', 'حطينو', 'sa7a', 'افتراضيين', 'تقصوه', 'slata', 'العﻻقات', 'جاءع', 'تعافت', 'كمثال', 'payday3', 'غناش', 'زينكم', 'تعملهم', 'تضيع', 'نباحهم', 'البرامج', 'عرفتوه', 'yekteb', 'طويل', 'مونافق', 'keteb', 'الاستفسارات', 'الكونجيات', 'لشي', 'يسكر', 'تجربتك', 'وراسك', 'maritouch', 'ma3ndoch', 'التنميه', 'عينيك', 'طمانه', 'lfilm', 'الاسره', 'ظاهرلي', 'خالق', 'بريد', 'lo5ra', 'للمساعده', 'extern', 'دعاره', 'jam3ia', 'orientation', 'عامين', 'y3adik', 'nbadel', 'nhaar', 'traba', 'mwahra', 'tahaaaaaaaaaaaaaaaaaaaaan', 'بشده', 'معلمه', 'لقحاب', 'الخطاب', 'pffff', 'الشريف', 'fibalouch', 'ينعل', 'ytbadel', 'تخلصي', 'مريييييضه', 'السكور', 'ls8ir', 'الطاهر', 'i3tissam', 'elle', '7998', 'قاعدين', 'ماخطبكش', 'والمءسسات', 'yraj3ouli', 'tfoooooooo', 'yatl3u', 'شدخل', 'عاملك', 'والتيار', 'الرووووووز', 'الصغيرات', 'تعري', '3090', 'الفيروس', 'سجن', 'mes', 'tichrih', 'yarahmak', 'personnel', 'والعلمانيين', 'koi', 'يفرق', '3al5er', 'الصفحه', 'الجزاءيه', 'تعلموهم', 'للبرنامج', 'مرعبه', 'طفيه', 'المستقبل', '9awade', 'wenta', 'ممتازه', 'ytmanikou', 'ياقطاطس', 'mte3i', '9ème', 'اولي', 'البﻻد', 'الفاسده', 'مسءوليتك', 'atw', 'machlh', 'يحاسبوا', 'برافواا', 'بالقسم', 'الجيب', 'ta3lim', 'zayn', 'لانقاذ', 'فاضي', 'لهين', 'وقفتش', 'تتصب', 'fehmi', 'inscriptions', 'semaines', 'وناقشو', 'abda3t', 'وتجرءت', 'معدلك', 'جفال', 'tfou', 'الثراء', 'mazel', 'hij', 'ولك', 'bachelier', 'elbsal', 'طحاااااااااااااااان', 'الاخير', 'لوح', 'surtou', 'dom', 'prioritaire', 'tfoooooooouuuuuh', 'الثمن', 'برتلي', 'تعطل', 'التوريست', 'dharba', 'الناجحين', 'صبيت', 'ويحفظها', 'ومااااااارق', 'mliih', '3sba', 'tarbia', 'بالفن', 'تيكيات', 'ڨابس', 'يهديه', 'الغاليه', 'ترا', 'لمشكله', 'février', 'tahtou', 'جلغتك', 'بالفاكه', 'غ', 'امينه', '5aleha', 'المواجهه', 'mcha', 'برميل', 'وعصابات', 'نبيع', 'الخقاره', 'تخدم', 'تصيرلو', 'عهر', 'تباركلله', 'raby', 'والبنات', 'خمج', '3omrou', 'ma9al', 'فالماء', 'فني', 'wnchala', 'batal', 'nestashlouha', 'liboite', 'اللهم', '3jabni', 'liste', 'jandoubi', 'والمثليه', 'جالغ', 'بصحه', 'حاسه', 'لمعلومات', 'تنفيذها', 'يسحب', '3ini', 't3ayef', 'لخيانه', 'المعلم', 'وتواظع', 'scorha', 'bsarara7a', 'lemin', 'المخ', 'اعترض', 'ميسترو', 'لكز', 'نقشه', 'a3ref', 'كملنا', 'مقر', 'ومختوم', 'وووووه', 'bébé', 'publicitéكل', 'عدك', 'طلعوا', 'يليق', 'باهه', 'ركن', 'jdida', 'والصحافين', 'جهله', 'kemlet', 'rhouth', 'والroutine', 'يرضاه', 'حزبكم', 'تسييرها', 'na3ml', '3ssalllll', 'mithel', 'bahri', 'بالانڨليزيه', 'البصل', 'صاحبه', 'يتغرم', 'ياخذوا', 'وتنزلو', 'فالناس', 'مرقه', 'صيام', 'اثقف', 'bouhali', 'المركزه', 'tesm3o', 'شفاعتك', 'nimchi', 'metensech', 'للكلوروكين', 'yoyo', 'يحفظه', 'حزنها', 'يستر', '3li', 'bombe', 'خانك', 'اعرفو', 'mofti', 'كلااش', 'ضاربا', 'حفظ', 'mizilto', 'عفن', 'lasta', 'especes', 'ديون', 'دااااارك', 'تبق', 'wa9et', 'طفلها', 'تشكيل', 'جمهوريه', 'yhalel', 'دفاعو', 'ويكبش', 'تشبه', 'sahbi', 'l7dode', 'lga', 'كفرا', 'زملاءه', 'فعايلك', 'يااخي', 'افطورك', 'cliniquet', 'للوغه', 'adab', 'exprimer', 'n7bouk', 'لعضيم', 'مخهها', 'ydahakni', 'تفرجتش', 'شهره', 'عتبه', 'vaccin', '8né', 'انما', 'tkalemtou', 'الفطور', 'mousalsil', 'وارضعوا', 'هالمسخره', 'partie', 'توجهت', 'azlam', 'tfouuuuuuuuuuuh', 'ديوث', 'ملايكتو', 'صدورهم', 'استيقض', 'لعيب', 'mraa', 'mezyana', '14million', 'المساءله', 'الحصره', 'خيتتتت', 'be7ar', 'sghirek', 'تجريبيه', 'mosa5', 'تسفير', '5milles', 'ملتزمه', 'عالميه', 'laseeeet', 'ma5eybouu', 'الجناءز', 'jiji', 'ye5dho', 't7elk', 'احترمنا', 'tfeeh', 'yelzimhom', 'lista', 'مفينها', 'oblige', 'صحتنا', 'براز', 'والعمل', 'حقيره', 'محايده', 'احترامي', 'fesh', 'توارثوها', 'لكنارو', 'تتاثر', 'decembre', 'والbeuz', 'yetfakrouha', 'errbat', '5al9', 'باالف', 'ومستقبلو', 'il5aba', 'mouselsletha', 'وكلمتنا', 'hasout', 'بالانبطاح', 'mnwarna', 'اشكال', 'tefhem', 'منتبعش', 'معجبوش', 'allahi', 'نعملو', 'رهز', 'نفيدو', 'دورات', 'بابشع', 'ببرنامج', '5owya', 'بالقوه', 'خاطر', 'وتعلم', 'المقاطعه', 'tawjih', 'تفاهاتك', 'a9ef', 'بالطحين', 'mazout', 'الاوضاع', 'مايلزمش', 'el3affat', 'bhemaaaaaaa', 'ﺗﻔﻮﻩ', 'بروحك', 'koya', 'سداد', 'mas9atha', 'تدخلو', '3adek', 'والعاهرات', 'عايشا', 'fil7keya', 'm3aaaallem', 'knowledge', 'يحميييك', 'مسءوليه', 'لمهم', '3alli5ir', 'الطحانا', 'a3mal', 'خدمات', '9raa', 'حلم', 'last', 'يتطلب', 'étudiante', 'للشعوب', 'يقدر', 'blid', 'عفاكم', 'المسانده', 'mereg', 'le3la', 'wmakch', 'بدير', 'diagnostic', 'عملاقه', 'قروض', 'ناسي', '3andk', 'وامبلعه', 'ستريم', 'التعابير', 'شعبها', 'ينفذوه', 'فاشلين', 'mastère', 'eb9a', 'belek', 'بغله', 'هههههههه', 'kalib', 'global', 'hachekom', 'الواب', 'لله', 'صلاحيات', 'تصاور', 'الركبه', 'essahel', 'نقلو', 'بركها', '7999d', 'marahla', 'lidin', 'wa3z', 'تمتلكينه', 'kalitou', 'الطريقه', 'حاطينو', '3jibtni', 'perfectly', 'غني', 'يصونهم', 'moshkla', 'كعادتها', 'وكذب', 'المراكز', 'ouiiii', 'يشفيهم', 'لمشكل', 'nuit', 'écran', 'tbaddel', 'فالمسرح', 'الجنه', 'كرهبه', 'والانحلال', 'املي', 'صاحبي', 'itounseya', 'معين', 'yofrek', 'mosta9bl', 'mwabna', 'غطي', 'جايبينهم', 'اغرب', 'العلميه', 'tayaara', 'brabiii', 'انتاج', 'واقعكم', 'prog', 'اينعم', 'tesma3', 'نور', 'انتشار', 'tmatel', 'تاعب', 'etc', 'واحفض', 'بقو', 'ثبتو', 'rj3ou', 'tsakrou', 'الفسوق', 'بمزيد', 'شن', 'فتنشيط', 'weldi', 'tetfines', 'baldia', 'يتفقدوه', 'الزاحف', '3yib', 'wlaw', 'رزن', 'fatma', 'هله', 'العدلي', 'etzourna', 'behya', 'صتوكو', 'يشكيب', 'باسبانيا', 'نجلا', 'byremm', 'man9ol', 'ملمومه', 'يزاحم', 'takra', 'جحشه', 'مستحيل', 'basas', 'متخدم', 'سبب', 'زمن', 'حشاك', 'لقيتو', 'يخون', '3malt', 'kabech', 'وطويل', 'كبري', 'gta', 'دينه', 'حراااااام', 'يتمتع', 'خلاهم', 'halfsala', 'ch9awlak', 'ta5rawlou', 'الخاص', 'mistawa', 'mal9itouch', 'hadka', 'mahleha', 'mahlaa', 'وقتيين', 'residanat', 'ببقي', 'تحكم', 'manans7ekech', 'tichbhilha', '7a9din', 'اتفه', 'عقبات', 'سكانار', 'bourjoulia', 'euro', 'mounfa9', 'اعضاء', 'almania', 'ديانتنا', 'مداخيله', 'تهم', 'ماماتش', 'حايرين', 'مطلع', 'fouz', 'hees', 'ويحميك', 'عفسها', 'ya7asra', 'وتجربه', 'اجمعين', 'abda3ti', 'a3tyh', 'ماغفل', 'loooool', 'كوريا', 'matabtach', 'ameltou', 'mamstouuuu', 'مصطفي', 'قليله', 'blehi', 'angular', '3aychouchti', 'ijale4', 'zinek', 'وسخت', 'لوتعلمين', 'یستعملها', 'بهامه', 'شرعي', 'جباءيه', 'عرفته', 'المعطيات', 'ysebou', 'l9ahba', 'فالجزاءر', 'عالمناظر', 'هالمنيك', 'لاعرفتو', 'atfooh', 'الباج', 'ben', 'كلوشار', 'نكملوه', 'lem9alba', 'ella', 'عشرات', 'خارجيه', 'المجرمه', 'وعطي', 'omaj', 'ناقصا', 'wahrett', 'tha3lib', 'بكفءات', 'ton', 'kra', 'b9dh', 'traba7kom', 'سلطه', 'ndhm', 'ينصرك', 'ثقيل', 'سلبيين', 'wzirna', 'كلبه', 'هالفوgيره', 'حقيقتو', 'ومغرفه', 'زاني', 'ضامنه', 'بهيايم', 'ostrou', 'masééééééét', 'inika7', 'افكارك', 'عاقله', 'علامه', 'وطريقه', 'حالات', 'ex', 'ومايهمها', 'المخرجين', 'الخبير', 'بنيه', 'تاكدت', '5lay9', '15سنه', 'مرمزك', 'ttoster', 'yo5roj', 'معرفتش', 'رذال', 'جو', 'نقعدوا', 'تبعث', 'وامهاتكم', 'والالتزام', 'fl', 'mbc222', 'ماله', 'لليوم', 'ونفاق', 'jayer', 'take', 'تربيتك', 'chabeb', 'lakta', 'monji', 'البترول', 'صف', 'وجودك', 'bugs', 'standard', 'syassa', 'يفرت', 'تعملو', 'khouya', 'مءسسه', 'مساعده', 'ينفعك', 'mamsstek', 'يحبوا', 'asteghfr', 'منعا', 'nahtha', 'استحشناك', '7lowa', 'والرذيله', 'كظلام', 'وعيباااه', 'chrab', 'wyetraba', 'barboteur', 'وينه', 'الدكتاتوريه', 'الشلهقين', 'نحاو', 'والدفاع', 'التاستوات', 'ﻣﺎﻛﺶ', 'يهبطش', 'codes', 'adel', 'lemmark', 'تتحفنا', 'mm', 'bladou', 'bas', 'التطبيقات', 'المنحاز', 'تكفلهمش', 'نقارنش', 'thèss', 'امو', 'الضرف', 'phy', 'عاملين', 'baadika', 'filijebek', 'وجبري', 'فوريا', 'عقليه', 'ouiii', 'فخره', 'تتمنا', 'wkhy', '9', '3l', 'الابداع', 'aalah', 'alma', 'soins', 'مغير', 'بلاستيك', 'ياتوك', 'لوزير', 'كمنتار', 'امراه', 'hathy', 'بهكذا', 'لبلانا', 'صل', 'والقحاب', 'ارح', 'avance', 'بكعبه', 'تعبير', 'i5awef', 'built', 'tbi3', 'اسطره', 'بدم', 'الراءع', 'ماديا', '3atine', 'يطمني', 'صحافي', 'ميجيش', 'khrina', 'عندناش', 'غلب', 'zina', 'عدول', 'قبي', 'khsertou', 'bahi', 'leb9iya', 'nsayssou', 'ydafe3', 'يتعاود', 'n2ekedlek', 'دواعي', 'الكراسي', 'étatiques', 'yarhmhom', 'شياب', 'الفيصل', 'tjik', 'portatif', 'تهمه', 'بوس', 'اولاد', 'fuck', 'la7', '3indak', 'تفوتك', 'map', 'pays', 'والوالد', 'الطابق', 'خامجات', 'تقوم', 'امكم', 'الجامعيه', 'license', 'wlahi', 'عملتولنا', 'manjm', 'الاعراب', 'مكياج', 'شبابنا', 'يحصر', 'جندوبي', 'راضع', 'البراكاحات', 'وفضحنا', 'cdi', 'لحشيش', 'امها', 'الحكومي', 'باطنه', 'تفقه', 'يتعاقب', 'المصدره', 'للاحتفال', 'السارق', 'yarhen', 'kbal', 'الهزيل', 'rany', 'nchhhalh', 'علوم', 'aandhom', '4amer', 'الانسانه', 'يستره', 'خلوك', 'ينقرض', 'التبني', 'حانوت', 'rjél', 'تجيبها', 'هالمنشط', 'يضيف', 'yejmou', 'b3athha', 'فاعلم', 'tdf3', 'يفظلك', 'mille5er', 'online', '3ando', 'زكم', 'jahloul', 't7isou', 'الولدين', 'thel', 'ليل', 'belehy', 'وزيدهم', 'اجابي', 'طحااااااانننننننن', 'النواحي', 'لربي', '5maj', 'بتونس', 'kounech', 'واتهج', 'romdhan', '3ale5rr', 'hal9a', 'num', 'ارتقيو', 'متصورتكش', 'تحرم', 'ناتتحكي', 'الحقوقيين', 'mar5sek', 'sujets', 'ونصيحه', 'المبيت', 'الساحل', 'fesda', '3saaaal', 'nechreha', 'جبتوه', 'واستدعاه', 'ja7ch', 'soumha', 'tmanyik', 'yetfarj', 'thyna', 'ybaki', 'اعدت', 'صلعتك', 'sawet', 'وعيب', 'لقحب', 'ونبول', 'نات', 'لعنت', 'me3amlou', 'الغزعبلات', 'تحللو', 'وحاولوا', 'يعريلها', 'ماديه', 'fhemtich', 'لون', 'عبد', 'ws5if', 'ifarejha', 'boudourou', 'سخطه', 'metrobii', 'nasha', 'l3aaaaaaaar', 'يسطر', 'لهو', 'باس', 'a9raa', 'اقصاه', 'بلادي', 'mta3ha', 'نبيله', 'nhebouk', 'نتوما', 'fasid', 'والتزغريط', 'تدعو', 'الديكالاج', 'مرتدين', 'رقاصه', 'والفن', 'inchad', 'ويكون', 'منشط', '3liik', 'نقد', 'جرب', 'حيحا', 'السوداء', 'سعدو', 'كومنتاراااات', 'انشاله', 'واتبني', 'تقراش', 'القرد', 'moutt', 'تسمعش', 'سكورهم', 'lfaza', 'anakom', 'مفما', 'اباك', 'شبكه', 'المهن', 'documentaire', 'kaddech', 'terkeb', 'افسدوا', 'l9a7ba', '9raya', 'عجب', 'الجزاءريه', 'ويتحبس', 'الظحكه', 'مبعدو', 'kiyebda', 'امتهانهم', 'حجم', 'عبو', 'wakt', 'تستضيف', 'indik', 'تشريعيه', 'صب', 'hejer', 'المعمل', 'yb9a', 'idha7k', 'tkawen', 'صوابعك', 'الثالثه', 'يامعلم', 'كتزيد', 'رضعه', 'يقراو', 'lklem', 'المعلمه', 'طوالت', 'fara9', 'lkoullhoum', 'الحصانه', 'بخنزير', 'ههههههه', 'الصوابع', 'نجح', 'fr', 'wtoktol', 'الدخلاوي', 'يزبل', 'toghlot', 'freml', 'تشوفو', 'ريان', 'يوتر', 'tfahemha', 'قيس', 'اجد', '5edmtik', 'hajér', 'الهدامه', 'whthii', 'انصحك', 'essaber', 'العارر', 'تايسش', 'وانو', 'tahet', 'سيشعر', 'مورد', 'rihem', 'تقوينا', 'تستحقو', 'dhorouf', 'ميحبوش', 'التلوث', 'yoser', 'anehou', 'glayeb', 'صقاط', 'بالمستشفي', 'pratiquer', 'b5ouya', 'bouma', 'الشهاده', 'الجيش', 'moumathlet', 'يتعاطف', 'tho7ka', 'معامل', 'ahsin', 'قتلو', 'téléchargeables', 'تقولوا', 'عددهم', 'تفوووووو', 'بارتاجي', 'الحفره', 'msatik', 'mouta', 'بصه', 'والرجوله', 'لوابنا', 'لعام', 'ساقطات', 'المخاطر', 'يروجو', 'echa3eb', 'mamsit', 'مبالغه', 'تنحات', 'تونسنا', 'المرض', 'ma3andi', 'adeb', '000d', 'قرات', 'الوبنه', 'الكمامات', 'وتحكو', 'rmazetkom', 'يبيعهم', 'المناني', 'وانجحوا', 'البال', 'تبداهم', 'الداخلي', 'ياخذ', 'وسب', 'والنطق', 'échappement', '4500', 'يحولو', 'المحاسبي', 'ماتحبهاش', 'كقرايه', 'جاير', 'قياديه', 'المسخه', 'انتخبنا', 'wahdek', '3adya', 'بتعليقك', 'الحقير', 'mata7yech', 'تكفي', 'maragtha', 'tfiiiiiiiiih', 'تخدمي', 'وعهر', 'الخامجه', 'اشرفت', 'رفض', 'علاقاتك', 'alwa9ti', 'tkhaliw', 'اصرارك', 'فكريه', 'vive', 'étatique', 'استخير', 'استثمار', 'تراب', 'samahni', 'bekrii', 'كحه', 'الطاقه', 'مافيهاش', 'يستبق', 'tfuh', 'inhar', 'المكلوب', 'mazi5', 'وتذكروا', 'baad', 'موضوعي', 'يسبوا', 'elmouhm', 'oujouh', '10w40', 'baleda', 'matnajem', 'مرتين', 'الامهات', 'يوليو', 'مصيرها', 'enou', 'dabouzet', 'lah9i9a', 'xbox', 'والدك', 'المجاري', 'عشره', 'انصار', 'tfathel', 'التقطيع', 'اركو', 'kolt', 'ma7lekom', 'e7chem', 'بحقوق', 'l5er', 'm3allemmmmmmmm', 'وحياه', 'algérienne', 'hii', 'عينه', 'kel', 'وكره', 'مافشلتش', 'الهيكا', 'القبح', 'الهموم', 'يبيع', 'forsa', 'شكييب', '5iiiiiiiit', 'المطلوبه', 'hatta', '5iiit', 'يشفيلك', 'الفيه', 'maysirech', 'لنوع', 'بالمنطق', 'raja', 'شراء', 'اقسم', 'لذي', 'متخليش', 'candidatures', 'lgamra', 'bahy', 'حدودو', 'البرني', 'ma5yeb', 'mislch', 'lwakt', 'tounsiya', 'yetlebsou', 'w3la', 'ta9sem', 'ويابابور', 'halmandhir', 'aleha', 'centre', 'كالمسكوكه', '5ziiiiiiiiih', 'دخلتها', 'مكتوب', 'امكانياتو', 'وخبراء', 'i9ader', 'sma3touh', 'الخليج', 'ومومساتها', 'moumathal', 'متكبرا', 'ارقي', 'باللفلوس', 'باجهزه', 'نومها', 'اياه', 'mest7a9in', 'شءي', 'وتجوعيب', 'حالتك', 'yaa3ni', 'كرم', 'تعارف', 'تبدلت', 'وطيب', 'افريقيا', 'حسن', 'الاطلال', 'الاصل', 'زطله', 'مريم', 'اليست', 'مستدعيه', 'inyouz', 'col', 'اتفووووووووووووووووووووووووووووووووووووووووه', 'القذره', 'بمعدل', 'tetsoumim', 'التحيه', 'روعه', 'obligatoirement', 'يجبدوا', 'فالارهاب', 'سكور', 'inabara', 'talfza', 'غيرو', 'ye7kiw', 'سيسيه', 'مقرففففففف', 'مساكين', 'حريه', 'sasha', 'المسءول', 'قداشكم', 'ثلثي', 'azra9', 'حكيم', 'شعبي', 'n7so', 'karaba', 'moussalsel', 'يضهرلي', 'سبول', 'مفرك', 'l7imar', 'شهريه', 'وتبدا', 'الكمنتورات', 'مستفز', 'assalet', 'mahlehom', 'ch5sek', 'elkolha', 'yansa7', 'تعطينا', 'resultat', 'وووه', 'litrawej', 'قومي', 'خلقتها', 'الكورونه', 'بالنسبه', 'مشتقه', 'عقبال', 'te3ik', 'l9itou', 'mostawète', 'واشهد', 'للتونسي', 'to9teell', '7yé', 'للخروج', 'zin', 'yathe7ko', 'zantour', 'ونعما', '8k', 'تغزر', 'حضور', 'قالو', 'المثقفون', '5oummmmmmmmeeeeeeejjjjjjjjjj', '7ya', 'rajelll', 'choghl', 'الغير', 'الاخونج', 'netjewzou', 'الtva', 'mbayen', 'kenzzz', 'اعمالو', 'يحفظك', 'محطوط', 'الكفاءات', 'وفالها', 'شفت', 'الدڨله', 'fahem', 'المناضله', 'القرنين', 'بخرجوه', 'لغتهم', 'fesdaa', 'الcoach', 'بالعسل', 'الاجتماعيه', 'love', 'بحقيقه', 'maseet', 'يقول', 'هالبهيم', 'موثق', 'karahtna', 'مروي', 'حطيت', 'b7ar', 'بقول', 'الناعق', 'عملتش', 'الحنون', 'sahra', 'اعلم', 'تسب', 'klém', 'chta9raha', '9odem', 'hram', 'بوناطيرو', '7ايام', 'يعبدون', 'sérologie', 'تملك', 'test', 'نسمعو', 'raabii', 'wimnayek', 'بلعوط', 'sobhan', 'المارق', 'esmo', 'محڨور', 'modification', 'mantaba3', 'trakbou', 'plastique', 'kalina', 'amérique', 'وسعد', 'بالنا', 'تعمل', 'm3iz', 'وماسمع', 'meche', 'فاكر', 'فعال', 'anje7', 'بلقدا', 'تعلن', 'نورنا', 'الحسد', 'chnoi', 'البقاء', 'كفاعله', 'مرتاح', 'wajh', 'فيبالهم', 'بعاد', 'ولت', 'ya3jibni', 'tmedi', 'زينو', 'قدرها', 'لاهين', 'وخامج', 'مخك', 'تلفزيه', 'ijtime3', 'مفيرك', 'ارواح', 'a3leha', 'تلعبو', 'الفول', 'rawhou', 'كسامي', 'دوده', 'sahytek', 'arabic', 'وراجل', 'شعروا', 'جعفوروحدك', 'ylem', 'حافظينو', 'الاختيار', 'faday7', 'ونبقي', 'تحساب', 'mouleha', 'توفيق', 'يصبر', 'we7tiramou', 'استاذتي', 'وخوه', 'تبرعات', 'باولادي', 'متحكمش', 'mathalan', 'الحكايات', 'نسب', 'informations', 'todkhel', 'اعتبار', 'مصالحه', 'ta9a3', '7akem', 'واللواط', 'مبررووك', 'عادي', 'tshouf', 'ينتجو', 'خبرتك', 'والاعلام', 'تحليلاتهم', 'nourmal', 'omrek', '3inin', 'ahw', 'تحذير', 'الصناديق', '100د', 'ساعات', 'المطر', 'yhez', 'قلال', 'المضمنه', 'انتمي', 'dhohek', 'المستحسن', 'شمولي', 'وتخرج', 'wehid', 'حسات', 'nirkech', 'مرهزو', '9bel', 'نعله', 'العظمي', 'walé', 'rasek', 'باهيه', 'المضافه', 'لاقيين', 'اسلميا', 'يجتهد', 'مافكرت', 'دواء', 'الاسءله', 'safer', 'machalla', 'cha3rou', 't7arbo', 'فضحطونا', 'يزلط', 'رتح', 'reb7', 'الخرا', 'doctorat', 'ethawra', 'احقر', 'فالسيزيام', 'tal9ah', 'الخلاصه', 'bood', 'بينو', 'المتوسطه', 'حوريه', 'مستواه', 'اند', 'feha', 'ونجلاء', 'امرين', 'ma3ijbitnich', 'بقدراتك', 'la5r', 'wilayat', 'صفوف', 'aandek', 'me3lem', 'جماعت', 'mokh', 'تهد', 'series', 'sami', 'بالنوارات', 'استخار', 'automatisme', '2éme', 'rahmouni', 'اعز', 'éme', 'وجب', 'تخصكمش', 'ma4yr', 'lmsta', 'المكتوبه', 'يحاجج', 'tal9a', 'المفضل', 'تجاوزات', '7algat', 'بعثتلكم', 'مكه', 'المتحده', 'kawtheer', 'وتتعلط', 'اليومي', 'صوت', 'ma5arabtou', 'na7ih', 'حنه', 'بوصفه', 'تبدي', 'اناني', 'yfathilhalik', 'kherlo', 'بابيات', 'الحال', 'تعرفهمش', 'pizza', 'مطول', 'سلم', 'lawej', 'madinati', 'bsmlaih', 'مصر', 'tounsie', 'قبوراتكم', 'mosalsal', 'tnjmch', 'هالمستوا', 'وخوف', 'taraji', 'mrj3', 'النقيض', 'وعملاء', 'وبناتنا', 'سعدا', 'جاهزه', 'yessr', 'hhhhhhhhh', 'باع', 'لحاس', 'تاثرش', 'slah', 'انعدمت', 'mante9', 'yerj3', 'mastaaa', 'e7tarmou', 'يابن', 'ههههههههه', 'ايبارك', '3ibara', 'نظري', 'materialize', '69', 'saba', 'وخلاف', 'سيوله', 'ifadeid', 'filhal9a', 'النسيج', 'حجر', 'aandi', 'عايلتك', 'وجهك', 'فييالمستقبل', 'landoulsi', 'trasilek', 'equipe', 'هالمنظر', 'املاكها', 'سيتروناد', 'تبرع', 'oui', 'katheba', 'المحسنين', 'يتنفذ', 'جابولهم', 'berjouliya', 'دخلها', 'اصحاب', 'وزمباوي', 'الحمايه', 'bidha7ik', 'ماعاش', 'ma7loula', 'الخميس27', 'هالشعبويه', 'experience', 'دكتوراه', 'الجهه', 'lm3allaaaamm', 'حياتك', '5anzir', 'ya3tikom', 'match', 'الجغرافي', '3ayech', '9odwa', 'تحبهاش', 'اﻻحترام', 'الزيتونه', 'فتاك', '9adech', 'kalmou', 'haj', 'damdouma', 'الرحمان', 'chenya', 'نعرضو', 'لنكملوا', 'hasan', 'ومعرفه', 'النياكه', 'ثلث', 'ناسبوهم', 'حقد', 'franca', 'بمواقفه', 'تصلحون', 'original', 'خياليه', 'بديهيتها', 'اقويكم', 'fthi7a', 'نرجعك', 'رقعتكم', 'بbootstrap', 'شوارع', 'يشبه', 'nbi3lou', 'مساطه', 'ya7kiw', 'بريطانيه', 'واين', 'انفسكم', 'وصفاقس', 'الفاسدين', 'تزيان', 'امور', 'nfhm', 'شبيبه', 'خليل', 'trabe7koum', 'البطل', 'lmarra', 'ماجاوب', 'ma3jibnich', 'نشري', 'هالاسود', 'يسون', 'صراع', 'nadhel', 'ja3fouuur', 'وجه', 'oudhrob', 'حداد', 'wehd', 'شهريتك', 'قوسين', 'aam', 'مقطع', 'فالتعليقات', 'يعاديك', 'الثيقه', 'انبني', 'اعاده', 'sma', 'nemchiew', 'باور', 'لامي', 'ha9ou', 'ma5yebha', 'خدم', 'moura', 'a3lam', 'وابي', 'idriss', 'maryouma', 'فغنسا', 'bedhabet', 'شيعمل', 'لاسططططططط', 'elmachakel', 'طموحاتك', 'نتقدمو', 'الكاذب', 'يضعف', 'قلش', 'architecture', 'اللقاح', 'kelwa', 'marka', 'man9olek', 'tahfouna', 'منتصر', 'zazzar', 'شياطها', 'يفرجها', 'sbo3', 'تقعدش', 'metkhl9a', 'tfarajt', 'felmabounattt', '7asba', 'الدينيه', 'اجازيك', 'وخواتك', 'ذراعك', 'yet3alem', 'مشوارك', 'francais', 'فصاله', 'adore', 'yjich', 'خلاني', 'يفضلهملك', 'no5rjou', 'وداءما', 'hannen', 'barchaaa', 'tsob', 'للقيام', 'وزغراطه', 'جبناء', 'yassine', '3aleka', 'الاطفال', 'الفنانين', 'رجال', 'mou3aredh', 'لعجب', 'مانسمعوهش', 'ميولاتو', 'بررررررررشه', 'يفسرها', 'ماتجيب', 'تربحهم', 'عظم', 'سواق', 'ستانس', 'توسع', 'تقرو', 'فضلك', 'عمروخيرلك', 'yar7ma', 'الجزيري', 'tefehaaaaaa', 'dort', 'taba3ha', 'gamers', 'nik', 'yelzemha', '3lehe', 'ومباعد', 'كانهم', 'ديماري', 'welhiwar', 'القي', 'تعبو', 'سوی', 'مزالو', 'tosketch', 'yechfik', 'ya3ref', 'النسبه', '9dechhhhh', 'المظلمه', 'mouselsl', 'المستشفي', 'acheb', 'اختارها', 'lmasta', 'ybared', '9owa', 'لعنه', 'ترتكبه', 'idha', 'elwji3a', 'اذاكه', '9elet', 'ريسك', 'ونذل', 'بصغيرها', 'ezzaifa', 'احميها', 'وسوريا', 'monhat', 'walaena', 'لاردوغان', 'harun', 'يتمسش', 'سذاجه', 'واخلاقيا', 'وزراء', 'بره', 'hmallll', 'مانشعرو', 'yeekhy', 'سمعناش', 'شننتضرو', 'da7ka', 'اللعبهl', 'ترد', 'hayèaweeeeeeeeeeeeen', 'حمدالله', 'استفتاء', 'اعضم', 'mestir', 'بالباله', 'لااا', 'nkoulou', 'تاخذون', 'tchewerhom', 'هارب', 'jam3iya', 'رجعوولنا', 'نشره', 'المعوزه', 'تعرسلو', 'rabiiii', 'مالاخر', 'intouma', 'offfffffffffff', 'صاينه', 'gamer', 'teslek', 'ظهر', 'تبلينا', 'berka', 'wlad', 'mo7ammet', 'انعقدت', 'الui', 'njahet', 'tfouuuuuuuuuuh', '2018', 'aha', 'واختار', 'likbir', 'يتعداش', 'يلعبو', 'جاااب', 'satar', 'مازلتي', 'الموهبه', 'fasa5', 'ndakhel', 'ستاتي', 'ابعث', 'للمرفق', 'tkalem', 'العساس', 'السبيل', 'wallet', 'نذبحك', 'الاجل', 'ilmot3a', 'يناسبك', 'وبلاصه', 'الموهوبات', 'لخروات', 'عﻻقه', '3azouzti', 'التزايد', '3adhim', 'والمنحاز', 'يدا', 'dhamer', 'عذي', 'ياقفش', 'مايرجعش', 'nsl7ha', 'sublime', 'فافعل', 'احبوا', 'السفاسف', 'n3isshou', 'مستنسين', 'تدرك', 'قبحه', 'weled', 'besla', 'الوحيد', 'المشاهدين', 'اوليه', 'irjouliya', 'tfouhhh', 'واقعنا', 'خلوق', 'لحاسا', 'يااااااااااااا', 'وكانهم', 'صحاب', 'نموذج', 'bes', 'thebbil', 'tet3ada', 'communication', 'بوجلغه', 'نقراها', 'y9aled', 'الكومديه', 'تتلوح', 'etwansa', 'ma9wekom', 'wyetfarej', 'maseta', 'nbadlelhom', 'edheka', 'ibtihel', 'jediiia', 'تتعلم', 'emino', 'جوابهم', 'تقليد', 'mamsethom', 'شاء', 'حسره', 'بقداش', 'wi9adsoulhom', 'بتشبه', 'services', 'تصنعون', 'شذوذو', 'السافرات', 'المسلسل', 'امورط', 'tetsarechh', 'baaed', 'مءقتا', 'اقرو', 'ينبرو', 'الجبالي', 'mche', 'merg', 'n9sd', 'صرفها', '18', 'ينتسب', 'cheri', 'واذهب', 'شافش', 'الملاهط', 'البذاءه', '8arbi', 'sa5afni', 'نضيفه', 'متجيش', 'ytfrj', 'ﻭﺍﺟﻬﻮﺍ', 'امنا', 'omo', 'تكان', 'allah', 'بحسب', 'ya3erfou', 'يذكرنا', 'dha', 'الحقد', 'انتا', 'fammek', 'sinn', 'الكسكروت', 'marzén', 'عالمي', 'اصدق', 'sahriya', 'wbech', 'ﻹتربحها', 'بشار', 'mesalmiyan', 'dalajinou', 'mat7ot', 'حبس', 'فمه', 'may5afich', 'masettttt', 'والتوانسه', 'lasoug', 'ataw', 'لاعبها', 'صحيحه', '3onek', 'nsitouh', 'معانده', 'msattik', 'طبيعتو', 'ma5yebhaa', 'khw', 'ونطور', 'maseeeet', 'الجابو', 'جهار', 'yed', 'bera7', 'يطبق', 'البير', 'فدينه', 'دوبه', 'lkoooolhom', 'للنوت', 'النخاع', 'choufneh', 'ne5edh', 'المتحركه', 'الرغبه', 'ليكمل', 'ou7ayed', 'slta', 'دلاله', 'والقصه', 'يعطيع', 'sms', 'lklam', 'tet3alem', 'لقضاء', 'قهوه', 'yekberch', 'mamsatha', 'حوال', 'شوري', 'ولدها', 'daniya', 'ضيف', 'حايتها', 'ryhi', 'الاصلي', 'لشجاعه', 'emulateur', 'كامام', 'زانيه', 'دزون', 'mouhema', 'شوف', 'ro7k', 'خييييييييييييت', 'شيبا', 'توفا', 'هالهم', 'اطلب', 'بالفسق', 'مبلدكم', 'الفضاءيه', 'maast', 'rouho', 'المهرج', 'inhtha', 'توفاهم', 'lghnia', 'تطا', 'سيده', '9essas', '70', 'الحلقه', '9ohb', 'lflous', 'صبااط', 'sabbit', 'notlob', 'شتقصد', 'لنقني', 'متصنعه', 'يحبوش', 'netlaz', 'اخخخيت', 'ايعايب', 'عزيزه', 'la3nat', 'جااااهله', 'كبلاج', 'خاطرهم', 'waldik', 'ادهنوه', 'الجرعه', 'jaltam', 'juin', 'هالشكل', 'studio', 'taref', 'وسخه', 'ychbhlah', 'الاعداد', 'مليييح', 'تفتيو', 'wa9tou', 'ينتدبوك', 'الكراء', 'كسكسي', 'feu', 'karinaj', 'ta7aaaaaaan', 'mahla', 'ليصبح', 'eno', 'laysa', 'ta3mil', 'والتربويه', 'بعثتلك', 'a3lina', 'برامج', 'فينااااس', 'رجالا', 'طاقت', 'الشبيح', 'bolbol', 'مشومه', 'كشخص', 'يوفقو', 'الخطا', 'تفرغ', 'يخدمو', 'الكلوروكين', 'ازيدو', 't3addet', 'تبرد', 'bayrim', 'لترمتك', 'عمليه', 'شيءا', '3eda', 'binderman', 'le5ir', 'وليسtina', 'حسبي', 'زملاء', 'وتحسو', 'm3eh', 'فيقو', 'بايديكم', 'ركزوا', 'leli', 'اللحاس', 'تخلصلكم', 'المهزله', 'chnwa', 'يدافعوا', 'page', 'النساء', 'تمجيد', 'na7i', 'dkika', 'وتنحيه', 'الjavascript', 'بشهريه', 'تتصالح', 'كبتولها', 'ybadelha', 'وحسوا', 'الذات', 'كيفش', 'نطيح', 'عاقدين', 'jdod', 'التفويض', 'الجديد', 'الفرطاس', 'كونسار', 'وحليتلها', 'manal9ach', 'نهايتك', 'مايمثلش', 'تقوي', 'اضافه', 'نكرهاااا', 'bekawni', 'التدريس', 'ﺗﺮﺑﻴﺔ', 'تليق', 'فالشعبه', 'عوص', 'tamthli', '799', 'tkhallich', 'خليت', 'nawfek', 'يجعلو', 'na5thou', 'ملقب', 'ايعمل', 'nawfel', 'badoura', 'بيادق', 'نثبتو', 'وديوث', 'jaybine', 'وتمشي', 'الكوارث', '5demtch', 'بمعلومات', 'الحجاب', 'كتابه', 'bkatni', 'فساد', '7altk', 'راصده', 'wezyada', 'ye3jebhom', 'حمه', 'تنشر', 'ضاع', 'وتربيه', 'تتنقل', 'données', 'rached', 'اصغار', 'ويتشمتوا', 'هههع', 'وتمادو', 'بالdevelopment', 'ne7sbou', 'ساقك', 'بالسعد', 'وجعني', 'maste', 'الهدف', 'وديواني', 'وكا', 'تسحروا', 'كبرت', 'privée', 'chart', 'الطموح', 'توريك', 'نرجعهولك', 'وخياني', 'tri7e', 'زبابيل', 'dossier', 'لمقدم', 'tunisien', 'لنفسها', 'حطاتو', 'سا', 'بحق', 'طحت', 'titkalim', 'réorientation', 'عاار', 'والمجرم', 'mskin', 'مقرزه', '3ela', 't7asseltech', 'saadou', 'استءذان', 'نرمال', 'فالسفر', 'مدام', 'طاحنه', 'متحبهاش', 'تلقا', 'معضلات', 'خالك', 'واضب', 'ويريحنا', 'ya3jbek', 'معوض', 'لغباءه', 'ناقل', 'n9ordhellk', 'غاديكا', 'خطايا', 'یضحك', 'haniii', 'lmanader', 'tla3', 'اجلت', 'الرجلين', 'wen', 'والشماته', 'miboune', 'فھوی', 'mo5i', 'كلمتين', 'l3ab', 'netfarej', 'atoubou', 'تحبيش', 'حاول', 'ذريعه', 'elotef', 'سامي', 'tfakert', 'kil3ada', 'طحين', 'libres', 'tmout', 'التحليلات', 'jiniral', 'يقولك', 'ومسجل', 'نستمتعوا', 'diplome', 'يغني', 'ورده', 'ioltof', 'باهين', 'اشراف', 'elheyba', 'makhlou9', 'تولهي', 'نعما', 'للفاك', 'زيد', 'يشكيو', 'تنم', 'ضخامه', 'تسل', 'يجيه', 'ايديلوجي', '3atba', 'قامو', 'كافر', 'ghalya', 'جاوبت', 'bennesba', 'mibouna', 'نعتبر', 'kthir', 'الطرفين', 'خطير', 'اغلبه', 'مسيخ', 'شءت', 'maseeeeeeeeeeet', 'الجانبيه', 'مايغيرش', 'ووقت', '3a', 'tffffouh', 'behy', 'فوتوكوبي', 'walid', 'jl', 'المبروك', 'يحدث', 'تبنيها', 'macha2a', 'بعث', 'لجهنم', 'louwel', 'تجم', 'شجاع', 'youmhel', 'تصبح', 'سخيفه', 'الحزب', 'ونراها', 'تخممي', 'masha2llah', 'بففففففففف', 'lasat', 'يتناقش', 'oltof', 'ya7mik', 'تءاخذنا', 'sif', 'ne7na', 'جرتك', 'yhdi', 'حثاله', 'oualou', 'التاثير', 'رده', 'والسلامه', 'الخارف', 'f9ed', 'tfout', 'والفرينه', 'حاجياتنا', '3idek', 'الضروري', 'witfarjou', 'رفيقه', 'سلام', '7asbi', 'meded', 't5af', 'فحل', 'ترضي', 'نكره', 'nakel', 'ledyarhom', 'قياده', 'nayek', 'نعرجو', 'توصلك', 'صحي', 'nafsiya', 'مكنوناتها', 'متالقه', 'مسخهم', 'نعطيك', 'سن', 'مصلي', 'خرف', 'التحفون', 'ويحفضكوم', 'aleh', 'الشغورات', 'neji', 'الصباح', 'voie', 'خنث', '3andrhom', '9imtouuuu', 'بالشفاء', 'وحقد', 'famachi', 'bilah', 'baramjek', 'بسيطه', 'يفضلو', 'ياله', 'يرحمو', 'نرجعوش', '9adeh', 'وزيري', '7a9ek', 'وارحمنا', 'صغار', 'menhom', 'features', 'متقولش', 'mochoftouch', 'يتربي', 'يرحمه', 'nehtarmou', 'direkt', 'fazdouna', 'دعوتي', 'طرابلس', 'نرجع', 'ديوانيه', 'والرسول', 'naref', 'لاصل', 'اقوي', 'bon', 'mayji', 'كثره', 'ma3neha', 'نشريه', 't7iiin', 'bsara7sa', 'stoufaa', 'نعرفوه', 'الاعمار', 'ديونها', 'wwwwaawww', 'متءكد', 'السهريه', 'زوجته', 'mahlaha', '5alilna', 'e7tarm', 'gnrl', 'ستنا', 'نحضرولك', 'drama', 'نجمش', 'mte3ik', 'دفعاتو', 'تجاوزتها', 'wahdi', 'mantcharfouch', 'ensen', 'نجحت', 'qtaya3', 'khamim', 'skotech', 'مغروم', 'معععععلم', 'حبك', 'elkeleb', 'leklem', 'ويحفض', 'يتقابلوش', '9ite3a', 'فوات', 'yafathlk', 'تلقي', 'lma5lou3', 'meyta', 'صغاركم', 'احرار', 'yaal3bouu', 'اتفرهدنا', 'chkouni', 'yetna9l', 'ملكبده', 'نكته', 'يتبدل', '462', 'لتلفزه', 'وجهها', 'cha5siyteha', 'patients', 'كاااااااارثه', 'النوب', 'g3ar', 'قولولهم', 'بام', 'اممسخين', 'مفهمتش', 'العضويه', 'armast', 'المختص', 'والتجمع', 'نتشرفش', 'معيار', 'تاجيل', 'جعره', '9ahwa', 'ابتداءا', 'وبسم', '9elt', 'وباش', 'بالمرحله', 'ka3boura', 'ويتفرج', 'اخماس', 'tfeeeeh', 'نحسو', 'ومتربي', 'مساط', 'الالقاب', 'y3awdou', 'راجعه', '9edkch', 'يجي', 'mastoura', 'لوج', 'externe', 'السبيطار', 'محلا', 'ﻫﻜﻪ', 'ma5yet', 'meme', 'قويه', 'وهره', 'وتحيا', 'فيهن', 'بنك', 'سمير', 'تخلرولهم', 'والغريب', 'تحضير', 'واعمل', 'لايجاد', 'ﻭ', 'قطايع', 'البلاغات', 'algerienne', 'جنراليست', 'تعيط', 'يبولو', 'taadi', 're5em', 'الاستعدادات', 'صايم', 'قداقش', 'تتمزي', 'ichoufou', 'سءال', 'bendir', 'itc', 'وملابس', 'arka', 'بالامهات', 'virgule', 'لحق', 'ilkaboul', 'chharr', 'فضيت', 'نيفوا', 'yfadhelhellek', 'رخيصه', 'متعافي', 'مجلس', 'ikhalihwlk', 'الكلاس', 'توصلش', 'فيكون', 'مشا', 'فاءقه', 'نذاله', 'اسءلتك', 'وكلامو', 'nestanna', 'oueld', 'نحاربكم', 'و01', 'رخيس', 'يحتوا', 'يتيم', 'عضو', 'غفله', 'barchaaaaaaaa', 'ly', 'ومءسف', '9ouwata', 'بعثتلو', '9addech', 'جزاءري', 'قلقتو', 'تناسبوا', 'الدعاء', '8neya', 'سخاء', 'i5addmek', 'ريتها', 'بالمقرونه', 'بالخماج', 'لراسي', 'حاستك', 'grave', 'lt', 'يستعملوها', 'e', 'البريمه', 't3almen', 'يتروجلوا', 'nchlla', 'حطو', 'echriha', 'bisclette', 'الساعه', 'tnajamch', 'واسلوبه', 'بانڨلش', 'برامجكم', 'foyer', 'nebdaw', 'nassim', 'مره', 'تسبب', 'بانشوده', 'المناظر', 'ينتمي', 'nhessou', 'الملازم', 'ye7mi', 'responsabilité', 'سط', 'bayroum', 'masra7', '9olet', 'هوايش', 'البراميل', 'ومشاكل', 'fediiiinaaaa', 'واسعه', 'بصاراحه', 'fiddar', 'رجعو', 'لبعد', 'افواههم', 'تجيبهالنا', 'علاء', 'هكيكا', 'كثروا', 'تحيه', 'التقدير', 'ارضنا', 'لشيء', 'khaled', 'للميزانيه', 'زوفره', 'نستانو', 'ناخذ', 'للقيروان', 'التصويره', 'هزه', 'خرفت', 'reke7', 'me5yeb', 'ويناقش', 'teb3in', 'ymajed', 'نخرجو', 'pfff', 'nadha7kou', 'مالmilieux', 'الشرقي', 'العجرودي', 'فهري', 'يحللهم', 'مالطفل', 'يرميك', 'والمرضي', 'متواضع', 'الماديه', 'و80', 'tcharfou', 'والضار', 'نبدلو', 'مشكلتي', 'حققه', 'bou', '7othella', 'الاحساس', 'partaget', 'تسبوش', 'la3nett', 'مالاعلام', 'kalou', 'دقيقه', 'حفتري', 'مارجعلك', 'cible', 'التلقيح', 'العجاب', 'للمرصد', '7ar9', 'no8ltou', 'elwakil', 'na9ra', 'nrawah', 'mamsettt', 'lmara', 'مستلزمات', 'pfffffff', 'ybakki', 'نبيعوهالو', 'سعد', 'rou7y', 'متنوعه', 'atem', 'نفهم', 'وتتحرك', 'بوه', 'البوليسه', 'مقاطعتها', 'بسي', 'esoure9', 'ايييييييه', 'elfehri', 'wabna', 'maya9rach', 'a1', 'الافراد', 'te5thou', 'bot', 'encyclopédies', 'ملعون', 'تتطورش', 'yar7mo', 'نبذه', 'قمه', 'ابحث', 'كرثا', 'snee', 'مناظر', 'ragel', 'التمديد', 'rab', '5atir', 'tons', 'واليهود', 'rtx', 'قادره', 'شريف', 'تتفرج', 'bliiiiid', 'n9olha', 'istikalet', 'الفكر', 'تحكو', 'habet', 'لمسوتيا', 'frigider', 'واخلاق', 'القوم', 'bala3', 'والحيوانات', 'سارح', 'بفقد', 'الارجيكا', 'عقيدتهم', 'الواق', 'amoun', 'الشعر', 'تبلعيط', 'yerhamha', 'الرصاصه', 'لجدتي', 'kdam', 'واكثر', 'ye5dem', 'مرشومه', 'البنك', 'نصرفڨ', 'بافات', '3aref', 'تقدري', '9و11سنه', 'لعواء', 'متتعاملش', 'ارزاقهم', 'ynadhér', '3likoume', 'يغسلوهم', 'لانسيتهم', 'ooooh', 'يلقاوا', 'وامريكا', 'kouki', 'مالعفاس', 'سيستام', 'لصار', 'ماشاء', 'اقترافه', 'النفس', '5irrr', 'lotf', 'maynjmch', 'مثيره', 'ولایات', 'ترتدي', 'tlv', 'abd3tou', 'fri', 'يدق', 'مترجمه', 'wyn', 'التلخيص', 'ووقاحتك', 'عزيز', 'risque', '3atha9afa', 'مجهود', 'rbaht', 'تركيبه', 'السلاطه', 'تطيح', 'حديثا', 'خاااااييييييييييييييبببببببببب', 'موافقني', 'وسفاله', 'fatet', 'جيفه', 'المفيد', 'almakirine', 'le3sel', 'm3akk', 'طايحلك', 'تضعفيش', 'اصنع', '١٠٠', 'القرابه', 'اغتصاب', 'وبهيم', 'تتعلميه', 'المنظمه', 'ﻭﻗﺘﻬﺎ', 'اطنابها', 'وملقيتلوش', 'كعبه', 'mattsawer', 'الجويني', 'عسلامه', 'مرافق', 'لمتخلق', 'ahbet', 'lkanet', 'افكار', 'الاندلسي', 'استثماريه', 'lima', 'amel', 'التافهين', 'jabdinou', 'دافع', 'ومس', 'اجورهم', 'قدامي', 'chaditou', 'االزوالي', 'minek', 'zay', 'توفرلها', 'كمرحله', 'tha3louba', 'maaasta', 'القصاصات', 'الكومونتار', 'mitrobi', 'hamel', 'تحصل', 'نوب', 'yanjim', 'hal9et', 'تتسبل', 'سبعماءه', 'وشوفو', 'مطروحه', 'كرني', 'fdha7touna', 'فعلك', 'معدش', 'شهور', 'touz', 'الحداد', 'جاهل', 'القياده', 'للبلاطو', 'تشد', 'انمي', 'زلعاوي', 'تسحاب', 'r5issa', 'ta3mel', 'kloub', 'cravate', 'شيفد', 'يحفظكان', '3emla', 'يعطوا', 'صفحه', 'فيروس', 'tou', 'واسكنه', 'بنزرت', 'مشيتونا', 'يعتيكم', 'يسالو', 'ma3andha', 'تشتاقو', 'براسو', 'twa5er', 'willi', 'chi5a', 'اضايا', 'kafila', 'ظل', 'التقسيم', '9ahba', 'حضانه', 'yfataaaaaaaaaaa9', 'بجنن', 'الشرعي', 'المبارك', 'ياطروها', 'psys', 'البدايه', 'عاجلا', 'لملا', 'ماشءت', 'الimpact', 'تسخين', 'جهه', 'للانحطاط', 'saritlek', 'نقصو', 'aghani', 'الطرابلسيه', 'jareb', 'بدروسك', 'ytnsa', 'المسءوليه', 'mention', 'nerf', 'تنجح', 'الاتقان', 'خسره', 'iraqi', 'psychothérapeute', 'اااااناااااا', 'نضيعو', 'صباط', 'للعنبه', 'eses', 'nredlarri', 'seulement', 'rakkkkk', 'القحبه', 'mazelt', '3liiik', 'قلبك', 'المتبادل', 'المصادر', 'ضروري', 'عيييب', 's8ira', 'يقاصي', 'tiiiiiiiiiiiit', 'fahri', 'الدفن', 'يمنحه', 'بيت', 'سعدنا', 'لعمار', 'mekch', 'الجماعه', 'beyen', 'ستخصص', 'العجب', 'مالمتفوقين', 'يرتاحو', 'نتركه', 'mo5ek', 'wahdk', 'كﻻجء', 'الصحيه', 'ايامك', 'تركيزها', 'اتفهكم', 'تثبت', 'wahadha', 'imta3ik', 'لروحها', 'قررنا', 'والادله', 'ekrat', 'سخون', 'وشريكها', 'يناقش', 'الواقعي', 'الاكادميه', 'معنديش', 'مركزي', 'techniques', 'جهنم', 'tafhaaaaa', 'dois', 'off', 'هات', 'gigabyteryzen', 'العاهر', 'تجاوزناها', 'ebkolha', 'recommandation', 'دافيء', 'حلال', 'اتوانسه', 'ياااا', 'tou7el', 'bourjoulya', 'تتجاوز', 'بكنتوليه', 'mchit', 'عونتها', 'للحور', 'nalab', 'عماره', 'yetnefes', 'crois', 'دوي', 'ناااااااس', 'mahleeeeeeeeeeeeeeeeek', 'روح', 'توكلت', 'اكتافك', 'mechwem', 'خطبيبك', 'وميكونوش', 'المورال', 'na9aba', 'برافووووو', 'المتعافين', 'بالطريقه', 'regrde', 'ساعود', 'مفماش', 'اتكلم', 'لانسان', 'wel3ib', 'rassek', 'الدبوزه', 'amana', 'taswirtek', 'بعضه', 'fans', 'lbled', 'يستهزء', 'جيت', 'mummy', 'نفسك', 'صدقني', '9olt', 'الحق', 'مصادرتها', '3yich', 'ازمه', 'ازاحته', 'watan', 'اتشيخشي', 'enchall', 'وصغيرات', 'تطيحو', 'algérie', 'شيخ', 'kraiem', 'wa3ya', 'لاف', 'حاشتك', 'زردي', 'انقرض', 'وماركها', 'boite', 'بالانقليزيه', 'جام', 'لتجنب', 'حلفاء', 'ضميري', 'يامدام', 'aabed', 'لمناضليها', 'ابداء', 'تمقعير', 'نتصور', '9adechou', 'وقيت', 'y5admou', 'y9ader', '5atar', 'قالها', 'تعوضش', 'عجبتو', 'مخاطره', 'مصطلحات', 'management', '7145', 'والخاصه', 'hetha', 'hhhhhhhhhhhhhhhh', 'تحفففه', 'ye9adere', 'يتصنعوش', 'mahdouch', 'wna', 'ymathel', 'tabe3', 'ble', 'دولهم', 'يسال', 'جايبه', 'الحسود', 'ڨلڨني', 'السلع', 'حذاه', 'لاقرب', 'مبلغ', 'بالغناء', 'telbes', 'ميحشمش', 'facilité', 'ma3maltech', 'بلحاط', 'نسيتوها', 'trasilna', '7a9ir', 'chkawlek', 'مقول', 'godem', 'يده', 'sbs', 'مواد', 'رد', 'kmastin', 'كيمه', 'ta5let', 'yostrek', 'لابسن', 'cloon', 'مسلم', 'لكبير', 'نعرفوك', 'wa9teche', 'الكمامه', 'متزوجا', 'weldih', 'مزيه', 'eklab', 'tzalet', 'سروالها', 'توجعهم', 'mabslou', 'حمل', 'تقعدو', 'وبهاذهي', 'farekh', 'والمديرين', 'whwa', '5438', 'المقروض', 'الداعشي', 'stad3ouk', 'يخرجو', 'tabarkalh', 'فرشتوا', 'wna3mal', 'khaifin', 'فرد', 'الاثناء', 'y5ouse', 'pfffffffff', 'sabr', 'قران', 'عالنهار', 'zwewla', 'المناطق', 'اصطلح', 'zarba', 'gharbi', '20', 'nerbah', 'البروجكت', 'اخجلتنا', 'b3abis', 'تقبض', 'razko', 'الاحرف', 'جماعه', 'noksod', 'mahlehhhh', 'اتفرج', 'العدوا', 'فيك', 'سالتي', 'braby', 'هند', 'chou', 'للتفاهه', 'عاديه', 'تعلم', 'yehdi', 'فدلاك', 'khertha', 'ya5i', 'دينارات', 'والوطني', 'متحكمها', 'belhy', 'msakra', 'مليانه', 'الشمس', 'ak7el', 'قراها', 'mooch', 'mnk', 'والوسخ', 'ms2ouloya', 'thema', 'مطلب', 'may3jbk', '3aned', 'ykather', 'ياشيخ', 'وجهان', 'wejho', 'menther', 'تقول', 'makontich', 'ربار', 'نعت', 'نكتب', 'عندهم', 'znatir', 'تحبها', 'تذهب', 'baarcha', 'يالخو', 'يحلها', 'ﻏﺮﺍﻡ', '9aloulou', 'mt3hom', 'dik', 'المتابعه', 'mafamch', 'maandouch', 'dimention', 'اندادك', 'tkhalas', 'ونجاح', 'لشكيب', 'يكتشف', 'الغلال', 'مدنين', 'شهوتنا', 'تمشو', 'سقاط', 'mennek', '9alek', 'mandhrek', 'imoutou', 'واﻻعﻻميين', 'بالاخطاء', 'to9n3ouha', 'entty', 'awlad', 'entiii', 'اطو', 'الرحموني', 'للفساد', 'el3ordh', 'anniv', 'karek', 'فانيا', 'mskinaaa', '2500', 'كرااكوز', 'انفو', 'رذيله', 'كاايفون', 'الباب', 'يدخل', 'clip', 'smid', 'fouuur', 'الللللللله', 'sghayer', 'ylzem', 'نطمءن', 'testanna', 'thhort', 'للوالد', 'communicate', 'قيود', 'tchid', 'والاشغال', 'غادر', 'كفون', 'المطحونين', 'وقفه', 'lahas', 'grp', 'يكرر', 'متعت', 'ytii7', 'الغلطه', 'العملي', 'لحاملي', 'i3leha', 'tfoooooooh', 'الدكتور', '3omra', 'تركيبتها', 'rkeecht', 'قلها', 'zouuuuuuuuuuuz', 'tkhali', 'شرفه', 'بالكذب', '3ma', 'yifhim', 'هاربين', 'مدخول', 'عباد', 'الانذار', 'ضده', 'وبلله', 'التصدي', 'نزيد', 'تبنك', 'قصص', 'fiblast', '7outheela', 'التطوعي', 'ta9a', 'جزاءهم', 'elfan', 'ويلهم', 'احكيولنا', 'زرعت', 'قهوتي', 'وثقافتهم', 'badlet', 'يبلغكم', '3ejbou', 'صدورها', 'sketchetou', 'lmoumathlat', 'm3ena', 'types', 'tetchef', 'klamo', 'الايه', 'والاداريه', 'ithou9ouha', 'يهيء', 'ok', 'كتقري', 'جيعان', 'المثليه', 'naf5a', 'النكره', 'ماعنديش', 'مايحبش', 'عندكش', 'واقف', 'bennetttm', 'اسقط', 'adorable', 'مقل', 'y3ishou', 'yhawssou', 'tdha77ek', 'ledhyoufou', 'مجمع', 'youslou', 'اغذيه', 'الامين', 'toufa', 'ابدعتي', 'والمشاكل', 'سهريه', 'خرق', 'تمررونا', 'قعد', 'adidas', 'عالموضوع', 'يبانولك', 'mabrouuk', 'fele5er', 'ekwa', 'دينهم', 'lghadi', 'وبث', 'عمروا', 'ومفيهاش', 'laaziz', 'السنا', 'الاقامه', 'ضااامر', 'الفرجه', 'ساعه', 'وينسحب', 'awalan', 'ماااااااااسط', 'jibou', 'mlaaayen', 'fema', 'cores', 'زازا', 'ma5ybk', 'yarahme', 'الديبراسيون', 'مواجاهاته', 'فيكي', 'خلوها', 'زمزم', 'للاعلام', 'souti', 'الطاهرات', 'jrs', 'carrière', 'bedmou3', 'وادخل', 'داخله', 'لعلك', 'روك', 'انشاءالله', 'بالكعبه', 'وقتي', 'nedaber', 'khayb', 'تبيعو', 'معرفتو', 'جنيرال', '20والتكنيك', 'yltof', 'هواياتك', 'tekteb', 'وممتاز', 'fare5', 'جمممله', 'المضروبه', 'جراه', 'te5tar', 'hhhhhhhhhh', 'saidouna', 'بيضاء', 'mou7tarma', 'كارتونز', 'ارسلت', 'عاجبو', 'ديما', 'تجيها', 'chnoua', 'tlhit', 'النظر', 'منشد', 'خطر', '9ouloli', 'نظيفه', 'saïd', 'مربط', 'هالعطله', 'نااااكرهو', 'ysahel', 'لحبس', 'بالباطل', 'bbarchaa', 'عمالهم', 'ماصطه', 'مستغرب', 'msg', 'ومساهم', 'الاصليه', 'خيييييتت', 'يفرحنا', 'تقتنوها', 'tfooooooooh', 'ya7ki', 'يتوهم', 'للطلبه', 'قمار', '5omaijj', 'leima', 'ma3netha', 'غناتها', 'mabrouuuuuk', 'ttklm', 'manta9', 'التجمع', 'fhma', 'pratiquement', 'تخدموا', 'تستوجب', 'معظم', 'هجرنا', 'الاستعجالي', 'awbéch', 'snasa', 'رمضان', 'الابرار', 'comptabilité', 'يطول', 'لتمكين', 'malyoun', 'waslek', 'يغفر', 'ro7eha', 't7arkek', 'لعنكم', 'rebhet', 'المهين', 'فضحه', 'تخليت', '7abit', 'wee', 'lettre', 'enek', 'يكفل', 'ومعالجه', 'laa', 'وبزادك', 'catastrophe', 'lmochehda', 'عورتو', 'الكبر', '9retha', 'dimaaa', 'elkleb', 'تقر', 'بسرقتهم', '3adw', 'رجالك', 'mou5ek', 'ltbib', 'ضيوفكم', 'wa7sen', 'ابني', 'breze9', 'اقعدا', 'اعتبرنا', 'تقافه', 'عاشت', 'ممثله', 'سلع', 'تجاره', 'foug', 'خذيت', 'ترجعو', 'بمناعه', 'يتقبلونه', 'ellou7', 'ضميرو', 'tutorials', 'native', 'thawra', 'الطالب', 'يميلوله', 'exercise', 'بقي', 'كليب', 'الجودي', 'الزنديق', 'mamistou', 'mslkt8i', 'le7la', 'mchallah', '3ssal', 'rihom', 'فرصتك', 'رياضه', 'معهد', 'a7san', 'مكتب', '3idak', 'يحقق', 'sa7', 't7aded', 'maaaaaaaaaaaaaaassssseeeettttttttt', 'البهيمه', 'yetvalida', 'جباره', 'sitcom', 'الصرد', 'الزعتر', 'عالتفاهه', 'وذليتونا', 'تنبرو', 'يفعل', 'nachra', 'مسار', 'ڨمره', 'score', 'مراجعه', 'المنسي', 'بيدك', 'twari', 'معاناتها', 'اوعلوم', 'chna3mel', '7keya', 'كاراكوز', 'tfihh', 'نضري', 'اخدم', 'فالو', 'نقول', 'عقدتكم', 'قدااه', 'نقص', 'emwabna', 'ywasloulhom', 'لانهم', 'ilah', 'chkara', 'العزيز', 'التخلف', 'المبادره', 'opportunité', 'ضربهم', 'مجهوداتك', 'المقيمين', 'b7aja', 'المواطل', 'm3izz', 'ytay7', '3alia', 'شكل', 'الهشاشه', '3ibbbb', 'والنهضه', 'latbrklhm', 'بدينا', 'ghriba', 'aham', 'chrifa', 'bidaya', 'بالحاجات', 'اخذنا', 'الخوامجيه', 'yasseeer', 't5abi', '3adabek', 'الاختبار', 'وتحاول', 'عينوا', 'يشاهد', 'monadhel', 'ٱلنخب', 'jaafer', 'حنان', 'finou', 'chisemha', 'اريانه', 'المشهد', 'laseeeeet', 'رواريه', 'se3a', 'سليم', 'الكسوري', 'hbet', 'benesba', '7assb', 'نندب', 'historique', 'تنظيمها', 'biiha', 'فتره', 'انشاء', 'يحي', 'cha3be', 'tosterna', 'hossain', 'fommou', 'jour', 'mgharba3', 'غنات', 'choufli', 'عركه', 'lmou9aouel', 'زياد', 'وقتلك', 'جواعا', 'قصير', 'hadhamtou', 'الصيدليات', 'ستاس', 'ظروف', 'كليناعليه', 'يدافع', 'فهالخامجه', 'يعاني', 'اهداف', 'اقترحت', 'ذكريات', 'masa9tou', 'دعاء', 'يطلبوها', 'basta', 'وثقيل', 'تفوووه', 'والخمج', 'نعاود', 'يزعجه', 'يفيق', 'titfakrou', 'salime', 'قحاب', 'ystrna', 'نفاذ', 'الكباءر', 'الاستباقيه', 'متراتيهاش', 'يهديك', 'chkon', 'مانجمتش', 'يافاسد', 'bari', 'nkalemk', 'تتقال', 'ينسيكم', 'ومقابل', 'يرميكم', 'خليهم', 'eka', 'يفضل', 'gloub', 'lezmik', 'الذاكرون', 'بلغه', 'بنشاطه', 'rziiiiiiiiiiiiiiiiiiiiiine', 'inhib', 'الفوضي', 'وانتومه', 'mayhemekch', 'التقنيه', 'توحشن', 'netfaraj', 'tewahachnek', 'na9essna', 'بقات', 'weli', 'الرياضيات', 'amanaaaaaaaaaaaaaaaaaaaaa', 'لزك', 'ونطالع', 'متجسد', 'مكرم', 'finition', 'wejh', 'lezmou', '5watriii', 'sarli', 'elkalb', 'ليلتك', 'jib', 'الكاميرا', 'اﻻكرمين', '3melek', 'حشمت', 'عمرها', 'للغنوشي', 'والروبورتاجات', 'الشوري', 'التنازل', 'taaref', '3jebtni', 'اضحي', 'brortx', 'تفووووووووووو', 'ilayhi', 'mewed', 'صراحته', 'زيت', 'لحرف', 'asfall', 'تقديم', 'التحاليل', 'اصيل', 'n9oul', 'رهوت', 'البارده', 'وزراه', 'رجعت', 'netouj3', 'للدنيا', 'الشعبهيا', 'الاحياء', 'اولويه', 'مدرسه', 'سكورها', 'الثري', 'تماما', 'تدريسك', 'تتقري', 'مضمونه', 'مبكيتش', 'yezziw', 'الحمل', 'lilou', 'saha', 'kolchy', 'mochkel', 'يتوقع', 'mrakeb', 'bravoo', '9oulet', 'الاشياء', 'مالنوع', 'حبي', 'الصحيفه', 'la7as', 'الجزء', 'الصحه', 'todkhol', 'ejwame3', '9albha', 'تنحيلو', 'tfouuuh', 'malfouf', 'ااكورونا', 'bâtiment', 'ويستحق', 'mosalesal', 'وهكا', 'اخساره', 'ويفكيرنا', 'البارا', 'تليليري', 'الاختصاص', 'نهاءيه', 'تقتل', 'mridha', 'والانشطه', 'السقط', 'concours', 'collège', 'مليكتو', 'صعب', 'callbacks', 'العباد', 'الصغار', 'يعجبو', '5rof', 'ايديولجيه', 'انسانيتك', 'taawnou', 'تسجيل', 'مللخر', 'رمي', 'colier', 'mar5sik', 'واتجاوز', 'الترسيم', 'لمجرد', 'اتي', 'تلعب', 'لخري', 'maram', 'الناءب', 'ganat', 'الشامله', 'دواه', 'اضطروا', 'الخبزه', 'touristique', 'الاعادي', 'تخمامك', 'وضعيتها', 'تقرير', 'قادر', 'ساميه', 'يحميه', 'صديق', 'محرم', '3indhom', 'tfiiiih', 'الزمان', 'مدامنا', 'mzlna', 'mowaten', 'عودتنا', 'yete9bal', 's7i7', 'تخلط', 'trj3ou', 'hhhhhhhhhhhh', 'بنته', 'لكنني', 'lblad', 'مفيده', 'بلستو', 'تغلبوه', 'barjoulia', 'kawik', 'تعاونيهم', 'nod5l', 'مايغلطش', 'طلبا', 'الجنون', 'محتاج', 'مزيانه', 'las7ab', 'اهمها', 'تستنا', 'mebeldek', 'mat5afouch', 'مريشه', 'bechlayek', 'نتعلم', 'français', 'هاربه', 'elmarzougui', 'الوصف', 'مختاجين', 'اجيب', 'قرض', 'الدلتكا', 'b7thena', 'دار', 'rapeur', 'فله', 'mnawer', 'لاستيرادها', 'حمله', 'تخسرش', 'الاستهزاء', 'يستنا', 'هزوا', 'ajebtni', 'walw', 'y3tiha', 'spontanée', 'بحراره', 'صغارنا', 'aide', 'تفكير', 'yammimti', '2004', 'wrgoud', 'لوطي', 'مايتوب', 'نوريك', 't7elha', 'يشوفها', 'تربحبكم', 'حصل', 'والفل', 'يحمل', 'يتحمل', 'استعباد', 'وخايبين', 'hiye', 'disponible', 'esh', 'ودواء', 'برهان', 'البهيم', 'قويين', 'jdia', 'سر', 'والحارزه', 'dar', 'بماخير', 'للاخت', 'بصغيراتكم', 'fachlin', 'nsaya7', 'تنبح', 'fikem', 'شله', 'صرفه', 'عسله', 'w3andi', 'jeee', 'te3jebni', 'والرجله', 'البطم', 'الضيوف', 'الدعوه', 'خوك', 'ajiel', 'etfoooooouh', 'والقا', 'mleyektou', 'maaaaaaàaàaaaaaaaaaaaaaaasseeeeeeeeeeeeeeeet', 'بالوحده', 'احفظها', 'تحبي', 'بنين', 'يهتموا', 'yechbhou', 'dentiste', 'انجح', 'youm', 'لبرشه', 'formations', 'ثانيه', 'نشا', 'جمهور', 'sakrou', 'مايجيش', 'يعني', 'واحفظ', 'العدو', 'كالعبيد', 'اجلهاوالحمد', 'شرع', 'madame', 'tjich', 'يرفضو', 'pffffffffffffffffffffffffffffffffffffffffffffffffffffff', 'aa', 'raj3hom', 'نتوكل', 'وحطو', 'تلوج', 'والافضل', 'bel9asem', 'ell', 'والمراقبه', 'متلاهيه', 'di7tou', 'روحهاا', 'être', 'mekhdhin', 'يتجاوز', '3lyha', 'مفيهاش', 'السرور', 'يومان', 'motourat', 'مالحاله', 'الاولين', 'yezik', 'jihed', 'a3ml', 'بففف', 'تدافعون', 'صفه', 'toshiba', 'وياسر', 'التامين', 'الاقنعه', 'fli', 'as3a', 'الثواب', 'النهدي', 'ذوي', 'بالامس', 'لبلاد', 'dépend', 'تتعطي', 'مشكور', 'تجربه', 'البايه', 'مخيبك', 'etude', 'y9ra', 'تكفله', 'تقبلو', 'تشيخ', 'dimo9ratiya', 'وليه', 'التالق', 'nrml', 'بالعقل', '11مليون', 'nekhdmou', 'minumun', 'jazayer', 'ytaya7', 'السادسه', 'مكسوره', 'raw3aaaaaa', 'maaaaaaaaaaaasssat', 'tha3leb', 'تفووووووووووووووووووووه', 'ﺍﻟﺨﺒﺰﺓ', 'belhak', 'مستحقين', 'خالي', 'موقف', 'يخشي', 'ووفقو', 'جعبه', 'mnawrin', 'ناقصو', 'مترجم', 'mandharhaa', '9alb', 'الشعبيه', '5omej', 'تفووووه', 'المراااا', 'اقتصاد', 'فرض', 'استطاعوا', 'mouche', 'هاءل', 'الشمطاء', 'يتكلموا', 'يتولاكم', 'nokba', 'احترتماتي', 'tda5llouna', 'يفضلهم', 'elii', 'برجي', 'ماذكره', 'استاذها', 'parameter', 'lbarra', 'mnha', 'jad', 'الامكانيات', 'mhalli', 'فرصه', 'w9tek', 'المتخلفين', 'cha5siytha', 'moumathlin', 'تفففففوه', 'ارهابيين', 'قاطع', '5alil', 'اصلها', 'نحبوه', 'tffffffffffoh', 'hhhhhhhhhhhhhhhhhhhhhhhhhhhhhhhhhhhhhhhhhhhhhhhhhhhhhhhhhhhhhhhhhhhhhhhhhhhhhhhhhhhhhhhhhhhhhhhhhhhhhhhhhhhhhhhhhhhhhhhhhhh', 't8nni', 'جيبنا', 'féhri', 'ريس', 'مزاودي', 'technique', 'rayan', 'نحبكم', 'ma3dnous', 'kilmhebel', 'samara', 'mete3ah', 'الاسبوعين', 'عرف', 'elmaghreb', 'لفضكم', 'نتعاقدو', 'مجربينها', 'mriiiiiiidh', 'na9esskom', 'مسوده', 'صخطه', 'mata3refech', 'عينت', 'التكنيك', 'مبروك', 'طيار', 'اولها', 'الشيب', 'للمتشددين', 'a3mil', 'hayawan', 'e8riba', 'حديث', 'نشارك', 'ياباشاه', 'att', 'بحبي', 'عباره', 'سهام', 'وزد', 'soghri', 'علسها', 'wil8acha', 'الطوارء', 'nejah', 'محتاره', 'يدوم', 'لترويكا', 'ichabhou', 'انشا', 'امافي', 'قاطعوا', 'الرياضيه', 'رواحها', 'لاتر', 'cheddou', 'shiih', 'برجوزي', 'metfhkom', 'مرحي', 'يشرب', 'ahkili', 'تولي', 'soignante', 'ياعاهره', 'فو', 'باعانه', 'tgharabt', 'اسمو', 'l5rouj', 'lmaset', '7oudoud', 'تناكت', 'مللا', 'ye9ef', 'بتفهات', 'تستضيفو', 'mayarjaa', 'ص', '3aychk', 'adwar', 'بالتسلح', 'het', 'وكذاب', 'عدها', 'لبنات', 'fa3leb', 'yahfetheha', 'رميه', 'بتعاليقو', 'majééét', 'astra', 'enes', 'العبثي', '5alli', 'قضي', 'اعتماد', 'كلمه', 'يدمر', 'رجعوا', 'tekrah', 'وغدوه', 'جربوع', 'السدره', 'بالهلموضوع', 'تقوعير', 'يفيدوك', 'الغفاص', 'متواطءا', 'يومك', 'branche', 'احلل', 'methakf', 'le3tibar', 'thi9a', 'wa7dik', 'تليكوم', 'ينرفز', 'يفرك', 'de5lin', 'bonsoir', 'bracha', 'quadcast', 'ta77an', 'زواليه', 'لبنان', 'mlkedheb', 'tounes', 'licence', 'وتزحليق', '9haba', 'السبسي', 'ماااااصط', 'kamcha', 'ظامر', 'اطار', 'نقعد', 'lbrness', 'بالخيرات', 'ننعت', 'cherih', 'وراءهم', 'médecine', 'machyia', 'matjich', 'لاجدادنا', 'lmounaf9in', 'echer', 'mastet', 'android', 'm3alia', 'الليبيون', '3ayla', 'ترفه', 'اسود', 'عرس', 'تفسرلها', 'وخاصه', 'n3adi', 'نعاني', 'semantic', 'attttfffah', 'lyem', 'tsalla7ha', 'يستبهل', 'to5rej', 'وتدير', 'معللللللم', 'lehnee', 'xdd', 'riyadhiya', 'اوت', 'itsakir', 'مبقالوا', '3000s', 'العضمه', 'sakerou', 'mthebch', 'المتراج', 'ترتاح', 'القيمه', 'ichib', 'نسبه', 'سلك', 'mayarech', 'مجتمعاتنا', 'شهريا', 'يندم', 'lijebik', 'bacharr', 'ترويح', 'jma3et', 'يعمل', 'غرابان', 'اشبيكم', 'شعلت', 'فبيضي', 'فزدت', 'ra7mouni', '9taya', 'bo7mid', 'نبزق', 'wa9tha', 'يسهلك', '7afla', 'ﺍﻟﺬﺑﺢ', 'wilaya', 'احجامهم', 'ارضيه', 'ماعندكم', 'زلتوا', 'سته', 'دورهم', 'brou7ek', 'تشرفك', 'وكلام', 'ياخسارتك', 'donnėe', 'rallonge', 'loutfi', 'للمءسسات', 'المقابل', 'بناتكم', 'تخرجهم', 'يوهان', 'yarhamhom', 'وقعدلها', 'tala3', 'lmoda', 'باجور', 'محلاهم', 'موبنه', 'السنين', 'ybarek', 'للعموم', 'موروووووووو', '3am', 'nidhal', 'النظاف', 'يربطك', '3like', 'netcharfou', 'moselslet', 'نعاودو', 'حمير', 'اكاك', 'وعينيك', 'كريوك', 'erja3', 'رءيسها', 'يعانو', 'استثناءيه', 'aand', 'محدوده', 'الكبلوات', 'nebse9', 'ygeddoulek', '7ftrich', 'قنبله', 'الامور', 'ماعندهاش', 'الجهويين', 'حطك', 'تحشي', 'ويدافعوا', 'حافظ', 'بالثوره', 'توضيح', 'thess', 'tho3fet', 'قفاف', 'mwej3ii', 'قلوب', 'لاااا', 'dawrha', 'fashel', 'والف', 'عيدكم', 'masetin', 'تبقي', 'مثليين', 'جبري', 'متجرع', 'اهلاك', 'علما', 'hammou', 'قطيع', 'وتعبد', 'كرزه', 'قضيه', 'ytha7kou', 'قرارات', 'ma9ssouss', 'السعيداني', 'والخيانه', 'للاخر', 'active', '3asla', 'lmafrouth', 'احتفلات', '3a9lya', 'ltounsia', 'الاستغلال', 'جويليه', 'sarf', 'شوفي', 'براء', 'mel9it', 'mo3jza', 'ااي', 'ثعبان', 'blé', 'مواطن', 'lazemni', 'gharmou', 'الفاضله', 'للتكفل', 'اللهما', 'الصباب', 'y3aweni', 'ابوهن', 'دكتاتوريه', 'انواع', 'يجبر', 'تلطف', 'لمبوط', 'ينظف', 'وزهره', 'fautes', 'يحددش', 'm7alyitha', 'mak7out', 'dzair', 'الكتابي', 'bark', 'متخرجين', 'تشيكيا', 'احترم', 'بكورونا', 'southa', '5eritou', 'صناع', 'شمبنزي', 'مزوديها', 'المخزون', 'tkoum', 'erez9', 'rotba', 'رخص', 'الطياره', 'تظهر', 'لعمليه', 'يقبل', 'kit', 'جبران', 'شني', 'klemhim', 'l3ilaa', 'عكسي', 'هالمخلوق', 'firansi', 'امامنا', 'dawra', '5ouh', 'الشريفات', 'يعملولهم', 'pffffffff', 'elmojtama3', 'ﺗﺴﺘﺎﻫﻞ', 'ma39altouch', 'بالtva', 'ybarak', 'مليءه', 'الامه', 'mihrath', 'kerthaaaaaa', 'ijikom', 'يصونو', 'ڨاره', 'ra5sou', 'el7a9i9i', 'ياكاراكوز', 'speakers', 'nlawjou', 'fellil', 'يعملوا', 'كبشتو', 'shih', 'رجوليتك', 'غناك', 'sayab', 'یا', 'الحرب', 'horra', 'وهما', 'zahhh', 'لاله', 'فلتات', 'زاااايد', 'hasetha', 'مامي', 'e3333', 'البهامه', '9otlou', 'bdit', 'نعرفوهمش', 'الجلسات', '3amla', 'يلزنا', 'aalyhom', 'فدلكتو', '3echrinet', 'a3tina', 'والمنافقين', 'terb7ou', 'fechel', 't7in', 'وشعبهم', 'nawefll', 'بالخدمه', 'كريار', 'na9ib', 'habit', 'baba', 'tma3ach', 'يبخل', 'نحاولو', 'karakouz', 'ياخميسه', 'kethb', 'تتعطل', 'الوالده', 'lourall', 'واسقط', 'tfouhhhhhhhhhhhhhhhhhhh', 'معندكش', 'مكروهه', 'الحديث', 'سكرتيره', 'عايش', 'ال6', 'فووووووووووووووووووور', 'yal3ab', 'sotha', 'اسبوش', 'المدير', 'bitbi3a', 'asslou', 'مضروب', 'ضحكتنا', 'يكتل', 'اقسي', 'شرفاء', 'tefeha', 'la3bed', 'نسيتو', 'قدم', 'القاضيه', 'تمويل', 'jebo', 'تبوح', 'مشجعيها', 'يتبني', 'halwjouh', 'الياس', 'جلسه', 'treb7ekkkkkk', 'يبيعوا', 'خاطيه', 'وزني', 'hassen', 'والترييش', 'يارقاص', 'الانجليزيه', 'سكبان', 'بارد', 'متوازنه', 'فالشء', 'ضهرت', 'تكعررو', 'وانليانغ', 'ath9el', 'lmochkla', 'b3aadhha', 'تحقيق', 'خبزه', 'الاجوبه', 'يتمقعرو', 'wkhayenna', 'جاوني', 'المخلوع', 'يجدث', 'فطره', '9aswaett', 'mlih', 'يحفظو', 'grand', 'افصحتي', 'wahid', 'tfa9ed', 'télévision', 'merciiii', 'استفزازا', 'مندرك', 'l3amin', 'تاجل', 'raj3elha', 'يخدم', 'فسادكم', 'yihlikom', 'وتشكيك', 'matbadel', 'isbabit', 'arfa3', 'اوطي', 'جواب', 'بالصغار', 'المتخصصه', 'صغيره', 'chaima', 'ادم', 'ياهمال', 'يحسنولك', 'robinet', 'yaouman', 'tabda', 'تفيە', 'باللغه', 'ايس', 'تاليفون', 'kraymi', 'بالوش', 'yeeeeser', 'قمت', 'chouha', 'sitkom', 'تذحك', 'ليوسف', 'تلغميجك', 'اطحين', 'تام', 'jebik', 'sourdi', 'peut', 'يحبش', 'ربح', 'نكتبو', 'poop', 'winkom', 'tatla3', 'واعمال', 'برنامج', '0000', 'فرقت', 'للتكوين', 'سدرين', 'ناشط', 'يحبونا', 'lebar', 'استباقيه', 'بقاز', 'يضيعو', 'الرياحي', 'n7ib', 'العرض', 'والالحاد', 'rouhi', 'التزوير', 'المطالبه', 'المتطرف', 'tafahaaaaa', 'la3mor', 'مسسستويات', 'الامنينين', 'ya3mlou', 'تهمزو', 'بالوقت', 'wmarakek', 'تقمر', 'ياڨبوط', '5anek', 'نختلف', 'الاقل', '3ankom', 'درابكي', 'مفبركه', 'شوفنا', 'ارفع', 'w9ef', 'تقنع', 'sa7ra', 'يصدق', 'yt7amlou', 'yeltef', 'قلوا', 'brravou', 'ياتي', 'bladana', 'الوطني', 'الاشاعه', 'dyma', 'ترتقي', 'ch9allek', 'il3afas', 'wasel', 'پارتو', 'يحييك', 'البرلامان', '3346', 'وينجحو', 'aenten', 'يوميا', 'تندمو', 'الcss', 'w5maj', 'يساند', 'tetsawer', 'الهند', 'derwich', 'للدفاع', 'mal9it', 'اللعواك', 'formateur', 'elwahf', 'يلمو', 'الذكوررا', 'jalouli', 'وقذاره', 'باسله', 'وهف', 'confirme', 'محروقات', 'يختارو', 'وقول', 'مستواها', 'خاطرو', 'كافه', 'دومان', 'بالالقاب', 'nwasi', 'العرب', 'طالع', 'فذه', 'ausbildung', 'الطفل', 'fé7at', 'يعطيني', 'sifa', 'مطار', 'torebya', 'توريه', 'بالتاجيل', 'الادويه', 'lemsa5', 'ياخويا', 'الصفه', 'بنت', 'ibnathom', 'ميعرفش', 'يكشف', 'ثقه', 'ntouma', 'config', 'يلن', '560', 'tasks', 'e5r', 'احبها', 'وماشي', 'نتمسكو', 'وبدا', 'elbeb', 'لباهي', 'chics', 'séries', 'nhather', 'الوحده', 'titgas', 'omha', 'siassi', 'متعاطف', 'فيبالو', 'تفد', 'مظاهر', 'زيتونه', 'بعيده', 'ya7fdekem', 'الاوان', 'عاود', 'مجرمي', 'التاسيسي', 'نعمله', 'الاعداديه', 'والاسلاميه', 'قلتها', 'تحطمون', 'ومنحطه', 'اصول', 'استشاريه', '7okoma', 'mch', 'زايد', 'baji', 'الهيءه', 'بدنك', 'بقدر', 'ritou', 'الزوالي', 'بسعرها', 'nikilhom', 'تروجو', 'yomrdhou', 'مول', 'الزاءد', 'التصاور', 'وقفلي', 'لخطا', 'ويرزقهم', 'هههههههههههههه', 'nebki', 'لحصولها', 'باراشوك', 'adhika', 'قومجي', 'احترمو', 'مبادره', 'ràbii', 'جيعانه', 'الكتاب', 'يتعدا', 'كبيره', 'النهضاويه', 'يرزقك', 'مستوايه', 'ihachem', 'فايقين', 'بعهد', 'nessss', 'رضوان', 'هالغمه', 'ثبتوا', 'بالقدا', 'نتسمعش', 'كلمات', 'choufou', 'منظرك', '9estek', 'المسءولون', 'المسلسلات', 'لااااا', 'فالمدن', 'الخير', 'الزبيب', 'زحي', 'زنجبيل', 'bela5as', 'المام', 'dabrou', 'floussek', 'اخضر', 'm3jbetnech', 'leswesra', 'netfarraj', 'salma', 'يضربكم', 'يسمحنا', 'abonnement', 'النوع', 'هلكك', 'badnek', 'اتجاجيه', 'keleb', 'meken', 'حسونه', '9ares', 'المحرك', 'metwadha3', 'algorithme', 'mahlakom', 'nas', 'قرون', 'يتضرب', 'ناقصين', 'وبعين', 'تقدمي', 'مشرقه', 't7ot', 'drive', 'ومجله', 'ريتش', 'دزاير', 'المتفجره', 'العال', 'للاخلاق', 'yar7amhom', 'ع', 'عملتهم', 'raiset', 'mas', 'تكوينيه', 'تحسو', 'يحفضكم', 'يمدحك', 'yfadhalholk', 'eri7a', 'يجالس', 'منورتنا', 'nitmenew', '7ajja', 'تشليك', 'طحانت', 'حشاد', 'حبه', 'لمكان', 'بروده', 'احكي', 'فسق', 'marzan', 'el7a9rtx', 'yetkalem', 'مستقلين', 'ببيع', 'dyeli', 'met5al9a', 'shwaya', 'entreprises', 'mat9adrouch', 'temthil', 'تبيعوها', 'الانترنات', 'وذن', 'yé', 'بحيث', 'للخير', 'romthan', 'diplôme', 'qadesh', 'r5iis', 'اقنعي', '9erd', 'اطلقت', 'مستوا', 'lezeem', 'noghlot', 'sayi', 'hakasidkoume', 'wyochrob', 'chbik', 'elhajer', 'بالحاضر', 'yrabouh', 'شيفتا', 'التنقيص', 'نصنع', 'وثقه', 'يطلعولك', 'فرق', 'ناضج', 'وتعبر', 'اجعل', 'يجوع', 'اخلاق', 'وش', 'ماشو', 'هزو', 'للءتلاف', 'لول', 'لاغلب', 'انيق', 'rawwwwwwwwwwwwwwww3aaaaaaaaaaaa', 'tcontacti', 'yetkalam', 'simonii', 'يقولوا', 'تورد', 'ايييه', 'عفويه', 'ااحكايه', 'تفرهدنا', 'fek', 'kabout', 'section', 'الstock', 'ينشر', 'ya3mil', 'bliiiiiiiida', 'هاذو', 'يطمءن', 'ملفقه', 'الحضاره', 'وكتله', 'الصحن', 'ونشتاق', 'عامله', '5dmitha', 'langular', 'yosterna', 'اجري', 'ابن', 'note', 'نحكو', 'امنوا', 'تحبهابرشه', 'sa7bi', 'حبيت', 'y7awel', 'تحتج', 'والصبه', 'خص', 'hotel', 'ستشعره', 'makher', 'لايخشي', 'راتش', 'تعجبو', 'chaaayy', 'اساءه', 'm3allm', 'yser', 'والاخلاق', 'طفل', 'والت', 'التفاهه', 'مبروووك', 'bleda', 'دمت', 'منعرفها', '5irlk', 'نني', 'مهف', 'سفساريك', 'عفش', '3kla', 'سروالك', 'العدل', 'nnn', 'tayaraaaa', 'frayer', 'يولد', 'اتنبر', 'bibliothèque', 'طبيعتك', 'اعمالك', 'm3ha', '7yety', 'nekeraha', 'ابنها', 'الظاد', 'امانه', 'تضيفوا', 'يتمنيكو', 'الضيق', 'saa7bi', 'majitou', 'اتصور', 'ااعربيه', 'تبين', 'الانتفاع', 'يدبرو', 'النطق', 'يلقي', 'yejbed', 'mata3jebnich', 'la3an', 'ياسبب', 'بقبوق', 'samii', 'بردلي', 'المفروض', 'حقرت', 'متسارعين', 'tnaajem', 'rwuhitha', 'المتمعشين', 'sayeb', 'matahchimch', 'yestanou', 'لوليد', 'ركبها', 'wafretha', 'tbarkal', 'حنين', 'غي', 'wmatasma3', 'ya3tihoume', 'ملك', 'عملانا', 'chrit', 'rala', '7aal9aa', 'ne5dhou', 'غﻻء', 'خدمتو', 'تفهموه', 'maryem', 'الاجير', 'عربيه', 'تنعتوه', 'ندعيلوا', 'عصابه', 'واصر', 'ma3azha', 'maya3rech', 'beji', 'تلفزي', 'قارس', 'محلي', 'tnjamech', 'غه', '7assen', 'twslk', 'اسف', 'العقارات', 'مسمومه', 'inoubak', 'm3afet', 'ilghanouch', 'اخوته', '3andou', 'المهني', 'انجليزيه', 'يسالوه', 'نشاء', 'tbi3ou', 'الرخ', 'mcharfna', 'تستدعاو', 'ميراثك', 'رجعتو', 'ryehi', 'والعاءله', 'الممثله', 'm3alem', 'ba9atlou', 'شتخدم', 'ممشيتش', 'tbadel', 'kapanga', 'films', 'hatena', 'زايده', 'mass5a', 'a5tar', 'غريمك', 'الغربه', 'saaaaahbi', 'ma2sat', 'wboul', 'ضوها', 'الشاذه', 'fikome', 'المجرمون', 'داءني', 'بصدق', 'wzir', 'wa9tach', 'تجاوزتوش', 'منفع', 'صالح', 'lijabeti', 'منعناش', 'فخرجتلك', 'هاالممثل', 'massage', 'talks', 'تعاير', 'نشيخ', 'cuda', 'اخرا', '7asan', 'da5la', 'نعيمه', 'ysaker', 'وقتلو', 'يمرض', 'اليهود', 'الشله', 'المعاملات', 'ar5es', 'eb3ed', 'امكانيه', 'مراحل', 'صرحا', 'مالمستحيلات', 'حكيت', 'ودستورنا', 'لارضاء', 'yhmlo', 'henen', 'فرحت', 'n7ibou', 'يقولوها', 'shilli', '3malhom', 'ammouna', 'rajil', 'رفيق', 'mabslek', 'يشكو', 'تلفتونا', 'weslou', 'دبي', 'يامسخه', 'تستحي', 'بالكورونا', 'ووقاحه', 'تجبدو', 'جملي', 'يامعذبهم', 'yetmanikou', 'tet7ab', 'dayouth', 'مبلدك', 'metrebi', 'الجاءحه', 'توجيه', 'ناعقه', 'gabes', 'hhhhhhh', 'نحمده', 'المبدا', 'التاكد', 'بلغلط', 'ورحوع', 'concour', 'بالcss', 'ahmed', 'العمليه', 'طوفان', 'm3akm', 'بالحاج', 'جاونا', 'e7tajjina', 'الرقم', 'احصل', 'تفتن', 'العالمين', 'ye7mik', 'يونسك', 'la7doud', 'ميزان', 'نظرو', 'بالتنسيق', 'tasfi9', 'cinario', '2600', 'nchoufo', 'اتفوه', 'اعمي', 'نترك', '9wiy', 'contaminés', 'aidekom', 'taa7aaan', 'المراجع', 'الهول', 'خواتك', 'صلاه', 'اعتذار', 'fre', 'اجوبتها', 'a3outh', 'yezeeebi', 'نستر', 'يطالبون', 'zeeda', 'لفاءده', 'شفتوا', 'ارزقنا', 'نبي', 'ywafa9hom', 'kalounna', 'طل', 'الخونه', 'be3d', 'تندم', 'mkalba', 'raye7', 'okhra', 'والقمار', 's7aybi', 'يوخياني', 'يملسو', 'mellou', 'الاعتصامات', 'الجديده', 'talta5', 'مشكلتنا', 'تنفيذ', 'العشاء', 'massetttttttt', 'n9ayed', '3aziye', 'عمره', 'مكنتي', 'مبارك', 'صهاينه', 'وماعرفتش', 'yhlikoum', 'ياصتار', 'البرق', 'هالكلبه', 'الماط', 'fair', '7iwaer', 'كور', 'والحسد', 'امثال', 'sidek', 'بقوت', 'سالم', 'machi', 'raw3a', 'بقدره', 'الكثيرين', 'idahik', 'a3tawkome', 'السبيطارات', 'كانها', 'تعليقي', 'مطلوبه', 'تفووووووووووووو', 'انذار', 'wjeh', 'rimzzzzzzz', 'مكوناتها', '9rayaaa', 'والديه', 'ويحبو', 'ma3nahom', 'تاافه', 'غلاء', 'wasil', 'sfax', 'معتوه', 'وجيبولنا', 'tijim', 'قايم', 'الفاشلين', 'الجهويه', 'وصوره', 'اشياء', 'zedaa', 'منتجات', 'المتربيه', 'الليبيين', 'تحاليل', 'essence', 'يكسرها', 'ﺍﻟﺤﻮﺕ', 'هالزوز', 'شدو', 'التفوريخ', 'ٱليه', 'تاااااااااااااااافه', 'mast', 'ماندمت', 'لقدموا', 'خطبه', 'wa3y', 'متعلمه', 'ياتحفون', 'تقلقش', 'وقلبو', 'بالبرنامج', 'مسالك', 'benzart', 'هذاكه', 'بالعضم', 'يحس', 'متكلماني', 'remez', 'itanbir', 'البانكه', 'فسادا', 'ml9itch', 'معجب', 'الدنياء', 'راقيه', 'الدوله', 'نندبوا', 'meeeeezeeel', 'تقري', 'وتراشق', 'يحرمو', 'يهزو', 'kadach', 'ينكحها', 'sedi', 'nansahkomech', 'ياسر', 'barawah', 'مانحبش', 'اللحمه', 'نلتقي', 'قروب', 'whaaaat', 'وعلا', 'celui', 'القضاء', 'anné', 'ysa3dou', 'خيرلك', 'ومتخلف', 'عذاب', 'تفكيرك', 'يجبد', 'الانحطاط', 'ministre', '114', 'منحطه', 'eco', 'العلمانيه', 'toussel', 'نتفرج', 'wram', 'الكريم', 'bein', 'احكم', 'tbarkala', 'لتربحهم', 'massette', 'yahfdhoulk', 'زادتك', 'اعليكم', 'lfesk', 'a3lik', 'facilement', 'massat', 'صبو', 'ميولاتها', 'الماسطه', 'تناسب', 'ارنا', 'ظاهر', 'متحلش', 'lbiologie', 'سبحان', 'الزما', 'يخمموا', 'ولينين', 'ايمانك', 'حلقه', 'لتسجيل', 'ابعثلوا', 'bethabit', 'ماااسط', 'يخليهم', 'madhabik', 'التزويد', 'bts', 'maaaaamstouuuu', 'بصريح', 'o5roin', 'فواحش', 'اصحابي', 'اختصاصات', 'بزي', 'نمشي', 'مال', 'الضحك', 'te5ou', 'لابناءهم', 'm3aya', '2024', 'ويحلل', 'ghali', 'nheeeebhaaaaa', '3aml', 'طلبه', 'توتو', 'tji', 'بالكلمات', 'يعملك', 'thahk', 'والمساحقه', 'itbarkalah', 'emmas5in', 'succès', 'nawartnaa', 'ça', 'الحرق', 'ème', 'goul', 'ylzemna', 'مصاريف', 'واضحين', 'العفسان', 'ونقول', 'yonsrek', 'عاطفي', 'لمن', 'balf', 'rien', 'داءما', 'ودستور', 'انتخبوك', 'ولخري', '03', 'ﺭﻭﺣﻚ', 'nsa', 'وحياتك', 'ومتخلق', 'ميحشم', 'واجب', '7aad', 'يرضي', 'n3a', 'bous', 'naaref', 'lezmek', 'مقزز', 'hez', 'mouchkla', 'مزلا', 'الاداء', 'هرج', 'hadheka', 'nal9aw', 'ماليوتيوب', 'مقرونه', 'مفتاحك', 'مستشارا', 'كونو', 'الادبيه', 'يحترم', 'الغاز', 'cité', 'حو', 'ثابته', 'مايجيب', 'يكثر', 'يركز', 'sa9et', 'fhemtech', 'ihannikom', 'الابتعاد', 'iaacc', 'طبيبه', 'واشرب', 'ebkir', 'akhaff', 'taamloush', 'العبيدي', 'للساقيها', 'ettajamo3', 'thniyetha', 'الباحثين', 'سكرلها', 'مضحكه', 'hja', 'ظحكه', 'حزمه', 'masite', 'tmarky', 'arj3la', 'تفوا', 'وميبون', 'زوالي', 'النوم', 'na3rif', 'انهيار', 'لبيض', 'خلقو', 'متابعه', 'sidkom', 'تفو', 'yaaraf', 'وهادفا', 'khaletha', 'jey', 'يسيبوني', 'nji', 'pr', 'تدان', 'حيط', 'يتقن', 'يطلبو', 'كعيبه', 'powerful', 'barvo', 'بورقيبه', 'وخرابها', 'omeke', 'friends', 'projet', 'والعباد', 'ela9ta', 'يستعملش', 'te7med', 'wbi', 'tely', 'والسفاهه', 'متخرج', 'وامه', 'chneya', 'وتولي', 'shyh', 'ifadhleeek', 'للتجمع', 'فنان', 'floooooop', 'الجنرال', 'يازين', 'appart', 'خيييت', 'التفاهات', 'نافخ', 'ضيقهالكم', 'ببروفيلها', 'وخليك', 'الرسمي', 'وقحب', 'منهكه', 'qualité', 'والتشجيع', 'تكفل', 'راديكالي', 'يجلطنا', 'b3ad', '7yatek', 'yawén', 'belah', 'mamssatha', 'ايناس', 'رسم', 'التمثيل', 'وصغار', 'يشتموننا', 'مازالوا', 'tothbet', 'المستقبلو', 'douée', 'itfiiiiiiiiiiiiiihhh', 'هشلاكه', 'ليش', 'والتوفيق', 'تلفوني', 'وشلاكه', 'وبنه', 'lensen', 'لاهي', 'الخنڨه', 'والاكيده', 'تشعري', 'liik', 'تلقاه', 'logha', 'مخيبووو', 'tejri', 'افقر', 'sourmoumkom', 'première', 'sraftou', 'infirmier', 'كرهناهم', 'يزيوا', 'كرجل', 'الاحتياجات', 'شهر', 'الحبيبه', '3sal', 'اعضاءها', 'non', 'gassarnia', 'bssaraha', 'تتزعبن', 'تحترمش', 'فبحيث', 'يصبحوا', 'haiya', 'صبلهم', 'وطحان', 'راسي', 'aamlouha', 'nefhmou', 'الكتابه', 'mmstou', 'الحاجات', 'الحوارات', 'jibouln', 'مجنونه', 'marat', 'lt9olk', 'ماتتقبلش', 'للتصرف', 'اجراءاتها', 'tkassa7', 'afchel', '5alit', 'عاهرت', 'waliiid', 'ويعطيه', 'nosobrou', 'ارتاح', 'مكعبر', 'برانشيت', 'الناصفي', 'عروض', 'bilgdé', 'رينا', 'بنيتها', 'felafriq', 'معندكم', 'برافو', 'اصابت', 'ميقفش', 'الشهيره', 'تخوف', 'قتلي', 'tetmayez', 'ahsen', 'زمانو', 'yjim', 'البرميله', 'لكلمه', 'y9olouh', 'عيك', 'بااارشا', 'recruiters', 'نفسانيا', 'meeereg', 'براافوا', 'mechyaaa', 'nehb', 'تاسعه', 'بعينيه', 'ne9iiib', '3andekch', 'زيدها', 'وتشريد', 'tiiiiiiiiiiiiiiiiiiiit', 'بهيمه', 'اجر', 'malhet', 'fiblaste', 'ferjeni', 'خماج', 'باعاده', 'الحصان', 'yara7mou', '5600xmazel', 'tol3et', 'سءالي', 'dnc', 'امصط', 'الاسبانيه', 'ntfkr', 'wnechri', 'respect', 'a5er', 'exactement', '7a9k', 'bedhabbet', 'ta3refha', '7oriyetkm', 'nee7eeebb', 'تستراسيش', 'dit', 'مراا', 'تاكلش', 'moihra', 'توجه', 'مخنثين', 't5adem', 'وشربه', 'janet', 'neftakher', 'déclaration', 'يابهيم', 'الشعب', 'ومنافقات', 'makhyeb', '10gen', 'ولديكم', 'اوووف', 'yar7emhem', 'ghalla', 'مشاركتو', 'animateurs', 'اللغات', 'a9al', 'مشاله', 'تجاوزك', 'dawarha', 'قرايتي', 'وتوظف', 'الرابعه', 'staget', 'ناحيه', 'نحس', '7alet', 'يحالف', 'استعمالها', 'التوالات', 'enfant', 'شيبات', 'فهل', 'سال', 'kachfen', 'هالفن', 'nessmalive', 'انشقاق', 'وتاج', 'وحارزه', 'شراءها', 'برنامجوا', 'talbes', '9alo', 'يوفي', 'تعلوق', 'هرهوت', 'نايا', 'chbabna', 'masatha', 'coeff', '9aryetha', 'نضمو', 'مالبلاد', 'تصدقي', 'mnawerna', 'والم', 'السبعه', 'مءسف', 'bidon', 'الدكتوره', 'ب990', 'وضعه', 'matkabrhech', 'التوجيهي', 'دجاج', 'الانسب', 'fama', 'مطورين', 'naemel', 'نادم', 'ناس', 'fdha', 'bidhohk', 'style', 'ma3likch', 'wooh', 'مرحله', '3alli', 'تعاونيه', 'يد', 'نجاعتو', 'الارهابي', 'cha3b', 'esmha', 'العينات', 'تشهر', 't9oul', 'والقرا', 'm3ndeha', 'الغثيان', 'دايره', 'الحزام', 'حليب', 'radiotorax', 'protège', 'اعباد', 'شكلك', 'zamani', 'لوط', 'صبا', 'caméras', 'wsalm', 'بالاحر', 'fassadtouh', 'لمعكوس', 'نعملهم', 'ykhamou', 'وساكنين', 'وشي', 'جيست', 'تبعتلو', 'مبادءه', 'متعيش', 'ولديشتلعب', 'امسط', 'مليان', 'ايمانا', 'هاذوما', 'sel3a', 'للحاجه', 'hataa', 'مزيد', 'tefja3', 'اتعامل', 'taaaaaaaaaayaaaaaaaara', 'dt', 'تاكدوا', 'لخويا', 'a5errrr', 'انحبوش', 'فنانه', 's9ata', 'يقيدوك', 'اوخرين', 'السلامه', 'mn', 'لڨيت', 'comentaire', 'يهديها', 'يلقح', 'الثقه', '3abir', 'ومانستناوش', 'نصرف', 'اعمالكم', 'ghady', 'خذتلي', 'وصلني', 'تكوين', 'ye5dhek', 'الكادوات', 'مسختوها', 'mechefech', 'الاصدقاء', 'دراويش', 'lhas', 't8alat', 'ودافع', 'brabiiiii', 'leklochara', 'الكومنترات', 'اعقاب', 'يداااااااااااااااااااااااافع', 'couleur', 'نفيدك', 'اعتزل', 'الاواءل', 'كليت', 'chaaaaay', 'libsou', 'مختار', 'weldikom', 'ﻋﻠﻴﻚ', 'masque', 'لاسيغال', 'بالانتيريس', 'وفقكي', 'shneya', 'l7aja', 'راحتها', 'القوي', 'maajebnich', 'ادله', 'akraha', '8m', 'يصرحو', 'ماجوره', 'يموه', 'ta7annn', 'ydef3', 'يتعلق', 'بالسيييف', 'بالحليب', 'chey', 'ارياف', 'kamsha', 'يبكي', 'mil', 'coach', 'nahdi', 'ensena', 'متفجر', '6h', 'متاكده', 'المقصد', 'تساوي', 'الاكسيجين', 'trabahkom', 'بمرض', 'mawetethech', '5mira', 'نسال', 'محسوب', 'تكسرولنا', 'يطرد', 'lk', 'حلات', 'قدام', 'الانجاس', 'maallém', '3rafet', 'رمحك', 'عالمرزوقي', 'مد', 'فترهبطاله', 'تعميره', 'علام', 'ومسكتش', 'المعتوه', '7ajtou', 'ماسسسسسطططططط', 'ghadi', 'بول', 'moment', 'الدفعات', 'ouine', 'حصلوا', 'الاهم', 'iya', 'ghalta', 'اوجعت', 'يمشون', 'الانيقه', 'nas2l', 'tetfaker', 'عجبني', 'البراق', 'jo7ri', 'توري', 'والطاهر', 'اكتوبر', 'تقبل', '3andik', 'وقداه', 'بالسهل', 'هدفه', 'بطبعه', 'ستوصلون', 'a5yb', '10000000000', 'jewbtek', 'yoro5sou', 'المقرونه', 'القاضي', 'باعوا', 'الحثاله', 'ممثلين', 'برواحكم', 'alhw', 'قانونيا', 'privé', 'عقم', 'نهزو', 'مااحلاه', 'الهايكا', 'ساكته', 'm3aleeem', '5ommej', 'لازمكش', 'wdes', 'يتحطش', 'المجراب', 'بابا', 'لسعيد', 'ععع', 'يالله', 'التسريبات', 'rouh', 'akel', 'فضحتنا', 'قنواتنا', 'للامه', 'sahria', 'yheb', 'الشغب', 'انتهي', 'يحبها', 'مقبول', 'ااساعه', 'اكاهو', 'sitkoum', 'اليم', 'mate7chemech', '3aychin', 'يحلو', 'y9olk', 'الهب', 'na3mhom', 'اصبت', 'laka', 'akekaa', 'بالامثل', 'المحروقات', 'zamalek', 'جيبولنا', 'يتسمي', 'yammasa5', 'تحترمنا', 'tfffih', 'الفكره', 'واغبي', 'live', 'بمخ', 'v', 'تغير', 'mli7', 'تفيدك', 'محبوش', 'اتصلنا', 'ndhifa', 'birjouliya', 'nawfil', 'مخيف', 'ترحملو', 'شوفوا', 'ka7a', 'عالزنديق', 'ولخرا', 'افففففففففففف', 'الحدوديه', 'يسمحلك', 'akal', 'الماجور', 'اللفت', 'يشاء', 'halbhimmm', 'طماطم', 'وخمم', 'مريظ', 'maaaaaaaaaaaaaset', 'sidak', 'binssba', 'تستاهل', 'يصلحو', 'سلمات', 'bravoooooooo', 'صارتلك', 'اللحم', 'ويرزقهن', 'النوادي', 'مبلعه', 'matzidch', 'la3nitt', '7ta', 'خساره', 't5abih', '132', 'sartli', 'هجره', 'الشغف', 'بعديد', 'زيدهم', 'krichi', 'cons', 'ظرف', 'klet', 'بحملات', 'lmoubi9at', 'tfouuuhhh', 'jmal', 'برو', 'غصبا', 'bac', 'marocco', 'اختبارات', 'شارنيكول', 'tele', 'يبقي', '5mejjjjjjjjjjjjjj', 'الفساق', 'ammmmmmman', 'kolo', 'قيمتو', 'épreuves', 'بالكاشف', 'ساكتين', 'للهوه', 'للدفعتين', 'تطلع', 'قنعنيش', 'التصرفات', 'المعلمين', 'وتغير', '3titou', 'tamthiilek', 'rejal', 'وباهيه', 'تكبر', 'yohmel', 'موجود', 'امننا', 'الاحداث', 'mit2akda', 'دجيو', 'كركرها', 'alikom', 'الجامعه', 'عرست', 'n7il', 'وحارب', 'الاكثر', 'الfrançais', 'فالح', 'باستمرار', 'جزء', '5ayba', 'الدوس', 'نقييب', 'اامناطق', 'القطاعات', 'تب', 'يكتب', 'جهلول', 'والناس', 'تجينا', 'yfadlek', '3liiiha', 'يحميك', 'na3mbou', 'aaref', 'nrawhou', 'وحله', 'وممبعد', 'بالسرطان', 'na3lboukom', 'خايف', 'حاله', 'ومحترم', 'm3afta', 'بوتوكس', 'o5ra', 'فقطعند', 'فديت', 'kdhah', 'ذنبه', 'momathla', 'نقلها', 'يرحمها', 'مناظرامقلبه', 'الكريدي', 'يادياثه', 'temthilha', 'twali', 'mtha9fa', 'ytala3', 'ويحميهم', 'champion', 't5alef', 'bjnb', 'ماعزه', 'نكاح', 'ur', 'روحو', 'وتتغير', 'بالرعب', 'ناحيتك', 'الابله', 'يمجد', 'tbda', 'والدعاره', 'مامسطها', 'ysa3adhom', 'الماسط', 'واخزك', 'جسمو', '7alha', 'وعافيه', 'soupe', 'كوميدي', 'الهابطه', 'khelefa', '3zouza', 'غرمو', 'yechfiiih', 'dimensions', 'جيش', 'touled', 'sayyedet', 'منوره', 'بساطه', 'مصطها', 'بابره', 'ech3on', 'نتصورها', 'اليس', 'تمثيلها', 'واهل', 'جمعيه', 'وتونسيه', 'clio', 'رضي', 'صريح', 'ورسوله', 'مثلي', 'اساسي', 'matkhedmetech', 'y3anbou', 'امه', 'deep', 'منواا', 'deuxièmes', 'نراك', 'تصنع', 'ضمار', 'yi9blouh', '3alii', 'ماسطين', 'لنهار', 'لاكثر', 'lbaz', 'يربحاك', 'تموينيه', 'نفسيتها', 'mjless', 'لوفاه', 'بالكور', 'يبحث', 'يحفضهم', 'saas', 'حموده', 'modh7ek', 'فحصتك', 'bal', 'اكفلهم', 'ywaslik', '3ahid', 'docteur', 'benajm', 'المتاع', 'ومثقل', 'مكان', 'ﻓﻴﻚ', 'metfahmin', 'talkaw', 'rouhk', 'chitane', 'عظيم', 'اللحاسه', 'yejina', 'momathel', 'وقفاف', '9rit', 'mhabat', 'it', 'chirrira', 'عطانا', 'اتفووووووووه', 'درجه', 'beeeeef', 'مستواهم', 'hayra', 'hedhy', 'فسقا', 'الشيخ', 'tsaker', 'tfo', 'امضي', 'اللوبيات', 'hackathons', 'وريه', 'لاتحاد', 'وصي', 'واشتري', 'والانجاب', 'فاضحين', 'ببروده', 'سعدي', 'ma3jebnich', 'yet8ram', 'whiya', '3le', 'غسلو', 'mousalslet', 'كتجي', 'torbit', 'الرداءه', 'jabri', 'de5la', 'شهريتها', 'اضربوهم', 'ملاتساكر', 'yetelhe', 'الاخلاقيه', '5thyt', 'رقابه', 'راسه', 'شالله', 'amsset', 'منسوبه', 'franc', '23malyoun', 'foukehiin', 'mais', 'karim', 'مامدي', 'يكونوا', 'wael', 'حضنو', '5alik', 'اطباء', 'اتيمه', 'الذوادي', 'اتحدث', 'bilhakk', 'ماتسمع', 'يعاود', 'عالاقل', 'belmochta', 'kah', 'تضحك', 'em', 'المساحات', '3000d', 'متعديه', 'عيشوشه', 'ﻋﺒﺎﺩﺓ', 'tala9i7', 'ma3jabounich', 'يسمعكم', 'تبعها', '5sarteeek', 'noumrou', 'فاضله', 'ﻓﻴﻪ', 'الارتيكل', '3awen', 'والبرامج', 'وشنوه', 'قادم', 'alger', 'jed', 'promise', 'leklam', 'ماكينه', 'تحلم', 'bousta', 'مصلحتك', 'nb3ed', 'mouro', 'baradtli', 'الحاصلو', 'تجيش', 'عاقل', 'شعبيه', 'lformation', 'achref', 'غرب', 'matbadalch', 'شرفها', 'القوبسيه', 'kater', 'dawereha', 'واجتماعيا', 'matansawach', 'تقال', '9a3det', 'مخاطر', 'ومستوي', 'التحضر', 'للمربوط', 'تلو', 'ضايع', 'ghnaya', 'matatin', 'lo3ba', 'قالولها', 'ابنا', 'محترما', 'massekh', 'تتعداش', 'وقف', 'نعرفوها', 'تحرر', 'puffffffff', 'جتي', 'tva', 'يوصل', 'ya3tik', 'اذاكا', 'متضيعوهاش', 'ltw', 'hrisa', 'remza', 'vu', 'يعرس', 'تاريخك', 'عسلامتكم', 'b9drt', 'تتفاعل', 'faemch', 'واقرا', 'خليتهي', 'rappeur', 'يرعاه', 'باسم', 'l4oneya', 'سمحمد', 'بطبيعه', 'كاريزما', 'wejhou', 'erhabiyine', 'تعرفهم', 'ليفريزون', 'development', 'خخخخخخ', 'kelb', 'nekhdhouh', 'yechfiih', 'خبراء', 'sghar', 'marche', 'ابي', 'واق', 'جيتونا', 'mayrkebech', 'يتلاهاو', 'تواعضوا', 'مخها', '7yeeeee', 'تردد', 'الفنان', 'ya5thou', 'yitfarej', 'وصلش', 'خلصلي', 'chheda', 'darha', 'خلاف', 'abjel', 'والرب', '7abeb', 'بترفيع', 'ichrifa', 'majach', 'mleyén', 'fal7in', 'msaybin', 'mafhemtekch', 'تفكيري', 'njeh', 'math9al', 'نحسها', '124', 'حسوش', 'استنا', 'تن', 'هيبات', 'منحاز', 'net3alem', 'ونفاقهم', 'tal3', 'المسموح', 'فيحق', 'مهنه', 'يسترو', 'الخطيه', 'وتحقير', 'تحارب', 'lm3alem', 'داير', 'التاسعه', 'الفرق', 'مرضي', 'حليلك', 'jibbbb', 'مثال', 'الاخرين', '7keytek', 'مايسواوس', 'kabboul', 'bzyzed', 'te3ek', 'tunisiair', 'دت', 'ledarja', 'الاوليه', 'اسال', 'التكهم', 'nl9a', 'الكور', 'همه', '7ayawanet', 'بالفورماسيونات', 'ايعقل', 'يشعل', '8000dt', 'فالدين', 'تخصيص', 'وسبيل', 'لاااااااسط', 'انعدام', '7doude', 'لوقت', 'يتحماو', 'mamseto', 'الانفلونزا', 'مخلوف', 'جروب', 'الخالده', 'la3sel', 'yedchadech', 'n9oulou', 'اقلك', 'وفكتلوا', 'السميك', 'فاسد', 'بانه', 'الفاضل', 'berasmi', 'wl3ib', 'نفسر', 'سوء', 'الفضح', 'ﻏﻠﻮﺍ', 'احترامك', 'يهلكوا', 'يعتذرو', 'ولاد', 'يعتيك', 'chien', 't5arjha', 'kfeh', 'الاحذيه', 'المدينه', 'خايييييببببب', 'الافكار', 'nasitom', 'يدور', 'rajel', 'sle7', 'مطيحه', 'nika', 'oustri', 'نحب', 'mariouma', 'الكاءن', 'غلاب', 'blanc', 'mekich', 'الناجح', 'وانصياع', 'باااارشا', 'nom', 'تحشماها', 'tir', 'nawar', 'rtx2070', 'balstik', '10w', 'bra', 'jeybinou', 'اوصلوا', 'بقايا', 'irhabi', 'يظحكوش', 'rzin', 'حيد', '5raw', 'ilkolou', 'wa7dak', 'مستعرفه', 'الكلب', 'te5dmou', 'karhbtk', 'حشاكم', 'ابليس', 'الجاهله', 'yal9a', '7atta', 'bilhag', 'فرديه', 'وللرزق', 'wjiha', 'wej3ouk', 'تورين', 'الشطر', 'صالحه', 'yelzmek', 'تشغل', 'marché', 'لمستواه', 'ochrob', 'اليوتيب', 'بالكراسي', 'وجمال', 'اكتب', 'نموه', 'تخمم', 'latofti', 'i5tar', 'wab2e', 'montant', 'وضروره', 'atrous', 'touhkem', 'مبرووووك', '3tithom', 'علمتش', 'bezzin', 'تعتمدش', 'يخوف', 'تحسبني', 'معرسه', 'واليه', 'mou5rej', 'une', 'evenement', 'رجعولنا', 'محلها', 'warkt', 'مكنك', 'ضيعتو', 'مءبده', 'kamsh', '3ssaaaaal', 'ikoun', 'matehmdouche', 'صاحب', 'ya5ouya', 'جايبينها', 'yej3lou', '27مارس', 'قلولو', 'شكوني', '7arek', 'betharoura', 'الحينيه', 'défaut', 'le9wiya', 'بالدول', 'klemik', 'المحلي', 'برعايه', 'hakk', 'العظام', 'lzmk', 'mahezla', 'adet', 'fdhay7', 'والقوادين', 'المتعاملين', 'تنخيه', 'تبنيهم', 'اضعت', 'صغيرا', 'النطيح', 'e5sousi', 'بحالنا', 'النهيق', 'هالحاله', 'to7kom', 'تلد', 'ورحمه', 'هلكت', 'nasalou', 'يضر', 'nraha', 'المضحك', 'bliiiiiiid', 's2al', 'لخواتك', 'نظاف', 'نهضاوي', 'n', 'lkalb', 'استرنا', 'بونتوات', 'ya7sab', 'nej7a', 'تسمي', 'rio', 'inhebha', 'عزعزت', 'مدي', 'ادري', 'يعطيها', 'النقاش', 'lekbir', 'yt3lm', 'tkhamam', 'تفرزو', 'darou', 'houdoud', 'السند', 'ماتحطش', 'allemagne', 'wnchalah', 'ارخص', 'نثل', 'bouh', 'ولايوجد', 'ndhonha', 'اجوبه', 'نتفاهمو', 'كثرلها', 'عداها', 'تربحه', 'العطله', 'شبيحا', 'الجو', 'توب', 'qoul', 'ميترو', 'bledd', 'شلكت', 'تالمون', 'tar9aha', 'وسع', 'inaccessible', 'salaire', 'للاتك', 'متحسنتش', 'والشبكه', 'اطحنو', 'tedfa3', 'صارلك', 'tor7', 'تعمروا', 'موبنا', 'العاءلي', 'echbik', '9awi', 'والباحثين', 'ندعم', 'البحيري', 'القاسم', 'ونبعد', 'اضافات', 'ومحلاها', 'belgda', 'magistrature', 'عرفناه', 'masla7atil', 'matsm3', 'yelzem', 'الزح', 'السيفي', '3alem', 'تفلفل', 'z3im', 'الاسراع', '6300', 'kalb', 'باعلام', 'وتضرب', 'ايمان', 'المصابه', 'الplateforme', 'لفريق', 'ناتن', 'bliida', 'المضيفه', 'gtx', 'زهونغ', 'الكرسي', 'practice', 'فسرلو', 'تكتفي', 'زيمبابوي', 'بالعلم', 'تجيز', 'ta7ane', 'خوانجيه', 'igram', 'berrasmi', 'brjoulia', '7yyin', 'نعاونك', 'خذه', 'mafmech', 'وبكل', 'تحياتنا', 'عده', 'ifarij', 'menni', 'وسرقها', 'تخلطش', 'اقنعو', 'ماتنجح', 'بففففففففففففف', 'immassekh', 'تركز', 'tekhtar', '5demtk', 'نختار', 'تسمع', 'بدلت', 'sayerlk', 'سيتكوم', 'بتونسي', 'الندوه', 'فاصل', 'احتراماتي', 'تستني', 'خليكم', 'jarbou3', 'للاستاذ', 'a5ta', 'loula', 'للنضج', 'منووور', 'methleeya', 'تركبهم', 'اولادهم', 'اعداء', 'مستشفي', 'خوياا', 'انواعهم', 'يعمللهم', 'شماته', 'bésla', 'اصدراتو', 'الماسوني', 'tafeha', 'bacha', 'عشاه', 'wheya', 'nagezz', 'احتقرك', 'kia', 'nakrhek', 'chapeau', '١لي', 'منحبكش', 'تلزمه', 'حسبت', 'يفطروش', 'raka7', 'azal', 'بالواجب', 'passé', '3ala5er', 'mae9fou', 'ahama', 'tath7kou', 'المواطنين', 'yraja3li', 'الاعدام', 'القرءان', 'tfouuu', 'belle', 'يسالك', 'y3awen', 'الاخوه', 'nafa', 'الممرضين', 'اختها', 'wyfathelk', 'تجاهها', '9asm', 'mathrouba', 'اري', 'عين', 'مهني', 'عندكمشي', '9albik', 'البشريه', 'wji3a', 'عريت', 'بوها', 'fal', 'بطبيعتها', 'bravoooooooooooooooooo', 'bessah', 'بفففففففف', 'قليلات', 'وكف', 'الكلبه', 'بصفه', 'زعبان', 'hkeyet', 'لومه', 'lebsitha', 'man3ak3kou', 'هزيتو', 'elgerd', 'البركه', 'ومشروع', 'صغيراتك', '7oumti', '7ye', 'خدماتها', '5adem', 'يدهش', 'mayakdar', 'مسخوها', 'rwe7kom', 'طفوله', 'يتفينس', 'دخيله', 'نعتزل', '3omrik', 'والاقحاب', 'fas9a', 'وتفرح', 'نعجه', 'للطرفين', 'تطمءنوا', 'لوبن', 'fola', 'thezouha', 'بماء', 'le3bad', 'tit3ada', 'البيانات', 'behima', 'mazornakomch', 'maritech', 'الاخلام', 'firen', 'barch', 'باهت', 'السيت', 'dream', 'انسحب', 'منتوجها', 'رخيص', 'ta3ml', 'معملتش', 'يكلب', 'المتقدمه', 'nakraaahhaaa', '3maltoulna', 'الديمقراطي', 'يامهبلهوم', 'metrobbi', 'الايضاحات', 'kairouan', 'hmd', 'karahni', 'قليل', 'ابنك', 'ijahl', 'ويتكفل', 'المعلن', 'يتحاسبش', 'manfou5', 'ميوعه', 'والبهتان', 'الوزاره', 'الموعد', 'marra', 'بءساء', 'sem7', 'اهز', 'طالب', 'بقيمه', 'يتلهي', 'mte3y', 'ynik', 'وفرحانه', '7asilou', 'تدعون', 'تنقسوا', 'الازل', 'بالحالات', 'prv', 'nejbedlk', 'bedharoura', 'stock', 'البرلمان', 'وعدنا', 'لبخدمه', 'قارعت', 'خليو', 'للنقد', 'badr', 'تتناطحوا', 'تشويهه', 'sél3a', 'وسبلو', 'نحاسه', 'المنحطه', 'mazélt', 'عراقي', 'ettounsi', 'انتماءك', 'روحه', 'للتقليل', 'القران', 'لعمله', 'mo5ekk', 'والكره', 'مسحوق', 'تعب', 'امشي', 'tn', 'يشدو', 'barhom', 'mot', 'lassit', 'تلنصي', 'تحليل', 'حبو', 'متعبه', 'zab', 'سوري', '3alamiaaaaaaaaa', 'مقعار', 'amthelk', 'الحريه', 'azizti', 'ينظر', 'هالمناظر', 'استغفرالله', 'توليو', 'صوابيه', 'التفليم', 'وحوش', 'sramkom', 'تطور', 'طايح', 'mafamma', 'ahad', 'ادرا', 'طفيهم', 'يمشيش', 'الحلو', 'باللاهي', 'وينعمو', 'نخب', 'kifouuuu', 'الملفات', 'دوليا', 'نفسي', 'endi', 'enikek', 'تعفس', 'et3acha', 'ومحلاهم', 'التافهه', 'والاه', 'zok', 'n3mlouha', 'ارهابيه', 'kalbett', 'يخليهالك', 'عرسلو', 'lektiba', 'للصحه', 'الصوناد', 'marekkkk', 'تا', 'الحرباء', 'الحداثه', 'حياه', 'وبينو', 'tefchel', 'الدوليه', 'شرب', 'خانقو', 'خطورتها', 'للموضوع', 'kin', 'تافه', 'رمزا', 'maghrouma', 'rkik', 'لحظات', 'dentaire', 'شيمشي', 'طيبا', 'ilcheb', 'جيبوه', 'tetdhaker', 'netfakarha', 'tkounou', '5wet', 'سعده', 'chnouma', 'mou7awalet', 'صقيطه', 'selket', '3aych', 'tkabch', 'male', 'غرابه', 'luck', 'nous', 'ورحمت', 'ravi', 'نشجعك', 'lmossalssal', 'اوسخ', 'عﻻقات', 'sa5ifa', 'استثناءي', 'source', 'lmostachfa', 'fissa3', 'and', 'سكرو', 'eddar', 'lwafer', 'ta3ti', 'ميدان', 'انحب', 'بالاسم', 'ettounsiya', 'tet3amed', 'ثيقه', 'الجيل', 'nlwj', 'كبارات', 'تحل', 'جلودكم', 'الميزانيه', 'kabartoulou', 'kiif', 'wya3mlou', 'fann', '9sassat', 'dha7ka', '7aloub', 'wéssir', 'وتكفلو', 'اللازمه', 'مقتنع', 'kadeh', 'للعمل', 'بداعي', 'matfout', 'chléka', 'فالي', 'yatel3ou', 'الصينيين', 'الفاظها', 'الاستدعاء', 'fibali', 'كريوكا', 'lebes', 'tofla', 'التوانسه', 'بالمواد', 'tajrba', 'مادامها', 'damha', 'ligne', 'a3az', 'بياع', 'ma3jabnich', 'يتمتعو', 'ywaliw', 'celtia', 'اخخخخخيت', 'مكانه', 'بفسق', 'l3ayla', 'partition', '100000', 'بابنات', 'العشرين', 'زعيم', '3assal', 'حياء', 'يسمع', 'chlayek', 'تتراقص', 'مسلسله', 'تهدر', 'للوقوف', 'torbitou', 'bahya', 'ksara', '3a9al', 'عهرات', 'différentes', 'koulha', 'بالجنيرال', 'ليضل', 'tkt', 'njm', 'ميت', 'تكوينها', 'بالانترنات', '5dm', 'baa3d', 'اكباش', 'برمجتو', 'marwa', '7ote', 'لبوهم', 'الرزق', 'المرا', 'a7la', 't9os', 'تطلب', 'm7lahhhhhhhhhha', 'بلاءك', 'bilel', 'gunek', 'واختها', 'club', 'بيوم', 'بالزيت', 'makontech', 'لاترفع', 'ينبر', 'يفتح', '3ejbouh', 'mamsetkom', '3likeme', 'نشكر', 'ne5dem', 'lougha', '7awlou', 'ممصط', 'كفر', 'الاعتداء', 'مقاسهم', 'souték', 'matehsed', 'l9ta', 'ولمخل', 'باب', 'الرحمه', 'mamssit', 'مفتفته', 'الامني', 'romdhana', 'محرمه', 'tew', 'echleka', 'حرت', 'لازموا', 'esana3', 'yched', 'انتقام', 'يحرفو', 's5oun', 'hassbona', 'b3athna', 'احسان', 'madem', 'ابناء', 'تعطيش', 'ta3raf', 'الدواء', 'serious', 'راسها', 'نهاق', 'كوببي', 'lazmik', 'araftush', 'تفففففففففوا', 'افكاره', 'mech', 'hedhom', 'm3alel', 'wmihmkch', 'lotfiii', 'لايليق', 'yre9', 'tfouuuuuh', 'يتعاد', 'z3ame', 'msatta', 'o5ti', 'الامرين', 'صوتي', 'تعرس', 'ارواحها', 'مرسوم', 'الفني', 'نتفرجوا', 'jwadou', '9ronfol', 'صدمات', 'tesell', 'اللبه', 'زادت', 'يتمدرس', 'mamsteh', 'yhem', 'الواقع', 'mostawe', 'مصالحكم', 'مواتيها', 'ارذل', 'التنافسيه', 'matsm3a', 'ثريه', 'ماستارنا', 'كملوا', 'عينك', 'wajd', 'تلقطو', 'لحب', 'المسخين', 'متراهمش', 'الحسوه', 'علاقات', 'الباقه', 'semi', 'قاعده', 'كريم', 'تبدل', 'تضهر', 'ywaslou', 'تكنكتي', 'اسابيع', 'القصه', 'yi9addir', 'ومرمزها', 'se7a', 'زميلات', 'تدعي', 'arfi', 'far7a', 'قايد', 'تسترجعي', 'الديموقراطيه', 'تنقاشها', 'اوفقو', 'yarhamou', 'غلوه', 'congélateur', 'لعايشه', 'المتفرغين', 'غنا', 'خرج', 'عدنا', 'ماتتفرج', 'لخرين', 'تعطيها', '8ousa', 'العلم', 'الاذاعه', 'وماتخافش', 'mayrakch', 'tfat9999', 'وقحه', 'السرقه', 'rose', 'chaklek', 'يهلكك', 'ومتمكنه', 'التراويح', 'وعبد', 'لتتغيري', 'الماليه', 'وذويه', 'ejma3a', 'تمنيتك', 'انبزتني', 'ساقط', 'el9owa', 'احلاهم', 'maia', 'الاتفاق', 'a10', 'يتمني', 'irjal', 'amssat', 'مينك', 'massssttta', 'نبينا', 'العياشي', '5idma', 'افعالها', 'خنافرو', 'jabtou', 'اختصاص', 'السمع', 'معدتي', 'رايهم', 'يشخصلك', 'وحتي', 'مفروض', 'مدينه', 'yostrna', 'raw7i', 'mesakra', 'قصه', 'ﻧﻬﺎﺭ', 'فلعدوه', 'ولازم', 'sql', 'يخبي', 'dabar', 'her', 'مركز', 'wilkleb', 'chlekka', 'التحاور', 'الحدود', 'ونقولو', 'ياعدا', 'سيكلفه', 'بالاحمر', 'يهمكش', 'ويحميها', 'ترصيلناش', '7athrin', 'سواد', 'tet3raf', 'hethe', 'katr', 'خرجت', 'warana', 'تاااااااافهه', 'rageli', 'تنقدو', 'rd', 'المصير', 'بروفاتها', 'اختك', 'مايركزش', 'uc', 'باشراف', 'muuch', 'صباااح', 'اتا', 'irjel', 'وجعلها', 'ne7ki', 'المريض', 'كونكور', 'خر', 'فيشو', 'حدك', 'زينه', 'مدامك', 'باشكل', 'tarja3lk', 'مبعد', 'مان', 'تمنعت', 'barnamejj', 'اخلاقك', 'gloubkom', '9albna', 'كرهني', 'taamel', 'ومازالو', 'سخسخوكم', 'cooling', 'العمله', 'وثقافتك', 'يخرجلك', 'tahrij', 'm5a5kom', 'ma7lha', 'وع', 'nba7rou', 'يسر', 'bkolhom', 'comment', 'واغفر', 'الانقليزيه', 'ياطحان', 'خدمتي', 'كمشه', 'hadhem', 'مصداقيه', 'es8ar', 'صحش', 'site', 'nfa3ni', 'walouda', 'الكوره', 'leebhiima', 'اليل', 'y7b', 'التجاره', 'للمصابين', 'جامعي', '2000s', 'vrimou', 'دنياء', 'المتضرره', 'agga', 'mibon', 'masatouha', 'aale5er', 'مشموله', 'وضعهم', 'يقزز', 'malkzou', 'احترمت', 'tunis', 'هءﻻء', '7yaa', 'يقويها', 'maaaast', 'litounis', 'وسامي', 'حاد', 'ياقلبي', 'char9', 'tbrkllh', 'كﻻب', 'صحابي', 'اعطت', 'mosalslét', 'يتوجه', 'تشمتت', 'الرقي', 'half', 'امن', 'nmout', 'المثقفين', 'منهجيا', 'وتءكد', 'اصلوا', 'extra', 'chkouno', 'ar5essprocesseur', 'يتم', 'عزنا', 'الماسونيه', 'tojlet', 'المبرور', 'pack', 'ta77ana', 'قابسي', 'a3mlou', 'ببعث', 'تراجع', 'bel3aks', 'مالحكومه', 'تقاسي', 'raaaakkk', 'وريحتو', 'النعرات', 'الهوا', 'plafond', 'hamouda', 'minik', 'سيتم', 'قفصه', 'غزرتوا', 'e555555it', 'تتبني', '9al', 'زدا', 'سلعتي', 'inchalh', 'تفصيلا', 'والبو', 'ملين', 'فحسب', 'كونت', '3awed', 'حنجي', 'مقاومته', 'احلاك', 'تهديد', 'تشرات', 'ra5sselna', 'بلطف', 'islam', 'amiiiiin', 'ونشوفو', 'lahi', 'عساس', 'والفحشاء', 't7assesha', 'شخصيه', 'رقعتك', 'الكوكه', 'خبر', 'زحح', 'lkoooooool', 'يتبعوك', 'w5ali', 'قديره', 'زينك', 'كراهب', '3ailet', 'تكاد', 'بلانا', 'ﻓﻲ', '3aaaaaaaaar', 'ya3ni', 'نقري', 'n3awnouhom', 'نصرك', 'انني', 'architecte', 'نتي', 'الزكار', 'شءونهم', 'document', 'المغاور', 'mjayebkom', 'قوقل', 'رسول', 'emchi', 'pepsiman', 'مكرز', 'ma7lehoum', 'تخاف', '14معدل', 'حدو', 'تعميم', 'elll', 'لوجو', 'yonforha', 'يصبح', 'عريه', 'aslou', 'تصل', 'puuuuuute', 'متفهوا', 'wahed', 'سليمه', 'بتوعيه', 'مازالت', 'isanid', 'يحبك', 'كفي', 'للحرب', '5addmithom', 'عسولتين', 'الابتداءي', 'لجمعيه', 'الرجااااال', 'بارز', 'زقزوق', 'قريتها', 'plutôt', 'الtmm', '3ahra', 'narj3lek', '3lha', 'وزمان', 'totlob', 'ومابهم', 'نيكو', 'مربيهم', 'الموجود', 'braaaaavooooo', 'الانسان', 'فظاءح', 'تخرجك', 'mte3na', 'اناس', 'نصبه', 'يافنان', 'naj7aa', 'fanena', 'youf9ik', 'يوصلوني', 'ti7', 'تعتيم', 'وساءر', 'كبرها', 'مالعلوم', 'homell', 'مبعوث', 'المختلفه', 'بوعفيف', 'ينقز', 's7i7a', 'ttfarhed', 'wmsata', 'wakile', 'wa7na', 'مرماجي', 'حاجتك', 'down', '8ali', 'اشكر', 'hedhoukom', 'ynajjamchi', 'tajawel', 'darr', 'يعينوهم', 'والارهاب', 'بدات', 'يمشيوش', 'بانقليزيه', 'ومنشط', 'ta9n3ou', 'وتلقي', 'خصوم', 'ونتعلموها', 'اراء', 'مساندتها', 'تقعدوا', 'تتوجه', 'ياسيدي', 'ترحيها', 'مظروبا', 'bravoooooo', 'katlek', 'لاالله', 'مستحقه', 'صحفيه', 'yjibou', 'الزربه', 'شنوما', 'للبشريه', 'maaaaaaaaaaaaaaaaaaaaaaasiîiiiiit', 'kalamny', 'psyco', 'العديد', 'فمها', 'النقد', 'يعتبر', 'للفن', 'flselentkom', 'bhael', 'itwansa', 'mt3mlsh', '771000', 'القروض', 'المراه', 'المساجين', 'راءول', 'ضعفك', 'هذ', 'العياط', 'mallem', 'fseeeeed', 'المبدعين', 'sine7a', 'wagtech', 'kalasset', 'balo', 'تركيز', 'ومحدودي', 'هبليه', 'سخيف', 'تموينهم', 'قناتك', 'barchaaaaaaaaaaaaaa', 'كميات', 'méjri', 'mwebna', 'تنشروه', 'يفضلك', 'ممسطووو', 'الوباء', 'klam', 'keep', 'للسطو', 'الشرع', '300د', 'السبادريات', 'تنصحو', 'yewafi9na', 'chimda5el', 'contre', 'تاخوهم', 'طبا', 'ساكتفي', 'iwaf9ek', 'نخليها', 'الرويسي', 'بالبلاد', 'rawwww3aa', 'ياشومي', 'المبرمجين', 'الاطراف', '9ra', 'kber', 'والكفر', 'يشوف', 'ghaltet', 'erjaa', 'administration', 'ﺭﺑﻲ', 'rou7', 'nesma3', 'azza', 'sal7a', 'واقفه', 'akhmaj', 'ينتدبوهم', 'ومنافق', 'نستنتج', 'wedin', 'bnetk', 'bdan', 'تفووو', 'ysabrk', 'مطبعي', 'الاقتصاد', 'تزوير', 'والنتاءج', 'bader', 'yet5rjou', 'balik', 'اجيال', 'تريدين', '8000', 'جلطام', 'مسرح', 'fared', 'وتطور', 't5ariiiij', 'na5let', 'titan', 'عقولهم', 'الباجي', 'sa3dk', 'youktoul', '3alimarik', '4ir', 'فعله', 'applications', 'فل', 'ارخاص', 'نضيف', 'bhim', 'كا', 'فبن', 'i9adar', 'wenchoufou', 'لقريبك', 'ويتجنبو', 'المواضيع', 'بفيروس', '9wiya', 'juste', 'جسديا', 't7es', 'الاصابه', 'tyraa', 'candida', 'الحمار', 'يتجاهلكم', 'jadid', 'moul', 'لابس', 'lifriki', '7ayawan', 'سمعتك', 'بالعهر', 'ahm', 'عالثقافه', 'nékrahaaaaaaaaa', 'بجااااه', 'mait9arnouch', 'ولطفي', 'bent', 'حب', 'دوريات', 'moumthel', 'part', 'وتكلاشو', 'صحافيا', 'تعقال', 'hhhhhjh', 'لوول', 'meyla9tou', 'awled', 'خيير', 'اضطررت', 'وبحضور', 'عطاك', 'الاسلوب', 'نري', 'êtes', 'wini', 'tbadal', 'القرب', 'meal9a', 'للامراض', 'نسيتوا', 'cheltek', 'رڤاص', 'يتشمت', 'ماسخو', 'فوزي', 'ويميج', 'لعله', 'ygolik', 'اعطاءهم', 'استوعبش', 'يضرب', 'المسحيه', 'خامجه', 'بعدوها', 'المنعقد', 'ejma3at', 'zeied', 'حقه', 'التلاميذ', 'ارتداء', 'l7ossed', 'يومين', 'ماكمش', 'عبابيث', 'achraf', 'الuib', 'كازه', 'akeke', 'بالاختلافات', 'الروابظ', 'tzid', 'هلكونا', 'الاعلاميين', 'كرونا', 'يفضله', 'بالمعهد', 'زاد', 'tayara', 'ميولاتهم', 'بالمرصاد', 'th8il', 'met7eb', 'الclient', 'مهمتها', 'among', 'tedalel', 'واراه', 'تحسن', 'للخر', 'وافعالكم', 'raja3etha', 'تاخذها', 'شرعيه', 'العهر', 'معدب', 'yarje3', 'ases', 'fenen', 'مالثعالب', 'اقتراح', 'wlfala', 'امصاطه', 'azote', 'e3lem', 'khdma', 'تتجادل', 'yahmik', 'الوقاءي', 'مصانع', 'بكثافه', 'سنبل', 'توفر', 'tja3lt', 'jons', 'الشركه', 'تتخيل', 'السمري', 'تليكومند', 'تحول', 'احلاء', 'مستحقيهم', 'اتوب', 'وجهد', 'احكو', 'ردود', 'mega', 'obligation', 'بالولاءات', 'ma3loul', 'بالضبط', 'تاكد', 'مادهم', 'ye7tal', 'ضو', 'fehri', 'ثما', 'my7chmech', 'الجنرالات', 'للقباضات', 'عبيد', 'rjell', 'etafhin', 'للبرنشيت', 'miztou', '7lel', 'اللءام', 'التعذيب', 'sacheyet', 'للامتحان', 'عفوا', 'خريجه', 'jem', 'السراح', 'تفيق', 'ونعمو', 'titre', 'القرايا', 'مالناس', 'الشعير', 'يتصنع', 'bazeffffff', 'سلكتها', 'القطن', 'mayssoun', '7awl', 'kronfoul', 'ليبي', 'saf9ou', 'i5alihelik', 'عليهن', '7yek', '3alle5er', 'tayaaara', 'wine', 'الساحقه', 'منعرف', '8ram', 'برجك', 'wahla', 'aliya', 'ﻋﻨﺪﻭ', 'arafet', 'mout', 'narka7', 'couvre', 'issoghir', 'ادا', 'mamstik', 't7tik', 'الجن', 'امني', 't3addi', 'ماتشرفناش', 'متعلقوش', 'thebha', 'wta7ki', 'ma7leh', 'chrito', 'baramjou', 'الدرجه', 'والنتيجه', 'وتوفيق', 'مستشفياتنا', 'سبيطله', 'يمينه', 'وكلب', 'للﻻجءين', 'memety', 'سءالاتك', 'wa7dhom', 'جلدو', 'والطماطم', 'مشاه', 'maitre', 'الاصطناعي', 'مجات', 'matériel', 'تقولها', 'mpi', 'بالمقلوب', 'ماسيخ', 'n9raw', 'a3sba', 'ta7aaaana', 'العربي', 'متصور', 'moyennes', 'lahnè', 'الاوقات', 'chlaka', 'والاغرب', 'باعتبار', 'مماتهم', 'yjiw', 'واسع', 'enoujoum', 'يعانون', 'zaweli', 'طيب', 'betbi3a', 'ياالمرحوم', 'تداوي', 'sbeh', 'morale', 'yabdew', 'نشل', 'jebek', 'lechare3', 'تذوق', 'خسااااارتك', 'pro', 'المجتمع', 'expérience', 'belk', 'المنشور', 'sehlin', 'تحرق', 'بان', 'بنفسه', 'mdr', 'يقيمو', 'تسمعهاش', 'yhashim', 'te7ebeha', 'تقلنا', 'بالاداءات', 'tet3da', 't77ana', 'bravoooooooooooooo', 'توجع', 'تتصنف', 'na3ichou', 'سيف', 'deuxièmement', 'ايتام', 'jaybou', 'ﺗﻮﻗﻒ', 'ومضمونه', 'الصفوف', 'تهبطوه', 'mrci', 'chouflou', 'mamesetou', 'اعداءنا', 'منال', 'maaaaset', 'اورو', 'b9raytek', 'fechla', 'بدومان', 'نقضي', 'قدر', 'شكيب', 'خط', 'بالتوفيق', 'قداشك', 'yessar', 'المغربي', 'fonctionnement', 'نو', 'والخسه', 'tunisair', 'منشوراتك', 'والمعرفه', 'المخلوقات', 'mahlana', 'الكهروميكانيكيه', 'الشجي', 'الطرق', 'بالكوميديا', 'لبوك', 'وغالط', 'مءواه', 'manè5dhouch', 'tahrmou', '5ouf', 'بسكاتوok', 'ma7abitech', 'ouahda', 'slimen', 'كورونا', 'بصمتها', 'شبي', 'jouhem', 'مزبله', 'يستضيف', 'ضاعت', 'nouweb', 'لازوني', 'بناتي', 'بالاماره', 'يثبت', 'قاه', 'للحد', 'tiiiiiiit', 'sinon', 'o5t', 'كلابو', 'يعتمد', 'المركزيه', 'remise', 'm3ahom', 'طونس', 'توقيت', 'tijbid', 'ياطرني', 'كمودي', 'yo93ed', '9anou', 'بالبركان', 'tet9o7eb', 'بلاطوواتو', 'يبطل', 'wekyeti', 'ydamerkom', 'معهم', 'hlowwa', 'za7', 'حواءجها', 'yehkiyou', 'etfouffffffff', 'لمان', 'خسيسه', '9lilet', 'الخلصي', 'l7a9', 'شيقول', 'lel3id', 'kilmit', '9aleb', 'ممسوخ', 'العزيزه', 'الحكومات', 'الجديدهالكلهم', 'atina', 'هلمناضر', 'wa9tna', 'المغلوطه', 'nsavihom', 'النتن', 'coté', 'مخرجتش', 'wafi', 'الاجور', 'تزيدو', 'المبلغ', 'بيه', 'mehouch', 'jenjoon', 'باريس', 'بانتوما', 'هبطناها', 'بعين', 'المنيكه', 'elhabiba', 'critical', 'modèle', 'الخيرات', 'قلبي', 'rayeek', 'يهمهمش', 'يامريضه', 'ذليل', 'وبحري', 'اشراق', 'شهري', 'latrabahkom', 'بوهالي', 'التعاطف', 'hata', '9otlk', 'متكونش', 'lomima', 'ye5dou', 'واسال', 'الحلزون', 'لانصرنك', 'lmojard', 'والفرجه', 'akahaw', 'هالخنار', 'خطاب', 'ياخمج', 'système', 'قاللكم', 'اقدس', 'لتغيير', 'لسبب', 'wati', 'ضهرو', 'متخلق', 'ritek', '3likm', 'بطال', 'دخلاتك', '5arej', 't9arer', 'jabouk', 'moyenne', 'as3eb', 'واعاونكم', 'المجاهد', 'كمامه', '596', 'ثوب', 'nhebek', 'سواڨ', 'am3alem', 'wynjmou', 'i3awd', 'za8rata', 'بلاصه', 'ماسيخهاني', 'بالخارج', 'حقنا', 'jebt', 'tawwa', 'فضفاض', 'انحطاط', 'raaak', 'كلش', 'النظريات', 'hakaa', 'الروب', 'mostawa', 'المزودين', '54', 'لاصت', 'damrtouha', 'دخلني', 'toeic', 'اغا', 'baecha', 'يحميكم', 'النظيفه', 'personne', 'لامين', 'والعسال', 'مدروس', 'fhmtek', 'mrawen', 'يكب', 'مزيان', 'شافتو', 'صحفي', 'matlouba', 'وهدفهم', 'التجغجيغ', 'السفيه', 'الشيطان', 'ثمه', 'chouya', 't3li9', 'entretien', 'المشاهده', 'sakr', 'y93od', 'يطلعش', 'wallit', 'فليس', 'الاحلي', 'فيبالكش', 'يخليكوم', 'غنياء', 'mahleek', 'نعرفش', 'كاذب', 'suit', 'nfadlek', 'نتعدو', 'والفجور', 'winou', 'pfffffffffff', 'نساكم', 'baramjk', 'blech', 'تسيير', 'jamila', 'yadh7ak', 'feddar', 'النصيحه', 'للعمال', 'الاحتياط', 'le7tiram', 'وتصرف', 'عالبوخوخو', 'moustawak', 'وسخ', 'ديمه', 'وستقدم', 'البنات', 'يلوجو', 'gestion', 'ويهديه', 'المعتمده', 'عموما', 'ترحملكم', 'star', 'صلوحياتها', 'citronnade', 'دفوار', 'الماكله', 'طمعتوا', 'انصاره', 'اصابات', 'تقابلو', 'والمشكله', 'نلقي', 'المرسلين', 'لهاذا', 'جيبلي', 'دفين', 'بيوع', 'ومنك', 'توصللهم', 'lbara', '3laha', 'predictions', 'i9olik', 'مميتا', '3asoula', 'مسطك', 'facteurs', 'sa3ba', 'chikh', 'mafemech', 'الانطلاق', 'eact', 'lotef', 'والبركه', 'dmou3', 'ykawen', 'طلتك', 'akhthir', 'المءسسات', 'مها', 'خارج', 'fonctionnalités', 'ترحم', 'balfate', 'التاريخ', 'لوجيستيا', 'واخدم', 'والمحتاج', 'تصالح', 'جحش', 'الاثنين', 'lahass', 'تحيفا', 'مناضل', 'الكلام', 'الحر', 'izid', 'تيلاباس', 'ساكنه', 'قلتلكم', 'سيءثر', 'قروضات', '3ajbou', 'l7al', 'تنادي', 'رجوليه', 'واجيهه', 'خماااااج', 'الغذاءيه', 'khalill', 'الشهري', 'ilawjoun', 'لجنه', 'versions', 'يلتحق', 'وسقوط', 'fachila', 'كتاب', 'tbi3chi', 'مضيهم', 'famma', 'cas', 'جيبتيلنه', 'ètatique', '27la', 'yaaamlouuu', 'لفيروس', 'wziiidd', 'تنساقش', 'quand', 'كسرك', 'والوزير', 'وبلعوط', 'بدفع', 'بداعش', 't7ebu', 'جوو', '9atlou', 'ايخليك', 'فرنسيه', 'احلام', 'منبوذا', 'يضحك', 'mamsitha', 'تستهل', 'وطلع', 'مراجل', 'فيم', 'قش', 'habitena', 'بالبدع', 'علمت', 'تتحط', 'تتشكاو', 'نحيوه', 'والمصيبه', 'لاقوه', 'mahzla', 'الاعراس', 'مستمره', 'بطاقه', 'somme', 'العنقود', 't', 'العلوم', 'mo3atref', 'لسيارات', 'لتثبيت', 'الحزن', 'طبيعيه', 'تطييح', 'homel', 'بشويه', 'تعلمتو', 'disque', 'يخشوا', 'changer', 'تربي', 'نجم', 'bellah', 'haycha', 'ربي', 'بانواع', '4ème', 'نموت', 'd5ltou', 'مناره', 'ماشين', 'costume', 'المسيح', 'مانكور', 'فوطوشب', 'سكورك', 'افهمونا', 'takhtyt', 'trata7na', 'waldi', 'lenovo', 'thebb', 'لسيد', 'السلام', 'اضعف', 'lefriki', 'essect', 'stories', 'mamsitkome', 'ريتني', 'المسنين', 'الكرتوش', 'affas', 'يسجلو', 'والعداله', 'والشواذ', 'كبده', 'فيناس', 'lyl', 'لسوق', 'هابله', 'nsy7tek', 'تتصدر', 'esthetic', 'mat7ebech', 'يمنع', 'i5arjou', 'direct', 'بالجهات', 'الحروف', 'maaassstttaaaa', 'a9sar', 'سبيعين', 'etal9i7', 'دارهم', 'ahh', 'كونيه', '3ajbetni', 'مريتش', 'يءسف', 'جرعه', 'وفلسطين', 'العظم', 'بصرمك', 'شعر', 'نظرهم', 'معندهمش', 'mawarahomch', 'تفدليكو', 'يارب', 'لمكتب', 'madin', 'khaliha', 'dinouna', '7yetek', 'اخره', 'kiné', 'écouter', 'السياسات', 'تفسر', 'السياسه', 'زكي', 'الديك', 'offfffffff', 'يتحسن', 'وبالله', 'سوي', 'tbadlet', '2012', 'استقالاتهم', 'sir', 'ya7ya', 'nitelho', 'سقف', 'الخليفي', 'جذريه', 'هالشلايك', 'حلقات', 'facebook', '3a9douh', 'فالمسلسلات', 'تاخير', 'والسرور', 'امريكا', 'يرميها', 'تجبد', 'وخيانه', 'te3tik', 'الصدر', 'اشاله', 'شق', 'خيانه', 'mad', 'يستطيع', '5ayn', 'بايام', 'اهلك', 'hhhhhhhhhhhhh', 'montreal', 'ch9ou', 'emasa5', 'عفشه', 'عشواءيه', 'inçhalah', 'القروضات', 'اختيار', 'لازمني', 'فرحتش', 'frns', 'بالعطله', 'الازياء', 'yemchiwelha', 'قيام', 'الاجدر', 'lgonya', 'يفسخلك', 'lmosalsil', 'ماقالش', 'fadlek', 'شتحكي', 'يعديو', 'المهنه', 'fased', 'طحيحين', 'هالرهوط', 'دااارك', 'ساكون', 'متعبتك', 'witehre9', 'تفعيل', 'ta9ha', 'يفهم', 'عملتلها', 'flashes', 'يصبو', 'وسلامتهم', 'ni9achik', 'يتصرفوا', 'songs', 'ببعض', 'بارات', 'cha5sia', 'frou5', 'tfarra7na', 'خبزهم', 'عكست', 'ضدهم', 'بوابت', 'الاجابيه', 'tochreb', 'accent', 'الماكر', 'مستواء', 'wfét', 'طوا', 'فانهم', 'salet', 'يلقحلوش', 'وقانون', 'يخلصوه', 'مهبطتش', 'jabhom', 'ركزت', '7asbouna', 'لاخري', 'الزمانن', 'قالهم', 'وسويتم', 'احلا', 'واشدد', 'ادني', 'البرنس', 'tasher', 'رهدان', 'الفرنسيه', 'yin3ad', 'راي', 'الهزيمه', 'benet', 'ضحكتهم', 'ysoun', 'ياغالي', 'وميع', 'غرامها', 'تشتغل', 'bisara7aa', 'نهارك', 'mab3athkom', 'القضيه', '3iedilna', 'samir', 'executi', 'يسامحني', 'kana', 'الانستغرام', 'ميعرش', 'j3ala', 'kilwti', 'يدوره', 'وستبقي', 'ye5omej', 'وسيسعي', 'مالتخمام', 'برافوووووووووووووووووووو', 'بانكه', 'جعفور', 'الونس', 'فولسفاڨن', 'يقدمو', 'الاربعه', 'اتصاليا', 'berjouleya', 'القرضاوي', 'محتشمات', 'wallina', 'وبﻻدهم', 'بلد', 'metrobi', '2osdom', 'وعفوك', 'لمحور', 'وفقكم', 'متتهضمش', 'اواخر', 'masééét', 'برحمتك', 'metwefia', 'mosalslete', 'ومحترمه', 'matab3athch', 'yani', 'tfoo', 'باسل', 'فسخناكم', 'اشبيك', 'تبدع', 'fa7che2', 'wa7id', 'عاديين', 'badal', 'café', 'lasettt', 'laseta', 'الشرفات', 'motrba', 'متحط', 'لنداء', 'اكسيجين', 'وشتيمتكم', 'احمق', 'وربحو', 'الحمامات', 'تسويف', 'etheka', 'السوريه', 'mest7a9i', 'يحشموا', 'ال', 'chnwaaaa', 'اعطيك', 'بنغلاداش', 'nvidia', 'fdhaye7', 'ta3refech', 'تتعكر', 'اشتحوا', 'نبكي', 'لينات', 'nens7ek', 'master', 'تصدقش', 'كرش', 'yislit', '7oriya', 'e5mj', 'mastin', 'amé', 'تتحاسبو', 'فالطحين', '9araret', 'taswirat', 'ill', 'مانجمو', 'dawrrik', 'lawled', 'ياغربي', 'وتقعد', 'pb560', '9oltha', 'elja7im', 'راجعوناللهم', 'صويت', 'نراه', 'power', 'ثوره', 'نعيد', 'ميعمل', 'maaaaaaaaasta', 'ويشدها', 'ضحاو', 'المريول', 'الام', 'عندهاش', 't3abet', 'ja', 'اله', 'فالتلافز', 'لصط', 'لوقفه', 'الذل', 'athan', 'تلقاو', '8alet', 'اجماعه', 'قفراش', 'السلبيه', 'yaml', 'malazem', 'tfadlek', '1', 'tehli', 'ارجوك', '11', 'تدفعها', 'ههههخخخ', 'خمجتوها', 'erra7men', 'menik', 'مي', 'تجيبلو', 'وكفاءتك', 'توهبل', 'مغرومين', 'na5ouha', 'اهديكي', 'الاراء', 'رووووووووووووووووعه', 'tmasou', 'طياره', 'لسبان', 'تتعمق', 'sayee', 'bkoulek', 'الزها', 'غريبه', 'fdhil', 'حشمه', 'ملايكتك', 'تهميش', 'مايجيبولكش', 'بروفيل', 'kona', 'رزين', 'الحكومه', 'تقرالي', 'احمد', 'دافيه', 'mastaaaaa', 'hugh', 'ta3mllha', 'الفسق', '5oha', 'يحميهم', 'typescript', 'berthday', 'contrôle', 'نعرف', 'bnetik', 'كعبات', 'مسلسلك', 'جمعت', 'ممسطه', 'دارو', 'لدحره', 'yahfadlek', 'اعدادي', 'الوغد', 'diplômé', 'khir', 'osloubek', 'حفلتو', 'نطلعوش', 'tit3alim', 'تحيرو', 'mestens', 'l3aaaaaaaaaaaar', 'younsi', 'زوك', 'mella', 'بعدوه', 'aneho', 'hrissa', 'specialitè', 'لغايه', 'dahra', 'احلي', 'la5i', 'وبالقسم', 'الولايات', 'يفعلون', 'الروح', 'moselsel', 'lwahed', 'بانواعه', 'ستحقيتولي', 'يهدي', 'بردتلي', 'قصد', 'n7ebek', 'تتحسن', 'عاليه', 'دراستهم', 'لوزارتي', 'عنابه', 'صعيبه', 'تيقبلوك', 'ههه', 'toyota', 'ولوﻻ', 'برنامجكم', 'kawiya', 'يمسيلها', 'جبوره', 'lebhadhoum', 'effffff', 'عبير', 'ساقيها', 'ببجي', 'plafon', 'عايشيين', 'حوله', 'aya', 'هابطه', 'الجنيا', 'sahaa', 'commentaires', 'بالتفصيل', 'وضحك', 'ettorbia', 'kotlek', 'maryam', '190', 'essesseya', 'تباركلهم', '9alouli', 'malgré', '106', 'لماء', 'يشفي', 'الناقلين', 'm3ah', 'جعفر', 'moush', 'ppffffff', 'تتخدم', 'يعجبنيش', 'مفتري', 'visa', 'yba3ed', 'اناقه', 'tv', 'ness', 'bourjouliya', 'بحاجات', 'fedhleka', 'تفضي', 'بالاحترام', 'فيبالك', 'مشاعرو', 'نطق', 'mwa9fou', 'حبيبي', 'francis', 'mounafa9', 'المزرس', 'cv', 'المحرمات', 'هاالعون', 'ويرحم', 'lmomathlet', 'ro7ha', 'yechfihom', 'يجعروا', 'للعنب', 'ma3adch', 'تقولش', 'المواليه', 'hatheka', 'مستقر', 'yna3il', 'حسيت', 'الجبه', 'ya5ou', 'الشروط', 'ويفظلهم', 'mantherrr', 'سيرتو', 'la3alla', 'mafhamtech', 'نستوردو', 'تاجلو', 'تعفيطه', 'لعبتها', 't7ebbou', '3a9il', 'تستطيع', 'بالضحك', 'وقال', 'كتشاف', 'متوكل', 'ابدي', 'companies', 'الثالث', 'المسمي', 'zatla', 'youssel', 't3alamt', 'tkrhou', 'اضراب', 'yelbes', 'الذيوبه', 'mayestehelch', 'طيرطلنا', 'عيني', 'anglais', 'الطالبات', 'احترام', 'متاخر', 'ene', 'likeeeee', 'نورمالمون', 'tarj3ou', 'لطفك', 'mt3haa', 'قروان', 'rabby', 'مريضه', 'الجسديه', 'تكفيني', 'يحضرو', 'يبعثون', 'فريد', 'tekel', 'baraka', 'matfarajtech', 'ايامت', 'يتفقد', 'المدنيه', 'i3ich', 't9arerr', 'كﻻجءين', 'ab3thli', 'معفن', 'يفيدني', 'wsa5', 'mmas5a', 'elè', '7achakom', 'gardes', 'chleka', 'الافواه', 'a3mourha', 'اعوض', 'backed', '7ayet', 'بالتفاهه', 'الارض', 'تعايش', 'belhyy', 'ولادنا', 'وجو', 'tla3bouch', 'مهرجان', 'بزازل', 'جنسي', 'العظمه', 'والصلاح', 'siyési', 'الماكينه', 'يحفظلك', 'قاهرهم', 'الحمله', 'التموين', 'تمشيلهم', 'نعانو', 'mabna', 'سوريا', 'yemshi', 'sa9ih', 'yhebo', 'تعرضو', 'السوق', 'الزطله', 'ركزي', 'خمسه', 'ya9dhi', 'الوبني', 'احكام', 'صبره', 'قلاب', 'marekek', 'لاءم', '5nena', 'محلو', 'maredh', 'laarftha', 'يحبه', 'المتابعين', 'hjema', 'للامانه', 'sauf', 'kithbe', 'تتناولو', 'يكذبكم', 'يتشق', 'العالمي', 'بعدها', 'netfarjo', 'عاودت', 'ansorna', 'mte3ha', 'نيوز', 'والوباء', 'ستقاس', 'خدمتها', 'التجربه', 'و10514', 'jorrret', 'الرهط', 'yasme3', 'حكايتو', 'لسه', 'عطريه', 'تبدلش', '3ala9a', 'اقتصادي', 'wzid', 'الوقاحه', 'lbnet', 'يهبل', 'البءر', 'تبحري', 'نهارو', 'i5tisas', 'تقدم', 'صحته', 'زيزي', 'مااااااااااااااااااااااسط', 'barnamej', 'الصحي', 'سبونسور', 'سنك', 'سلب', 'wen3ma', 'وتقدير', 'الرجيم', 'تشوي', 'courage', 'تحبوش', 'طر', 'صديقتي', 'سرقه', 'wamiaو', 'يعكس', 'لبريمه', 'ma5our', 'metwahchin', 'مايتفرج', 'كرايمي', 'بوف', 'aman', 'تملهيط', '3atino', 'moyennement', 'homa', 'للقديم', 'تكذب', 'بتاجيل', 'ونعمي', 'سرقوهولي', 'ltouness', 'سخيييييييييييييييييييييييييييييييييييييييييييييييييييييييييييييييييييييييييييييييييييييييييييييييييييييييييييييييييييييييييييف', '7amdo', 'زين', 'اسباس', 'يلمكم', 'اذايا', 'اكتءاب', 'المتبني', 'التعامل', 'الرحمن', 'mich', 'بالفساد', 'hana', 'mssaaata', 'ولديك', 'استراس', 'نتهمه', '9o7eb', 'اذاعه', 'تشارك', 'طاحون', 'بدنيه', 'هيواياتوالتلحيس', 'وفقك', 'a3la', 'yechfini', 'مسرحيتو', 'meha', 'طوطال', 'ma9tla', 'تجب', 'klemou', 'wadh3ek', 'نبار', 'ايجابيين', 'قالوا', '5ouya', 'بمفهومكم', 'المعهد', 'عيييييييييييييب', 'عالالمانيه', 'tadhiy3', 'النذاله', 'الفلاحيه', 'wijh', 'منحبهاش', 'jaibou', 'الماخور', 'n3ma', 'machariek', 'والعمر', 'خضراء', 'exemple', 'والماسط', 'خري', 'تمزق', '28مارس', 'يامقداد', 'تجيه', 'فاقول', 'nhb', 'والاتحاد', 'ارجال', 'كراوك', 'القهاوي', 'sikka', '9athyat', 'وهترت', 'التصحيح', 'يخولك', 'tfouuuuuuuuuuuuuuh', 'marzen', 'لنشاطها', 'بشيء', 'اميييين', 'وكتلتها', 'لقمع', 'بالخير', 'واجهت', 'بالامكان', 'قسط', 'metrobya', 'auguri', 'me3akome', 'ihec', 'النكته', 'biologie', 'pronunciation', 'i9oumm', 'الجبري', 'biben', 'بقفصه', 'نفسيتك', 'takbri', 'خنازير', 'تشوفها', 'mana3rach', 'دياركم', 'machala', 'عبدك', 'etejemo3', 'يسحق', 'فخار', 't9abelt', 'الفهري', 'نصور', 'مستوره', 'hasb', 'اخلاقي', 'وطحانه', '7a99', 'وبصراحه', 'tfar9et', 'عاطيتها', 'سببتم', 'sakkartouh', 'لدعم', 'هاجر', 'chessemha', '9adah', 'الرمل', 'hcha', 'مورضه', 'والثقافه', 'hdd', 'المديرين', 'ماكم', 'biha', 'minassat', 'وغلطوك', 'etoiles', 'بعيوبها', '9erda', 'الكرتون', 'ضحكني', 'درجات', 'عزا', 'للخيانه', 'تخدمك', 'كالحوار', 'امورك', 'matloubin', 'تبيض', 'afiya', 'للشهر', 'البحث', 'سوم', 'groupe', 'كليه', 'قراتهم', 'oop', 'tbi3ouch', 'الوجيعه', '3alihom', 'le5r', 'tokyo', 'مسترجله', 'النتيجه', '1ére', 'غنايه', 'zebyy', 'نعايرك', 'عديد', 'مايستحق', 'جرو', 'wécha3b', 'العظماء', 'miss', 'نظيف', 'ملازمه', 'يستفادو', 'kemla', 'شامل', 'بليد', 'الاعاده', 'wa3likom', 'sala', 'شريت', 'ممسطكم', 'نشاله', 'و39', 'اعتزاز', 'حدود', 'الفنيه', 'l3omraaan', 'سنيها', 'ومرض', 'رايك', 'ywasel', 'wyheb', 'j3four', 'الوالد', 'yatal3', 'ندردشو', 'نعنبو', 'يحطوه', 'معلمين', 'خدوجه', 'maseeeeeeeeeeeet', '199', 'تباركلكم', 'kamil', 'ياكلاب', 'ايامات', 'يتعامل', 'لموضوعنا', 'الدبراسيون', 'الطحانه', 'المحور', 'وبصحتهم', 'متحالف', 'kedeb', 'y9olek', 'واختي', 'ma7la', 'la3eb', 'خلاتكم', 'ta9ra', 'تربحكم', 'rajela', 'اشرب', 'مخي', 'waldina', 'المصايب', 'وتحاولو', 'بكيت', 'andk', 'سطحيه', 'ytb', 'يفرج', 'امرءه', 'tefehim', 'خدعاتو', 'نعطوهم', 'lbe9i', 'عفاش', 'منفستش', 'd3iwa', 'المان', 'مشاكلكم', 't3awnou', 'عاهر', 'latiffff', 'nsi7ti', 'ziiin', 'يتقرنطو', 'basma', 'o3ajbitha', 'articles', 'tel', 'تاقف', 'حذاري', 'tetsaref', '7i7on', 'nahbk', 'بدوره', 'be7dhourek', 'masab', 'الحلم', '5hli9tou', 'ennida', 'نشاالله', 'وشوف', 'والدوعشه', 'استخاره', '3ndk', 'rakom', 'تتصل', '7tha', 'الوجوه', 'خرلك', 'ma9l', 'وصحيح', 'فءه', '3id', 'compte', 'المترديه', 'الاوساخ', 'ومبلدك', 'سكورو', 'ناكلش', 'لابناء', 'ونحيييك', '5watik', 'masoul', 'علمها', 'لعن', 'cheya7', 'قادرين', 'بيرم', 'yjewbouk', 'والمرض', 'بالناس', 'sma3t', 'التواضع', 'napil', 'ems7i', 'lassta', 'slama', 'اغلبها', 'maliket', 'بكلام', 'النبي', 'وحق', 'اللهفه', 'تليفوني', 'جيره', 'ملافضاءح', 'لجمهور', 'tttiiiiitttttt', 'yjiblek', 'testfaz', 'اشنوا', 'امان', 'مستوء', 'n7bek', 'بطل', 'exemples', 'التوزيع', 'تطلعو', 'brabyy', 'ma3alem', 'el7al9a', 'تمرون', 'تفاصيل', 'pc', 'frameworks', 'الماضيه', 'mostewiyet', 'احمر', 'chalkou', 'et4aniha', 'boit', 'فسيح', 'هههه', 'da5ltouh', 'لداهيه', 'skekn', 'aghanik', 'فهمتهاش', 'msato', 'binisba', 'زمك', 'm3almaaa', 'عبقري', 'chahr', 'خوذلو', 'الفه', 'tetmanykou', 'wina3mou', 'الجملي', 'كلب', 'ويفضلهولك', 'وتحليلات', '3inaya', 'موجه', 'la3natt', 'pute', 'salle', 'متنا', 'طالبه', 'akhwa', 'تنقبهم', 'nese2el', 'بسيفه', 'yassir', 'y7ebouh', 'رحو', 'اتقو', 'يااا', 'tawali', 'عصو', 'اسكت', 'طالبي', 'القحوا', 'غيرت', 'info', 'مورو', 'meskina', 'deyarha', 'can', 'الامانه', 'na3malhalek', 'na3cha9ha', 'chouhada', 'جامعيه', 'béléhi', 'يقعدو', 'يحكيه', 'gamit', 'يهيج', 'tetfarjou', 'خنارهم', 'للعباد', 'itlili', 'تستخايل', 'يركب', 'contrat', 'وقاضي', 'موظفي', 'yo5rej', 'وجاء', 'ضمير', 'merci', 'حياتو', 'ومتندمش', 'najemtou', 'ilkol', 'ويحكي', 'سمعنا', 'هجتكم', 'مصوت', 'تحتي', 'l3aaar', 'تفاهه', 'القرار', 'وجراه', 'الخلاء', '7low', 'مرضتكم', 'للعبد', 'chiib', 'يحميها', 'tfouh', 'ارزن', 'ومعاني', 'بالواقع', 'والتطرف', 'نعلمك', 'ضحكتني', 'sboui', 'كراء', 'lechkoun', 'حرا', 'سيت', 'تقلك', 'يوفقه', 'n9ollek', 'khalyha', 'ننصحو', 'التاليفون', 'عاونا', 'صرومكم', 'nans7ek', 'yst7a9', 'offfffffffff', 'couraje', 'تفاهتك', 'yftaha', 'parfum', 'enaa', 'enmout', 'البقعه', 'خويه', 'hahahahh', 'كادو', 'tfouhe', 'سجينه', 'رقدت', 'وتاعبه', 'birasmi', 'وتعدي', 'y5alilek', 'tetjwzz', 'ye', 'متحشمش', 'يهدد', 'she3b', 'mes5aaaaaaaa', 'اذايه', 'mafyouzi', 'مقلبه', 'سماه', 'حرفاء', 'البزوله', 'خمور', 'ليكون', 'skills', 'للغه', 'tafahet', 'عهد', 'galbk', 'متنوفيق', 'mjet', 'react', 'راس', 'اقوللنا', 'والمبرمجات', 'العزوزه', 'يتسامح', 'الانجليزي', 'rkhis', 'مفعول', 'تحكوا', 'فرخ', 'm3alma', 'nsefer', 'الروحك', 'يطرشقهالهم', 'تضحكو', 'تركتم', 'اكتبوا', '3ared', 'ma5iebha', 'gpu', 'الاخوان', '3salll', 'masit', 'admiration', 'فادوها', 'guito', 'قاهر', 'لعباد', 'فهموني', 'عليڨ', 'olteff', 'دراميه', 'لقرار', 'liyakhedh', 'مندوب', 'شايخين', 'وقانونيا', 'سياسي', 'وتروح', 'الافضل', 'tib5ilch', 'jdidaa', 'tefhaa', 'tha9afetha', 'نجاوزتهاش', 'mwaben', '8neh', 'winek', 'ثقافه', 'كذاب', 'فوشانه', 'الفيلم', 'manech', 'والنفوس', 'يسكت', 'سند', 'ntouna', 'العدد', 'التنفس', '97ab', 'واقول', 'والخير', 'يحفظها', 'ورقاد', 'واروع', 'lidara', 'يحزن', 'azananou', 'ونكتب', 'wa3la', 'نقولهالك', 'بامين', 'زفر', 'جاريه', 'يخلي', 'nhebou', 'khaleha', 'aimé', 'جميلا', 't9bl', 'نشرها', 'خشين', 'للاب', 'حشواجي', 'mostewe', 'تنجمو', 'لكورونا', 'الانڨليزيه', 'حكا', 'na3mel', 'ynaaabrouuuuuu', 'للمهن', 'تجاهك', 'permettent', 'idawer', 'يخليلك', 'laset', 'بالاحرا', 'loji3a', 'zidni', 't3awaj', 'غلبو', 'والحضاريه', 'الی', 'bravoooo', 'yecer', 'عربي', 'elktheb', 'fada', 'm3arya', 'hék', 'والديوث', 'اصلي', 'حاولي', 'هكك', 'metbadalch', 'انتخبكم', 'ورتاني', 'التثبت', 'mois', 'المضمونه', 'يتبولون', 'yhemekchi', 'gharbia', 'i7ot', 'wiouuuuuu', 'w5ayeni', 'الانترنت', 'n7es', 'ذهنها', 'الهاشمي', 'مسكينه', 'الميوعه', 'ابيض', 'fell', 'berjoulia', 'روضه', 'ydha7akch', 'للمظلوم', 'lee', 'booo', 'ياا', 'mritha', 'جدوله', 'ﻛﻴﻒ', 'ويحبك', 'moumthla', 'mawatehech', 'la3chya', 'تبرا', 'نبته', 'ليليا', 'مايقعدش', 'hezeb', 'فنك', 'roubtek', 'yaany', 'ومحلي', 'adé2ék', 'عامه', 'nechrih', 'mokrez', '8irha', 'ديرلو', 'mleh', 'tarkib', 'mat3mloch', 'لعبير', 'ija', 'lwataniya', 'msikna', 'تحجب', '3arsi', '9ilit', 'kamea', 'نحبوك', 'maybe', 'الحضور', 'كبار', 'يخفف', 'اجراءات', 'maaaaaaaaasssssttttttaaaaaaa', 'k3aybaaaa', 'شركه', 'kaaaaq3ba', 'فاللخر', 'as9et', 'يجيبولنا', 'block', 'اتصلت', 'حيوانات', 'مجرد', 'راک', 'حماتك', 'العلمي', 'يمشي', 'ولداتك', 'النسل', 'waktech', 'happy', 'بحتي', 'ويعدي', 'masrouf', 'الجنسيه', 'عاونيني', 'ننڨبلو', 'الروتين', 'presence', '3chir', 'taslim', 'تحبو', 'يلاحق', 'اعرق', 'lemgaleb', 'لجوء', 'jerom', 'وتشوفيي', 'تحطحاش', '9adh', 'nessma', 'ترجمه', '9adhir', 'honte', 'الاستثناءيه', 'i5addem', 'assef', 'el3asba', 'devant', 'ne', 'yehdik', 'moyen', 'مجاري', 'jeboha', 'mounawa3at', 'wnchallh', 'تبرتاجيوها', 'scolaire', 'جبالك', 'صاحه', 'بدروش', 'ينصحك', 'attounsaa', 'يراك', 'ismha', 'eng', 'ty', 'bayou3', 'yarabi', 'الاستبداد', 'يخرب', 'اهبلو', 'بالحقد', 'لخره', 'تمتل', 'نقلك', 'wamia', 'm3333333allim', 'كنسك', 'narvaztek', 'احمينا', 'ادب', 'dehni', 'سلفتكم', 'نلوم', 'yoslo7', 'وقتلنا', 'الفحشاء', 'موقعك', 'wenhaboukom', 'ومهازل', 'عديم', 'مهزوزه', 'massssssssssse5', 'ta7chelek', 'aglati', 'شبر', 'د', 'تخطف', 'environnement', 'ijina', '3aaaaaaar', 'يتفكرها', 'وراءحه', 'ابضا', 'scanner', 'شعرك', 'براا', 'rakoum', 'ناخو', 'ماامسطو', 'البنكيه', 'arani', 'جهاد', 'جمال', 'كثيرون', 'ykalik', 'ye3jibeniii', 'damou', 'ناوين', 'يورث', 'mezelek', 'i3sare', 'w5ayen', 'الاقتصاديين', 'tayaaaaraaaa', 'الناتنه', 'ياخوها', 'ملقييا', 'ديك', 'tefaaah', 'بوجايع', 'بخبر', 'moslasla', 'باليوتيوب', 'للبلاد', 'ماتفهمهش', 'braoooooooo', 'مرتزقه', 'خلصتي', 'يلزمنا', 'khwetek', 'ملحد', '7', 'tredo', '3ejbetni', 'lebgar', 'بالخشوع', 'وطول', 'ifathelhelkom', 'الفشل', 'وحيده', 'rajm', 'yo93d', 'البغل', 'tbal3iiit', 'مرييييييييييييييييييييييض', 'تتكفل', 'مالui', 'اتحبهم', 'بعقود', 'jehel', 'يبث', 'مطالبهم', 'jehél', 'naarsh', 'tsahel', 'كتف', 'نربطوك', 'مبروكه', 'تكلموا', 'بالكيت', 'mawjoudin', 'osdom', 'مشكوك', 'الماسخ', 'جات', 'ودخلت', 'هويه', 'مصابين', 'jehom', 'فلوس', 'الاساسي', 'بشر', 'يسامحك', 'مالليسي', 'حساباتكم', 'dha7k', 'لاعبتها', 'minorité', 'مانجمش', 'اللوبي', 'غالط', 'meilleur', 'salbiya', 'تفه', 'lasit', 'wa7do', 'يلقاو', 'وللحفاظ', 'ta5ouch', 'بالفارغ', 'الفضيل', '05', 'karama', 'fekra', 'hakaaa', 'يعطيه', 'عجوزه', 'هاويه', 'masrahia', 'لنوفل', 'ابسط', 'لتفادي', 'الذريه', '3andich', 'واحترم', 'التبلبيز', 'واصبحت', 'ذقون', 'mahdi', 'hehii', 'جعغور', 'لينكدن', 'كانه', 'الثقافه', 'te5dem', 'راضي', 'بالقرضاوي', 'ارقدلو', 'تقلي', 'زينها', 'bellehi', 'me3ak', 'fosad', 'ye9belch', 'وتنجح', '12', 'lih9i9a', 'وافق', 'قيم', 'تاعبين', 'سبناخ', 'التافه', 'mahiche', 'monhatt', 'الماجده', 'great', 'واادلاجي', 'تامه', 'شريكه', 'جرثومه', 'امفسخها', 'العاءله', 'فايسبوك', 'علااه', 'يفيدنا', 'تخربت', 'وكفي', 'بقواعد', 'اهلها', '9riit', 'نحترمك', 'اجمل', 'اقرار', 'تونسني', 'تلوجوش', 'الدخليه', 'تحتضر', 'حمدون', 'ومده', 'mou3alma', 'نتفكر', 't5arajha', 'الصحاح', 'خاليه', 'wntouma', 'تتاكد', 'trab7ik', 'fahmou', '3lya', 'msb', 'بسوم', 'الاسر', 'houkoumet', 'افعل', 'sabit', 'بوجين', 'yatiim', 'اطول', 'اتباعك', 'ويتهم', 'وللي', 'hameda', 'vediowet', '9alou', 'wymchou', 'ب40', 'birkelha', 'le5er', 'yhanikom', 'انتباه', 'تفيد', 'للباك', 'mli77', 'كعب', 'تقرر', '3abbd', 'فضيل', 'edawr', 'الحكم', 'belbarka', 'جملا', 'twakwek', 'ضعفت', 'ya3ml', 'sayebtouu', 'yichfih', 'ikama', 'i5adamlek', 'ماشاد', 'حكان', 'يكسر', 'اعطي', 'الوجود', 'ra', 'انڨلش', 'لاحول', 'ضحكتها', 'الشد', 'لمعرفه', 'ifat9', 'chkounou', 'l3am', 'بايع', 'الحصول', 'fan', 'github', 'تنقصهم', 'souffle', 'rabek', 'عاملينك', 'ويلقي', 'وابداع', 'eta7ana', 'traw7i', 'lpcr', 'pffffffffff', 'likom', 'اذواق', 'far', 'الزواج', 'المسطك', 'مبني', 'خدمتنا', 'yekhi', 'cadouwet', 'مخف', 'najem', 'كباش', 'تمثلون', 'chômage', 'ياسامي', 'فتبا', 'كاني', 'لفرضيات', 'عاد', 'freeret', 'وفاسديه', 'مجعولين', 'حرف', 'منعرش', 'اقعدو', 'jaybino', 'الصحيحه', 'sousse', 'البيبان', 'مادم', 'yghani', 'khyyr', 'lahkeya', 'je', 'تدميره', 'وصهيونيه', 'nithalek', 'tefouh', 'ilghalia', 'طلب', 'i9oul', 'امي', 'تعتبر', 'o5rej', 'tfih', 'مايفيق', 'twassell', 'بمسمياتها', 'تحبهااا', 'li3bad', 'ازرق', 'الستاجات', 'فجره', 'khalil', 'charika', 'الكاذبه', 'مااااااسطه', '0', 'cheye5', 'يشفع', 'صادقه', '4660', 'ykamel', 'martin', 'khedmtek', 'wahraatk', 'تعاونك', 'مشروع', 'nkalmouh', 'المراتب', 'لتخمم', 'خليتو', 'حافظو', 'نوفل', 'hath3alib', 'alhi', 'ناقصه', 'قص', 'يتنافسان', 'wliliri', 'mosiba', 'يسرقوا', 'sans', 'رمزي', 'me7erziya', 'ch3arhaa', 'يسخن', 'lwarteni', 'مناضره', 'viris', 'jourthouma', 'kammel', 'والهوان', 'ﺍﻟﺨﻤﺞ', 'mamergou', 'ديارنا', 'المفاوضات', 'والدنيا', 'قبلي', 'سب', 'التونسيون', 'momtez', 'هكاك', 'فوريه', '7alat', 'ناخذوها', 'aardhkom', 'mosama', 'شبعنا', 'jawouh', 'ضحك', 'rayen', 'خراب', 'ta3ba', 'kamla', 'عزوزه', 'خطابكم', 'حكات', 'marznek', 'مسط', 'مشكورين', 'asoumti', 'عجوز', 'انقاذ', 'manchrihouch', 'jarzis', 'nés', 'ماعندكش', '3lch', 'تصلح', 'diwena', 'na9ase', 'k', 'نقراو', 'هلمارك', 'nseb', 'الحجامه', 'rakabt', 'تراقب', 'enk', '4ati', 'yetfarjou', 'lila', 'تمويلها', 'nsob', 'يحفظهالك', 'ويحترمك', 'maaaasta', 'mnwra', 'اماريكان', 'فتح', 'الاشخاص', 'مخلات', 'ielts', 'يلمك', 'بفارغ', 'errahmen', 'wasli', 'لحاااااااااااس', 'ya3mlo', 'ynaja7ha', 'ماكينات', 'والكمنتارات', 'يهلكوو', 'فراهو', 'psy', 'aandou', 'm7afdhinhom', 'يقري', 'وجاي', 'biiiiiiiih', 'ro7ou', 'والقسم', 'ahém', 'جديده', 'ويعليك', 'dangereux', 'wink', 'in', 'باارشاا', 'cnudst', 'تحبوا', 'leonardo', 'aaleh', 'dlil', 'ma3andou', 'احاله', 'tseyerha', 'ms', 'الفقير', 'حطونا', 'ووليت', 'mama', 'k2rym', 'وترعرع', 'فمرحبا', 'oppa', 'تشيع', 'خزب', 'نشاط', 'منضروا', 'هايشه', 'وراءكم', 'قوي', 'اقول', '3indk', 'الجهله', 'الباك', 'نتواصله', 'للدرجه', 'المساجات', '9ellet', 'fete', '7m', 'nakrhou', 'للمستهلك', '4eme', 'كرشه', 'رابي', 'حالها', 'الناي', 'hamed', 'لوقف', 'تزيد', 'نتزوج', 'nimchou', 'وعاااااار', 'وفجور', 'بدايه', 'ذمه', 'نسا', '25', 'واشمل', 'جباءي', 'منطقه', 'étais', 'wmnayretna', 'borjouleya', 'يعفينا', 'بطحين', 'عرسوا', 'ياكلب', 'performant', 'rachwa', 'العاهرات', 'توي', 'بحذ', 'بماموريه', '2aktef', 'يعوضوه', 'nousfha', '5amij', 'مسامحتو', 'sal9', 'يتراجع', 'صابه', 'خليقتو', 'الاهرام', 'هالمارك', 'السماح', 'mahthamtouch', 'معدلو', 'الكلاب', 'وضحولنا', 'رتحنا', 'عمركقرايتك', 'as2ali', 'préparatoire', 'العام', 'تحسي', 'white', 'مارتش', 'يتلام', 'mnadhir', 'الحمد', 'damkom', 'makes', 'ﺗﺈﻟﻲ', 'مباعد', 'كبرنامج', 'تستناهم', 'يجيبوا', 'زنا', 'ستاااااار', 'jdati', 'anniversaiiire', 'blasset', 'برافووووا', 'madresa', 'amsat', 'charges', 'اضعافا', 'المشيشي', 'ركبه', 'yjini', 'بالكفاله', 'يخمم', 'وحيوان', 'ﺗﻔﻜﺮ', 'بلاصتك', 'confort', 'متطلبات', 'thabat', 'fack', 'لهدف', 'toktirrr', 'الفاسدون', 'المجرمين', 'ابوها', 'كين', 'nou5rej', 'تصويره', 'ياولدي', 'فلعنه', 'يطحن', 'تحني', 'raghma', 'اللغه', 'وستقوم', 'ﺗﻮ', 'اطولك', 'كالاتي', 'اشهر', 'aaaman', 'نفس', 'صارلوا', 'ايجاد', 'منزله', 'يحترموا', 'continuation', 'انسانه', 'تلصقونه', 'واختيارك', 'كنزه', 'tal7is', '3andkom', 'twila', 'maaaaaasssssit', 'للتعليم', 'مرزنك', 'mass5in', 'haou', '10k', 'الطحان', 'تاخذ', 'moukerbaaaaaaaaaaaa', 'ﺭﺍﺟﻞ', 'سرقتم', 'ahawa', 'لاسط', 'اخطا', 'ayh', 'اللغويه', 'fedam', 'المتدخلين', 'للبانبينو', 'اصفار', 'امسخه', 'وستظلون', 'بشطر', 'كمنترات', 'akthar', 'يبعد', 'تخلص', 'الشهامه', 'قاسقات', 'هامه', 'وتفهم', 'بطبيعتهم', 'الانشطه', 'تعرفك', 'استعين', 'ltzhina', 'لضرب', '5sara', 'lzem', 'enabro', 'نشدها', 'كلاشات', 'امين', 'harvard', 'ارتماءك', 'tanja777', 'الكثير', 'maaaaaaaaaaaaaaaaaaasit', 'wto5rej', 'nsawer', 'شيخه', 'اموت', 'الفاءده', 'khedma', 'behiya', 'يملكها', 'بوحده', 'klamek', '4', 'mahbatech', '7yati', 'is3a', 'واوصللها', 'سخن', 'nasma3', 'ناقم', 'your', 'santé', 'rayou', 'travaux', 'hlouaa', 'مااااااااااااسط', 'yfatak', 'حذرهم', 'معروفين', 'لغدوه', 'blhyy', 'بالعلوم', 'fanani', 'التقاطه', 'لبلاطو', 'وعميقه', 'dertou', 'حزم', 'li2annahou', 'شاذه', 'etkalmou', 'ظهرو', 'moutmizin', 'mének', 'منظروا', 'barlamen', 'شخصيا', 'cnss', 'تتعدا', 'بشنو', 'بتمشي', 'كاملا', 'اصدقاءي', 'jido', 'تبكيش', 'ارتدو', 'اقري', 'المكينه', 'nechrilek', 'حلو', 'الحاج', 'scientifiques', 'amsatech', 'افلام', 'زعمه', 'الافريقي', 'لرفع', 'شبابا', 'خاطرك', 'dez', 'بالمثل', 'وبرينا', 'الاساسيات', 'sofiane', 'amitié', 'kanek', 'hayn', 'maamalt', 'تطبع', 'والتسيب', 'للحمايه', 'البعروره', 'لايجدون', 'wzada', 'ماتنجمش', 'يجرب', 'انطلاق', 'badel', 'wel3eb', 'حبيتهاش', '3alamet', 'رءوف', 'tetcha9nes', 'لناظره', 'المسيره', 'b3athhom', 't7esou', 'والدمار', 'nestafid', 'افصل', 'ساقاها', '3saaalll', 'yomkin', 'اجملها', 'amaltha', 'مرجعوش', 'passeport', '5atr', 'nakrho', 'وقيفار', 'tel9a', 'خنزيره', 'metwathe', 'masssa55', 'المثقبه', 'مالبروميار', 'بموت', 'tfouhhhhhhh', 'rajl', 'ناتجه', 'خصوصا', 'ماخذه', 'اوقح', 'الدولي', 'بغرام', 'limas5a', 'الغرور', 'chnakerhu', 'متناقض', 'hlel', 'دامها', 'tofrodh', 'مشين', 'تفهم', 'arkhs', 'fo9', 'تنشط', 'طموح', 'barnemej', 'منيك', 'خسارتك', 'المات', 'bar7', 'marakouuuu', 'a3likom', 'moumayizetou', 'ودوما', 'كوكتيل', 'todh', 'برفوووو', 'ولايه', 'genre', 'maydha7akech', 'تشجع', 'انثاه', 'لبيوت', 'عطاه', 'dhahik', 'الفلوس', 'استيقظوا', 'molhed', 'المبرمج', 'ta3mlhoum', 'بالانقليزي', 'rabiiiiii', 'lkelima', 'مساعد', 'تجبه', 'nikhdim', 'taress', 'aada', 'خلقنا', '3iin', 'wblwa9t', 'mta3kom', '09', 'ايمن', 'مراد', 'يحكمو', 'تدعيلك', 'يريقل', 'وكثر', 'bilfanta', 'حاقد', 'مسخ', 'formation', 'ligsouri', 'بحجه', 'slouma', '5ihhhh', 'yimarredh', 'مجرم', 'paire', 'sadde9hol', 'مايجبدش', 'mnayek', 'لجوان', 'يعمللكم', 'omkom', 'fehoum', 'صونتر', 'اختاره', 'والقذره', 'layn', 'ebrabi', 'self', 'القيم', 'نسمعوه', 'متشرد', 'ووقار', 'يعاونك', 'حايره', 'البلد', 'masa5fitnich', 'ومضلوم', '9dima', 'ماعاجبو', '9balkom', 'لفظي', 'اموال', 'امامي', 'tib3athouli', '3arfa', 'tefhemm', 'جاه', 'وخنزير', 'مثلاته', 'yaamel', 'يعينك', 'mahk', 'الصيد', 'تهز', 'تكره', 'اللجان', 'milla', 'habib', 'بالتهم', 'svt', 'نتعجب', 'اتجاهاتها', '9imat', 'tobba', 'لايعطيه', 'i7chim', 'السياسيه', 'عملهم', 'بينك', 'ghafas', 'الامنين', '4000dt', 'baarrrrrrrcha', 'شرفك', 'nijim', 'yaatik', 'حقيقتك', 'tehdik', 'm3alam', 'ga3d', '5ssara', 'ماط', 'نعاونوكم', 'tfol', 'sahreya', 'étarées', 'عقده', 'قمله', 'وينور', 'فووووووور', 'طح', 'shkn', 'tunisienne', 'ﺗﻌﻤﻞ', 'العاقبه', 'hna', 'جزاء', 'الحكايه', 'ye7kiyo', 'efhem', 'حسان', 'استهتارنا', 'ولكلنا', 'خلاها', 'يعطونيش', 'masakrch', 'tchabah', 'ﻹنحطاط', 'العكرمي', 'تاثيرها', 'كفاش', 'المحالين', 'هاتفيا', 'ونهارك', '3bed', 'الاكحل', 'مسبه', 'خلينا', 'الجزاءريين', 'حمدا', 'ماسك', 'chkouun', 'خفيفه', 'مستار', 'ومسطها', 'enti5abat', 'quality', 'bheyem', 'تزنيت', 'بالحدث', 'tafeh', 'la79iii9aa', 'chbeba', 'صلحتها', 'يقبلها', 'lem3allem', 'masata', 'النظافه', 'maash', 'حيوان', 't3jebni', 'mt3rechh', 'تجلطهم', 'لهوه', 'كبول', 'تحيا', '24h', 'للبطاله', 'chaînes', 'والرخص', 'فنانا', 'مشمولاتها', 'بفغانسا', 'vrm', 'chywasslek', 'ادضك', 'طاهر', 'نتعب', 'tfooooooh', 'النكاح', 'مشرده', 'ولكلب', 'elahi', 'as3id', 'سااااقط', 'مجانيه', 'لعفش', 'alllah', 'ennou', 'شخص', 'عايله', 'kaboul', 'moussalssal', 'رااك', 'ya7afdhk', 'm3abya', 'da9i9a', 'يمد', 'التوجه', 'معليك', 'وهاونو', 'البريز', 'مخيبكم', 'منحططططط', 'وجعله', 'سيءه', 'بالجنه', 'l3ibad', 'تعاودو', 'lasset', 'لقناه', 'نحترم', 'm3ana', 'عجبتني', 'شياع', 'فوزيات', 'فيلم', 'rajell', 'm8all8el', '78i9tha', 'تكنيك', 'ines', 'la3ziza', 'الفيدوات', 'اختارك', 'بطريقه', 'مشمءز', 'الاملاك', 'chaeb', 'تبركالله', 'تحسب', 'اءسهل', 'lanti', 'g13', 'ياثر', 'to93od', 'ghaliya', 'ybi3', 'اكمر', 'يعطيو', 'kalek', 'فشيءا', 'blh', 'maaaaastaaaaa', 'ونجحو', 'الستر', 'كذبه', 'تعبت', 'ahhahahaha', 'te3jebeni', 'مصقتها', 'piece', 'الباهيه', 'يلزمك', 'wissem', 'gogo', 'عالبطاله', 'js', 'etat', 'انظف', '3ame', '3aliyak', 'تتسكر', 'عروس', 'forssa', '3alik', 'عينيها', 'هالفنان', 'الصداقه', 'الارقام', 'toolkit', 'ملهط', 'حرام', 'دنيتك', 'bilahi', 'ma9otlouch', 'بالفلس', 'lham', 'المقصود', 'تغيير', 'لنتي', 'javascript', 'قدمو', 'معبي', 'sekta', 'e7tarem', 'ويحارب', 'تتخرج', 'miber', 'العروفات', 'moncer', 'تتصرف', 'محترمتش', 'تتدخل', 'موجوده', 'الابواب', 'هززها', 'fihri', 'naaa3reef', 'rasou', 'llabriuk', '5mis', 'ywafa9haa', 'y7ot', 'تبشم', 'فضاءح', 'والعام', 'شريفات', '2022', '3lliiikk', '1200', 'beeha', 'انيابهم', 'المزيف', 'يحطو', 'كلمتك', 'المزمنه', 'مبدعه', 'فييت', 'ديوثه', 'مغرومه', 'انتخبتوهم', 'enna', 'bala', 'bey', '8ir', 'ميحي', '3mlna', 'classe', 'manich', 'الوضع', 'واصابك', 'ونساها', '3melna', 'العاده', 'القراني', 'ملييح', 'ازلام', 'التعليم', 'تعلمون', 'وفسخ', 'خربه', 'ء', 'وثمود', 'العاديه', 'النفيام', 'سعيد', 'gedch', 'heda', 'man9oul', 'na3lett', 'ترهدين', 'الجمهوريه', 'طوول', 'عرا', 'mat93dch', 'يوفا', 'نیه', 'sourek', 'الجاءزه', 'حر', 'والحصره', 'يصيرلو', 'plusieurs', 'ida', 'وتصادفني', 'tmchy', 'professionnel', 'معلول', 'i5alihelk', 'e3leke', 'بمختلف', 'المنظمات', 'ماخيب', 'يشفيه', 'صادق', 'اسوا', 'نعبروش', 'te5dh', 'ماخمجكم', '7aftarich', 'مالحكايه', 'تقطع', 'الدلاجي', 'فريق', 'تريدون', 'حوماني', 'ba3tou', 'قامت', 'نقارنو', 'دفعت', 'لوضعيه', 'لبصل', 'fnaninn', 'الفتره', 'اللام', 'بوكم', 'ونجحت', 'يحميهان', 'تشمل', 'الاثر', 'الصوم', 'المارك', 'تحكمش', 'رقم', 'مهارات', 'ويفلمو', 'تعتقد', 'واولادكم', 'ticket', 'فخرا', 'اسداء', 'mesh', 'may5adamhach', 'للصغار', 'اكسجين', 'للمناقشه', 'الڨوابسيه', 'جاش', 'فظله', 'allahomma', 'laaaaseta', 'jii', 'ومرزنها', 'news', 'urgence', 'na8hk', 'برشاااااا', '3asba', 'نجيكم', 'حالتين', 'candy', 'اعلام', 'مسكين', 'النجاسه', 'farhana', 'ضدك', 'بنكار', 'واصبح', 'للوافدين', 'باكالوريا', 'تشتتك', 'طيبو', 'ijibo', '9amlin', 'hypothese', 'b5ir', 'جبالي', 'choum', 'nife9', 'جديدك', 'n9olk', 'يوخر', 'احسن', 'مولد', 'يمثلني', 'شءون', 'للقحاب', '5ayeb', 'ina', 'الشبيحه', 'gharsallaoui', 'مريت', '3inik', 'lemima', 'chof', 'mizel', 'شخصيتك', 'lawa7', 'ارواحهم', '5aybaa', 'مهم', 'تحطهم', 'abir', 'سبادريك', 'وعبير', 'تلقاها', 'منصب', 'ويشتهي', 'الڤورا', 'zine', 'نجوما', 'ملمومك', 'تتمني', 'وسفيه', 'والعافيه', 'المال', 'عيادي', 'خنيث', '23', 'نحكيلها', '5ouk', 'سعدك', 'يتماشا', 'للتلفزه', 'يحسو', 'بلذات', 'دولسي', 'masseeèt', '5amej', 'لقيط', 'la7assa', 'machabkom', 'ediin', 'منحبحاش', 'والجواب', 'الركح', 'الخبره', 'résistes', 'تحمص', 'tkhdm', 'الفتاح', '3alamiyaaaaaa', 'الخماج', 'نروح', 'ahsan', 'mamstk', 'moi', 'والثقافيه', 't7annnn', 'للناس', '9asset', 'raissou', 'نكتلها', 'وجزاءرنا', 'غره', 'ياقفلهم', 'بشكون', 'قروضاتهم', 'mo7taram', 'ma5lou9', 'كريهه', 'grammar', 'هلاك', 'okhtou', 'جايبهم', 'اوسع', 'اكبسولنا', 'ذمتو', 'التذكره', 'تمدو', 'للسجون', 'ta7oun', 'التفصيل', 'ملاين', 'rasmi', 'khaletni', 'احصاءيات', '000000000000', 'تبقء', 'ظاهريا', 'متكبره', 'vs', 'تبع', 'oumourou', 'الكرامه', 'king', 'yemasa5', 'بعضنا', 'majouch', 'الفرحه', 'تعبيت', 'itfouh', 'ينفعش', 'farkh', 'الاخت', 'فضحااه', 'الخروع', 'للجماعه', 'بكوش', 'jit', 'الرجل', 'وعميل', 'الطفوله', 'مدير', 'هجوا', 'العتبه', 'mriiiiiiitha', 'حرج', 'دبرم', 'معاق', 'daraki', 'mots', 'offfff', '7boussat', 'مهروس', 'neselek', 'yeb3edech', 'offffff', 'makyajha', 'mebrouka', 'كناءب', 'رهم', 'mamstouuu', 'riit', 'chniya', 'الاولي', 'yzhbtou', 'السنههو', 'tlefezna', 'طالعين', 'matjibou', 'l7as', 'jayha', 'الحماس', 'معيطتش', 'ywafer', 'انيقه', 'avez', 'omniti', 'affaires', 'الخايبه', 'emseh', '3ajbeek', 'ma7leeeeeeeha', 'اع', 'يرجعو', 'belnesba', 'مزاطيل', 'weldk', 'والنقابه', 'yofthol', 'tafhiin', 'خليك', 'بصحته', 'hadak', 'delf', 'mkaser', 'جزاءريه', 'كمرض', 'الحضر', 'العاءلات', 'المانيه', 'البكاء', 'المتفوقين', 'ybel', 'byha', 'تخصصلهم', 'نسعي', 'مركبه', 'تتطلب', 'kalbaaaaaaa', 'خدعه', 'اشتباكات', 'ta7kiw', 'تبرءه', 'ywaf9ha', 'betawfi9', 'المله', 'امنه', 'البلايص', 'كلامها', 'الاسماء', 'المبرمجه', 'الشاهيه', '7asen', 'tabrkala', 'زويين', 'العاجل', 'li5wet', 'burou', 'احدي', 'الخياطه', 'moins', 'tfakarni', 'نلقاهم', 'haroun', 'تقع', 'felecitation', 'منفوخه', 'والخبزه', 'يجدد', 'لفرض', 'دبش', 'يستاهل', 'مزلت', 'ya3tihom', 'غناياتها', 'يهمهم', 'تفرهدي', 'بتدخلاتك', 'للحضور', 'sc', 'افاقوا', 'telif', 'donc', 'please', 'نظرتهم', 'تعليق', 'مريمتي', 'للشباب', 'تحمله', 'يكبس', 'الهواء', 'a7yet', 'وصحبه', 'raja3', 'تاثر', 'المدعو', 'بلاصتها', '3andha', 'منوبه', 'البونيه', 'ye7chim', 'بعروره', 'ونشكره', 'jeyin', 'بمجرد', 'لمواجهه', 'تنفع', 'خنزير', 'غايره', 'kaada', 'pratique', 'زوزه', '7ora', 'ماعجبوش', 'امسخ', 'ديكالاج', 'mas9etou', 'مرزن', 'وتطاوين', 'لحرام', 'بentretien', 'والنصر', 'ويقلك', 'كراسي', 'يستركم', 'جربه', 'welfamille', 'سلاطه', 'شموسي', 'للمقام', 'يحفظوا', 'رزينه', 'شهداءنا', 'bhya', 'armasta', 'انجبت', 'خرجلهم', 'عفانا', 'كفنان', 'formatih', 'وليتي', 'يڨطع', 'ibarkilhom', 'm3a99ad', 'ytahye7', 'وحمايه', 'قعدتوكالضراير', 'bonjourate', 'مرور', 'مالعينين', 'الحوار', 'مساحه', 'tmarmid', 'هالبرنامج', 'shkoun', 'اولست', 'ikhalikk', 'وابناءنا', 'فرضيه', 'twetik', 'يعرو', '3aslaa', 'عقلاني', 'actrice', 'عبوديه', 'lbac', 'ضلامي', 'ess7i7a', 'نماذج', 'tas2el', 'محاسبه', 'according', 'يخدموهم', 'فيسبوك', 'ehanik', 'الشديد', 'عندك', 'تنفس', 'troddouha', 'اثارها', 'تستاهلها', 'language', 'للمواطن', 'hatinou', 'bientôt', 'peeeef', 'اعطيوه', 'استماره', 'بالحلال', 'ysahelak', 'lkrasi', 'معطيات', 'ويقول', 'التذكير', 'baaaarcha', 'دلي', 'zuz', 'نحبوا', 'مبروكبالتوفيق', 'عملتوا', 'ya3tini', 'شيبوب', 'شنرتاح', 'jarathim', 'gratuites', 'تسعي', 'matwasalch', 'التصرف', 'tfarhed', 'للاطفال', 'انشاالله', 'لاحياه', 'مياده', 'mouzica', 'nrak', 'لقا', 'للرجل', 'الشركات', 'لواش', 'مشب', 'sot', 'erjel', 'الرءيس', 'm3aref', 'بالمره', 'سكرتها', 'le9loub', 'line', 'البرا', 'وبقيت', 'الاخطاء', 'ﺑﺮﺷﺎ', 'الرعب', 'الخزعبلات', '2j', 'ساءلا', 'بسرعه', 'r5isa', 'la7es', 'الدنيءه', 'يضحكني', 'seo', 'راحه', 'والاسعاف', 'الربارات', 'يضمن', 'البوزه', 'ممسطو', 'mariitech', 'ونستفادوا', 'للمرج', 'قتها', 'الايمان', 'مارق', 'للخماج', '3amjey', 'وحشاء', '3iniha', 'ركيك', 'alaho', 'ومناضر', '1ere', 'مصاريفها', 'بالشان', 'نتاكد', 'bijnebha', 'accueil', 'thabli', 'جاتو', 'ouatania', 'فاك', 'chta9ra', 'الاشهر', 'الوعي', 'بالموضوع', 'dawrtli', 'mba3id', 'يڤلك', 'mibooouuon', 'ouii', 'تداين', 'رءساء', 'يستمع', 'hend', 'chnya', 'التقفيف', 'ماشاءلله', 'may3jebnich', 'الامعي', 'قداش', 'yet3ada', 'وديع', 'montage', '10dinars', 'معلله', 'mtmathel', 'ms5in', 'مضمون', 'la3net', 'wilid', 'مغشوشه', 'kassra', 'معتدل', 'maaaaasit', 'bin', 'مسا', 'الفيزياء', 'احترمتو', 'الورتاني', 'معكوم', 'هوليود', 'tsaysha', 'rali', 'تقديري', 'العروبه', 'طحاااااااان', 'قري', 'الفاضك', 'moda', 'توصلولها', 'عﻵه', 'الكاريار', 'شكونك', 'miskina', 'fimo5ha', 'الكومنتارات', '3awedha', 'startup', 'الحداثيين', 'blehy', 'تابعتها', 'مالمشاكل', 'الزلم', 'lfoyer', 'الشلابق', 'يشرفك', 'fessdet', 'التعليمات', 'ذالك', 'sayb', 'جيشنا', 'academique', 'مواضيع', 'جد', 'lagta', 'shwayz', '3alih', 'telha', 'nlemmou', 'fa9at', 'يروجون', 'دومانها', 'مربوط', 'ويقل', 'نعالجو', 'بايعه', 'slm', 'المحرس', 'domage', '3ajifa', '7sab', 'famille', 'تربش', 'anta', 'mo9rfa', '5iiiiiit', 'يهمها', 'بالبلوتوث', 'وسارق', 'تقراها', 'presque', 'سبان', 'للراي', 'يوفقكم', 'الخدمهملقيتش', 'tfaremet', 'structures', 'mahlak', 'narj3lha', 'معدلاتك', 'sa3at', 'مذلك', 'grage', 'كوراث', 'صمعه', 'mo5o', 'اطورو', 'wl', 'تيار', 'استعملوه', 'mar5sk', 'المريضين', 'جلادهم', 'الكتيبه', 'بذلك', 'للقهوه', 'بكاوني', 'diwana', 'yet3adou', 'يدبر', '44', 'لبهيم', 'bizarre', 'تلحيس', 'جباااان', 'للدفعه', 'يبالي', 'mabldek', 'kafon', 'y3rf', 'بءره', 'ltbkina', 'naarf', 't7esha', 'سباطي', 'nos', 'تحسبين', 'کان', 'الترجمه', 'تجيبهم', 'توسيع', 'حسابك', 'visibilité', 'يتخلصو', 'شخصي', 'والساحل', 'الشعبويه', 'برافوو', '3080', 'اعلامي', 'وكلها', 'takhrahoulem', 'قروده', 'n5amem', 'العنف', 'nfasarlak', 'كيدهن', 'ٱلافضل', 'تتنفنف', 'وعدوهولنا', 'ighirou', 'تتواصل', 'a9raboun', 'négatif', 'السنوي', 'tayaht', 'اسرع', 'الشرقيه', 'edhoohkaa', 'يكبرو', 'شابعين', 'تهنتيل', 'vx', 'كود', 'المفاهيم', 'دورو', 'ايحشم', 'حساسه', 'espère', 'msiba', 'sars', 'الصميم', 'ويكبر', 'ماد', 'ومدنين', 'وراها', 'سانيه', 'win', 'امتاعك', 'ma7stech', 'للمءسسه', 'بانفلوانزا', 'tanshouni', 'nhezek', 'nfahmk', 'يطنه', '3ayn', 'ديني', 'يمنحك', 'ومطلوبه', 'خلو', 'dharbet', 'غالي', 'نخاف', 'وفق', 'التجهيز', 'klemk', 'y3alem', 'lawaa7', 'ing', 'ans', 'ghoneya', '200', 'image', 'bakeni', 'mri4a', 'لحل', 'نقولك', 'موقع', 'واللهي', 'جريمه', 'ﻗﻠﺔ', 't3allemt', 'yata7an', 'yaaaser', 'يعرض', 'ilga7ba', 'نسالك', 'قطعنا', 'سلبيات', 'نشجعها', 'والثانيه', 'بالدم', 'اعواد', 'chlaaikkkk', 'نحكي', 'يااااااااا', 'njikom', 'mdintk', 'warini', 'بجلغتو', 'بالمهندسين', 'شاهد', 'واتو', 'غلوا', 'lbarka', 'wena', 'blhi', 'واضحه', 'blablabla', 'المشروع', 'موافقينو', 'تطلبوا', 'المنشط', '39alha', 'فدلكه', 'coller', 'moujirma', 'tab3ou', 'mayouus', 'يءجل', 'hhhhhhhhhhhhhhhhhhhhhhhhhhhhhhhhhhhhhhhhhhhhhh', 'mamstoooooo', 'وناجحه', 'tslkha', 'شعارات', 'dégage', 'جايبكم', 'فيقني', 'application', 'الطف', 'بالباك', 'احرقهم', '34am', 'ta3bir', 'tal3in', 'chab3a', 'pffffffffffffffffffffffffff', 'تسالش', 'mounef9', 'wane3ma', 'اتتففوووووووووه', 'خبرات', 'ماريت', 'kechfou', 'انفصام', 'lwa7', 'marakou', 'الفنانات', 'يعاقب', 'وقابلت', 'وتعجبني', 'اءهدي', 'للاخيرتين', 'abonné', 'رجل', 'المخور', 'عصام', 'بورحوليه', 'oula', 'ida7kou', '01', 'قل', 'koull', 'فالعلوم', 'وابتلاء', 'لعدم', 'لمل', 'لازمها', 'مجالس', 's8iratek', 'matfho', 'شخصيتو', 'يشق', 'لاختبار', 'ذبح', 'etfouh', 'مراء', 'اعملوا', 'منافق', 'يحمي', 'نهايتكم', 'انتهازيين', 'اعوذو', 'blasetha', 'عيش', 'tmchi', 'bancaire', 'ويقصد', 'se9i', 'fhemtni', 'ضحكتو', 'لزبيانات', 'نحسن', 'fibladna', 'كبشلنا', 'mafhemtech', 'مصباح', 'ربط', '3sbaaaaaaaaaaaaaaaaaaaaaaaaaaa', 'التلقاءي', 'm3annech', 'دكتور', 'تبربش', 'قاالو', 'اقيملك', 'يشجعهم', 'توجيهك', 'خربها', 'sil3aaaaaaaaaa', 'بريك', 'يعععععع', 'bchahriti', 'ablad', 'ehna', 'كورو', 'mojtm3na', 'القيروان', 'صادره', 'lbarnmej', 'uib', 'wa9aa3', 'chbiik', 'de5let', 'barvou', 'الدفعه', 'جيناهاش', 'ب11', 'ta3melou', 'كرهتونا', 'نستعملوا', 'san3oha', 'عطل', 'بروحها', 'yodhhor', 'السقطه', 'nahna', 'نحيلو', 'matnejim', 'la7ram', 'tastikaaaaa', 'بصنع', 'قلشعليكم', 'نخدموا', 'مشكلتها', 'بداو', 'ela', 'yezzi', 'ونسيت', 'الوقوف', 'lo5rrania', 'كلامه', 'للحوار', 'التنافس', 'فال716', 'mtaa', 'achnowa', 'tfouuuuuuuuuh', 'الغنايات', 'yo93od', 'يقرب', 'ta3rf', 'وديمه', 'كالسردوك', 'والنذاله', 'قدييييييييم', 'مابالك', 'الثروات', 'هوي', 'تقزيم', '9anetek', 'دوا', 'موبني', '3amel', 'شركت', 'met2al9a', 'دجال', 'tal9ahom', 'اسالي', 'وامك', 'رزانه', 'يتفرجو', 'ينعلهم', 'parking', 'كورينا', 'واشرف', 'toeiffl', 'المسخره', 'المراقبه', 'عاءله', 'للبغضاء', 'فاصبحتم', 'dh3ifa', 'كمساعدات', 'عملاء', 'lezmni', 'wmassa55555555555', 'masri', 'صغيراتنا', 'الامان', 'mo7ami', 'بلعكس', 'يحكيلنا', 'neb9aw', 'ويسكنه', 'takhouha', 'صعاليك', 'صياغه', 'chbifibika', 'كنتم', 'men3ini', 'مرج', 'startups', 'amthalek', 'بالضو', '9souri', 'الفيسبوك', 'الفرح', 'قضاء', 'togtel', 'wmeziyéna', 'fb', 'فالوقت', 'zadaa', 'médical', 'مغسول', 'yal3eb', 'فنقدر', 'طلعت', 'ياكلبه', 'مخلط', 'قابله', 'arrivage', 'azine', 'ترمكم', 'راب', 'ايقافي', 'فرمضان', 'تخوفهاش', 'elbachariya', 'dweyet', 'عالمءسسات', 'nayeka', 'arra7man', 'na7kou', 'بهيم', 'swayet', 'هههههه', 'harba', 'etmthell', 'شايخ', 'مكتبه', 'سيءدي', 'مرات', 'sourmik', 'kalaa', 'koujina', 'اشك', 'غلي', 'ايديه', 'خوار', 'dho7k', 'بغيرو', 'chapo', 'تعرفو', 'سيبوها', 'ظلم', 'masettttttttttt', 'بحاجه', 'يلنوها', 'للفنان', 'hhhh', 'aich', 'يءذيهم', 'fhemt', 'ومنضرك', '3imed', 'بالدفاع', 'ﻣﺴﺘﻘﺒﻞ', 'طوارء', 'ta9era', 'للبلاتو', '7outhela', 'الاداري', 'صحيت', 'وخلاك', 'cumule', 'اضفاء', 'يتقرب', 'بسم', 'تخذا', 'جدول', 'mayet3adach', 'لميزانيات', 'وينربي', 'vie', 'الهجاله', 'gasrineya', 'يبررون', 'kemche', 'فش', 'lmit5alim', 'presse', 'بكيوفكم', 'imda5lik', 'التعطيل', 'فلتها', '13', 'بعضاها', 'حاميكي', 'حقق', 'mojtama3', 'المءمنين', 'تنجز', 'تتفقدو', 'allhom', 'ghodwaa', 'abbrev', 'بموقف', 'ختامها', 'يلتقون', 'le5maj', 'علكه', 'animes', 'we7ed', 'تخولك', 'وسعاده', 'ويجدد', '5edema', 'اطفالنا', 'لمخالفتها', 'hemkom', 'yesma3ha', 'pfffffffffffffffffffffffffffffffffffffffffff', 'tfouuuuuuuuuuuuuuuuuuuuuuuuuuuuuuuuuuuuuuuuuuuuuuuuuuuuuuuuuuuuuuuuuuuuuuuuuuuuuuuuuuuuuuuuh', 'تكوني', 'الثلاثاء', 'يحبوه', 'مهمه', 'مسيبتها', 'تربيه', 'couvercles', 'ya7at', 'البطاقه', '3arbii', 'hlou', 'lvaza', 'el3bed', 'الفوز', 'بسخافتكم', 'sahbii', 'منحبوش', 'الذيتحدث', 'فهمتش', 'عيف', 'الlogiciel', 'ماتنساوش', 'المساعده', 'tafhom', 'التشيك', 'inha', 'playstation', 'لمرا', 'ديلو', 'سيسعي', 'لازمك', 'تحفونه', 'ta9ss', 'قدراتها', 'المشاهد', 'y3alik', 'nikelha', 'تسجل', 'inchlh', 'قلوبهم', 'وخوذ', 'mili', 'بروف', 'msaaat', 'الريف', 'الشيبه', 'البسيطه', 'شوكه', 'رخس', 'تستعجل', 'الدعاره', 'yezou', 'الحاليه', 'بسءال', 'fara5', 'هنتنا', 'na9sa', 'ejana', 'ytabe3', 't9asser', 'ميتحكاش', 'منذر', 'بنشاطهم', 'sras', 'منقول', 'اخيه', 'ناجي', 'لعباده', '7araaam', 'سينما', 'dhyoufek', 'assistant', 'الفريب', 'متحبش', 'par', 'isel', 'الرذيله', 'blidaaaaaaaaaaaaaaaaaaaa', 'ينقل', 'jm3a', 'mta3', 'ويقدرك', 'الدخل', 'فنانيهم', 'tea9f', 'okthek', 'اظن', 'ويعافيه', 'يقيدوله', 'skenti', 'يحفظ', 'corolllla', 'البلعه', 'wb3atht', 'msaken', 'tabet', 'aghla', 'mechou', 'مجتمعي', 'wgadeh', 'معروفه', 'يفعله', 'باخلاقك', 'inajem', 'يهتم', 'hemma', 'يخونها', 'sa3d', 'vas', 'ryem', 'ومتراهش', 'يتحل', '2k', 'غداه', 'ywariw', 'what', 'الجلل', 'تعرفني', 'عرفناك', 'annahdha', 'puritan', 'tefha', 'na9fou', 'ﻻ', 'خدامه', 'الوفايات', 'mostawayet', 'ma5ybha', 'tetris', 'كامل', 'وبو', 'حمقاء', 'شوفلنا', 'بصحتك', 'et9ou7ib', 'شاديت', 'وقازوز', 'مطهره', 'ويطول', 'wy7eb', 'connaissances', 'بولحناك', 'نون', 'وتقولوا', 'اذ', 'ثفافه', 'الحاجه', 'wett7ine', 'والمحروقات', 'يعيشها', 'لوجستيا', 'e5er', 'طاءله', 's3oubiya', 'ettes3inette', 'فشل', 'التسعين', 'منسوب', 'العون', 'ريح', 'اطمع', 'tfouuuuuuuuuuuuuuuuuuuuh', 'النيابه', 'صحافه', 'يتجرءوا', 'hyeti', 'manechrich', 'awal', 'تڨول', 'ومكروه', 'sirine', 'واعتبرهن', 'تتهد', 'klamou', 'شوربا', 'كيفوا', 'الفرخ', 'tangier', 'tousslou', 'ستوب', 'درسك', 'متوازي', 'علاقه', 'نعمر', '5ter', 'haki', 'ممثلات', 'رياضيات', 'تفتوفه', 'زهر', 'klebbbbb', 'تكملو', 'والشذوذ', '3lahom', 'ثعلوبه', 'شارفه', 'fdhaya7', 'الاهتمام', 'sbe7', 'mékch', 'appropriée', 'وهند', 'da3wa', '5alilak', 'تحضر', 'حديقه', 'نيابه', 'ts7en', 'يظهر', '5mise', '3jbkm', 'mata3', 'yéésir', 'gb', '5amjaa', 'حولهو', '3malha', 'المصانع', 'balek', 'مشروعك', 'التونسيين', 'بياض', 'قسوه', 'occasion', 'مڨجڨج', 'تفووووووووووه', 'تفييييييييييييه', 'نتبني', 'شفاء', 'tghor', 'وصونوا', 'الميزيريه', 'جامعات', 'paiement', 'مشات', 'fahmin', 'نتعدي', 'تفوە', 'بمواقفو', 'going', 'وعقولهم', 'بمبلغ', 'بصوت', 'قدره', 's9outia', 'mesmema', 'مشي', '7iwar', 'ورضايه', 'موفق', 'fadina', 'oropa', 'رابار', 'ماكيفي', '9lil', 'تفووه', 'lfekra', 'لعبد', 'yehfdek', 'لمرضي', 'i9olek', 'ابعاد', 'zen', 'yakfiou', 'نلعبو', 'رواحك', 'تجاوب', '3aychoucha', 'فرحات', 'بثه', 'wmen', 'يشارك', 'الجذر', 'y5allik', 'hasbouna', 'ينتشر', 'diam', 'يعدل', 'بالفطره', 'guedd', 'ستصبح', 'واصل', 's8ir', 'وسكروا', 'enfin', 'مهبول', 'oumourk', 'النوعيه', 'ijouyiret', 'hne', 't3adi', 'مجهول', 'nefa7', '9afefa', 'بسيف', 'mahoumch', 'لمت', 'wa3liik', '9talni', 'تتبدل', 'مظلمنم', 'krahtk', 'ta7an', 'ililya', 'تخلف', 'mte3ek', 'مخ', 'رحك', 'mourra', 'joyeuuuuux', 'اتقي', 'فالحبس', 'الخفاش', 'ti7is', 'وفرنسيه', 'يفذلك', 'ma7lehom', 'jawibni', 'كلمتن', 'itlahou', 'التطبيقي', 'intégrées', 'متع', 'kilwa', 'نتعرفو', 'magjrour', 'سيعيش', 'راااك', 'يقولو', 'القاءمه', '350dt', 'lamna', 'فاخي', 'خيريه', 'نعن', 'mayjich', 'الانف', 'يتبع', 'كوره', 'نقز', 'mnghir', 'geniral', 'yozen', 'ينطقو', 'خطورته', 'لمستوي', 'المتعارف', 'اطيح', 'zeblaaaaaa', 'vram', 'ilgoul', 'معلام', 'عرسش', 'حومتي', 'المقيته', 'ربنا', 'قيمه', 'ربيع', 'مصلحه', 'etayarat', 'واريد', 'ويرجع', 'الغذاء', 'masssstaaaaaa', 'ااثعالب', 'التصريحات', 'الويكاند', 'هضمتو', 'hket', 'ta7founa', 'لضمان', 'مصلحتكم', 'maa', 'احترمها', 'assit', 'جيده', 'قاعو', 'بامتياز', 'سابقه', 't3adiwha', 'rdv', 'فلفل', 'حساس', 'yahkiyou', 'لافساد', 'ma3andouch', 'تطبيقيه', 'فارسيه', 'en3adi', 'افاق', 'الغرب', 'laye7chmou', 'تباعدو', 'قاتل', 'تشرفني', 'ts', 'floucek', 'dawketna', 'العماري', 'البريميار', 'اصله', 'الفاشله', 'mamsteek', 'حيويته', 'mnateff', 'تتعارض', 'والتدليس', 'mat5tarich', 'ككبر', 'mta3ou', 'دام', 'française', 'خلبقه', 'mamestoo', 'mekl', 'daolaaaa', 'felfel', 'khassaten', 'كرافاه', 'الابليكاسيون', 'انسخسكك', 'دموعك', 'يسمعك', 'مدني', 'tooooop', 'سفيه', 'sa3dkom', 'علدي', 'تاخوهاا', 'نكرت', 'نبزقلك', 'مسطو', 'دروس', 'nans7eek', 'يلعبهالنا', 'وو', 'وبغل', 'راجلها', 'ونبدا', 'تفيههههههههههه', 'بدمها', 'عمناول', 'ybi3ou', 'يتقال', 'غوانتانامو', 'والسلاطه', 'ba3dhou', 'لاعقه', 'mt7bsech', 'مليونيرا', 'طومكروز', 'خلاه', 'ya3rfou', 'راجع', 'ydha7akna', 'شهداء', 'بريمه', 'homchi', 'مثمره', 'w9elit', 'اعصابي', 'المطلوب', 'to5les', 'wiba9i', 'وتحليل', 'ادانه', 'اثرت', 'تنفرج', 'bsoum', 'جناته', 'lel', 'مفتوح', 'nra', 'صدقتي', 'ماش', 'ijibou', 'جوهره', 'الاغلبيه', 'تفاعل', 'تطاوين', 'esra2ileya', 'ثوابت', 'na3mlou', 'انترنات', 'aprt', 'ومفقوده', 'الانس', 'ولوا', 'matefhek', 'klewli', 'ينيك', 'rwa7kom', 'لقحت', 'النظام', 'tchaabbah', 'ممله', 'ومرمزو', 'tfool', 'وافي', 'تنقل', 'بقيت', 'béch', 'allahoma', 'hammouda', 'الشخصيه', 'bladi', 'حنينه', '3alk', 'يرقد', 'معناه', 'كلمي', 'فاحش', 'gratuite', 'mon7at', '5yyr', 'راسن', 'ra9asaaa', 'قسوات', 'المساطه', 'سبيل', 'اللعبه', 'مطمءنا', 'rasta', 'nz', 'ياتونس', 'miboun', 'belha9', 'انصحها', 'يدل', 'خويا', 'منح', 'hala', 'فهمت', 'كالشوكه', 'لمرحله', 'wchouf', 'elgharbi', 'خامج', 'i3a', 'عرينا', 'اسراءيل', 'lleleh', 'تجرا', 'للقاعده', 'ta7ki', 'تروحلو', 'th9ila', 'حمزاوي', 'الكوميديه', 'اضربت', 'لاملاك', 'hayel', 'لسته', 'ضحاك', 'وحظ', 'يساهم', 'mocjh', 'السبل', 'etjibou', 'الجمال', 'نابل', 'كميه', 'etsou9', 'mat9el', '7al', 'الصالحين', 'الامريكيه', 'aw', 'tab3o', 'لصغارهم', 'tnachet', 'الظلام', 'الواعر', 'مانتفرج', 'nes2l', 'تحتسب', 'وافقت', 'كار', 'قانوني', 'khawa', 'وخصوصا', 'بوزيد', 'ماتحكيو', 'yokl', 'fazdetou', 'chahb', 'mat9oul', 'الفتنه', 'tonsea', 'مطوله', 'wa3leha', 'trena', 'والمستهترين', 'الزانيات', 'oltf', 'يكرهو', 'شنوي', 'la7la', 'بءس', 'lezemni', 'waldih', 'heseb', 'الفضايح', 'بعمل', 'عزتي', 'العمران', 'غريب', 'hkit', 'تقلد', 'الراست', 'bayrem', 'compus', 'يوصلهالنا', 'wahraaa', 'سلق', 'ترينو', 'شطر', 'mekdad', 'حظك', 'صفات', 'عطوني', 'اينما', 'وانه', 'الonline', 'تبرك', 'تعوضلهم', 'yedber', 'katrou', 'صفحتها', 'يبركها', 'wehcha', 'lha9', 'aslek', 'شنكرههم', 'غبيه', 'voilà', 'mechi', 'matfalt', 'marja3ch', 'شء', 'af3alou', 'السفاهه', 'بڨرون', 't3awan', 'قبلوك', 'نوعك', 'milli', 'sciences', 'دول', 'يجيبو', 'enseeen', 'عارر', 'fibeli', 'maratich', 'ستدعك', 'masset', 'يوحي', '3inek', 'باغانيه', 'النتاءج', 'بوركت', 'لانهيار', 'loool', 'walaw', 'نهيء', 'تتعالجو', 'sketchet', 'très', 'سومها', 'التسليم', 'يحل', 'yyh', 'جينرال', 'التخصص', 'المصر', 'baaaaaarcha', 'تحطو', 'لاحلي', 'بالقاء', 'wajihaa', '3tina', 'الليسي', 'تبننوا', 'ضرب', 'لدارك', 'kbirrr', 'متالقا', 'ويرعاه', 'يعطيهم', 'ya5amij', 'شدت', 'mchee', 'jerdh', 'تدخولاتو', 'emission', 'بالضربه', 'a3melt', 'mareznouuuu', 'لايام', 'الاموال', 'touslelhm', 'ياحصره', 'العفاس', '7ram', 'قطعه', 'اثرو', 'فالواطي', 'كبييييييير', 'الاضراباما', 'al3adhim', '7ata', 'andhef', 'الغراب', 'حاسب', 'خممت', 'كروت', 'اصلع', 'tajmi3a', 'واحراج', 'وكلامكم', 'بدغيج', 'jwa3a', 'لكني', 'عفسلهم', 'kssouri', 'الضيف', 'نظريه', 'والصمود', 'fill', 'ودعوه', 'ذلال', 'azyen', 'weberek', 'دمر', 'يكمل', 'فرضتش', 'زباله', 'للمستشفي', 'chmaaneha', 'met7ebech', 'الكالاتوس', 'mandri', 'قفزه', 'البقره', 'عملتلنا', 'تقسيط', 'khatr', 'fard', 'حروبات', 'انتانسان', 'rabii', 'بنسبه', 'الانفراج', 'dewi', 'يمي', 'la3meri', 'codage', 'sait', 'العزبات', 'يوضح', 'yaatihomlha', 'mamstou', 'الغي', 'ملول', 'برجوازي', 'lkelma', 'بربی', 'تظحك', 'حساء', 'الاتحاد', 'ينوقز', 'mas9tha', 'na7ik', 'بابحديات', '90', 'kifch', 'ta5sar', 'الفواياجات', 't3amlouch', 'وموبنه', 'كومنترات', '3anna', 'الموبنه', '9adee', 'gassama', 'tekhouch', 'metwaset', 'نحبو', 'القواده', 'المصابين', 'kito5rej', 'gga', 'odkhol', 'تخدمها', 'زلاط', 'حللللللللللوفه', 'الطاقات', 'behit', 'القوه', 'الاجابه', 'راجعون', 'شركات', 'اكتسبي', 'اصدم', 'فكرا', 'ارساء', 'تباشر', 'حلت', 'تقوموا', 'تنفذ', 'balas', 'للقطاع', 'تصميمات', 'ساهل', 'والطف', 'normalment', 'تفووووووه', 'ye7taremech', 'n9alle9', 'elfhri', 'wyokhrej', 'تعاني', 'film', 'كذابه', 'وضعياتهم', 'pour', 'خليتني', 'b9odret', 'غريبا', 'تمثلها', 'realistically', 'ركز', 'الرخيصين', 'والحمدلله', 'lhena', 'البسو', 'ra7ethom', 'mesbe7', '3malthom', 'حي', 'يدلني', 'العري', 'bravooo', 'ماعندو', 'baramej', 'توحشنا', 'enahdha', 'وشعبها', 'يبخلش', 'المناسب', 'tejlihom', 'rouge', 'الجرذ', 'khalihoum', 'فليفعل', 'الحلزونه', 'امرك', 'اماكنش', 'y7achem', 'فتانه', 'chwereb', 'تعملش', 'وعاهرات', 'ردي', 'nzidek', 'عمرنا', 'jayana', 'mokded', 'توكلي', 'قدكش', 'go', 'w7dha', 'مفتحا', 'ytir', 'حاحه', 'ابدالو', 'ramdan', 'مكشوفه', 'ﻟﻲ', 'احتج', 'tel9aha', 'ڨديمه', 'غلم', 'قضايا', 'القروده', 'tfooh', 'ميلادو', 'نعيش', 'تتفكروشي', 'مصريه', 'تتحدي', 'pneumologue', 'masreh', 'meandich', 'wmtwath3a', '7louwa', 'حاشتي', 'توحشناك', 'تخافش', 'بلله', 'محمود', 'jebtha', 'ta5rawfih', 'lewsa5', 'موفيد', 'kfiech', 'to9tel', 'قاله', 'مسءول', 'يسعدك', 'wilkolna', 'public', 'wehed', 'tged', 'نيكها', 'مذهبي', 'يخجل', 'mosalsel', 'tfouhhhhhh', 'تفكيره', 'ماشفت', '7ameda', 'ndhif', '74', 'mregel', '7asb', 'اخيب', '3amlin', 'ma8chocha', 'زيدو', 'متطرف', 'صبايحي', 'traye7', 'الانعزال', 'يحشي', 'ijaa', 'ketob', 'والعاملات', 'جحه', 'اسخف', 'انتماءاتو', 'شباب', 't7iinkom', 't9olli', 'waldin', 'yfadhlek', 'bo93a', 'دولتكم', 'mamsat', 'l9o7b', '57', 'l7outa', 'فسفس', 'تجيبو', 'شافه', 'توكل', 'مساطو', 'yelezmou', 'شرف', 'متفاءله', 'متخصص', 'يخلو', 'nchalh', 'عرسو', 'tanfa7', 'كمنشد', 'at3as', 'منافي', 'حلانهم', 'ومتدين', 'والنقابات', 'دوله', 'subtitles', '3000ريتهم', 'تجربتي', 'للسوق', 'مساهمتهم', 'chabab', 'jaloul', '9ole', 'للواقع', 'فاتورات', 'congratulation', 'يارهط', 'ysam7ek', 'سكن', 'تفدلكش', 'سطاجيره', 'يتعاركو', 'raht', 'يسمحلي', 'برجوليا', 'يعدي', 'out', 'مواطنين', 'y7ebou', 'هاتو', 'hbab', '7kit', 'اخطاك', 'كسرتولنا', 'صنف', 'مصير', 'بلاص', 'manetfaker', 'عملتو', 'مايتعبش', 'تتمول', '97ba', 'قتلتها', 'كوثر', 'سهله', 'المحكمه', 'demandée', 'masta', 'cha3ri', 'تفله', 'وقع', 'ومصح', 'يتلاها', 'كلامي', 'mate5ou', 'شدني', 'تعاون', 'jdiid', 'تمثيلو', 'ضغط', 'نبقي', 'khayba', '3mala', 'مكافحه', 'توفق', 'ومسخ', 'ابعثلي', 'يجري', 'الفعليه', 'berjoliya', 't7ir', 'التنفيذيه', 'اصحابك', 'شفوي', 'التعلم', 'بلفعل', 'eshili', 'الحمر', 'تطالع', 'chnou', 'يجيبلك', 'edhoukom', 'zouze', 'karhba', 'وضخمو', 'wel3iib', 'مخبيتو', '9e3id', 'maaha', 't3ayaf', 'haamel', 'ضمان', 'watetek', 'kawen', 'رجوله', 'ظروفك', 'شمدخلنا', 'monafe9', 'dynn', 'thb', 'dyarkom', 'tefah', 'حضر', 'ويسترو', 'افكاركم', 'cher', 'memoires', 'pfffff', 'اقوه', 'الو', '7acha', 'العليا', 'workshops', 'تاتنقد', 'وابناء', 'وبقدره', 'للاغلبيه', 'chnawa', 'نصيحه', 'يعوعش', 'wa7dou', 'eb7othalh', 'raj3o', 'الاقصي', 'نادي', 'pense', 'حاشاي', 'غنيتها', 'انتخبناكم', 'debate', 'مايكونوش', 'والعلاج', 'بالانترنت', 'بدلو', 'البشري', 'الصياح', 'a9reb', 'ro93tou', 'ماتسواش', 'كفاءات', 'روز', 'نفسيه', 'يحفضك', 'معاقين', 'تعملوا', 'ههههه', 'جمهووور', 'فالحلق', 'tfuhhh', 'kourouna', 'اتصل', 'وعفن', 'برشااااا', 'styleيطير', 'na7iwa7', 'يصفقولها', 'dnya', 'chhedtk', 'na7aw', 'وزاره', 'ktob', 'كوش', 'rassatli', 'sandwich', 'فرغت', 'وقوعها', 'اسعد', 'الاعلان', 'bisara7a', 'مناطق', 'a3yed', 'مايعلموكش', 'وخافوا', 'ااجنه', 'why', 'ظاهره', 'tbarkllh', 'الارياح', 'masajine', 'وهاو', 'da5lelha', 'makka', 'dayma', 'نتتنا', 'عرفوا', 'ببساطه', 't3ml', 'خاونوه', 'قايمه', 'eza7', 'فنانين', 'لهتك', 'te3kes', '7ala', 'معيوه', 'وقنا', 'ال3', 'mobile', 'متنكر', 'عديت', 'اابلاد', '3ambalek', 'تلفزه', 'tetfoura5', 'لاني', 'صلاح', 'ysahlk', 'informatique', 'للبعض', 'دربك', 'dispo', 'الحمدالله', 'cette', 'بمشاهده', 'taya7', 'yestehel', 'lunette', 'لمبيضي', 'magnifique', 'والفار', 'cafés', 'échange', 'tejawebhom', 'فارينه', 'الارهابيين', 'ازيد', 'ندخلو', '3alaih', 'وتكلم', 'المعنيه', '7aded', 'n7iba', 'التكوينيه', 'اخيييييه', 'esterna', 'ثمار', 'وامسح', '4499', 'général', 'mandhrou', 'التضخم', 'الحي', '4ل', 'للحياء', 'trans', 'عالانترنت', 'لغات', 'هذيكه', 'loooooool', 'فخوره', 'ﺧﻤﺞ', 'cinéma', 'twalha', 'اعماركم', 'الخيال', 'وسخهم', 'تكونو', 'ettejammouiin', 'بعده', 'التوت', 'نصيطرو', 'يسامحكم', 'محدده', '5ayfa', 'توضح', 'لحيه', 't7awes', 'm8soul', 'tfiiiiiiiiiiiiiiiiiih', 'yji', 'nahi', 'y3ni', 'يفوت', 'klaaab', 'yechfih', 'kher', 'akhas', 'توزعون', 'ويحسن', 'te5odh', 'مدارس', 'قرار', 'nharèk', 'نادره', 'marzanha', 'manti9ouuuuuuch', 'واليمن', 'wasilt', 'زهاز', 'جلطني', 'chaamalna', 'القصرين', 'فات', 'والنخبه', 'sponsoring', 'كبشو', 'تعظيها', 'نوح', 'يعيشك', 'gaze', 'يخسر', 'yeli', 'beaucoup', 'filo5er', 'tjebelna', 'تسمحلنا', 'لالبلاد', 'ta7ana', 'يصلي', 'بالهم', 'ryyt', 'timasa5', 'مختصه', '5tarhom', 'n7tarem', 'وشفنا', 'وفاسده', 'jari', 'جراذ', 'فيديوات', 'اقعد', 'يسحقكم', 'الرسول', 'مشيلها', 'ماللول', 'inconnu', 'للعلوم', 'والدليل', 'lgoul', 'تلصف', 'وعدد', 'hamil', 'القعره', 'متخمموش', 'mejee', '5oya', 'تعيشو', 'يامتاع', 'طفله', 'مصيرو', 'هج', 'كبر', 'وحناخد', 'libsitha', 'تلوح', 'hbeeeeeeeeeeeeel', 'codeforces', 'شبعان', 'قحب', 'تهبل', 'moubarik', 'jamhour', 'buvette', 'والسلوان', 'العهراه', 'gerd', 'الشفاء', 's8ar', 'sawerheli', 'خيت', 'تكونش', 'جمعاء', 'met5alef', 'مخلوق', 'معالجتها', 'rajja3', 'tekrar', 'ونمشي', 'هريسه', 'rap', 'تستثمر', 'ppppppfffffff', 'bgadech', 'serie', 'ebarcha', 'مالاول', 'وزيد', 'sar', 'محتوي', 'واحكم', 'تعداو', 'تنطقها', 'نتبعوو', 'باسعاد', 'lani', 'maykalemhom', 'ta5rou', 'عجبنيش', 'تهان', 'نحبك', 'mounef9in', 'kleeb', 'العهد', 'yarahmou', '9athi', 'شافو', 'لازار', 'نظافتو', 'mwf9a', 'البيع', 'مايكونش', 'ext', 'ابنات', 'متثقف', 'الاجابات', 'التشدد', '21', 'عرضتوها', 'ليعبر', 'maaneha', 'اشكالها', 'ومنافقين', 'm3adhebhom', 'بحاملي', 'l3ar', 'الاعصاب', 'mel', 'يساعدهم', 'ونوعيه', 'hlow', 'تتراوح', 'هنده', 'jabet', 'ياااااميمتي', 'الموارد', 'وطبيعي', 'خذا', 'بطول', 'مخططك', 'بكافر', 'كلامك', 'الحقوقيه', 'مفضوح', 'normal', 'b9it', 'نجرو', 'ياريت', 'تفشسي', 'مصطك', 'مالتفزه', 'm3', 'حساباتها', 'معاد', '3ali5ir', 'الخيانه', 'العامه', 'يهزوه', 'nari', 'مجاز', 'سكرت', 'جوادو', 'الدياثه', 'بلييييد', 'machaalah', 'ydakhlo', 'elhiwar', 'اسءله', 'تجيبوا', 'يجلب', 'لعاهر', 'اعطيه', 'tbal3it', 'ma8ir', 'دخل', '7kaya', 'برجوليه', 'اتشجع', '9athaya', 'ميزاجكم', 'azizaa', 'ومتربح', 'كسرولي', 'السكن', 'sou2el', 'بالرفض', 'وشم', 'لداخل', 'mosalsalet', 'theebhaa', 'ديوانك', 'ye7sbou', 'فرج', 'تتثقفوا', 'صبرك', 'lsamira', 'نتصورش', 'نقربو', 'بالشي', 'manel', 'الجندوبي', 'kefra', 'تعبر', 'بالطبيعه', 'hacha', 'سياستكم', '3ajla', 'عراه', 'وتنظرونا', 'اتفهو', 'تذكروا', 'woujoudek', 'عيونها', 'premiers', 'fasdet', 'فها', 'والانعاش', 'اعملت', 'meloul', 'ارهابي', 'masse5', 'toffla', 'm3allem', 'yod5lou', 'واقتصاد', 'vocab', 'mt3', '3ra', 'العافيه', 'يارخيص', 'نبحث', 'فكاهي', 'insta', 'استغلوك', 'تتدلل', 'بالباكو', 'يمسح', 'يوجه', 'zwawla', 'bnat', 'شهادتك', 'bd5ul', 'استهلاكها', 'شيتلها', 'تمخض', 'esebsi', 'choft', 'تعطيه', 'منبوذ', 'الحقيقه', 'mamsatkom', 'تمنع', 'دقيق', 'يشرع', 'ونحس', 'التزود', 'تحديدها', 'علاجها', 'تنساوش', 'تڨد', 'بباطل', 'يروح', 'bmawadhi3hom', 'بالرقم', 'mteei', 'majawebnih', 'مستانسه', 'ساعد', 'aspect', 'الدنيا', 'yjib', 'العصابات', 'براااافووو', 'تستحق', 'machin', 'جايا', 'مقاطعين', 'ياللا', 'صفاقس', 'غضب', 'تشرق', 'الجلاله', 'والشرمذه', 'hazen', 'ليسي', 'rohk', 'يدعي', 'محلاها', 'الاخ', 'معاقبه', 'الجزاءر', 'تفرح', 'tempi', 'mta3ek', 'ريت', 'زوز', 'يكبر', 'ضميرك', 'yepratiki', 'حليله', 'بالحرف', 'sehla', 'تلقيح', 'خزنها', 'صفرررررررر', 'linkedin', 'yfatta9', '700', 'بمستوي', 'النفوس', 'ﻋﻠﻴﻨﺎ', 'doura', 'اعلي', 'معلومه', 'هاجري', 'اعور', 'masa7', 'لتصنيع', 'المنصوص', 'liannou', 'تفيدني', 'يامرتزقه', 'tetnarvazch', 'ysma3', 'امارك', 'akra', 'متهنيه', 'المطالبين', 'البر', 'tyarraaa', 'مريومه', 'تفووووووو', 'براءته', 'يتبهي', 'تطوي', 'wj3tk', '9anett', 'mnajma', 'wa3da', 'lm3além', 'فايده', 'بتوفيق', 'mb3d', 'نهظاوي', 'tikouem', 'فيق', 'رماد', 'يغلط', 'نقر', 'طويلا', 'بلغوها', 'عمر', 'massakh', 'خمجكم', 'jaziri', 'ولابس', 'قلبوا', 'f7aja', 'btala', 'الحساسيه', 'القدير', 'mallla', 'انجموهاش', 'عاجبتك', 'hasbi', 'وتعالي', 'dihoum', 'واد', 'ktobba', 'وربي', 'ga3da', 'االصحه', 'tharba', 'مسلمون', 'bulliers', 'يمكنها', 'kelmek', 'sah7a', 'النسخه', 'ويعلنون', 'والشء', 'يلموا', 'ديزني', 'tayba', 'وزاري', 'ها', 'ياحيون', 'الفرنكفونيه', 'نهضه', '100', 'najmet', 'ظروفها', 'ممارسه', 'ahouwa', 'وتدرس', 'الطبيعيه', 'اريد', 'طيوح', 'احسنت', 'مسرحيه', 'ybanou', 'وبلاد', 'والرقاصه', 'yasma3', 'العداله', 'تتشرف', 'جمعه', 'بالامان', 'عشتها', 'foukk', 'سنس', 'mana5ltouch', '9talha', 'وواطي', 'chi5', 'تحكيهم', 'tenjah', 'titmanou', 'موسي', 'مازوط', 'yet3amel', 'shmeta', 'الفضيله', 'الباحي', 'bilehi', 'واحوازها', 'تجاوزت', 'مسكتوش', 'support', 'منتنكم', 'وتعليم', 'وحشه', 'ليدينا', 'intii', 'تشكيش', 'عسيس', 'جانب', 'wasltek', 'كاءن', 'jneral', 'ماذابيا', 'سويسي', 'بمبدا', 'الميدان', 'google', 'yahfdhik', 'يمثل', 'bder', 'peeeeeeeeeeef', 'fehemha', 'بعثي', 'تنسب', 'basla', 'ta5ou', 'تقصي', 'قرءان', 'ممسطها', 'n9olek', 'بلدكم', 'النبوي', 'cho', 'خيرت', 'جنب', 'tekhdem', 'الرازقين', 'اقرر', 'بالجهويات', 'كلخه', 'مانعطوش', 'hadek', 'تميل', 'المده', 'ويقطع', 'يسرعو', 'yahki', 'انتماء', 'documents', 'yhot', 'عظمي', 'لاكبر', 'بالاعمار', 'mafamech', 'يكتبلنا', 'hedheka', 'ليانات', 'حبت', 'fe9et', 'تفووووووووه', 'rajol', 'wa9teh', 'بمعصيتك', 'البلاصه', '3ndek', 'sa5ftni', 'jmle', 'imagination', 'لحظه', 'ssd', 'المهمه', 'لموظف', 'nbadl', 'عص', 'اوووووه', 'سارق', 'معينك', 'lux', 'الاملس', 'باموالهم', '50go', 'l7al9a', 'rajal', 'tbahbir', '3adou', 'متنسهاش', 'طيحت', 'المراحل', 'a5dm', 'مضيق', 'الورديه', 'الصيف', 'civil', '3awd', 'bakatni', 'محلول', 'الثانوي', 'مجانين', 'n7esou', 'للدراسه', 'livraison', 'ﻛﻴﻔﻚ', 'wma', '5aib', 'قوه', 'للطحين', 'السابقيعني', 'عاقبتكم', 'mnayik', 'ادخل', 'السخفاء', 'اتقوا', 'hebha', 'حصه', 'للفرحه', 'jawiya', 'declarihom', 'اتفهك', 'b3adhna', 'bchay', 'ywafa9', '7aboooh', 'بصرحا', 'hazayer', 'tes5ayed', 'rahtou', 'يقيملها', 'زح', '9ouloulek', 'ارخسك', 'mou9aded', 'mal9out', 'باج', 'nitlamou', 'ca', 'برمجي', 'niveau', 'زوج', 'ومرحبا', 'الحمدولله', 'نظافه', 'okhrin', 'يابندرمان', '3mal', 'سعاد', 'sessi', 'العميل', 'عصبه', 'كريمه', 'prod', 'hek', 'symptômes', 'ذكر', 'يكفي', 'عالعار', 'بكلمه', 'alwazir', 'المناظرات', 'تفرق', 'عضويا', 'ندقه', 'يقرو', 'سياده', 'station', 'باي', 'yada7kou', 'باختيار', 'الدباغ', 'moustewe', 'مشتقاتهم', 'minna', 'قذر', 'kolfet', 'tfoooooouuuuh', 'ياشكيب', 'cont', 'ma7sour', 'edawla', '60dt', 'ستحدد', 'el8alia', 'تفكري', 'معجبنيش', 'يقرره', 'mara', 'واصلاحات', 'نشوفوا', 'kad', 'chwaia', 'حلوف', 'ساخيفه', 'اتقولش', 'feh', 'خاب', '9bal', 'فري', 'effectivement', 'وصل', 'القادمه', 'شيخا', 'yjibouh', 'chay2', 'chhar', '3iid', 'معترف', 'sa7afi', 'ma5mjék', '06', '3ers', 'saaaami', 'خادمه', 'تقلوا', 'mrith', 'kolna', 'الصاءب', 'تدوينتك', 'تزوي', 'وجيبنا', 'kalemet', 'wrabi', 'وتتفلسف', 'amtheeelk', 'الوهره', 'imchaw', 'kleim', '5600x', 'mte3ou', 'العجاف', 'سمعتش', 'بلاده', 'كفار', 'laziza', 'هوني', 'katheeeeb', 'ربوخ', 'may7ebhash', '5l', '2', 'ترمتك', 'وديننا', 'وتنام', 'القطريه', 'faite', 'menak', 'انخراط', 'اتمتعو', 'kharjouh', 'فجار', 'industrielle', 'تغطي', '9ali', 'm3aha', 's7ih', 'tabi3tou', 'projets', 'fin', 'انصاف', 'يجوز', 'مجانا', 'بخيرو', 'ossadek', 'ملاداب', 'وعاء', 'اخلاقيه', 'مفسدو', 'ساحه', 'الجاريه', 'نصيحتي', 'mastaa', 't7ebech', '9hba', 'الكبول', 'ماااااسط', 'zed', 'تاكل', 'o5rin', 'انظمه', 'وتجاهلها', 'électrique', 'بالعاصمه', 'tetfarej', 'وسلملنا', 'ونفضان', 'وجبت', 'بونا', 'ba3dh', 'بلديه', 'mcharefna', 'ييتفرج', 'حالنعيشو', 'tchayya5ch', 'personnes', 'genie', 'مسءوليها', 'تبنوه', 'كوووول', 'l9arar', 'lea', 'chaweya', 'professionnelle', 'وليد', 'عنوان', 'sob7an', 'وجوههم', 'يالاطييييف', 'يافجار', 'تعجبنيش', 'yefhim', 'اسهل', 'العسكريه', 'الوظيفه', 'ههههههههههههههههههههه', 'الوطنيه', 'مخالين', 'tpostuli', 'thabbel', 'مايهزوش', 'bleed', 'سرك', 'الجلسه', 'الشءون', 'wtawil', 'ينجمو', 'i9', 'role', 'يتواصل', 'wjouha', 'golt', 'okhtik', 'وعطاي', 'mafih', 'bli', 'rapport', 'عمك', 'برزق', 'bessel', 'sayer', '3', 'اتلهاوا', 'جنجو', 'nacht7ou', 'بلحق', 'عمومي', 'بشلاكه', 'تتفكرها', 'العنزه', 'وتالم', 'يتنقلولكم', 'ﺍﻟﺸﻬﺮ', 'كرز', 'سيد', 'يعوضك', 'ma7lh', 'رتش', 'meho', 'ch3arha', 'صناعه', '3and', 'يسيء', 'عيشكم', 'والانحطاط', 'لصنع', 'bravoooo9', 'i7is', 'zit', 'هالعمله', 'nakerheeeeeeeeeeeeék', 'تاريخ', 'yeesser', 'yjibouha', 'manather', '15', 'n5dem', 'yfadhelhelek', 'يجعل', 'lkolha', 'يحملون', 'bniveau', 'edhehbou', 'بشريه', 'تقنينهم', 't9oss', 'لشكون', 'سيدكم', 'لجنوب', 'labes', 'hom', 'wesslou400', 'بنبيه', 'مالقصرين', 'motrobya', 'عقاراتها', 'فقال', 'بصارحه', 'فاتقوا', 'touchante', 'se5oun', 'العكس', 'bde', 'algharbi', 'ميبونا', 'goethe', '7achti', 'problème', 'bogosssss', 'بلاتوهات', 'ريش', 'جديد', 'البلا', 'كونترا', '5ih', 'يارجال', 'خاطيتعا', 'ارتكبته', 'employeur', 'mondho', 'تعيف', 'nchofouk', 'bravou', 'لتخفيف', 'نياك', '8alia', 'معرضون', 't5arjek', 'ذهن', 'واتبعتم', 'nationalité', 'جملتهاااااااااا', 'النواره', 'مستورده', 'mamstouuuuuuuu', 'tanjiiim', 'fachel', 'w3ab9ari', 'كافره', 'eji3an', 'mosalsall', 'sou9', 'weldin', 'impact', 'nawfoul', 'لفازه', 'mele5ef', 'سمي', 'بسوري', 'لروحك', 'tab3od', 'lellek', 'بوله', '9olit', 'نلقاك', 'aaychou', 'الايديولوجي', 'yabka', 'kteb', 'منجمتش', 'الفايده', 'شبعه', 'idahek', 'yarhem', 'والصحه', 'اعمق', 'معالجه', 'مطالبه', 'تونسيه', 'mes5a', 'ماحرم', 'والتربيه', 'ويجازيهم', 'يسكن', 'نلوج', 'm3allém', 'نزله', 'lghoneya', 'shaaan', 'rayna', 'donnes', 'omek', 'والسكور', 'batll', 'الفكاهه', 'للاكسيجين', 'العبيد', 'الاوباش', 'واهم', 'سبرهم', 'biya', 'laaaaaaaaaaaaaaaaaaaaaasssssset', 'والرزق', 'tabrkalla', 'طحينو', 'طبيعه', 'الاستراتيجيه', 'mantharkom', 'tisannet', 'khouk', 'عرفتك', 'تتكلمو', 'n9arihoulik', 'ينتدبوكم', 'toul', 'حدها', 'مسنجر', 'bourjouliaaa', '3malet', 'ونصف', 'behom', 'تونعملو', 'يعبد', 'toltef', 'l9aa3da', 'بلوغتنا', 'للسيد', 'يوسف', 'نصرفو', 'هالخليقه', 'تخصصلو', 'amset', 'mabildou', 'argent', 'مايل', 'marta7', 'منظمات', 'قنات', 'تڨعدي', 'اصدقاءه', 'ب6', 'tebl', 'تحب', 'ladwar', 'fdhaey7', 'احلمو', 'والتلافز', 'تضربت', 'ومتكلم', 'تقرروها', 'القح', '5li9t', 'mat7rmoch', 'y3adham', 'يفعلونه', 'منصف', 'tunise', 'insat', 'والهمه', 'للنهضه', 'galeb', 'السراق', 'ميمتي', 'amiiiin', 'نقاشا', 'كومديين', 'راءع', 'يخرج', 'm3adech', 'لخسيس', 'عازبات', 'مارست', 'hahaaaaa', 'اولادنا', 'منعرفوش', 'bynaa', 'مدنيه', 'تتشرب', '5amja', 'e5dem', 'المقدم', 'ميبونه', 'علنا', 'للعصبان', 'bel7a9', 'machallajhj', 'analyse', 'lwa9t', 'بالانقلي', 'ضريتوا', 'قاري', 'merte7a', 'رابحين', 'عالفن', 'jaw', 'omik', 'انجاز', 'يتفرجوا', 'nans7iiik', 'شعبهم', 'kiii', 'msatt', 'منفتح', 'يملك', 'tnajam', 'emba3d', 'وشورب', 'tjibo', 'ykharjouna', 'بترون', 'mbditch', 'لمتابعه', 'قبلو', 'الكوري', 'يداويك', 'رايتها', 'ingénieur', 'surtt', 'achrif', 'chesmek', 'مرعب', 'te7chmou', '3ammi', 'كماده', 'مسلسلات', 'تااااافه', 'tl9a', 'تحفون', 'وانتابع', 'وبغايه', 'le3bed', 'rahmoni', 'كعلاف', 'اذيكه', 'والانتاج', 'bish', '9éme', 'وصلنا', 'benajah', 'الخضراء', 'للعاهر', 'ينتقم', 'taalem', 'ne7b', 'kiféch', 'deco', 'الثريا', 'tounisya', 'mouheb', 'hadra', 'مفيها', 'br3', 'خرم', 'bssara7a', 'el7war', 'الكبري', 'تصعب', 'فايقلها', 'زغوان', 'الصوره', 'leblada', 'المحافظه', 'اروع', 'yokhrjou', 'تففففففووووووووو', 'chekfou', 'sogrou', 'انشالله', 'طحانه', 'فرغتلي', 'للاحسن', 'بنقردان', 'متوقعه', 'inconvenient', 'shiha', 'dicaprio', 'تقني', 'wmok', 'عالعاهره', 'القروب', 'عفو', 'بمورو', 'mn4ir', 'samehni', 'العفاسي', 'ytna7a', 'والمحتوي', 'الجردان', 'mnin', 'bleeed', 'جده', 'كارتون', 't3allamt', 'تكساب', 'عكاري', 'ظلاميه', 'بلاتو', 'ومهوش', 'زك', 'belleh', 'tounsya', 'البلاغ', 'شاءلله', 'l3', 'مرتبطا', 'شمعناها', 'مايمنعش', 'isalem', 'تفلسش', 'tokeeed', 'woooooh', 'hlowa', 'واني', '04', 'ehtram', '3idk', 'la3jayeb', 'معناتها', 'ويتربي', 'عااقحاب', 'خرجوه', 'tuukhrj', 'ﺍﻟﺘﻤﺜﻴﻞ', 'يهودي', 'قلوبنا', 'وبءس', 'تكونيز', 'محاضره', 'التقاعد', 'خطا', 'هدف', '5obz', 'خالتو', 'ksam', 'ماتعملولهم', 'بالنفاق', 'قذره', 'زكها', 'hal8iba', 'masssakh', 'aady', 'زبور', 'نفرح', 'ممثل', 'also', '3nad', 'دماء', 'صنع', 'temchilek', 'innekis', 'الدنياه', 'yrakkab', 'ومهياش', 'صدفه', 'wlidek', 'maasa5', 'tla3tt', 'ضحي', 'yelzm', 'السياسيون', 'درمش', 'chtoussel', 'يقنعش', 'بتقوعييير', 'l5le9', 'اطمس', 'السياسيين', 'توفرلهم', 'fahm', 'بالموت', 'monafek', 'gasawat', 'سارقا', 'للحاله', 'وهانا', 'ونعمه', 'وعربيه', 'يحب', 'بالميه', 'okhetha', 'خصوصيه', 'مكذبش', 'im3ak', 'ديننا', 'يتقدم', 'تعاركو', 'يسعي', 'مايخرجش', 'يستانس', 'كجوادوا', 'طبيعي', 'الكبت', 'دور', 'سوفي', 'بخيررفعت', 'wma5yeb', '9ablo', 'الفلق', 'rentre', 'tu', 'نشدوا', 'na5ou', 'يحرك', 'علمي', 'فلنركز', 'عايلاتنا', 'المباشره', 'وتفرغت', 'ma7lahoum', '7oute', 'ma7rou9a', 'programmer', 'للدار', 'صارمه', 'وفيات', 'mamstouuuuuuuuuu', 'dwa', 'y9ariw', 'شديد', 'kounet', 'للامن', '5ariya', 'ja3fourrr', 'والسفاله', 'محق', 'للحجر', 'موزه', 'tahfounn', 'تحاربو', 'امتاعنا', 'mosta9blou', 'langues', 'فسرلي', 'مشاغب', 'احيب', 'ljandoubi', 'yehlek', 'barou', 'النادي', 'نددو', 'يعجبك', 'saker', 'فعزك', 'ازدهار', 'والحشمه', 'ta7et', 'douel', 'غدره', 'ريحه', 'ordinateur', 'لسلوسه', 'tahane', 'اللطيف', 'فخير', 'lmath', 'رخييصه', 'يقيم', 'حقود', 'متسماش', 'سبدريات', 'دو', 'لل', 'عامل', '5iiiiiir', 'yetbe3', 'fetou', 'حشا', 'mayjish', 'twalish', 'شر', 'واشكون', 'boitier', 'netsawarch', 'رهحها', 'مثالا', 'ba7bou7a', 'سلعه', 'attounsiii', 'stage', 'المواطن', 'bakkani', 'الساحه', 'فدينا', 'الفاخر', 'المسرحيات', 'الممولين', 'ببرشه', 'mlla', '7lou', 'المواد', 'ركبني', 'احسست', 'ياااااااا', 'هالفاطشه', 'lisence', 'fk', 'ستبقي', 'bankaji', 'تتوزع', 'تبر', 'عرفت', 'الصونتر', '5asra', 'vos', 'a9wa', 'خاطرها', 'قاطن', 'موبن', 'الفيديو', 'للحديث', 'ar5ess', 'zbib', 'sattar', 'yasm3', 'marzin', 'الراقو', 'للتمتع', 'tanba7', 'bruno', 'lyum', 'طوال', 'manajamch', 'لكلاب', 'lmanyik', 'تعنيلي', 'لربك', 'يضلم', 'انقراض', 'lmsayebb', 'يصعب', 'nejem', 'المقوده', 'feriel', 'ssi', 'i3tasam', 'youtuber', 'بدر', 'isssakit', 'فمو', 'الخمور', 'يعملولو', 'امر', 'd5lkom', '9asmek', 'تنكرت', '50', 'mamestek', 'الزين', 'محبوبه', 'وراس', 'dkhalna', 'ysahloulk', 'مبدلتش', 'مجتمع', 'همال', 'عنديش', 'الطاجين', 'subtitle', 'minak', 'lamsa5a', 'الراءده', 'يزيدك', 'منظرو', 'العمل', '9anetkom', 'ماعز', 'المسرحيين', 'hehehe', 'ويتمسخر', 'سقط', 'metgoul', 'anwar', 'yechri', 'mechwya', 'tgolik', 'dhmir', 'يعطك', 'fanen', 'امك', 'lemra', 'hmel', 'mastetha', 'التعليمي', 'يتقاعدو', 'وتفوه', '7a9', 'soutou', 'خفيف', 'يعيشو', 'ممتاز', 'الديوانه', 'ar9a', 'تاكلت', 'وبقي', 'jomla', 'al7mdou', '9o7ib', 'المثال', 'الضعيفه', 'mistir', 'bonne', 'mana3refch', 'رحمو', 'badlou', 'جعل', 'amwett', 'الجباءيه', 't3ani', 'النضاليه', 'لعشرات', 'السير', 'yahfdo', 'نقطه', 'الشاذ', 'té7eb', 'fthaya7', 'functional', 'dalma', 'الاستراتيجي', 'للعشق', 'تري', 'لحسوا', 'تتذكرو', 'قمره', '3ijbitni', 'kdhetom', 'wachkaaaa', 'يكذاب', 'nchoufouha', 'مالبرلمان', 'معندو', 'التنديد', 'wen3azoukom', 'nej7ou', 'aktafha', 'wenos', 'يعجبني', 'tunisie', 'هلكتو', 'ya3tiwk', 'تكعرر', 'yaatek', 'معديه', 'الشخص', 'حليت', 'فولد', 'zink', 'خطرك', 'zbe', 'wejha', 'حمام', 'المشاعر', 'تضمنه', 'زرافه', 'حالكم', 'فدنيا', 'fou9', 'كبييييير', 'a3tet', 'بقتل', 'شءتم', 'débit', 'كاننك', 'الدابه', 'دخلو', 'مصروفك', 'مسقطها', 'حسين', 'الطارءه', 'تغيب', 'ybahhem', 'اقسام', '7it', 'المسخ', 'bled', 'yatek', 'وخبي', 'رءاسه', 'jeyzet', 'فيتفيتا', 'واشحن', 'عاطي', 'فالبوبال', 'متاعه', 'المتدني', 'yar777em', 'makntech', 'لعب', 'لعلاج', 'ناضلت', 'amm', 'hedi', 'بالغرور', 'لهيكله', '3aslema', 'ma3aya', 'قوله', 'الغالي', 'عقاب', 'halmanther', 'tawalit', 'bla', 'bey5a', 'اغبياء', 'الحمص', 'hay', 'الخلق', 'lprocedure', '2021', 'yachbhou', 'غافلين', 'معتصمين', 'يبعثلي', 'فرحان', 'مانجموش', 'الشذوذ', 'الافاق', 'الديكور', 'دمك', 'بكثير', '9anat', '7a9haaa', 'rajeel', 'زياره', 'بمحرم', 'esm', 'انحراف', 'dawla', 'mezelna', 'farak', 'يحطوها', 'yehtarmouna', 'wa7dk', 'tfate9', 'تذكرو', 'you', 'ضد', 'الوكيل', 'sabirin', 'صفقات', 'sa3dak', 'ghir', 'بهاطريقه', 'aime', 'takhou', 'حالهم', 'yemchi', 'tkml', 'awel', 'تجهيزوا', 'tab9ich', 'الخوارج', 'we5thin', 'nessba', 'اختصاصنا', 'تجتهد', 'ويعتبروا', 'mlayen', '3béd', 'mokhha', 'ibn', 'aymen', 'aaliha', 'ye3jbou', 'amara', 'baadhha', 'افساد', 'عييييب', 'mfarfer', 'وسفاااله', 'هشام', 'mizan', 'rides', 'اعليك', 'خذونا', 'entretient', 'برافوا', 'وكاءن', 'وشقال', 'bali', 'المفارقه', 'اصابه', 'عاءلي', 'ma3h', 'صاعقه', 'حلولكم', 'زلزال', 'مجربتها', 'التسويق', 'migalo', 'setif', 'aatini', '3amlou', 'احفظو', 'باسباب', 'يقرن', 'تنزل', 'فالحق', 'yet3awed', 'فالجامعه', 'انجمش', 'الخزي', 'clash', 'اللعينه', 'chofoulan', 'damirik', 'لكثره', 'ياسف', 'msh', 'عملتها', 'يرجي', 'غناء', 'tbaet', 'لفلوسهم', 'تطول', 'الحظ', 'اتحبو', 'masttaaaaaaaaa', 'الاذان', 'جهل', 'مخطوبه', 'والزانيات', 'جهاز', 'رضيه', 'wmta7ssrouch', 'الحره', 'تربيك', 'رهيب', 'idik', 'welahi', 'تضربو', 'mlyn', 'yetcharto', 'fam', 'blad', 'so9at', 'همك', 'يقنع', 'maaaaaaaaaaaaaaaaaaaaaaaaaaaaaset', 'تتفرجوا', 'snn', 'بالبرهان', 'wali', 'دعوه', 'yf9ek', 'قلبتوش', 'المعالي', 'وعمل', 'تندد', 'yetkalech', 'mosstawa', 'بالفنانين', 'ytall3', 'مقرف', 'وميعرش', 'وعلم', 'kenou', 'kenek', 'tbib', '7awla', 'yhezzouk', 'النور', 'خلاصات', '5ou', 'مباشره', '9alt', 'يظلم', '9adrek', 'صمت', 'ni3ma', 'nans7ik', 'قواد', '9iiriid', 'ydabrou', 'centres', 'وتملا', 'كلاسط', 'حصص', 'nchoufoukem', 'dhfor', 'وعار', 'نحتاج', 'فالافضل', 'yostornaaaaa', 'فالقلب', 'انقرضت', 'dinar', 'تقييم', 'بالsavoir', 'احفاد', '9atl', 'تعطيوا', 'saretlou', 'tefrah', 'شفتو', 'وفريقه', 'زعيمهم', 'kamel', 'جن', 'كملتهم', 'l3adhim', 'للمراه', 'وعطيتوا', 'jam3aya', 'yyy', 'تيتزعبن', 'تعرف', '5iiiiiiiitt', 'sahriat', 'نكون', 'التخريج', 'ekher', 'متهني', 'يفضلها', 'بيوعه', '9asan', 'كتسمعو', 'الشتاء', 'المبنيه', '7inin', 'تستمرمناقشه', 'مااااااسط', 'hhhhhh', 'm3a', 'ala3da', 'مغمضه', 'القرض', 'حسبتهم', 'mché', 'shabek', 'والتنكيت', 'تنعم', 'ykeb', 'محﻻها', 'ومصروفك', 'تكعبرتلو', 'ma3jebtnich', 'نطيش', 'asre3', 'جيتو', 'erais', '5alihom', 'بالشخصيه', 'المنتوج', 'temchi', 'ببرشا', 'التلفزا', 'ابشع', 'ويطيح', 'لعقوبه', 'mou3ayna', 'tsayerha', 'يسرقو', 'بالنار', 'kine', 'انتخبك', 'behia', 'مذهب', 'marek', 'layk', 'ريفنا', 'yasm3ek', 'يامسخ', 'بالبصل', 'باللغات', 'سيادتك', 'اجرك', 'يجيبوها', 'التنوفيق', 'biladikom', 'issam', 'الثلاثه', 'مانحكي', 'tozzzzzzzzzzzzzzzzzzzz', 'يعملو', 'واجهوا', 'الارعن', 'ولاعبدك', 'الفجر', 'كوري', 'كبه', 'level', 'اطاراتها', 'بحر', 'ويوفقك', 'قناتكم', 'كينو', 'sabet', 'حرفيه', 'atania', 'yerhmou', 'خسارت', 'المحنه', 'اتعس', 'ynejem', 'ولزهر', 'القباحه', 'يوجهك', 'ghayrin', 'بالتفاعل', 'معلم', 'مده', 'كغي', 'الاجتماعي', 'park', 'مجتمعنا', 'لقطه', 'مدعي', 'nesbt', 'mssat', 'وكاتب', 'ma3a', 'n3ale9', 'رايي', 'هزيله', 'zboubna', 'كرهبتك', 'سهيلي', 'ممصطو', 'ومسمامه', 'خراتك', 'مراتتش', 'متفرجتش', 'tnajem', 'wsolna', 'ta7foun', 'windows', 'dadou', 'والمتحرش', 'المءكد', 'bisoker', 'rouhek', 'nechri', 'maken', 'مغروره', 'شخصيتوا', 'hhhhhhhhhhhhhhh', 'الفل', 'chaib', 'وهزان', 'يتاقلم', 'والعيب', 'كنكور', 'مهد', 'حقكم', 'لبس', 'rek', 'ماللي', 'منضرو', 'a3marhom', 'mssataaaaa', '5rajml', 'بالشويه', 'الفضاءي', 'rougbitha', 'مرفوضه', 'tetbanna', 'مخيب', 'تفوت', 'هده', 'خو', 'mounefe9', 'اسغيراتك', 'اعتراف', 'بالباهي', 'ظعيف', 'na3ne3', 'بالهناء', 'لخوس', 'الموته', 'rwe7na', 'تغرقهاش', 'mamchalhomch', 'nichri', 'الصناعه', 'تجيني', 'kalamt', 'لنساء', 'chfeha', 'fomek', 'bissif', '9leb', 'العرا', 'مالغبره', 'manar', 'هالسنبل', 'والحوارات', 'رهو', 'بالناجحين', 'mazelet', 'بوليس', 'موحي', 'school', '3ayeb', 'بالرد', 'afra7', 'wahadna', 'ضيوفك', 'y9awi', 'tukhrj', 'ra8m', 'بسته', 'benzarti', 'اسمهم', 'twansa', 'ماستار', 'للتوانسه', 'حزنك', 'تخطيف', 'yodhor', 'jeb', 'ynajjm', 'بلدنا', 'وشلق', 'مستقبل', 'khadija', 'ray7a', 'مدخلك', 'يعرفوه', 'اليمين', 'فرحانه', 'نفوذ', 'l7aj', 'ومايمثلنيش', 'رووووووعه', 'فليخرج', 'الاوصاف', 'aloui', 'موتيفا', 'يفضحك', 'mya', 'مكبش', 'فغانسا', 'المولد', 'يفدد', 'هالقناه', 'يعطيك', 'قللبي', 't5let', 'lwah', 'oh', 'تحيلت', 'ههههههههههههههه', 'lesyadha', 'الصباط', 'coefficient', 'القمر', 'يحشموش', 'والتصويت', 'b9itou', 'بالقوي', 'الشرايطي', 'production', 'شوفو', 'وضعيه', 'بزاق', '32', 'منوار', 'اهاليها', 'معاناه', 'mocch', 'mafhemtch', 'اهاوا', 'بلاغ', 'problèmes', 'فمك', 'للغير', 'عطيتهالو', 'rtha', 'الطرحه', 'تتهجم', '9albek', 'رضيتو', 'وبصف', 'الاخشيدي', 'khouia', 'بروا', 'صغيرك', 'inchaalah', 'sta3ha', 'yetel3ou', 'ويدرسوها', 'البهاءم', '9emet', 'عاوني', 'mamessto', 'عدو', 'j', 'وزاد', 'nejma', 'logique', 'كحل', 'وتمثيلكم', 'مقيمه', 'تزييف', 'ااسلام', 'وضعيتك', '9otlak', 'krahtou', 'وسلم', 'بوساحه', 'ta7', 'itmatim', 'فاتكم', 'خرامسط', 'best', 'تتعدي', 'وظعك', 'ياسرضامرين', 'المبدع', 'عالlyrics', 'ely', 'تعديتها', 'وشهاني', 'محليا', 'لوبانه', '9dom', 'احقروه', 'جمله', 'البهتان', 'billeh', 'land', 'ندافع', 'العفيفه', 'الاخره', '3osben', 'دمو', 'ماواه', 'le5dem', 'القيامه', '3mor', 'facb', 'صدور', 'met5l9a', 'مالايجابيات', 'aaml', 'بحكم', 'tawfi9', 'elwejh', 'mawjouda', 'فرده', 'episode', 'الجهاز', 'ومستعده', 'والحق', 'rassik', 'rouhha', 'بانسبه', 'يمثلونني', 'الضبوعه', 'مجاهدات', 'الطيور', 'والمواطنات', 'ترعه', 'المثقف', '07', 'ychri', 'laabed', 'akbar', 'مناظرات', 'العنايه', 'tcf', '5oudh', 'nouveau', 'mamsathom', 'والزبيب', 'المكي', 'تسيب', 'الاوبءه', 'تعديت', 'ansi', 'سيبها', 'تفووووووووو', 'ادعي', 'yestana', 'هالطله', 'وحسود', 'وفوت', 'yosl', 'statut', 'عصفور', 'kinésithérapie', 'mjanenhom', 'منضم', 'هبتوا', 'رااااجل', 'جسم', 'mriguel', 'ltaw', 'بصفاقس', 'taya7toulou', 'قطاع', 'nestana', 'والامان', 'نرحموك', 'السفلي', 'لابسه', 'ويسعدكم', 'الهامل', 'ferjani', 'wmamsat', 'traaahdiiiin', 'سنلعنكم', 'الهدايه', 'يدخلو', 'ووووه', 'يريدون', 'تتغير', 'saybou', 'احبك', 'قلي', 'بارك', 'كمبينغ', 'المشكوك', 'mazalet', 'لدور', '3attar', '3arassna', 'mtbdalch', 'اتبعو', 'الحجر', 'ajebtouni', 'يحقلك', 'مذابيك', 'ايضحك', 'zabboure', 'enehy', 'طلع', 'flomran', 'نطلبلو', 'اولادي', 'مصاصين', 'واكرم', 'ikbsou', 'i5alik', 'قدوه', 'فعل', 'la3mééri', 'ينبتها', '5rit', 'جمعا', 'يفسد', 'يزيك', 'تفسرلونا', 'اليوميه', 'tbarkalha', '7ay', 'شاقه', 'نمنعوا', 'khalik', 'التابعه', 'بالاشكال', 'ومريض', 'توانسا', 'اهبت', 'ma5ybou', 'تظلم', 'ne5o', '3orfetha', 'تعشيت', 'هالفءه', 'يسطاد', 'chatlga', 'manate9', 'netfahmou', 'بهيلك', 'ينار', 'music', 'ya7fdk', 'hilkou', 'kdheb', 'واحدها', 'السبت', 'اخواتك', 'مذكره', 'جسدها', 'mamsto', 'تفدد', '7a9hom', 'وخدمه', 'السهيلي', 'الحشمه', 'fatouma', 'ل', 'vert', 'العقليه', 'يعطيوه', 'التونسيه', 'chakib', '9adida', 'سهره', 'yaamal', 'داعش', 'وجودها', 'اعوانها', 'نعل', 'باذن', 'لقرايا', 't7ayrli', 'حكايتها', 'لعشره', 'للمخترقين', 'امهاتهم', 'تهو', 'نبيل', 'sana9oum', 'lasett', 'للافضل', 'touselik', 'mayajralou', 'الزلق', 'الوضيع', 'خلطش', 'برافووووووو', 'saber', 'تسال', 'استعمل', 'اخي', 'وتحب', 'وميه', 'فصول', 'بالممتاز100', 'واللە', 'مسوسه', '3a9liya', 'الصبابه', 'خطيبي', 'yettfattej', '8acha', 'لمستويات', 'zada', 'limin', 'i3aifff', 'wekhouh', 'قرب', 'تحبش', 'chadou', 'ادمينات', 'mete7chemch', 'الوقايه', '4alit', 'innou', 'يشرفوش', 'ynajmo', 'rakezz', 'بالمكتب', 'شريك', 'وبارك', 'الوادي', 'mamstouuuuuuu', 'shell', 'lycée', 'lba9ra', 'تحجرت', 'mnwer', 'tounessss', 'القصيده', 'ffffffff', 'chez', 'fari9', 'bassata', 'from', 'lmohem', 'سراويلهم', 'عاو', '3alo5or', '3inni', 'حسيبهم', 'tklm', 'كسكروتات', 'lezemha', 'ومحبه', 'غايتهم', 'وبصاص', 'maya3fou', '40', 'القلاوي', 'ومكش', 'بنيت', 'قالولك', 'عاءق', 'محتاجه', 'لصفاقس', 'la7dith', 'تاز', 'قدامك', 'nadhhek', 'ثقافوتيه', 'لرءيس', 'كركوز', 'mamsteha', 'wahdik', 'جابوك', 'فلسفه', 'فرصها', 'فی', 'مءهل', 'للاسف', 'خرب', 'ابله', 'yjou', 'نسمح', 'هال', 'العباده', 'متاعوا', 'faztek', 'كذب', 'تصلي', 'شياطين', 'mostawek', 'ماتعرفش', 'lom', 'titrés', 'اخلاقيا', 'يبارلكلكم', 'مشاريع', 'ygib', 'تركينه', 'الدم', 'بقعه', 'مسطهم', 'والعهر', 'واحداث', 'يحفضها', 'ترويجه', 'lzouz', 'يغنيو', 'بعمله', 'ba9la', 'ساذج', 'وناس', 'chance', 'القرمازي', 'بحذاه', 'ارها', 'tcontakti', 'بمقابل', 'chara3', 'ta7anet', 'ahawka', 'نطلع', 'الفضلاوي', 'الbootstrap', 'استحفظ', 'wyetfarrej', 'تقدموا', 'الشعبه', 'talvza', 'mal9itou', 'sadkouni', 'méthodes', 'alo', 'pragmatique', 'خروف', 'ayaamet', 'يامهرج', 'نسمع', 'والمعامله', 'اطيشها', 'اعصابه', 'تبني', 'مايا', 'بصرحه', 'والاجتماعي', 'ارقد', 'بمرتين', 'فطرو', 'بفف', 'keloi', 'دوريه', 'ماهياش', 'sah', 'ياربي', 'ziid', 'فلح', 'جراني', 'matloumhomoch', 'امانك', 'développeur', 'اسميا', 'jboura', 'تعيشوا', 'جنابك', 'متكبر', 'الفصل68من', 'العجاءب', 'n7ottou', 'وارمي', 'tchouf', 'مايسمعش', 'نكمل', 'z', 'يهلك', 'متذبذب', 'ميطيح', '5ol9et', '3alya', 'نعلم', '3bedou', 'tet9abel', 't3rslouu', 'ميضحكنيش', 'للحاجات', 'الفاسد', 'للجميع', 'louuuuuuuuga', 'المتروكه', 'i3awedlek', 'شهاده', 'ولعت', 'تمنيت', 'elklmat', 'nemchi', 'بريء', 'rimz', 'مالي', '7al9oum', 'الافلام', 'اناهي', 'بغنايه', 'intérieur', 'قضاءيا', 'امير', 'ردتوه', 'belgde', 'بالمهديه', 'نحققها', 'flop', 'يخص', 'assel', 'رايت', 't3ich', '7iiit', 'مصرجلبت', 'n7eb', 't7ebha', 'اساسا', '1963', 'lfeida', 'tnikech', 'mafibalich', 'قبول', 'شواتهم', 'tbarakkah', 'تفهموا', 'يازعيم', 'اشاعات', 'التلفزه', 'y3awnouk', 'هممتهم', 'رابيد', 't7aaaaan', 'شيعاود', 'المقال', 'سوره', 'يدين', 'نتفاءلوا', 'خليتونا', 'تشري', 'fiblaset', 'désespoir', 'دفنت', 'عصره', 'اسامه', 'lkaboula', 'شجره', 'عرافه', 'خانسه', 'فلوسهم', 'يسترك', 'حفيان', 'قبيح', 'ومتخلقه', '3assoula', 'وانسيتو', 'ذوق', 'bhynn', 'adi', 'motrobi', 'ab9ou', 'y3awnk', 'اجروا', 'monastir', 'w5ayti', 'eskekinha', 'تدفن', 'الداخليه', 'غياب', 'بامتداد', 'تستناو', 'قصيره', 'makich', 'العاصمه', 'تكفيك', 'كالما', 'القويه', 'الرداد', 'parle', 'مومس', 'التقدميه', 'فيبالوا', 'قاعات', 'karrahni', 'stoufa', '270', 'mal9awoch', 'هونكونغ', 'استطاع', 'الجليل', 'تكسرت', 'هالشلاكه', 'الفوق', 'الجزاءري', 'dho7ka', '3aycha', 'تستدعيوه', 'افراح', 'ذل', 'اقليه', 'mas5e', 'behi', 'خلاو', 'اخيرا', 'البرد', 'nahtarmoukom', 'mhalim', 'اعطاكم', 'ويوتر', 'اليا', 'التوريد', 'ديار', 'ماحلاها', 'نعدي', 'ye5lik', 'ز', 'raw3aaaaaaaaaaaaaaa', 'عرضو', 'tlagi', 'rby', 'الاصيل', 'توانسه', 'الاحوال', 'تتبناهم', 'عرفتش', 'youssef', 'وممسطها', 'وسوسه', 'ytawel', 'البهايم', 'بناتنا', 'اعينهم', 'etalfza', 'makech', 'mazeltt', 'اخطر', 'الكره', 'موروهاش', 'ماتدخل', 'باحد', 'لاي', 'klem', 'يخدموك', 'فلوسه', 'فيدوات', 'سامحوني', 'ابتداء', 'next', 'بموقعي', '3aresset', '9asem', 'توينك', 'نهانا', 'والفرنسيه', 'la3mel', 'bloughtou', 'بلقوه', '9waada', 'الغريبه', 'couleurs', 'mazalou', 'bzyadett', 'والسلحفات', 'لتونس', 'يربح', 'وخاسره', 'عايشين', 'ومولد', 'عود', 'ouin', 'اقدامهم', 'وذيوله', 'ن', 'chara', 'للله', 'meli', 'منكونش', 'وضرب', 'smahni', 'تتحسر', 'ستاجاتك', 'وقيد', 'لحس', 'n3wdou', 'benat', 'اعملو', 'والاحسن', 'دنيا', 'nkollek', 'العالم', 'كثرتلها', 'قالب', 'مالمساطه', 'tzyd', 'mel7', 'خدمها', 'شتعملي', 'هضمتوشي', 'incha', 'tnja7', 'يبني', 'thanou', 'برواحهم', 'bit', 'الزغراطه', 'adsense', 'dameeek', 'مطلقه', 'ma555yeb', 'liliri', 'ممسطوا', 'alelkom', 'خييييييييت', 'sada', 'تقرب', 'مثيل', '5fifa', 'لبارد', 'حاطط', 'اخترت', 'لالاعيبكم', 'ya3rif', 't3aress', 'تردوه', 'lezmeha', 'dawa', 'يتشد', 'mafamich', 'chlka', 'lasstaaaaaaaaaaa', 'رقاص', 'inik', 'براااافووووووو', 'وريحه', 'الجهويات', 'الوفاه', 'b3ida', 'arbiفي', 'may3ichech', 'كولاج', 'والسجون', 'لغلافاتكم', 'حلقك', 'الغوره', 'y3almou', 'bellehy', 'يردكم', 'تتسشكاو', 'تنجم', 'medid', 'dha7ek', 'الخاصه', 'jdid', 'ytfarej', 'وخونه', 'pfffffffffffffff', 'ba7dha', 'صيودا', 'الذبان', 'tetsaket', 'العزباوات', 'الهمل', 'الناحيه', 'jrayir', 'nakeerhek', 'مندس', 'الثمانيه', 'dam', 'درتوا', 'متخممش', 'وتتحدث', 'sorre9e', 'وتلقا', '3ana', 'الشيطانيه', 'بوك', 'baslin', 'السوم', 'bjèh', 'حاوس', 'تركي', 'برودوي', 'باشي', 'وعرفتوا', 'eheb', 'tla9i', 'عماله', 'مشاء', 'jabbena', 'وعملتو', 'maya3réf', 'العازبات', 'يعجبنا', 'تنتظرها', '7ese', '3jebetni', 'malou', 'veut', 'الزبل', 'hanouna', 'يبزق', 'وعينوا', 'وخير', 'w7dik', 'منابه', 'يكذب', 'sos', 'mousalssel', 'saaad', 'الاحتراف', 'ismou', 'كنت', 'ويحس', 'قلب', '9ewya', 'المهتمه', 'devient', 'تدافع', 'يقطع', 'besket', 'مساعدات', 'elkaleb', 'الدهر', 'زاويه', 'elghalet', 'تففففففففففففففففففه', 'تتشقنس', 'kelma', 'اشرف', 'تحسنش', 'baredtli', 'فاشل', 'tfohhh', 'dur', 'matières', '000', 'المتخلده', 'اكواب', 'تلق', 'الطفوليه', 'yrabhek', 'ينقرضوا', 'احتراف', 'الاداءات', 'مولع', 'تبارلكم', 'نفساني', 'اتهاجمو', 'metrabia', 'mastourin', 'coup', 'كوكب', 'بتهنءتكم', 'توبو', 'yitjbid', 'ضهر', 'mooaaahhhhh', 'c2', 'يعجبكشي', 'ma8irr', 'exécution', 'يلزمش', 'دعا', 'ew', 'zyyn', 'billet', 'سيسال', '7abes', 'h9ou9i', 'قطره', 'rahet', 'ضحايا', 'وربحت', 'صارم', '3ndi', 'الاستاذ', 'مناضركم', 'القنفود', 'كرس', 'tet5arej', '3saaaaal', 'يرتبط', 'توريو', 'hayawanet', 'sancho', 'jalloul', 'chak', 'طرطور', 'wilayati', 'الجهد', 'تجيبوه', 'الالتزام', 'youfa', 'welh', 'بلڥيدار', 'ahssen', '3milt', 'عيلتكم', 'ماصططططططططط', 'yester', 'e3adik', 'article', 'liliii', 'ارمستا', 'osterna', 'وهكاك', 'اعمال', 'تتحدث', 'مضجر', 'مضمومه', 'ugh', 'امريكيه', 'حد', '3ahd', 'hajet', '5iiiir', '3alami', 'تفسيرات', 'وتحفزني', 'اجديد', 'تجار', 'برفو', '5ouyبالقسم', 'akhtar', 'mràyédh', 'بالعنف', 'yetla3', 'kayennou', 'nahdaoui', 'mase5', 'jma3a', 'جاباتك', 'نهاءي', 'الراقصه', 'elmoutour', 'netfaker', 'دينيه', 'الجبال', 'rzinerzineeeeeee', 'tffffffffff', 'نقل', 'يطمن', 'حاكم', 'خييييت', 'تكرهك', 'yothhrli', 'be3telhom', 'na9sek', 'مسيوو', 'existe', 'الجماعيه', 'يعاون', 'للظهور', 'yanf3ouk', 'لخرا', 'ويهلكهم', 'المفتاح', 'toop', 'فاشله', '450د', 'ه', 'وعد', 'بازقينو', 'تدوير', 'wejiha', 'اروبا', 'الفيروسات', 'fibelk', 'nekri', 't9af9if', 'يبحر', 'nkamalha', 'يعرضونها', 'مرقصه', 'رساءل', 'khiitt', 'zardiiii', 'halan', 'w3lehm', 'wgoogle', 'يشفيك', 'labess', 'شحال', 'حالك', 'ff', 'mchoum', 'خلصتش', 'كانش', 'نوريهم', 'والتسبيح', '7at', 'بلايص', 'w7dek', 'kl', 'kas7a', 'خصصت', 'لفترات', 'pubg', 'yhasbek', 'netfarjou', 'يحفضو', 'تجيك', 'منحط', 'عزك', 'ناقصها', 'وتفيدهم', 'يخليو', 'اخضاع', 'عالشرف', 'hayder', 'وبعيد', '5ayyb', 'nharek', 'سينو', 'قبه', 'المره', 'الشاءعات', 'khraje', 'm3alim', 'وتجيني', 'الالي', 'تخرجت', 'ولحاس', 'ta7dhir', 'العادي', 'laik', 'ياحسره', 'fiil', 'ماينجم', 'اختلاف', 'انجمو', '3anifa', 'projects', 'تستدعاوه', 'crp', 'ymani', 'nice', 'يتوافقش', 'مجرب', 'الصلاه', 'bettalhis', 'الالوان', 'مسلمين', 'كاتمتو', 'يحمد', 'اشو', 'القومجيين', 'مراه', 'خوكم', 'zemannn', 'yet9abel', 'زواج', 'ساجد', 'والصيام', 'خارفه', 'sa3id', 'تحضيري', 'birthday', 'normalement', 'المخلوق', 'تكري', 'ye9fou', 'عزيزتي', 'وزادوا', '200الف', 'قرايتو', 'mat5afech', 'والمستجده', 'وقح', 'kadouja', 'yaser', 'وحرام', 'safi', 'yalaita', 'na3ch9ek', 'يحفظهم', 'makont', 'ui', 'heyla', 'بلادكم', 'تتبرا', 'ملكيه', 'ism', 'sa5ta', 'الاصلاح', 'وكشف', 'اسلامي', 'general', 'فار', 'wa7dekk', 'كمبدعه', 'khlot', 'distance', 'حاجتي', 'خالد', 'maya3tich', 'نسلهم', 'ايجابيات', 'نمو', 'وموزونموزونه', 'community', 'المجلس', 'peeeeeeeeefffffffffff', 'يعجبوني', 'للخمور', 'الاخضر', 'ملاءكه', 'massittt', 'weld', 'احجامها', 'na3tih', 'نختارو', 'recherche', 'يحفظهلك', 'klib', 'الكذاب', 'بوزينها', 'oma', 'jebithom', 'عاهه', 'b1', 'طبال', 'ينكر', 'tbarkallah', 'ضب', 'lagetat', 'جبريه', 'وشخصيه', 'stricke', 'wazyen', 'tatl3', 'توكلو', 'الانذال', 'الجراه', 'والاكيد', 'ينجم', 'طيح', 'wmaaaaset', 'فضحتونا', 'mt3talfza', 'لخمج', 'خطيره', 'تغطيو', 'نوم', 'القراوه', 'jamai', 'pareil', 'esmou', 'معانات', 'مقدم', '19', 'tfffiiih', 'نعيشو', 'sakkrou', 'الاخوات', 'la8maj', 'lazmou', '7ittt', 'غالبيتهم', 'hamada', 'lebnet', 'bouchleka', 'يعدمها', 'رايها', 'تعوم', 'okhti', 'الرزاق', 'hethi', 'فقر', 'الاعراض', 'لف', 'ازباله', 'soutk', 'tchoufou', 'رءوسنا', 'yetaarfou', 'للوسط', 'mle7', 'تعفن', 'maaaaaaaaaaasssssit', 'dharbane', '7louw', 'inte7r', 'امل', 'سراق', 'eb', 'وحراااام', 'هزيل', 'خايب', 'بالفيروس', 'ahle', 'l3almin', 'n9ari', '5', 'وزرع', 't3alemt', 'المءسسه', 'tahkiw', 'يخرجوا', 'تتنابز', '9asa', 'aandha', 'rhat', 'عينيش', 'مامسطك', 'الوزغه', 'ngolo', 'يجازيكم', 'najla', 'اجسام', 'نgولو', 'تضغطو', 'القبعه', 'حكي', 'الثبات', 'وكاذب', 'ومستقبلي', 'te3dou', 'مافيك', 'تشوه', 'plaît', 'سيبو', 'exp', 'famech', 'استقطاب', 'للعلم', 'مايساءلوش', 'bn', 'cevil', 'beleh', 'ماعنهاش', 'نجاح', 'مهندس', 'صط', 'ينور', 'fermés', 'bagraaaa', 'wildi', 'ne7ebouuu', 'wafakt', 'ياكلو', 'يعاونوني', 'geforce', 'تكلاشي', 'we3i', 'karweya', 'missaoui', 'ينقص', 'السجون', 'jalol', 'ماندفع', 'اختصاصو', 'كككك', 'تفكلهم', 'نشوف', 'القحاب', 'الويكاندات', 'توبه', '3amil', 'يرحمني', 'وتحبلقالها', 'bardli', 'asswed', 'مستقبلك', 'سايب', 'كقسط', 'ﻫﺎ', 'الجمهور', 'يتفاوظ', 'محلااااه', 'englais', 'تونس', 'خطيب', 'يقولش', 'تتنحا', 'الدالاجي', 'النهار', 'عاهرات', 'mmkn', 'maijich', 'قواعده', 'مانديرو', 'بنيان', '9loub', 'نزيه', 'yhebou', 'yekhdem', 'يوثق', 'لحاسه', 'الاونه', '7echa', 'تستنبط', 'فعلنا', 'العواطف', 'فريلانسار', 'fame', 'تسوي', 'alesh', 'بالصيد', 'يعجبوك', 'الوجه', 'تنحط', 'وشكرا', 'bardo', 'متزيدش', 'روسكم', 'التفويت', 'وامام', 'taswira', 'نحي', 'chkn', 'domainek', 'winti', 'يربحكم', 'etbarkalla', 'jard', 'تركبش', 'تشاور', 'لامتيازات', 'الرسميه', 'masikh', 'بطرق', 'wtwlii', 'دومانك', 'كامراه', 'الغمه', 'واحلي', 'وللذكر', 'kbar', '5alla', 'نقرا', 'داخلك', 'العايلات', 'اخوانك', 'ويبدي', 'ينصركم', 'امراض', 'يقعد', 'زربيه', 'kinésithérapeute', 'شربتوش', 'سكت', 'لخدم', 'الملك', 'ftari9t', 'المحافضين', 'fait', 'ضحكه', 'وترجع', 'عفاس', 'بلوغه', 'يرحمنا', 'تصليو', 'لواحد', 'اعتز', 'ﻓﻠﻲ', 'تحكوش', 'شعور', 'ياسمين', 'رهوطكم', 'طاوله', 'contactit', 'اخوس', '9abi', 'ghlot', 'سخافه', 'تمتد', 'تطل', 'la7ad', 'يتسلسل', '3amletha', 'سافل', '7oymti', 'الظرف', 'نيكهم', 'ستاف', 'dhrabna', 'خجل', '3ziza', 'machaallah', 'وزين', 'الحامي', 'جيدا', 'aswat', 'ye7aanen', 'راعوا', 'يتفرج', '1017', 'نتبرع', 'ne9sa', 'يلعب', 'الولاه', 'ياخامج', 'الجنسي', 'يتدارك', 'النص', 'المرتزقه', 'yjawbouh', 'اعتبر', 'بيني', 'metmchich', 'يعطيوك', 'big', 'naaaaez', 'ميعجبنيش', 'lekleeem', 'لسطر', 'by', 'fer4a', 'e7weyejj', 'وحرمو', 'ازيدنا', 'mayetbouled', '3m', '1000', 'يجيش', 'السلاله', 'صفحتك', 'يجيك', 'klemo', 'نجحوا', 'دليلك', 'حاسبها', 'waseletek', 'wa7dek', 'mabled', 'ايفظلهالك', 'تسكن', 'مايزيد', 'اليحياوي', 'ببركه', 'ستاجات', 'nekrahaaaaaaaa', 'يتقالو', 'fma', 'داء', 'nkoun', 'ومصطك', 'ضامره', 'قذارتهم', 'makkran', 'na9thi', 'انست', 'تتركه', 'الغرياني', 'ta5letlou', 'مشكلتو', 'فوضي', '3ale5er', 'repère', 'na3rfo', 'تلهو', 'ومخيبها', 'فشوش', 'دالي', 'تتصنع', 'السلعه', 'khab', 'yodhorbou', 'اتم', '9adar', 'تعذبت', 'me3andikch', 'نعطيهالوش', '7al9a', 'gazouza', 'mohamed', 'em3he', 'لاباءنا', 'bnin', 'etmathlou', 'هالصفحه', 'السبايا', 'raou7ek', 'اوفقك', 'a3lihom', 'la3ad', 'yseb', 'العامل', 'قدها', 'اغضبتني', 'hedheya', 'شكونو', 'undefined', 'العراء', 'كتله', 'حقيقي', 'طبق', 'ولتفقير', 'يعاونكم', 'نحملهاش', 'dhhorli', 'ثعلب', 'اعطيني', 'الجبايه', 'بالanglais', 'essis', 'علميه', 'ونمروا', 'monsieur', 'wtab9a', 'اميين', 'المسيءه', 'douda', 'formati', 'لقرايه', 'دينيا', 'استدعاءهم', 'المسءولين', 'تمرضونا', 'محلمها', 'خوف', 'apparance', 'statistique', 'اخزهم', 'الدناءه', 'مسيكن', 'فلاڤه', 'تبقا', '5raj', 'تمسخوا', 'tas3a', 'التزبيه', 'هالصباح', 'يعيشكم', 'masi5', 'عيله', 'يتولد', '3andek', 'nestanew', 'even', 'rrouj', 'لسانو', 'zharhaaa', 'tsta7a9', 'خشمك', 'خاترو', 'lirabbak', 'عديده', 'مثلت', 'بالحجج', 'جرايه', 'parcours', '3aychou', 'زعام', 'لمصالح', 'عينكم', 'ملايكتها', 'bootstrap', 'يستاهلوش', 'ماتبخلش', 'الصحفيه', 'زبيييييييييييييييي', 'خوذهاا', 'kamal', 'ايران', 'mrèwa', 'imradh', 'i7eb', 'madhrek', 'ممسطهم', 'الوطن', '3lelich', 'تقصلهم', 'wejhek', 'جت', 'sara7a', 'زهايمر', '3ayletha', 'وطنيه', 'فهم', 'والاصل', 'rehoute', 'البحيره', 'tla333', 'waslo7', 'twafa', 'العلاءقيه', 'التهريج', 'as3ed', 'اشفي', 'لجهه', 'khamja', 'ta7ann', 'المتخلف', 'مالعين', 'نعمه', 'حاضرا', 'podeiet', 'مربي', 'nul', 'yehki', 'klemek', 'راقي', 'mandhir', 'والسيناريوهات', 'mar2a', 'قانونيين', 'وباقي', 'wa7dhaa', 'للاداره', 'والمبادي', 'ancien', 'تاءخذنا', 'بالسوم', 'baed', 'campus', 'طيشها', 'ta7lil', 'تخليهاش', '7anene', 'ykassrou', '9itli', 'يعاونا', 'ne7tram', 'رجعهونا', 'دوحي', 'i5awefffd', 'ويكثرو', 'hethiii', 'اووووووف', 'العود', 'زنيك', 'nafj3k', 'سمحوني', 'raison', 'خلاكمش', 'تعاند', 'فضوحه', 'يلقا', 'market', 'نساء', 'mchet', 'imta3ou', 'afrah', 'الحليب', 'راقد', 'tounssi', 'wjzek', 'رقبه', 'خرجنا', 'etelha', 'l5ayri', 'قبولو', 'مينجمش', 'l9abi7a', 'لمدينه', 'yoltef', 'تخبش', 'khmaj', 'ارحموا', 'tenja7', 'm3alamm', 'والرحمه', 'باهيين', 'ينعمو', 'نحستونا', 'mayhemou', 'ymazbelkom', 'فلانها', 'رحيم', 'لرجال', 'بالغالط', '3adit', 'اجنابهم', 'قرهمانه', 'القانوني', 'وثاءقي', 'البنت', 'والشهره', 'rare', 'ينطلق', 'عيشك', 'ملوا', 'المكم', 'زمان', 'tra', 'ميمتك', 'ماشيه', 'يعملهم', 'yarhamo', 'isib', 'kelba', 'مهندسي', 'تللش', 'للنفاق', 'ونعطيه', 'intej', 'ysir', 'بندرمان', 't9ayed', 'وقلاب', 'تواواحده', 'مصطلح', 'بثلاثه', 'محطات', 'الحذر', 'me3adch', 'الاساله', 'mey3refch', 'نحرك', 'l8alya', 'نكرهوا', 'يجيب', 'l3icha', 'مقهي', 'ضاهر', 'دموا', 'afe9', 'العبد', 'اداره', 'ريق', 'ومشوا', 'for', 'lahkouma', 'لحيوط', 'ame', 'وسامحوني', 'رافض', 'ma3andkomch', 'اثم', 'crush', 'الاسلاميه', '7ach', 'tfouhhhhhhhhhh', 'ri9', 'مطلقها', 'والبطاله', 'rasha', 'ثقافتهم', 'اخوكم', 'mosslimoun', 'edahkou', 'ناقشوا', 'تعديوو', 'la7lou', 'تدمير', 'bdarek', 'trab7ek', 'yaawd', 'تستحقكمش', 'nuulll', 'aawed', 'الخطير', 'وجواب', 'خلقه', '5outtha', 'الاستعاب', 'hahahaha', 'بعدك', 'mitkabber', 'والمءسس', 'اعمل', 'تهريج', 'bayen', 'فانتبهو', 'مانعرفوش', 'ydevloppi', 'وكفء', 'الfanciness', 'داءمه', 'as3ad', 'صحبي', 'عاءلتو', 'تتبرع', 'عالtbs', 'ese3a', 'عالميا', 'منحرف', 'تفاهتكم', 'فقت', 'سياسيه', '3omri', 'نوحل', 'marikkkkkk', 'ita7an', 'whowa', 'ترتمين', 'karkaden', 'واكبر', 'بودورو', 'administratif', 'ydaya', 'بعيد', 'thoum', 'y5adem', 'walyt', 'بركه', 'dhabé7', 'شبهات', 'لزم', 'weldek', 'asla', 'mate3jebnich', 'whdha', 'wdayra', 'للحساب', 'وفلوس', 'tekedhbou', 'محطوطه', '7awel', 'عالمثليه', 'باينه', 'tfouuuuh', 'حلوقهم', 'حكم', 'الجاي', 'تافهين', 'وصلت', 'meno', 'sakroulou', 'وقدمها', 'korkom', 'y3akilou', 'اعدو', 'nahthawiya', 'andhom', 'pfffffffffffffffffffffff', 'مريقل', 'غنايات', 'دعاااااره', 'دعها', 'تبحثو', 'متنكدش', 'نتاءج', 'حافظا', 'mafama', 'وهراني', 'حبها', 'افق', 'ربطت', 'يتسردك', 'الكفاله', 'bahin', 'tsafer', 'التعريف', 'lkiné', '5alli7om', 'mazal', 'نتوجه', 'w3adi', 'السكينه', 'بتاعها', 'جك', 'كتلته', 'الغايه', 'المقلبه', 'الحلول', 'sadi9ina7ki', 'baha', 'فاهمينه', 'مبتغاك', 'kanet', 'khrouj', 'الاكبر', 'promos', 'شحنه', 'nn', 'وتعطي', 'يمسك', 'belik', 'تتحمل', 'تقاوم', 'lifé7at', 'وجماعه', 'عطيتني', 'يجينا', 'mechiin', 'challha', 'اوك', 'نحرقوهم', 'اخرج', 'المتميزين', 'شد', 'نم', 'عاش', 'يسكتو', 'sido', '3ab9rino', 'poo', 'الدساتره', '3malna', 'والسكر', 'الباين', 'vue', 'termtek', 'دمها', 'ya3fou', 'عليهما', 'لشخص', '3meltou', 'استخدم', 'لنوادي', 'بدورها', 'بالتالي', 'حطلو', 'الانتباه', 'km', '3aylet', 'har', 'انتماءات', 'الداخليين', 'yehmihoum', 'thmnou', '9ome', 'ترهدني', 'mouak', '3alae', 'wsolnelou', 'مصل', 'lyrics', 'faire', 'رجعي', 'يخالفه', 'الحديديه', 'alllllllf', 'kyarou', 'لتكون', 'chay', '3araslou', 'طاير', 'نكرهم', 'leur', 'الكبار', '5aliha', 'قبيحه', 'منظره', 'اعوذ', 'عادش', '3ib', 'اللوح', 'تبدا', 'برررررافو', 'toujours', 'يمر', 'max', 'kebda', 'مولا', 'facility', 'باليمن', 'بهايم', 'n7eeeebou', 'nsouha', 'المعتقلين', 'lazmek', 'برنامجو', 't9ra', 'زمانك', 'ماتولنا', 'روووووعه', 'تخرولو', 'البشر', 'khra', 'ha9', 'الفقراء', 'خرجلكم', 'الشارع', 'nadhla', 'الاشكال', 'zoz', '5ayro', 'lwkhayen', 'رايه', 'حاولو', 'mleyketha', 'saret', 'choufelna', 'uml', 'امدق', 'بلطي', 'bhi', '9a3da', 'ومنظر', 'id', 'tkosss', 'تسلا', 'الملء', 'hors', 'احتراما', 'لعصاب', 'يفكرني', 'ifathel', 'lprogramme', 'routex', 'job', 'chemse', 'المصوره', 'kifach', 'فالقاعه', 'l3aaaar', 'طب', 'الطبوبي', 'nheb', 'elleh', 'لحكايات', 'meta3ek', 'تجاوزي', 'صدمه', 'pffffff', 'نقاومو', 'كلون', 'مساءا', 'القادر', 'تستنفع', 'fé', 'nass', 'السراج', 'السبسبي', 'fond', 'للذل', 'dezet', 'عقد', 'روقاره', 'اقتناء', 'الابن', 'البسطاء', 'wmet5alef', 'بظلم', 'ﻧﺘﻔﺮﺝ', 'صحن', 'عاجبهم', 'تقيم', 'غاز', 'طواءف', 'تسمحلك', 'موقفك', 'نقابه', 'محواس', 'تسكتش', 'mba3ed', '3chnehhh', 'ta7iyeti', 'باول', 'تفيدو', 'العاطل', 'المسلوبه', 'متربي', 'ترويج', 'فالف', 'وام', 'lfan', 'وجيب', 'تركبنا', 'ممتااااااازه', 'o5tyy', 'خايبه', 'الديوانيه', 'okhtii', 'الخايب', 'العجله', 'يسمي', 'jemlaa', 'aljazayer', 'واخسف', 'وازواجكم', 'قولا', 'ويسارق', 'غالبا', 'لاشي', 'يتنقلوا', 'فاااااااااااااارغ', 'يتدخل', 'professional', 'weldik', '3inih', 'التطور', 'surtout', 'للغرب', 'الاستيقاظ', 'ya3tak', 'امضاء', 'maja', 'اطﻻله', 'tfouuuuuuuhhhhh', 'الجواب', 'رحموني', '15952', 'نخدمو', 'aalih', 'وواضحه', 'يعرفوش', 'مرتو', 'مستقبلي', 'dieu', 'متثقفه', 'امثاله', 'e9tirah', 'm3afat', 'تتركب', 'للفنانين', 'raji3on', 'الغاب', 'قوااد', 'y3inek', '9assida', 'martek', 'ibrek', 'ميتفرجش', 'خبيتها', 'اعتقد', 'عار', 'battala', 'المصور', 'دفع', 'mastoulna', 'jou', 'ba3de', 'صطوفه', 'ye9blouk', 'نكهه', 'y5dem', 'مالبشر', 'walaa', 'ماااااااسط', 'مثقفه', 'ابتسامه', 'مشكل', 'السءال', 'قولي', 'بيع', 't9oulou', 'العمال', 'نعلت', 'البحر', 'zebda', 'tfiiihh', 'netkalmo', 'ma7kour', 'ممتاوه', 'وحاولي', 'بفصعه', 'مستويات', 'اصبحتم', 'edjiboulna', 'nafss', 'haya', 'نواره', 'عديو', 'mnawar', 'eyh', 'naji', 'قولهولو', 'للشرف', 'ملااكه', 'اللاوعي', 'waf9i9', 'yikfina', 'ابناءه', 'exactly', 'lawjet', 'اوسكار', '7or', 'بقشورها', 'yamkourouna', 'الخامج', 'تنساش', 'tghalghel', 'بعباده', 'وتجيب', 'ونخبه', 'لحجر', 'تشدو', 'وقاحه', 'وتحرر', 'بالسيف', 'faux', 'والديك', 'jaweb', 'مقارنه', 'المنطق', 'tahana', 'يلعن', 'm9alba', 'وبالخصوص', 'et9azez', 'يعمللنا', 'halmandar', '5wenji', 'بالصغيرات', 'خاص', 'قلبو', 'takwin', '7atou', 'بالكتب', 'شعبه', 'فدر', 'ولشكون', 'برافووو', 'الاحزاب', 'deyma', 'الاذاعات', 'ثعالب', 'ﺣﻴﺎء', 'توصلو', 'tfoooohe', 'تتعب', 'mayasm3ch', 'قصولهم', 'وفوزي', 'zinou', 'ostorna', 'الوقتيه', 'نجمتش', 'نص', 'مالعربيه', 'go3ra', 'y9oul', 'نراتيو', 'خدمه', 'kemel', 'ena', 'هدفها', 'الفازه', 'rdhila', 'متعفن', 'mhaliha', 'والصفر', 'التربيه', 'comme', 'yjibo', 'الصبيه', 'استيراد', 'jedid', 'خلايا', 'اووووه', 'وماذبيه', 'marradhha', 'عظيمه', 'بصاص', 'حمزه', 'بوزينك', 'ايجابيه', 'يرحم', 'صلحها', 'rasoule', 'دينو', 'tfouuuuuuh', 'بالجماعه', 'مقتنعين', 'ياتوفيق', 'رضايه', 'حسيتو', 'الناقه', 'مناظله', 'نخدم', 'wattk', 'والمجلس', 'السنه', 'صايمين', 'تفوەە', 'ويخفف', 'ihoud', 'بريءه', 'shouf', 'تاااااااافه', 'dyar', 'الهالكا', 'castro', 'البوم', 'معذبهم', 'وفوضي', 'دماغك', 'عرفنا', 'wrbo5', 'ماشاءالله', '28', '3watef', 'mayjewebhom', 'رذاله', 'تقنيه', 'الايرانيين', 'ماركتو', 'yekhdmou', 'قرده', 'يعقوب', '3aychinn', 'المحليه', 'الثيق', 'lkoul', 'نتلاهاو', 'تلاها', 'المصدقيه', 'l5atir', 'كتل', 'ماعبرت', 'i3adi', 'kola', 'وخلالنا', 'trés', 'نظفها', 'الصور', 'الجحيم', 'منتخبيه', 'wfet', 'rwe7hom', 'سياسين', 'للبنوك', 'يقاضي', 'يتصلو', 'قلبان', 'واحفظنا', 'tnejem', '5arfa', '170', 'وللمجتمع', 'وسام', 'يسترناا', 'الفايسبوك', 'كرهنا', 'والنهضوي', 'emnayek', 'wahertek', 'ستار', 'massssssettttttt', 'صوتلك', 'متبده', 'yejbd', 'تحدث', 'nakabetina', 'دوبل', 'maryoumaa', 't7essou', '7ela', 'بالعربيه', 'ارهاب', 'طرشيقه', 'لطفيtranquile', 'yajibou', 'عيل', 'ملخر', 'remarque', 'بالاردن', 'شكر', 'النقبه', 'y3adi', 'ri7a', 'yabtach', 'يتهضمش', 'لتصفيه', 'حكومه', 'التاجيل', 'ماتقبلش', 'académique', 'حريف', 'bil3akis', 'تكوي', 'سياسه', 'hp', '3aatyaa', 'daléjiii', 'تلقح', 'metmakna', 'ماعندهمش', 'network', 'tbarkalleh', 'semha', 'لادريسا', 'm3lm', 'حسناتك', 'ودين', 'bo2ret', 'التواليع', 'ينتدبوه', 'مبلدوو', 'اشدو', 'ندخل', 'yemchou', '9adch', 'المهديه', 'oumourek', 'الاعيبكم', 'تمد', 'wrahi', 'tfihhh', '8neha', 'nhebha', 'للرذيله', 'محملتهاش', 'قفف', 'خسرو', 'واقي', 'وتتلاعب', 'وذالك', 'wa7dha', 'taba3thom', 'باهل', 'tayra', 'مجموع', 'بالمسءوليه', 'اللقطه', 'متعصب', 'طريقها', 'التطبيع', 'القصر', 'ycodi', 'theorique', 'تدين', 'nrah', 'ilbouhel', 'قافزين', 'الاطار', 'وشيهمك', 'تكسب', '3olya', '9dar', 'erhabienne', 'kalab', 'تترفع', 'majbetohouch', 'الكلمات', 'traitement', 'nsibti', 'قاعد', 'زنوس', 'الاولاد', 'اعفاء', 'inek', 'تبديل', '405', 'معدات', 'استقبال', 'm3aleeeeeerm', 'jetni', 'المطالعه', 'برهاما', 'صلي', 'chkun', 'لهنا', 'اءكد', 'تدرس', 'جافال', 'هالمسخ', 'نحيها', 'سيموت', 'يتنازل', 'تهبطو', 'abdeli', 'المجهود', 'ashel', 'طاجين', 'المدخول', 'werteni', 'walit', 'انتخبوه', 'يفرح', '3alena', 'كيم', 'barradti', 'الولايه', '7ather', 'ﺗﻮﻧﺲ', 'titmana', 'etalevza', 'baramejkom', 'asynchrone', 'للتفكير', 'اوراق', 'فاهمين', 'نرقد', 'ak4ar', 'يفرحهم', 'يصيبكم', 'هاذهم', '3alaa', 'بقرايتك', '9ball', 'يكتسب', 'avis', 'حليلي', 'etajamou3e', 'mezeln', 'elfans', 'english', 'رستو', 'عله', 'تسببون', 'عينينا', 'مولدك', 'يتوب', 'اعتبارك', 'ومقبحو', 'tarbya', 'harhout', 'شعبك', 'moumtez', 'وتعول', 'هامل', 'طرق', 'bmo9ded', 'وولد', 'تصدق', 'باااااارشه', 'المقدره', 'مجتهده', 'شهرين', 'يوسع', 'ياخي', 'والدروغ', 'year', 'موزاييك', 'سبيلها', 'يوصله', 'اجندات', 'متهربش', 'we7id', 'متنرفز', 'انظر', 'احشم', 'mediafire', 'كملو', 'لتجربه', 'martou', 'نهيق', 'math', '5000', 'bintk', 'waket', 'شهاري', 'قيمته', 'الفاشل', 'قديد', 'ماتكتبهم', 'noktoulha', 'يفرحك', 'عوذو', 'enja7', 'walat', 'siyassi', 'نعاونوك', 'يجرم', 'سفهاء', 'يستخف', 'مشاكل', 't5tar', 'بوحميد', 'اغلاط', 'ماااااسطه', 'طلعو', 'العين', 'destination', 'نهز', 'اتعري', 'نشوفك', 'chraw', 'dammek', 'chleyek', 'القانون', 'mbc3', 'processeur', 'oooooouh', 'شلاغمك', 'تخراولو', 'imachi', 'الازرق', 'مسافه', 'ماتستغربش', 'طموحات', 'robe', 'مستقله', 'دفعو', 'gar7a', 'ye5y', '3andi', 'ورد', 'ماتعطيه', 'يبكيو', 'مسخه', 'دافعينو', 'mouhamed', 'يديرو', 'din', 'naj7et', 'التلفزيونيه', 'البهلول', 'متعلمو', 'الامارات', 'commerce', 'mas9etha', 'نتشرف', 'fibelek', 'www', 'سيدنا', 'kiff', 'طحن', 'خدام', 'سالتو', '3ezek', 'a9ri', 'نرضع', 'عالقليله', 'open', 'jeux', 'akaka', 'تفسدهاش', 'klemha', 'itwl', '7asra', 'واعراضهم', 'ta3rff', 'هوينه', 'ضمارو', 'خبرتهم', 'akkari', 'دوره', 'كهرباءيه', 'واصلي', 'ema', 'منورين', 'لابسته', 'punto', 'شابهها', 'وقديمه', 'solution', 'فيها000d', 'nafthan', 'جي', '5li9et', 'ڨداش', 'ومريضه', 'يجمعوه', 'tsademt', 'نباره', 'تعرفها', 'يستدعه', 'ch9olt', 'concentrateur', 'لفريقي', 'وقالو', 'weldy', 'وانذل', 'sa5iiiiiifa', 'بالشوي', 'كوستيمك', 'يتصدي', 'تصنيع', 'مله', 'حيوااااان', 'yahbtou', 'وداءع', 'kawed', 'وامثالهم', 'والفساد', 'allemand', 'شهيد', 'نكرهو', 'التطورات', 'lf9iir', 'mezelet', 'msta', 'ma7lèha', 'اوكلهم', 'salam', 'انجموش', 'ga', 'wtes2el', 'الطفله', 'حمص', 'والواحد', 'électricité', 'الاخر', 'rai3', 'سيبونا', 'a7santi', 'فريكاساي', 'توضيحها', 'متحشموا', 'بانتظارك', 'krawek', 'jusqu', 'massik', 'marget', 'حداثيا', 'عارفه', 'etrahdin', 'راقدين', 'a3rf', 'safrhom', 'حاشاهم', 'عاااار', 'برسمي', 'reb7ou', 'التدخل', '7ayawen', 'عقربي', 'بلداننا', 'matest7aa9', 'الجحش', 'far7et', 'ytaba3', 'يتقبل', 'بزياره', 'blida', 'ظهور', 'yfarj', 'بلطفي', 'منتفرجش', 'erhebi', 'مايصلح', 'partir', 'karheto', 'مطولش', 'chkhir', 'وحط', 'تفوه', 'هالبلاد', 'وتدرك', 'الموازيه', '5iir', 'me3ejbetnicj', 'يلزمني', 'وحش', 'باصحاب', 'بناتو', 'يحلل', 'غربيه', 'مصيبه', 'الانتهازيين', 'الحلال', 'وتوفير', 'yefadhilik', 'ya3teb', 'لحاجه', 'الجنود', 'ylawej', 'الحاده', 'ma5ybek', 'وكراسي', 'عالي', 'تاعك', 'يسقط', 'تكميم', 'التاطير', 'اوجهله', 'والاعتدال', 'استفاده', 'meghir', 'yasr', 'تضحياتك', 'يشبهلك', 'sna', 'الجينو', 'يمت', 'بعديكا', 'a3malouli', 'خليتها', 'بلاي', 'papel', 'a3tiih', 'ضهرلي', 'moonlight', 'dha7ik', 'ماعادش', 'الخوف', 'essa5ta', 'lazemna', 'القسط', 'm3ak', 'حابه', 'barnaimej', 'tri9k', 'latji', 'chamis', 'بح', 'chnouwa', 'يقتل', 'mahomchi', 'hlouma', 'mechha', 'تصير', 'الامتحان', 'اشباه', 'emarek', 'نافع', 'الصدمه', 'الزباله', 'ta5ralou', 'تحيفه', 'توبيخ', 'تشتل', 'ettahrir', 'شلاكه', '5ouna', 'باربي', 'البطاله', 'يقدرش', 'تختار', 'ﻋﺎﻣﻞ', 'قوت', 'عالم', '3ejbetou', 'يعطيكم', 'رخاء', 'ked', 'tajine', 'sinaryo', 'يهلكهم', 'nakraha', 'عالقلب', 'اميمتك', 'فمي', 'annestek', 'بناغا', '9hawiiii', 'واءصلح', 'لطف', 'yetfaraj', 'للالاسف', 'karehba', '9anoun', 'الناصر', 'راءعه', 'مساكن', 'hasba', 'خديجه', 'عبر', 'الكارثه', 'cito', '9our2n', '9atli', 'i3awnou', 'الرفيعه', 'المعلومه', 'وغد', 'محنك', 'erab', 'تابع', 'يربي', 'met7azeb', 'يسوا', 'قريبي', 'kifik', 'jw', 'ومريييييييييض', 'حاضره', '9odret', 'وانتو', 'صرف', 'errassetaaaaa', 'كافيه', 'ksert', 'مجموعه', 'خضره', 'الشعبي', 'الرسايل', 'نكونو', 'سبيطار', 'netsawer', 'تعملت', 'elfaraj', 'علاف', 'test7a9', 'ادافع', 'بالدموع', 'لعزيز', 'dinya', 'l3iiiicha', 'اراد', 'iktebhom', 'نجمه', 'فاءده', '5ire', 'kabwel', 'مللي', 'lo5rin', 'nahki', 'نتخيل', 'اجراس', 'bint', 'mawe9efha', 'ghaleb', 'تبييض', 'mnine', 'سروالو', 'do', 'مخالف', 'جاوبني', 'tjiouch', '9ebal', 'الثلاثيه', 'للحبس', 'jahaltouna', 'بانڨليزيه', 'nhelha', 'وهنت', 'الاستنكار', 'madam', 'والتعليم', 'a3mel', 'kenoun', 'يادي', '5ol', 'ويسطرنا', 'ومينجمش', 'w7awel', 'بابورك', 'لورد', 'سوسه', 'نترجاهم', 'بسيييف', 'الضحايا', 'ker4a', 'تحياتي', 'hfatha', 'beb', 'chnakerhou', 'يهبلوا', 'wenhabou', 'ilmousalsel', 'ينورلك', 'اﻷشكال', 'يحسن', 'pppffff', 'للقباضه', 'الملحه', 'ettafahett', 'brcha', 'الوصيه', 'كركوووووووووززززز', 'عملك', 'meskin', 'هءلاء', '5tr', 'nzyd', 'والازدهار', '6', 'لحااسه', 'اربعه', 'العبيثه', 'للدعم', 'masa5', 'تجاهرو', 'زغرط', 'a9ser', 'wabe2', 'garder', 'frontières', 'سواءل', 'كلمها', 'ywaf9k', '1er', 'mat3adlch', 'chitan', 'حمدلله', 'mat9oulouhech', 'ta5alof', 'فيزيك', 'mezwed', 'ektbou', 'ولقد', 'السلطه', 'ينص', 'سييس', 'سخفاااااااااااااااء', 'توسف', 'تسمعو', 'الجمركيه', 'yjeweb', '3aliha', 'زيدي', 'سكان', 'مسخفيني', 'دييييما', 'i', 'قالولي', 'بندير', 'specs', 'حاسبين', 'klb', 'machalah', 'واقعد', 'tet9awa', 'مخلطش', 'dalleji', 'ياديوث', 'وتونس', 'مذهله', 'summer', 'walkilebou', 'تشوفوا', 'fik', 'حافظن', 'communautés', 'العملاء', 'الرخيص', 'القريب', 'اكحل', 'yefadid', 'ويرعاكم', 'اقليات', 'youled', 'تتوقع', 'yl3ib', 'مناظره', 'وسيصبح', 'وتعيد', 'تاخذنا', 'tberkalah', 'لانحطاط', 'liblad', 'راضعو', 'قصرينيه', 'المديره', 'طلعوش', 'متوفيه', '9wade', '3lh', 'a9n3ou', 'ضوء', 'nou', 'nahkiw', 'اطاليا', 'نرو', 'الكفار', 'بناويتك', 'monafe999999999999999', 'السجن', '3ishetna', 'قفه', 'يفرهدلنا', 'وتكون', 'واناثا', 'بالدات', 'المسار', 'mata9rach', '9adehechi', 'njib', 'mahiyech', 'فضيحه', 'box', 'شعواء', 'الفصل', 'فاهمه', 'اعشق', 'حلاوته', 'كرامتك', 'والنجاح', 'carte', '5majkom', 'خروج', 'بغض', 'برقمين', 'na3llet', 'تغصب', 'وافتراء', 'الوالدين', 'ابقو', 'hazan', 'معجبتنيش', 'karhebtek', 'لمداواه', 'n7ibha', 'الترافكون', 'بيونه', 'بالكلام', 'بعت', 'saffsouf', 'يتصدر', 'بولايه', 'معانيها', 'so8er', '180', 'cours', 'denietek', 'travail', '3andnaprocesseur', 'حقيقه', '5li9att', '5dt', 'يعجن', '3ind', 'mousalsel', 's', 'ytantin', 'ينصورك', 'يعيط', 'hyperx', 'طریقه', 'fl5at', 'التاسيس', 'عباده', 'يشرفش', 'بلع', '3lihm', 'متخلقه', 'العربان', '22', 'gram', 'اليابان', 'خدمتك', 'بالعربي', 'وفاقد', 'كالفءران', 'wkol', 'traba7', 'راقاص', 'fahlate', 'تبنيه', 'مستواك', 'يطفيوكم', 'مانجح', 'الحرام', 'tarf', 'metcharef', 'yethalou', 'morou', 'narja3', 'وخلييو', 'لروحي', 'مايتعلمش', 'محل', 'tonsi', 'التعجیز', 'maryim', 'الحيويه', 'ويبعد', 'وتنجمها', 'معتمديات', 'allmosli7in', 'قصاص', 'حظ', 'mwaher', '7el', 'الانسانيه', 'ترابك', 'وحليب', 'te3jbni', 'mgalba', 'ماينجمش', 'gamra', 'تبا', 'adéquat', 'elila', 'yeserrrr', 'ممصطك', 'lawajt', 'msa5a', 'bravoooooooooooooooo', 'برنامجك', 'ihizkom', '3likkkk', 'الميداني', 'njibha', 'يتطاول', 'latif', 'وزير', 'mahoush', 'tahder', 'مليارات', 'نستحقو', 'chesmha', 'b7dheh', 'الفاتحه', 'اتموا', 'بالحركه', 'الاه', 'معاش', 'خاتر', 'المنحطين', 'الارهاب', 'rendez', 'ماليه', 'nchoufek', 'سامحني', 'طامعه', 'الواد', 'قطوس', 'yfathelhoulek', 'داركم', 'darna', 'الدموع', 'صاحبتك', 'ظد', 't3arri', 'الحقيقي', 'excuses', 'اصلح', '9ilt', 'يتحكي', 'bdew', 'ybaraklo', 'خذيتو', 'wallaho', 'وليل', 'يوخرو', 'lbhéma', 'bouhmid', 'braaaaaavo', 'باهم', 'learning', 'و12شهر', 'nechrihouch', 'لمركز', 'yar7mou', 'خطوط', 'كرهبتي', 'يعتكم', 'بايديهم', 'ichbiiik', 'ابرام', 'البلاتوهات', 'وانحلال', 'houta', 'واحمد', '5saraa', 'nhabet', 'twasslou', '7ezb', 'جازاء', 'لتجاوز', 'ya3tihhh', 'beha', 'تكلمت', 'حقره', 'بيدوا', 'boulisia', 'mahlek', 'ba3delli', 'نحلف', 'الكبير', 'ndhiif', 'avec', 'اعلاميه', 'mayanf3ek', 'choftha', 'salaktha', 'الجتمع', 'chfemma', 'rou7ha', 'غرافيك', 'والمسانده', 'lbaja3a', 'انشر', 'نكريش', 'الرذاله', 'تمثلهم', 'wallat', 'sayed', 'mo3a9', 'الاصلاحي', 'netghachouch', 'الراب', 'bl3aks', 'echange', 'boubahm', 'وضمار', 'علاهم', 'اقدر', 'مقداد', 'عملناه', 'فاتك', 'ثقافتك', 'hekka', 'نبدا', 'شاطرين', 'هبل', 'ناتج', 'الاجباري', 'تمثلين', 'شهرك', 'كاينو', 'tfoooh', 'el5arya', 'casa', 'ma3ijbetnich', 'ندفع', 'والحب', 'omi', 'n7esha', 'masla7et', 'تفوووو', 'وتحذر', 'hawayen', 'متعودين', '02', 'اكدلي', 'شوفلو', 'رجاءا', 'يرجع', 'لحكايه', 'fejra', 'ويكاند', 'بالحاجه', 'الفاجره', 'عامناول', 'sous', 'منعرفش', 'اقصي', 'شال', '17', 'وجعهم', 'نعم', 'الرجاء', 'ماتخفش', 'بال', 'طولت', 'تتكون', 'الحصيله', 'كمال', 'هستيريا', 'واللعب', 'تلفونك', 'العازبه', 'المستار', 'chto93ed', 'اذيكا', 'ttn', 'kill', 'يتبعها', 'حدث', 'نركبولو', 'manwef9hech', 'قاتله', 'تعبان', 'ma8mdha', 'خفف', 'بعلامات', 'mabrouk', 'mal9aw', 'المعرفي', 'تتخلي', 'mabledha', 'للامهات', 'ماشهدش', '3sl', 'نصب', 'plante', 'باهييي', 'taarf', 'وتحبها', 'الطاووس', 'samsoung', 'bsinaya', 'للتمثيل', 'ya7fadhkom', 'snih', 'da3ara', 'الاخلاقي', 'روبو', 'الاخطر', 'lkteb', 'mznha', 'جميل', 'يطلع', 'o', 'الدرداء', '8h', 'ka7ba', 'mba3d', 'be5lef', 'جعفوره', 'تكمل', 'تففف', 'للتبزنيس', 'يفرغها', 'me3edech', 'روايه', 'lyouma', 'قاره', 'هزوها', 'قنوات', 'لامكانيه', 'اجازه', 'ككل', 'لاحظتو', 'hahaha', 'outawa', 'والياسمين', 'sidi', 'chet', 'الطيب', 'tess2al', 'نوع', 'الباكوات', 'gratuitement', 'لتنازلت', 'salou', 'ثقتك', 'اتلاف', 'عمو', 'ملقا', 'klabe', 'tetayech', 'سلومه', 'هموم', 'يبقو', 'mawatatikch', 'solu', 'nehebouha', 'baredli', 'الخضر', 'لاصحاب', 'فرخي', 'ياقف', 'wej', 'قاضي', 'dhahra', 'efdhey7', 'toumt', 'الخذلان', 'akeka', 'ras', 'تتفاهمو', 'التصفيق', 'raghmelli', 'ورزانه', 'abonner', 'وتبلعيط', 'wakil', 'latraba7om', 'يطيح', 'يحفظكم', 'ijik', 'والمعدن', 'جايبنها', 'machekel', 'gazozu', 'yaaaaaser', 'تعليمي', 'محايد', 'رب', 'فتاملوا', 'tghayer', 'thifa', 'ذاليك', 'ونسيتي', 'يقرر', 'ﻧﺤﺲ', 'بالفقر', 'سكوت', 'innahdha', 'gara', 'اختيارها', 'a3tii', 'يحكيو', 'مفقوده', 'افلاس', 'ilyy', 'الصالحه', 'فردي', 'na3mbouh', 'زطل', 'شقنوسه', 'offre', 'استر', 'mordha', 'الرابط', '5ater', 'welcome', 'ولسان', 'امتاع', 'ويضحكنا', 'yebki', 'nhbch', 'تخبيه', 'فخرك', 'حلقتين', 'riye7i', 'بغيرك', 'i7ebou', 'بمشاعر', 'cho8l', 'mas5a', 'سمحه', 'yzid', '9a7ba', 'جراثيم', 'تفرج', 'تميحي', 'غلطت', 'ourak', 'فحم', 'المناضل', 'يشرف', 'taba3', 'tounsi', '200ti', 'inkalmik', 'kolkom', 'ماكله', 'بخاطرك', 'تطبيق', 'تعرضوا', 'يضرباها', 'marakik', 'النمط', 'الكلمت', 'السبب', 'المشكله', 'fire', 'anthropologie', 'tozzzzzzzz', 'الرخس', 'تعديو', 'هالناس', 'ولاك', 'sa3dek', 'تتشرفش', 'وصحه', 'الاهداف', '9otlek', 'خذات', 'sa7tek', 'sahyouni', 'استاذه', 'nchllh', '3abdi', 'لفيانه', '7aythom', 'sahbek', 'halmortha', 'بینا', 'raak', 'matstahelech', 'ومنيك', 'y9ouloulk', 'lebhimm', 'تقشر', 'المتخذه', 'معليم', 'lfehri', 'المسيحيين', 'ya7kiiii', 'hloua', 'الغتي', 'walina', 'حرقتو', 'صاب', 'aandy', 'مزوط', 'لدرجه', 'مصالح', 'جال', 'بالبهامه', 'لفيلسوف', 'ناظل', 'ميزانيه', 'bihom', 'نعمو', 'موعد', 'جايباتو', 'الهندسه', 'امعيشينهم', 'twasel', 'echib', 'lebsa', 'sma3tha', 'تمارين', 'عجله', 'mamestou', 'mazeltou', 'ارتقي', 'yesn3ou', 'احلامك', 'kolchay', 'darek', 'infirmière', '5alek', 'mouharrij', 'thats', 'content', 'نحبووو', 'nich3i', 'نتعلموها', 'rcd', 'y9oulouli', 'لبرشا', 'بلكون', 'neya', 'bhima', 'casseroles', 'confirm', 'يزداد', 'وقران', 't3allmhom', 'ikeb', 'taher', 'nafshom', 'lazem', 'rayo', 'وحافظ', 'ba3dek', 'kouya', 'kasarli', 'متذوب', 'مالفوق', 'احلاها', 'الكميه', 'عيفتوني', 'mode', 'mandher', 'والجفال', 'hedy', 'دمروها', 'mte3k', '3amnewil', 'otlob', 'المزري', 'غناكم', 'watti', 'ات', 'قالت', 'manajmouch', 'yaaa', 'moustawé', 'يحكي', 'اتعلمو', 'عريان', 'soutek', 'بزوله', 'بعقد', 'مفكر', 'تلعن', 'جداا', 'تغلي', 'spontané', 'هالكلب', 'الزناه', 'zbééla', 'الدقيق', 'نلعو', 'تتحالف', 'lestar', 'preuve', 'الشبكه', 'ba9ara', 'safirat', 'طريق', 'chohra', 'صدرش', 'سخط', 'وبنا', 'يسواش', 'شكاره', 'بنفس', 'عبادك', 'widahik', 'لفضيل', 'تربحوا', 'ونت', 'wt7ni', 'domaini', 'المسلمه', '9athyia', 'عميل', 'ridh', 'بحكياه', 'بزبي', 'bal3ouuuuuut', 'méthode', 'يدها', 'mgatel', 'تعدي', 'تقطعو', 'bitawfi9', 'وفاه', 'عالسلامه', 'برلمانات', '4500d', 'bravooooo', 'الشواذ', 'باحتراز', 'اقرا', 'عمركم', 'netsawrou', 'الجامعي', 'كثرو', 'للرياضيات', 'hamdelileh', 'borjoliya', 'esa7a', 'قانون', 'koul', 'science', 'قرا', 'مباركا', 'kelowti', 'تحديث', 'البخوخو', 'tmathil', 'استغفر', 'للوزاره', 'وشتيمه', 'lezmk', 'موضوع', 'najamech', 'الانتخابات', 'انجم', 'نتصورو', 'زروسك', 'na3mlha', 'فبرشه', 'mn3tich', 'الاكيد', 'mahlekom', 'منطقي', 'ilsouriya', 'zedet', 'تسير', 'داخلها', 'الجسم', 'yabki', 'نزيدو', 'تفاهات', 'tfouuuuuuuh', 'تشوف', 'bila7ram', 'نمشيلهم', 'terba7', 'داعشي', 'malade', 'باالله', 'الخلطه', 'seyerha', 'لكلم', '29', 'تتكلم', 'كومنتارات', 'كراشد', 'arames', 'وضهر', 'اتوري', 'تقصد', 'ekebe', 'الحمام', 'اساء', 'ye5i', 'ma3', 'اكاكه', 'hathawra', '3ich', '3ayelet', 'chotou', '7ouma', 'nahthawi', 'fina', 'مءكده', 'صدق', 'اسءلهم', 'وهمي', 'tejbed', 'هلامي', 'bain', 'kas', 'prepa', 'ماغير', 'yarjaaech', 'اﻻمم', 'قام', 'bkhir', 'المجال', 'lfayda', 'pcr', 'invités', 'والفكر', 'مهندسين', 'y9ld', 'الشبكي', 'تملي', 'يلتزمو', 'tbs', 'يقوللها', 'ﺍﻟﻲ', 'اندلسي', 'تحتاجهم', 'ench', 'aabd', 'اوروبي', '60', 'يشاهدها', 'ميوع', 'tww', 'تفتفتو', 'mjoudra', 'anou', 'بقلم', 'خوذلها', 'افضلك', 'اشنع', 'جابلهم', 'لموقعها', 'توقيف', 'yhoud', 'كدواء', 'خصله', 'tjib', '3oudh', 'toqssod', 'لاصطا', 'بالدراسه', 'kadech', 'واي', 'creators', '5amjetha', 'la3dhim', 'عرقت', 'ضيعت', 'كفوف', 'الكرام', 'erjoliya', 'a3rfit', 'البلاد', 'kiloo', 'العزلكه', 'ايهبل', 'اختار', 'الاستثمارات', 'yet3mlou', 'الاجهزه', 'l9owa', 'ذكي', 'طحان', 'sa7ebti', 'yaarj3ou', 'خنافر', 'yaaaaaa', 'تقراه', 'femma', 'انتخابهم', 'اجرهم', 'wili', 'استغلها', 'we7dou', 'مشويه', 'عالقباحه', 'اقتراحات', 'تستعملش', 'il5imar', 'هيءه', 'بمشاكل', 't3adit', 'ونخدم', 'والروس', '3leeha', 'هام', 'ابداعا', 'السياسين', 'اتساءل', 'وهميه', 'sghira', 'tansa', 'traduction', 'للمريض', 'محرث', 'اقلهن', 'الفقر', 'woslet', 'تهبط', 'يغتصبهم', 'yrabi', 'الناس', 'bohoum', 'صدمتك', 'rip', 'تخلي', 'tishab', 'teb3d', 'الماء', 'المساجد', 'افتح', 'اتباع', 'ابتلاء', 'ynate9', 't7ebbek', 'الاخﻻق', 'شيولي', 'بوست', 'lehmom', 'نفضان', 'يحبون', 'يذكركم', 'poumons', '5fif', 'وعبا', 'نصحتني', '80', 'wto93id', '30', 'وبالمعارف', 'wnawfel', 'yetjlat', 'chta3mel', 'نتمني', 'الdossier', 'kenhi', 'tet3amlou', 'brima', '00000', 'ابكي', 'الموقف', 'ere7la', 'عون', 'دخان', 'besaalsa', 'mn7bch', 'no9sed', 'راسك', 'socle', 'القنوات', 'bhimm', 'يعيننا', 'moufida', 'الاداره', 'تركنت', 'التدابير', 'قله', 'لتنفيذ', 'ijibha', 'y9olik', '3ajbatni', 'قروضكم', 'erhab', 'ysala7', 'يخالفكم', 'jbin', 'super', 'logiciel', 'klaaaaaaaaaaaaaaaaaaaaaaab', 'نحاول', 'يكمن', 'النظيف', 'يزينكش', 'طوسل', 'النعاج', 'z4ar', 'nakerhou', 'لشديه', 'الاسابيع', 'makboube', 'متحركه', 'ذكرتني', 'nawfal', 'للتحلي', 'echi5', 'متنجم', 'العمر', 'الافلاس', 'وارفع', 'وكبرت', 'مرمتك', 'bourguiba', 'الدعم', 'l3air', 'الراجل', 'يقولوش', 'فاجره', 'مبلدها', 'سقطت', 'ويبقي', 'يبتليه', 'yatlaou', 'ثوم', 'مشاعرك', 'المصيبه', 't3awed', 'روحوا', 'الجبل', 'tfuuuuuuuuuuuuh', 'استقالتي', 'noire', 'التزم', 'للذوق', 'الحلقات', 'للورث', 'باركه', 'شذوذ', 'للشركات', 'وكلعاده', 'نظامه', 'مرتزققه', 'miliard', 'ماتولهم', 'تروح', 'اخ', 'نفر', 'nssibti', 'نهارنا', 'يريد', 'عمله', 'منتوج', 'inkolou', 'نوابنا', 'الغنوشي', 'يطرشق', 'منور', 'وتتعدي', 'التهام', 'a5le9i', 'كوبا', 'بالها', 'يكره', 'شيخنا', 'a7yato', 'rjoulia', 'ويحميه', 'واﻻستعداد', 'demande', 'الجهات', 'sid', 'دفعه', 'المحتكرين', 'متخلفه', 'قول', 'عوا', 'tkhalik', 'tb3', 'التبقبيق', 'المحليين', 'fifi', 'الهانه', 'fom', 'dure', 'الموت', 'haseb', '3mlo', 'wahf', 'l3asba', 'تسطر', 'tamthil', 'économique', 'الشعبوي', 'ta3rafich', 'احمله', 'l9itech', 'mohtarma', 'تسلم', 'للديمقراطيه', 'هبطه', 'damk', 'وسنين', 'الميبون', 'masswed', 'karehtouna', 'ta3ref', 'تنحي', 'dame3a', 'المكتسبه', 'الاستاذه', 'ادبر', 'الموضوع', 'liiikk', 'والخاءنه', 'التعاليق', 'silmia', 'jewbt', 'ويتفرهد', 'نتاج', 'هاالبلاد', 'الجمعيات', 'mantak', 'ويتواصل', 'nawart', 'يتهمونه', 'وعدم', 'يختلف', 'ستراس', 'fdhah', 'mase55555', 'مالمرتبه', 'ma5yabha', 'es5ir', 'ذمتكم', 'البنوك', 'hhh', 'حل', 'معانيه', 'سلامه', 'ثلاثيه', 'wassel', 'proo', 'lghneya', 'والموبن', 'bellahi', 'wa3lih', 'ننصحكش', 'capo', 'ببنات', 'جازاهم', '3liih', 'يرقدو', 'السعاده', 'والمصاته', 'enheb', 'عمليات', 'ybareklek', '9rouda', 'يحاسبه', 'بدني', 'الساقط', '3annik', '٠', 'manadher', 'comédie', 'بابالله', 'ااسنا', 'اخخخ', 'مغربيه', 'يقوي', 'تفيه', 'تذكير', 'hhhhh', 'لاتمشيلها', 'اصح', 'بنتو', 'nje7', 'erajel', 'hoa', 'مكربه', 'الوسخ', 'mochkilat', '9edech', 'اقل', 'والديهم', 'حقده', 'tekhdhou', 'جوجل', 'borjoulia', 'ينحيو', 'مساجات', 'طمع', 'الانتاج', 'ynesbk', 'دوعشه', '14', 'منجحتش', 'اقساط', 'ذيلها', 'تداعيات', 'yfaded', 'اجابتو', 'لكانا', 'zbala', 'mra', 'برامجك', 'manther', 'حقول', 'andha', 'hethom', 'na9es', 'بصيرتك', 'سعات', 'سيبوااا', 'علم', 'hattahannnnn', 'يخلقو', '600', 'اشبيه', 'tenf3ek', 'mechya', 'البرنامج', 'يتسبب', 'grimaces', 'the', 'ijay', 'ماصيرو', 'الحلق', 'حناكم', 'الاقسام', 'ttl3', 'تعرش', 'vraimen', 'والقنات', 'تواصلها', 'evax', 'ومدي', 'صيف', 'محيطك', 'الحطه', 'جندوبه', 'tejem', 'thani', 'عرض', 'rou77a', 'lokza', 'chma3neha', 'motrabii', 'هسالم', 'ykamlou', 'يضيع', 'mase9', 'خليلك', 'ولاياتي', 'ابعد', 'o9tlo', 'الشباب', 'صورم', 'belvidaire', 'حزبهم', 'mahoch', 'ta5tarou', 'fananin', 'صداق', 'الحيط', 'a3lm', 'tahhan', 'اتلها', 'lmanadher', 'badi', 'banque', 'tekber', '9llthom', 'لاينظافو', 'تحلل', 'top', 'tajerebna', 'ليبيا', 'غناايتو', 'وسر', '7oudour', 'وياه', 'madhroub', 'يتعاركوا', 'الايمات', 'الخفاء', 'المجله', 'يشلق', 'plein', 'لحلس', 'يوجد', 'mardh', 'nharik', 'زنديق', 'slim', 'الفقه', 'بعينها', 'المستعمله', 'tounsia', 'rzina', 'ملاهط', 'بالشلايك', 'ktibet', 'lmastiiiiin', 'انفسنا', 'التجار', 'استدعاه', 'تجعلنا', 'الدبش', 'علاج', 'حصته', 'télé', 'مسيرتو', 'ربی', 'bkelma', '7oukouma', 'y9ollek', 'الدستور', 'ايجابي', 'تشعل', 'بهلول', 'يثرثر', 'الغرف', 'نسيبتي', 'وافقها', 'وااااحد', 'yeeser', 'dho3f', 'نكبرو', 'والفيديو', 'نلقا', 'الحرجه', 'ابقي', 'félicitations', '9albi', 'بمستواك', 'ouhhhh', 'شيك', 'edi', 'wallla', 'المنهج', 'محاسن', 'فورماسيون', 'rouhkk', 'بقيه', 'خنازيرها', 'ممخوط', 'faible', 'المثليين', 'dwe', 'felli', 'فكريا', 'وياها', 'هاااام', '3ejbetnich', '9oul', 'لوجه', 'يشد', 'limsatek', 'شبيح', 'والتقدير', 'ye3inik', 'فضلهلك', 'تعديه', 'مشطلع', 'جاءك', 'الرجله', 'torbia', 'tha9aftik', 'ezeyd', 'متواصله', 'يعملوه', 'نشدو', 'قصارت', 'ابناءهم', 'فشلها', 'sadi9i', 'بسكو', 'mou3a9', 'نتعلمو', '5edma', 'انتقال', 'mlayektou', 'دخوله', 'modele', 'بجنون', 'تخدمت', 'لجيبينو', 'finess', 'اخدملي', 'باريانه', 'klamha', 'بفلوسك', 'نتبارز', 'mariem', 'تحوس', 'فالinfo', 'yefhem', 'تبيع', 'matloub', 'خيييييت', 'yehlekhom', 'عيشه', 'لمده', 'والتافهه', 'تحشموا', 'maasit', 'bejou3', 'تفضل', 'mabladhom', 'fa', 'عصا', 'باهي', 'farha', '16', 'ومجرم', 'مصالحنا', 'hawel', 'ma3ndouch', 'تعرفوا', 'خذاه', 'droits', 'chtahki', 'nayik', 'مفترس', 'بشوي', 'زوجتي', 'iwaffek', 'وعامل', 'nchry', 'وعنصري', 'ched', 'yakra', 'tailwind', 'وينوا', 'لغيرها', 'thohk', 'yadha7kou', 'ولحاااس', 'سمعتلك', 'w3ala', 'وانشاءالله', 'debile', 'jil', 'tbni', 'fmch', 'نتمنوه', 'kalmoha', 'meskiin', 'chlayk', 'واخيرا', 'يرحمكم', 'ech3amlou', '3indek', 'يكتفي', 'coding', 'حظا', 'moustawa', 'ayamet', 'maydoumouch', '3aytoulich', 'الخلا', 'اضحكي', 'الفارغه', 'جابتك', 'زاندينات', 'aerol', 'القضايا', 'يعلن', 'ma3andikch', '7ad', 'ووظيفتك', 'الفن', 'بورجوليا', 'مسكينا', 'عادل', 'واطول', 't3a9mou', 'يجيلك', 'قوميه', 'متصلحش', 'asef', 'chkoun', 'mawbou2a', 'e5tar', 'الامثال', 'lmatarat', 'خزي', 'كاريه', 'يعطينا', 'lwaktch', 'المحتاج', 'عاءلتها', 'الستراس', 'tna9ech', 'n9tar7', 'nehtarmek', 'mojrom', 'توزيع', 'كنش', 'اعملها', 'مشكله', 'دارك', 'rassou', 'fyl', 'khouloud', 'عالممارك', '3isha', 'وخاءن', 'تقلها', '3linaa', 'تصور', 'بالذات', 'rakez', 'تعطي', 'lyam', 'لموضوع', 'القذافي', 'وكفكره', 'hbouset', 'يتجرا', 'sassi', 'gbell', 'نسخه', 'تموت', 'نفسو', 'وبايوع', 'a3tah', 'الكشف', 'tetla3', 'isabir', 'wallew', 'na3touk', 'الاطر', 'sliman', 'تخليه', 'balti', 'يسلم', 'والاخره', 'يعود', 'rojla', 'maw', 'masat', 'حتيي', 'الوصمه', 'بداخله', 'التخرج', 'مصادر', 'العب', 'وفرنسا', 'مااثقل', 'تتكلمون', 'يلين', 'ياسي', 'wmaset', 'تففففففففوا', 'الجوي', 'degage', 'n3ak3ik', 'ysm3', 'ملخص', 'القمار', 'مخيبها', 'وعي', 'ekoun', 'توحشتو', 'تصارحها', 'خليقه', 'رهط', 'yechfi', 'el3alamin', 'توحشناحاجه', 'effort', 'يسترهم', 'اجور', 'wlest9rar', 'akbr', 'متردد', 'wa7adha', 'وتسببوا', 'remezzzz', 'عقبه', 'galbek', 'الرصاص', 'الاعمال', 'demou', 'نفسيتكم', 'i9azziz', 'بايامات', 'حساب', 'يسهل', 'ye5amej', 'na3ref', 'طموحك', 'tha9afa', 'ويستر', 'as9at', 'omkimmmmm', 'اك', 'ettayibine', 'بزايد', 'فرنسا', 'ماتتخرج', 'tet9raa', 'عمال', 'يصلح', 'الحمقي', 'صناديقيك', 'masseuse', 'متفوقه', 'ربايتو', 'الجميلات', 'لافيها', 'باكثر', '9oli', 'te9ra', 'نافق', 'maaaaaset', 'équivalence', 'fahmenha', 'فاخر', 'لديه', 'بمحاوله', 'صغارهم', 'تضيف', '9aloulk', 'عجبتنيج', 'لنبوط', 'ywali', 'الكورونا', '3amlet', 'بنجاح', 'yamel', 'تصبحون', 'markk', 'ilzawaj', 'wsolnii', 'ماتعيشه', 'للشيخ', 'جرذان', 'chabi', 'وبينها', 'الحالك', 'كورت', 'الزوجيه', 'الخبر', 'الرجوليه', 'تقعد', 'فالسوق', 'sala7', 'عميقه', 'behyine', 'rohek', 'والهمل', 'fyhom', 'ta3', '9loubna', 'liriahi', 'lgodam', 'tayarah', 'beche', 'وتعطل', 'isg', 'mostewa', 'wbitawfi9', 'te5dhou', 'régime', 'ate9netou', 'laf3a', 'chtar', 'سماك', 'maladie', 'ووجودهم', 'hiyaa', 'achkelha', 'رزقك', 'عينات', '3j', 'hiwar', 'mosta9blk', 'harrahit', 'naamlou', 'عمروو', 'maydokhlo', 'بحضور', 'والدين', 'viva', 'منتصرفوش', 'العصابه', 'بالعرا', 'دين', 'ومعدلاتها', 'يرشح', '5alou9', 'عطي', 'مختلف', 'العقول', 'a7ssen', 'مصاب', 'w3amer', 'يردو', 'ma3dna', '7yekom', 'fia', 'شرايين', 'والسءال', 'الحب', 'الوضعيه', 'ومقصود', 'الضحكه', 'dhamra', 'tetbe3', '7orra', 't5alik', 'بريبا', 'رايكم', '9elit', 'مسلمه', 'مهاش', 'isims', 'mestensin', 'jewebha', 'الضروريه', 'جانبي', 'مظروب', 'ماتندمش', 'تاثرتش', 'y3ml', 'yrid', 'arak', 'mandhouma', 'قهرا', 'souut', 'جيب', 'القلوب', 'واستحقاقاته', 'ne3ma', 'بالاورو', 'connaissez', 'والاستهانه', 'dhaya3', 'مخاخكم', 'تعود', 'حق', 'للمركز', 'صبروها', 'يدينا', 'oskett', 'el3ar', 'باسمك', 'dhay3a', 'الشهر', 'صوته', 'yaleb', 'majet', 'بلاطو', '2011', 'فاقو', 'وثعالب', 'الصفقات', 'ويضحكو', 'kamalt', 'aminn', 'wahef', 'rhymes', '623', 'الجبانه', 'mana3erfouch', 'taya7tlou', 'khayef', 'khali', 'khyr', 'وانتهت', 'التاليه', 'المستويات', '25go', 'مرضوا', 'mena', 'الشكر', 'تتطمن', 'حرفو', 'yfadhelhomlek', 'صدقوا', 'ثبت', 'كيفكيف', 'للماء', 'خرجتلك', 'باعد', 'badil', 'حبوبه', 'فرحه', 'العملاقه', 'التلافز', 'نادر', 'talhis', 'الرهوط', '3an', 'مقنعه', 'layem', 'لاطارات', 'لجربه', 'ya3emlelkom', 'a5i', 'nharak', 'alwakil', 'صباحك', 'عنف', 'الكرطوش', 'nkharej', 'sahit', 'استعمال', 'mjabena', 'امخر', 'الخلاص', 'منضر', 'x', 'بالجفال', 'وحبوب', 'maghroum', 'خطوه', 'خليني', 'شفيع', 'وتلحيس', 'a33333', 'طبيعيا', 'اليونان', 'maskha', 'rodbelo', 'تحاولو', 'ويبدع', 'mas3abha', 'lou5ra', 'وتو', 'لعظيم', 'القلق', 'تحركوا', 'القادم', 'لكلام', 'almajari', 'hhhhhhhh', 'وشعندك', 'شبيحه', 'ﻳﺘﻔﺮﺝ', 'يحرم', 'opel', 'ومحلاك', 'ntroholi', 'ma3ch', 'نقدرك', 'مصادره', 'kertha', 'تبالي', 'وفاسد', 'felekher', 'n5edmett', 'mathil', 'mana93ouch', 'ctt', 'مزاج', 'سافري', 'انيه', 'تاست', 'لتطيح', 'امالي', 'نفسبتك', 'تقولو', 'lkoooool', 'الراءعه', 'نددن', 'tyna', 'certificat', 'ومساندتها', 'ننصح', 'بالتراكمات', '9rya', 'ومدخلها', 'fedid', 'محادثات', 'الطحا', 'ma9souss', '7eta', 'mréguzi', 'الحرفيين', 'ونرجو', 'يلوج', 'اجتهادك', 'يهطوني', 'وطني', 'قمتم', 'فع', 'حقهم', 'هدوم', 'ويشرب', 'يغسلوش', 'dhahir', 'عرضك', 'motrobiya', 'وللاسف', 'يشوه', 'ميقدرو', 'chamoussa', 'continue', 'شعندها', 'maneklik', 'ملايكته', 'يدري', 'لحقيقه', 'غنوا', 'akhaw', 'yihdih', 'مهنيه', 'تجدر', 'تشوفا', 'البيض', 'الcharge', 'ماتشيخش', 'يامر', 'تقدير', 'nasaalouka', 'مغلي', 'شلايك', 'اعتمادات', 'يخليك', 'مالسراول', 'خليفه', 'فالخشم', 'ekaka', 'البطيمه', 'mbc', 'الخيالي', 'wel9beha', 'aaslema', 'المنبطحين', 'لاقتناء', 'المافيا', 'الطلب', 'lezm', 'افريل', 'للهاويه', 'sahby', 'نكرهههههههه', 'لواط', 'يذكروني', 'قارصه', 'تستحيش', 'اباهم', 'wchnowa', '5hire', 'ghna', 'يتصدمو', 'ل2019', 'ma3andich', 'bentik', 'btoul', 'wzfi', 'فوامعتصماه', 'yrod', 'بالبركه', 'm3lihach', 'm3endikch', 'العركبي', 'كلاوا', 'شلل', 'تقارير', 'ملايكتوا', 'للطحانه', 'لمفهوم', 'kadheb', 'يخدمها', 'mata3rach', 'elwa9et', 'course', 'الاصابات', 'ومسخره', 'grouda', 'يديه', 'قناه', 'ابتكار', 'tmathl', 'اماسيخ', 'liya', 'si', 'قاءمه', 'fatarat', 'جدتي', 'محجتناش', 'نشوفو', 'good', 'elkomaj', 'omkoum', 'وقضاء', 'fiancé', 'badalt', 'breesmi', 'استغلو', 'tnjmesh', 'ويزيد', 'لزوز', 'bl7a9', 'الانتخابيه', 'ktefha', 'کلخه', 'عملها', 'بالتاست', 'ميفيق', 'copier', 'chorïr', 'tha7aktou', 'تمرمد', 'jewbou', 'الصحيح', 'manasseb', 'يحط', 'جيبلها', 'nestanou', 'شبيهم', 'no9ba', 'ترجعي', 'يهبطو', 'اسءلا', 'السلبيات', 'dimaa', 'تعجبني', 'كسيدي', 'باستعمال', 'معاني', 'ﺗﻜﺴﺎﺏ', 'يعملي', 'ti5dim', 'تجيب', 'mo9abel', 'منااااااااافقين', 'موتك', 'wildou', 'mazynha', 'ماخيرش', 'عجبتكمش', 'نجاوب', 'ميستحقوش', 'spécialité', 'يلقاها', 'ettounssi', 'ابنه', 'ma9houriin', 'نراها', 'rayha', 'الانويه', 'manhebhech', 'كرونه', 'tcheed', 'تنصحوها', 'المستشفيات', 'تستمع', 'حناوي', 'تسميته', 'mem', 'rahma', 'wa7d', 'migapower', '3alamia', 'ب260', 'ad2aa', 'زبله', 'temps', 'تفوتش', 'وفقدت', 'ومرت', 'يسمعها', 'جويه', 'الكعبه', 'حكايه', 'الحلااااااااااااااااااال', 'وسانباتيك', 'اعظاء', 'يجيبوهم', 'ساكت', 'y3inou', 'يدرعو', 'اتهامه', 'yilzem', 'كبرتش', 'تسخر', 'فدلكو', 'تعملون', '9anet', 'fékra', 'matekhouch', 'banka', 'raj3ou', 'nchll', 'الصارخ', 'خيييييييت', 'النهايه', 'idowem', 'ghalet', 'shay', 'يقولهاش', 'chourouba', '400', 'التجاذبات', 'ديجا', 'اتعيف', 'yetbadel', 'farhanin', 'وشبعانه', 'aslan', 'nemchy', 'ydayer', 'نبخل', 'tal9i7', 'يافار', 'مجموعها', 'توفير', 'اللباس', 'recette', '2013', 'للسخافه', '7afletha', 'تتدهور', 'bpco', 'تصرف', 'قابس', '8', 'tethhour', '1211', 'as', 'تربطهم', 'نهبط', 'يهج', 'kourouma', 'قارين', 'ولدو', 'ياراجل', 'wenkollek', 'mino', 'درس', 'رافه', 'سيدي', 'enchallahhh', 'المواسم', 'الافعال', 'يخمام', '7dithou', 'tmed', 'kewwin', 'san3a', 'وا', 'amir', 'وقفت', 'esouri', 'منقلك', 'keb', 'ماريتش', '500', 'معروف', 'ويخليب', 'walh', 'وتقسيم', 'استباقي', 'فددتنا', 'effffffff', 'kyyyyyyyyt', 'sending', 'استعلاء', 'ربع', 'alzheimer', 'plateau', 'نطبقوا', '3lah', 'عسل', 'useless', 'هجججج', 'الاسلامي', 'متالق', 'negative', 'mataghol9ouch', 'وضعنا', 'بفنان', 'وقفتك', 'عقارات', 'ويحفظلك', 'ويلعن', 'بنات', 'متاسف', 'سوال', 'تفدلك', '5stan', 'وحدا', 'ta3rafni', 'total', 'te3', 'التداوي', 'خشام', 'chharya', 'سيرين', 'mabeldek', 'ittahhhaaan', 'chadet', 't3mlha', 't3alem', 'periode', 'tselke', '5ored', 'المول', 'كشفت', 'covid', 'الاسم', 'حجات', 'وتعرف', 'للقروض', 'nklmhom', 'للتهميش', 'بالضروره', 'لاادعو', 'sais', 'a3li', 'andw', 'arka7', '5irr', 'تنساقو', 'mosh', 'متربين', 'jeune', 'entouma', 'ekbire', 'wahda', 'hadhom', 'lasata', 'خطوتين', 'client', 'الجاهل', 'ejaya', 'kemcha', 'صدام', 'bravo', 'الشلاكه', 'ذنوبي', 'blassa', 'اقتصاديه', 'عنيكم', 'lol', 'هالبلد', 'محاشتيش', 'الفوطو', 'yadhhakou', '5ayib', 'تتداوي', 'صحيح', '5allih', 'bi3', 'فررج', 'اعمرها', 'مقاطعه', 'برافواااااااااا', 'عالباب', 'التفكير', 'abonneé', 'ايطارها', 'الرجال', 'كبير', 'فردا', 'حصان', 'المازني', 'العموميه', '7arfaa', 'chnakrhek', 'عالشبوبيه', 'cha3eb', 'للتخدير', 'fehem', 'char', 'باهتمامكم', 'ياخماج', 'يغاروا', 'باسمهم', 'اغلاق', 'طاقه', 'بيروقراطيه', 'اللله', 'mwjouda', 'twanssa', 'تكونوا', 'tafah', 'يزعج', 'غصره', 'rajjel', 'monaf9in', 'comedia', 'svp', 'talla', 'dimension', 'بطريقتك', 'الدغف', 'كوميديا', 'قوللهم', 'pompisstes', 'محاكمه', 'la3sal', 'يهنيك', 'l9it', 'kird', 'وانشالله', 'a7sen', 'ynabrou', 'tefih', 'سنيه', 'المخترعين', 'imathel', 'حوس', 'لعنهم', 'ومضيعت', 'ليعطيه', 'ابيتم', 'عاءشه', 'كلات', 'nate9', 'كتفي', 'بلاد', 'annida', 'ya3mel', 'يعطي', 'tdhmn', 'علینا', 'يافساق', 'ورزق', 'وتعمل', 'own', 'tahbet', 'ma3jbtnich', 'متخدمش', 'bravooooooo', 'الpost', 'koun', 'efficace', 'cycle', 'تقوللنا', 'الاخواني', 'ﺑﻴﻪ', 'bil7a99', 'fihech', 'تولو', 'الذبح', 'ماتايسش', 'استودعك', 'حلمها', 'خلاصو', 'mteaha', 'الكف', 'ايكب', 'رسك', 'tabarka', 'اجتماعي', 'مهدي', 'دراسي', 't9adem', 'lechane9', 'جميله', 'تدل', 'اليسار', 'laswem', 'مجربها', 'بالاستعانه', 'لمنياك', 'ومغرومه', 'الاخباريه', 'mounafek', 'ساءر', 'rawa7', 'ميش', 'بالوزاره', 'm3affet', 'يخدموكمش', 'الكرونه', 'ماتقدر', 'brouhek', 'وتفرج', 'اصفر', 'منخدمهمش', 'كيلو', 'tjrs', 'زملاءو', 'لسلطه', 'متعجبنيش', 'da3wet', 'yab9ou', 'للحكومه', 'وعديم', 'ادر', 'بمعطيات', 'thaw', 'machra9ch', '9ad', 'يسكرو', 'جحيم', 'ماصطا', 'nrmlmnt', 'wahdou', 'y3ayef', 'conférence', 'فاجر', 'lbarnmejj', 'ajyel', 'soum', '7h', 'nadh7ek', 'نشالله', 'ne7tarmek', 'غيبه', 'اذهب', 'essna', 'الثقيل', 'مازالو', 'تساعدها', 'هععععع', 'بمءدي', 'mftouhin', 'scae', 'fehma', 'مكنتش', 'ejache', 'try', 'ywaf9ik', 'يحكمها', 'مستك', 'كلوشارات', 'يڨول', 'وهاديك', 'اثبت', 'eta7anna', 'la3roussa', '3jebniiiiiiii', 'مجعول', 'يطيب', 'mosalsil', 'علميا', 'انقطع', 'بلوكيتني', 'وعمرنا', 'mani', 'لعلوم', 'fanana', 'التمريض', 'kais', 'lvirus', 'تاكس', 'boulissia', 'ينفذ', 'تحكي', 'نقاش', 'lay', 'tharbou', 'mario', 'بابعاده', 'كبدي', 'ta3jebni', 'دولتنا', '3iiiib', 'ye9blou', 'الحرفاء', '9alli', 'غايه', 'mofida', 'mezyna', 'année', '7aja', 'اتحاد', 'wlfol', 'الطبيب', 'ياحمزاوي', 'wahd', 'تخرولهم', 'جبينو', 'يتركوه', 'شهداءها', 'منحه', 'whoud', 'كاارثه', 'الشرفاء', 'رويبضه', 'الملف', '7sin', 'مهتمه', 'هالانسان', 'طاءر', 'kadima', 'يتصرف', 'ويفتحها', 'البلعوط', 'وحشا', 'تمسطها', 'mini', 'مات', 'تخرج', 'جنوب', 'trah', 'بالبلاده', 'يدزوهولك', 't3allem', 'جابت', 'استقبلتهم', 'عيشتهم', 'تعودناش', 'wyej3al', 'zbela', 'nar', 'afow', 'يخليكش', 'thourouf', 'بقداه', 'يتسم', 'يدزو', 'yktb', 'الكذب', 'تتعامل', 'andhou', 'yoster', 'للجامعي', 'مكش', 'تتلفتي', 'الالاف', 'شبكات', 'witrabilsia', 'تنجمزتهز', 'وتستحق', 'jetek', 'تطلق', 'kahwa', 'ناجح', 'منظرها', 'zinouba', 'ومعدنهم', 'يلزمها', 'نقترح', 'استقاله', 'بمثله', 'ye3jebni', '٠بالطبيعه', 'الوطنيتين', 'fi3morha', 'طحينك', 'اخاطر', 'الحربوشه', 'القدام', 'm', 'errejel', 'najmou', 'tafjirat', 'attestations', 'تمثل', 'ارحم', '3afattt', 'قباده', 'ركبت', 'te9bel', 'روني', 'اختو', 'vat', 'ماتواخر', 'يكفيك', 'يالعضماء', 'ابو', 'with', 'mettha9fa', 'bih', 'ضلوا', 'متعوا', 'معجبين', 'ba3loush', 'نتيجه', 'الجنوب', 'تتغشش', 'hawka', 'قعر', 'هلاشكال', 'يسهللك', 'للا', 'خطيه', 'tharwa', 'ux', 'غفاص', 'الفرث', 'mnehoum', 'نومي', 'مخاخ', 'واربح', 'منتشرفوش', 't3ab', 'dha3et', 'ينفع', 'nest7a9ha', 'stade', 'y7ebbou', 'n7awlou', 'انسانا', 'مافيها', 'دخولهم', 'تحبه', 'نخلصو', 'يازياد', 'aflem', 'بفساد', 'مهاجمه', 'lbouma', 'lin', 'والسريع', 'تءكده', '3ed', 'tetkrah', 'ya3tehom', 'تراجعت', 'باااارشه', 'بطبيب', 'ashal', 'الحديد', '52', 'tfoh', 'نخدمه', 'ماسططططططططط', 'تربحك', 'g', 'chakel', 'يافاسق', 'new', 'tekhdmou', 'عفويين', 'القشور', 'يهزكم', 'يستسلم', 'مشوم', 'ومنكم', 'فصلتوه', 'offffffffffffffffffffffffffffffffffffffffffffffffffffff', 'يشري', 'tafkirou', 'moutrabi', 'جيله', 'الغريب', 'محتاجين', 'n7taflou', 'وهاك', 'ينجزو', 'مبعثره', 'zokret', 'jebou', 'ونزيدو', 'ويسعدك', 'barsha', 'بخس', 'thama', 'يستسهل', 'اشعانبي', 'مكرهناها', 'ياحيهولك', 'هالرهط', 'سيماستر', 'jema3et', 'ma7leeeekom', 'الحرقه', 'الفيستا', 'كرمك', 'يدفيء', 'بحيوان', 'wlerheb', 'dziriya', 'المسرحيه', 'تحسين', 'برنامجها', 'وهمل', 'اونلاين', 'tetthomer', 'وبااااااز', 'diwiwe', 'chnowa', 'flous', 'كاتبها', 'تدلله', 'براااا', 'تكفيري', 'غريت', 'may3abbiwch', '5wetou', 'لزياره', 'مقطعين', 'mechweya', 'mhabetkom', 'ti3jibni', 'mathl', 'motrobbi', 'زعنه', 'الكانون', 'لوصيف', 'ضروريه', 'باتا', 'مهلوك', 'المحتوي', 'merd', 'sacrifices', 'المساهمه', 'اضحك', 'blastou', 'moubécher', 'rou7k', 'خريه', 'ويحفظ', 'يفتيلهم', 'newfel', 'جينيريك', 'شراها', 'trabi', 'khdija', 'بابرنامج', 'وتعملوا', 'خلي', 'واصلو', 'ennes', 'mezyena', 'ma5ieb', 'يحشم', 'الزمنيه', 'ليتحبوا', 'ماثره', 'egnek', 'sa3a', 'تخليها', 'لنفسك', 'voterai', 'السي', 'يشكيلك', 'ومتوا', 'wahhda', 'القرارات', 'وعمري', 'مصروف', 'wejhouho', 'بالتليفون', 'لعنك', 'الكليب', 'yirak', 'ya7serou', '31', 'كرمو', 'wassat', 'video', 'vrai', 'يفضلهولك', 'شمس', 'la9al', 'tga3ed', 'ممسك', 'تسخف', 'عايلات', 'غارفه', 'mo7tarem', 'وقليله', 'عادت', 'يفضحكم', 'اڨلب', 'تخليني', 'اوروبا', 'wa7di', 'يتحط', 'تحزني', 'طله', 'عمرهاbonne', '3ami', 'habtou', 'ysahlik', 'يوميه', 'ادواق', 'd5lou', 'vrs', 'انتاعها', 'باللهما', 'biladouna', 'داميه', 'لاعقي', 'نحكيوش', 'مءسسات', 'باناما', 'شرررر', 'wah7ed', 'jam3yetna', 'tehbha', 'ilbana', 'خخخخ', '3aylett', 'ازدحم', 'ta7777777777an', 'dharouriya', 'اخوتهم', 'animation', 'حبيب', 'شوايه', 'brjoulyia', 'رفضش', 'nhrek', 'dawlet', 'شخصك', 'عرفو', 'wadet', 'mekena', 'امناء', 'الصفره', 'yekfina', 'الاجنبيه', 'وتحس', 'etawfi9', 'meta7yech', 'هرمت', 'wo', 'للمنتجات', 'داءره', 'باااااعد', 'للاجراء', 'طجان', 'لمسخه', 'ريي', 'yhell', 'الفيزيك', 'développement', 'nhar', 'keno', 'itfoooooooooooooooooooh', 'يصون', 'hayil', '3afna', 'عيشو', 'الدستوري', 'يعودلنا', 'غنيه', 'طتاع', 'ta9rib', 'ايواءها', 'نقيب', 'sghir', 'يعيف', 'مسخره', 'بسنه', 'نجوم', 'اللعنه', 'hadhka', 'mamestik', 'المساهمين', 'قصيله', 'eih', 'ماتضحكش', 'kifeenhom', 'tfooooooohhhh', '3tawk', 'ميسره', 'stratégique', 'التربيعي', 'يوفقك', 'maghchouch', 'rkeka', 'للشطر', 'هالجلطه', 'life', 'sa9ta', 'ga7ba', 'الاستباق', 'بسهوله', 'فاشقام', 'فاقد', 'yrakz', 'twil', 'بعهركم', 'القف', 'iou', 'مرضه', 'اليسا', 'instagram', 'كثرت', 'يرفع', 'يفهمك', 'ينتقل', 'تتوضح', 'المغرب', 't9ayem', 'kelowa', 'مستعار', 'تستحقها', 'بغل', 'jwema3', 'والدغفور', 'والعليڨ', 'فقتو', 'تنسي', 'القلب', 'يتبعو', 'هازه', 'السردينه', 'حبلا', 'taoufik', 'المستهلك', 'faudrait', 'اخوتك', 'تقديمه', 'tfooooh', 'deux', 'service', 'déductibles', 'l3ada', 'الزردي', 'انيك', 'الاخيره', 'beech', 'اخرتك', 'اهلي', 'نتعود', 'metwafer', 'lines', 'قابضينو', 'tes4ar', 'للسياحه', 'mehrzéya', 'بلصتوا', 'القيام', 'بالميبون', 'ول', 'التسامح', 'والفاهم', 'شاغلك', 'mas9tou', 'دبوزه', 'لطفي', 'يحارب', 'ifhem', 'مجوجم', 'اصلاكل', 'lokzaaa', 'uuuuuuuuuuuuh', 'تداوينا', 'جنون', 'الخو', 'اليوتيوب', 'wdmou3', 'm3aaaaaalim', 'اﻻقتصاد', 'لاصدقاءي', 'وتقولي', 'لرجل', 'مفیهاش', 'وادعوا', 'ناوي', 'ma9boula', 'جبريا', 'chhadet', 'korsi', 'matemchich', 'بصل', 'كفيل', 'قضييه', 'قوانين', 'تشجعون', 'سوتيتراج', 'tziz', 'عاليوتيوب', 'العزه', 'jatak', 'nab3athlik', 'asel', 'ma7lakem', 'salem', 'عمري', 'نحكوا', 'توظفو', 'الفيسه', 'merjoulia', 'يتحدث', 'hayawana', 'فاضح', 'lassita', 'nlawej', 'عيييييببب', 'w7ed', 'jab', 'ننزل', 'matedbadel', 'يالي', 'touness', 'اقبل', 'maya3mlou', '8irr', 'tahki', 'yla3eb', 'jem3a', '3arbiya', 'سايسوا', 'صبر', 'ومستكرشين', 'baketni', 'معينه', 'الكفر', 'dropbox', 'saye', 'e5555it', 'تعرفش', 'بطاله', 'صحباتك', 'لمخلوف', 'فرز', 'mdalel', 'وخلاها', 'تفكرتوه', 'يتصل', 'ناكد', 'تتصرفش', '4ali', 'وممكن', 'مهضوم', 'مرافقو', 'واعلام', 'e7tiram', 'boha', 'décision', 'محمد', 'waktha', 'مساءل', 'طاحط', 'تخلفنا', 'جدال', 'باختصار', 'nbi3', 'منغير', 'edenya', 'chahed', 'مايعجبهاش', 'الفاهم', 'يدعو', 'حسبنا', 'katheritilha', 'والبهيم', '7ayawennn', 'joli', 'he', 'tab9i', 'وتذكر', 'والفرحه', 'ماتحترمش', 'بنكيه', 'اسبوعين', 'برلمان', 'ahkilou', 'زرقه', 'la79e9a', 'بالقحاب', 'وامسط', 'اترابه', 'maaaaaaaaset', 'القرط', 'نيك', 'لقح', '5as', 'الحلوف', '9a7baaaaaa', '3iib', 'قباحه', 'الترهدين', 'klaaasset', 'ترخش', 'aale', 'المخرج', 'معتيتها', 'سخونه', 'وتشوف', 'الفعل', 's7ab', 'يفهموه', 'نكلمك', '7afin', 'اصاب', 'memetou', 'gabsi', 'والثريا', 'قلبه', 'ناجمه', 'زده', 'ووصل', 'merrjel', 'مالكلام', 'ykounou', 'ومحلاه', 'بالامن', 'والقيم', 'موجودين', 'تتقوي', 'on', 'ma7leeehom', 'وبالشفاء', 'والقوي', 'مشيت', 'سيبوني', 'matesel', 'اسد', '5dmtk', '1000تحليل', 'هول', 'التوجيه', 'ويباركلك', 'الدين', 'كرياا', 'جابتهم', 'قلت', 'wasselem', 'الكولاج', 'وسكاي', 'كوريي', 'يغار', 'وافرزو', 'وصيه', 'dev', 'تافهه', 'chkoune', 'تواصل', 'tal3a', 'ygoul', 'حارمه', 'yfasrli', 'للنداء', 'هبلهم', 'مهزله', 'اداء', 'eyy', 'aprmnt', 'ماصت', 'البنزرتب', 'dekhil', 'تزلزل', 'عبيثه', '5aref', 'مجرمه', 'tebet', 'miness', 'مامسطو', 'mamsetha', 'يليه', 'yfahemni', 'jibna', 'العرش', 'يتمملك', 'meskine', 'المظافه', 'jina', '5er', 'السايب', 'yetmaniek', 'المعادله', 'فهمش', '5odhle', 'wajiha', 'atari', 'ماحلاكم', 'مثواه', 'كفن', '3000dt', 'tfffffo', 'flouss', 'tit3alem', 'الازمه', 'حقودي', 'الطريحه', 'للهويه', 'عنصري', 'البلاطوات', 'محسن', 'طعامك', 't7b', 'للافراد', 'دمرتوا', 'خوانجي', 'قديه', 'معرفهاش', 'مفهموشي', 'احلانا', 'وقدر', 'امسطها', 'propre', 'mosilmiiiiiiiin', 'fasolh', 'kelmet', 'mchat', 'خدود', 'الحاصل', 'tlagui', '9atletni', 'mamstek', 'جنه', '3alikom', 'التركيز', 'يخملك', 'تعقيم', 'ومركك', 'يقاس', 'بكوارتها', 'sousou', 'yla3b', 'ترفض', 'كلاس', 'رسالته', 'عظامك', 'تعداد', 'لترات', 'm5lyik', 'لاك', 'خرده', 'برااااااااافو', 'جايبنو', 'الشرطه', '93adna', 'لتحليلها', 'الفرضيه', 't5aayr', 'جنود', 'الentrepreneurs', 'محكوش', 'مخرج', 'فتات', 'watanya', 'o5tek', 'اخرجي', 'الوموبنه', 'سلعتها', 'waaw', 'المخير', 'khzenit', 'الشر', 'yetsabou', 'loubena', 'راييييي', 'الغباء', 'القباضه', 'ميرهان', 'ستنيتها', '7adhretlo', 'تتم', 'lahes', 'قواعد', 'n2akdlek', 'الموبنا', 'تكرهو', 'lmakan', 'moujard', 'ahdef', 'نعرفوا', 'tala3t', 'تخممون', 'المشينه', 'th9il', 'بقرونو', 'borjoliwa', 'بطرون', 'quoi', 'تشوط', 'يحك', 'الرواسي', 'سف', 'نواب', 'zerooooooooooooooo', 'fomk', 'lazimha', 'soumou', 'فرانسا', 'ابدعوا', 'الدوا', 'خصال', 'tfiiih', 'البوسطه', 'halelat', 'الفرص', 'aghlatek', 'يحاول', 'jouer', 'bé', 'بنسختك', 'shyyy', 'hedha', 'surt', 'مهياش', 'باصتك', 'ورينا', 'kleb', 'نجاحات', 'mdhar7a', 'madharhom', 'ahaya', 'وشاده', 'ارارخص', 'خمااااااااج', 'monachet', 'لحكومه', 'والسحاق', 'سيتضرر', 'توحي', 'paragraphes', 'رجعلنا', 'nsit', 'time', 'نجي', 'بالخيريه', 'السيارات', 'ou5ay', 'صارش', 'fidam', 'eni', 'الخري', '5it', 'wkhoya', 'رو', 'حاسيلو', 'علاهه', 'tanjim', 'غربي', 'تتمناه', 't9adrou', 'tal3b', 'تدخلش', 'شان', 'الاحراج', 'فاتن', 'coachs', 'l9raya', 'والشكر', 'radio', 'وباء', 'والديوانيه', 'تتوفر', 'نصلح', 'الملاءكه', 'والذل', 'الاب', 'مايولي', 'l5louhom', 'انذل'}\n"
     ]
    }
   ],
   "source": [
    "\n",
    "\n",
    "X_train, X_test, Y_train, Y_test = train_test_split(X, Y, test_size=0.15)\n",
    "\n",
    "vocab= set(\" \".join(X_train).split())\n",
    "max_words = len(set(\" \".join(X_train).split()))\n",
    "max_len = X_train.apply(lambda x: len(x)).max()\n",
    "\n",
    "print(max_words)\n",
    "print(max_len)\n",
    "print(len(vocab))\n",
    "#print(vocab)\n",
    "\n"
   ]
  },
  {
   "cell_type": "code",
   "execution_count": 173,
   "metadata": {},
   "outputs": [
    {
     "name": "stdout",
     "output_type": "stream",
     "text": [
      "27795\n"
     ]
    }
   ],
   "source": [
    "vocab2=[]\n",
    "for word in vocab:\n",
    "    if len(word)>=3: #or word not in ['1','2','3','4','5','6','7','8','9','0']:\n",
    "        vocab2.append(word)\n",
    "print(len(vocab2))\n",
    "    "
   ]
  },
  {
   "cell_type": "code",
   "execution_count": 174,
   "metadata": {},
   "outputs": [
    {
     "name": "stdout",
     "output_type": "stream",
     "text": [
      "27795\n"
     ]
    }
   ],
   "source": [
    "import re\n",
    "vocab3=[]\n",
    "for w in vocab2:\n",
    "    vocab3.append(re.sub(r'(.)\\1+', r'\\1\\1', w))\n",
    "print(len(vocab3))"
   ]
  },
  {
   "cell_type": "code",
   "execution_count": 175,
   "metadata": {},
   "outputs": [],
   "source": [
    "from keras.preprocessing.text import Tokenizer\n",
    "\n",
    "tokenizer = Tokenizer(num_words=max_words)\n",
    "\n",
    "tokenizer.fit_on_texts(X_train)\n",
    "\n",
    "X_train_seq = tokenizer.texts_to_sequences(X_train)\n",
    "X_train_seq = sequence.pad_sequences(X_train_seq, maxlen=max_len)"
   ]
  },
  {
   "cell_type": "code",
   "execution_count": 176,
   "metadata": {},
   "outputs": [
    {
     "name": "stdout",
     "output_type": "stream",
     "text": [
      "(8834, 4430)\n",
      "27795\n",
      "4430\n",
      "<class 'pandas.core.series.Series'>\n"
     ]
    }
   ],
   "source": [
    "#X_train, X_test, Y_train, Y_test = train_test_split(X, Y, test_size=0.15)\n",
    "#X_train_seq = tokenizer.texts_to_matrix(X_train, mode='freq')\n",
    "print(X_train_seq.shape)\n",
    "max_words=len(vocab3)\n",
    "print(max_words)\n",
    "print(max_len)\n",
    "print(type(X_train))"
   ]
  },
  {
   "cell_type": "code",
   "execution_count": 177,
   "metadata": {},
   "outputs": [
    {
     "name": "stdout",
     "output_type": "stream",
     "text": [
      "[[    0     0     0 ...   152  4202    17]\n",
      " [    0     0     0 ...  7842  7843  7844]\n",
      " [    0     0     0 ...  7847  1037  7848]\n",
      " ...\n",
      " [    0     0     0 ...  2828  7652 28115]\n",
      " [    0     0     0 ...     1   119   251]\n",
      " [    0     0     0 ...   320   672  7687]]\n"
     ]
    }
   ],
   "source": [
    "print(X_train_seq)"
   ]
  },
  {
   "cell_type": "code",
   "execution_count": 178,
   "metadata": {},
   "outputs": [
    {
     "name": "stdout",
     "output_type": "stream",
     "text": [
      "41.282884310618066\n"
     ]
    }
   ],
   "source": [
    "train=X_train.values.tolist()\n",
    "s=0\n",
    "for i in range(len(train)):\n",
    "    #print(train[i])\n",
    "    s=s+len(train[i])\n",
    "moy=s/len(train)\n",
    "print(moy)"
   ]
  },
  {
   "cell_type": "code",
   "execution_count": 179,
   "metadata": {},
   "outputs": [],
   "source": [
    "max_len=40"
   ]
  },
  {
   "cell_type": "code",
   "execution_count": 140,
   "metadata": {},
   "outputs": [],
   "source": [
    "from keras.preprocessing.text import Tokenizer\n",
    "from keras.preprocessing import sequence\n",
    "\n",
    "tokenizer = Tokenizer(num_words=max_words)\n",
    "\n",
    "tokenizer.fit_on_texts(X_train)\n",
    "\n",
    "X_train_seq = tokenizer.texts_to_sequences(X_train)\n"
   ]
  },
  {
   "cell_type": "code",
   "execution_count": 141,
   "metadata": {},
   "outputs": [
    {
     "data": {
      "text/plain": [
       "[49, 142, 1, 1509, 381]"
      ]
     },
     "execution_count": 141,
     "metadata": {},
     "output_type": "execute_result"
    }
   ],
   "source": [
    "X_train_seq[1]"
   ]
  },
  {
   "cell_type": "code",
   "execution_count": 142,
   "metadata": {},
   "outputs": [
    {
     "data": {
      "text/plain": [
       "'karim gharbi masit i sitcom ma3jibnich'"
      ]
     },
     "execution_count": 142,
     "metadata": {},
     "output_type": "execute_result"
    }
   ],
   "source": [
    "X_train[1]"
   ]
  },
  {
   "cell_type": "code",
   "execution_count": 143,
   "metadata": {},
   "outputs": [],
   "source": [
    "X_train_seq = sequence.pad_sequences(X_train_seq, maxlen=max_len)"
   ]
  },
  {
   "cell_type": "code",
   "execution_count": 144,
   "metadata": {},
   "outputs": [
    {
     "data": {
      "text/plain": [
       "array([   0,    0,    0,    0,    0,    0,    0,    0,    0,    0,    0,\n",
       "          0,    0,    0,    0,    0,    0,    0,    0,    0,    0,    0,\n",
       "          0,    0,    0,    0,    0,    0,    0,    0,    0,    0,    0,\n",
       "          0,    0,    0,    0, 7737, 1003, 7738])"
      ]
     },
     "execution_count": 144,
     "metadata": {},
     "output_type": "execute_result"
    }
   ],
   "source": [
    "X_train_seq[2]"
   ]
  },
  {
   "cell_type": "code",
   "execution_count": 145,
   "metadata": {},
   "outputs": [
    {
     "data": {
      "text/plain": [
       "'mabldou'"
      ]
     },
     "execution_count": 145,
     "metadata": {},
     "output_type": "execute_result"
    }
   ],
   "source": [
    "X_train[2]"
   ]
  },
  {
   "cell_type": "code",
   "execution_count": 146,
   "metadata": {},
   "outputs": [
    {
     "name": "stdout",
     "output_type": "stream",
     "text": [
      "[   0    0    0    0    0    0    0    0    0    0    0    0    0    0\n",
      "    0    0    0    0    0    0    0    0    0    0    0    0    0    0\n",
      "    0    0    0    0    0    0    0    0    0    0 1004 1005]\n",
      " مدخل المقروض الاضراب يامعلم\n"
     ]
    }
   ],
   "source": [
    "print(X_train_seq[7])\n",
    "print(X_train[7])"
   ]
  },
  {
   "cell_type": "code",
   "execution_count": 147,
   "metadata": {},
   "outputs": [
    {
     "data": {
      "text/plain": [
       "array([[0],\n",
       "       [2],\n",
       "       [1],\n",
       "       ...,\n",
       "       [0],\n",
       "       [1],\n",
       "       [3]], dtype=int64)"
      ]
     },
     "execution_count": 147,
     "metadata": {},
     "output_type": "execute_result"
    }
   ],
   "source": [
    "Y_train"
   ]
  },
  {
   "cell_type": "code",
   "execution_count": 180,
   "metadata": {},
   "outputs": [],
   "source": [
    "from sklearn.utils import class_weight as cw\n",
    "# Calculate Class Weights\n",
    "def get_weight(y):\n",
    "    class_weight_current =  cw.compute_class_weight('balanced', np.unique(y), y)\n",
    "    return class_weight_current"
   ]
  },
  {
   "cell_type": "code",
   "execution_count": 181,
   "metadata": {},
   "outputs": [],
   "source": [
    "class_weight = get_weight(Y_train.flatten())"
   ]
  },
  {
   "cell_type": "code",
   "execution_count": 182,
   "metadata": {},
   "outputs": [
    {
     "data": {
      "text/plain": [
       "0.9881431767337807"
      ]
     },
     "execution_count": 182,
     "metadata": {},
     "output_type": "execute_result"
    }
   ],
   "source": [
    "class_weight[3]"
   ]
  },
  {
   "cell_type": "code",
   "execution_count": 183,
   "metadata": {},
   "outputs": [],
   "source": [
    "def get_rnn_model():\n",
    "    model = Sequential()\n",
    "    \n",
    "    model.add(Embedding(max_words, 50, input_length=max_len))\n",
    "    model.add(LSTM(64))\n",
    "    \n",
    "    model.add(Dropout(0.5))\n",
    "    model.add(BatchNormalization())\n",
    "    model.add(Dropout(0.5))\n",
    "    \n",
    "    model.add(Dense(256, activation='relu'))\n",
    "    \n",
    "    model.add(Dropout(0.5))\n",
    "    model.add(BatchNormalization())\n",
    "    model.add(Dropout(0.5))\n",
    "    \n",
    "    model.add(Dense(4, activation='sigmoid'))\n",
    "    \n",
    "    model.summary()\n",
    "    \n",
    "    return model\n"
   ]
  },
  {
   "cell_type": "code",
   "execution_count": 184,
   "metadata": {},
   "outputs": [
    {
     "ename": "KeyError",
     "evalue": "'metrics_6/accuracy/Identity'",
     "output_type": "error",
     "traceback": [
      "\u001b[1;31m---------------------------------------------------------------------------\u001b[0m",
      "\u001b[1;31mKeyError\u001b[0m                                  Traceback (most recent call last)",
      "\u001b[1;32m<ipython-input-184-99a1a3a43b0b>\u001b[0m in \u001b[0;36m<module>\u001b[1;34m\u001b[0m\n\u001b[1;32m----> 1\u001b[1;33m \u001b[0mmodel1\u001b[0m \u001b[1;33m=\u001b[0m \u001b[0mget_rnn_model\u001b[0m\u001b[1;33m(\u001b[0m\u001b[1;33m)\u001b[0m\u001b[1;33m\u001b[0m\u001b[1;33m\u001b[0m\u001b[0m\n\u001b[0m",
      "\u001b[1;32m<ipython-input-183-4fecf28e1f6d>\u001b[0m in \u001b[0;36mget_rnn_model\u001b[1;34m()\u001b[0m\n\u001b[0;32m      3\u001b[0m \u001b[1;33m\u001b[0m\u001b[0m\n\u001b[0;32m      4\u001b[0m     \u001b[0mmodel\u001b[0m\u001b[1;33m.\u001b[0m\u001b[0madd\u001b[0m\u001b[1;33m(\u001b[0m\u001b[0mEmbedding\u001b[0m\u001b[1;33m(\u001b[0m\u001b[0mmax_words\u001b[0m\u001b[1;33m,\u001b[0m \u001b[1;36m50\u001b[0m\u001b[1;33m,\u001b[0m \u001b[0minput_length\u001b[0m\u001b[1;33m=\u001b[0m\u001b[0mmax_len\u001b[0m\u001b[1;33m)\u001b[0m\u001b[1;33m)\u001b[0m\u001b[1;33m\u001b[0m\u001b[1;33m\u001b[0m\u001b[0m\n\u001b[1;32m----> 5\u001b[1;33m     \u001b[0mmodel\u001b[0m\u001b[1;33m.\u001b[0m\u001b[0madd\u001b[0m\u001b[1;33m(\u001b[0m\u001b[0mLSTM\u001b[0m\u001b[1;33m(\u001b[0m\u001b[1;36m64\u001b[0m\u001b[1;33m)\u001b[0m\u001b[1;33m)\u001b[0m\u001b[1;33m\u001b[0m\u001b[1;33m\u001b[0m\u001b[0m\n\u001b[0m\u001b[0;32m      6\u001b[0m \u001b[1;33m\u001b[0m\u001b[0m\n\u001b[0;32m      7\u001b[0m     \u001b[0mmodel\u001b[0m\u001b[1;33m.\u001b[0m\u001b[0madd\u001b[0m\u001b[1;33m(\u001b[0m\u001b[0mDropout\u001b[0m\u001b[1;33m(\u001b[0m\u001b[1;36m0.5\u001b[0m\u001b[1;33m)\u001b[0m\u001b[1;33m)\u001b[0m\u001b[1;33m\u001b[0m\u001b[1;33m\u001b[0m\u001b[0m\n",
      "\u001b[1;32mC:\\Anaconda\\lib\\site-packages\\keras\\engine\\sequential.py\u001b[0m in \u001b[0;36madd\u001b[1;34m(self, layer)\u001b[0m\n\u001b[0;32m    180\u001b[0m                 \u001b[0mself\u001b[0m\u001b[1;33m.\u001b[0m\u001b[0minputs\u001b[0m \u001b[1;33m=\u001b[0m \u001b[0mnetwork\u001b[0m\u001b[1;33m.\u001b[0m\u001b[0mget_source_inputs\u001b[0m\u001b[1;33m(\u001b[0m\u001b[0mself\u001b[0m\u001b[1;33m.\u001b[0m\u001b[0moutputs\u001b[0m\u001b[1;33m[\u001b[0m\u001b[1;36m0\u001b[0m\u001b[1;33m]\u001b[0m\u001b[1;33m)\u001b[0m\u001b[1;33m\u001b[0m\u001b[1;33m\u001b[0m\u001b[0m\n\u001b[0;32m    181\u001b[0m         \u001b[1;32melif\u001b[0m \u001b[0mself\u001b[0m\u001b[1;33m.\u001b[0m\u001b[0moutputs\u001b[0m\u001b[1;33m:\u001b[0m\u001b[1;33m\u001b[0m\u001b[1;33m\u001b[0m\u001b[0m\n\u001b[1;32m--> 182\u001b[1;33m             \u001b[0moutput_tensor\u001b[0m \u001b[1;33m=\u001b[0m \u001b[0mlayer\u001b[0m\u001b[1;33m(\u001b[0m\u001b[0mself\u001b[0m\u001b[1;33m.\u001b[0m\u001b[0moutputs\u001b[0m\u001b[1;33m[\u001b[0m\u001b[1;36m0\u001b[0m\u001b[1;33m]\u001b[0m\u001b[1;33m)\u001b[0m\u001b[1;33m\u001b[0m\u001b[1;33m\u001b[0m\u001b[0m\n\u001b[0m\u001b[0;32m    183\u001b[0m             \u001b[1;32mif\u001b[0m \u001b[0misinstance\u001b[0m\u001b[1;33m(\u001b[0m\u001b[0moutput_tensor\u001b[0m\u001b[1;33m,\u001b[0m \u001b[0mlist\u001b[0m\u001b[1;33m)\u001b[0m\u001b[1;33m:\u001b[0m\u001b[1;33m\u001b[0m\u001b[1;33m\u001b[0m\u001b[0m\n\u001b[0;32m    184\u001b[0m                 raise TypeError('All layers in a Sequential model '\n",
      "\u001b[1;32mC:\\Anaconda\\lib\\site-packages\\keras\\layers\\recurrent.py\u001b[0m in \u001b[0;36m__call__\u001b[1;34m(self, inputs, initial_state, constants, **kwargs)\u001b[0m\n\u001b[0;32m    539\u001b[0m \u001b[1;33m\u001b[0m\u001b[0m\n\u001b[0;32m    540\u001b[0m         \u001b[1;32mif\u001b[0m \u001b[0minitial_state\u001b[0m \u001b[1;32mis\u001b[0m \u001b[1;32mNone\u001b[0m \u001b[1;32mand\u001b[0m \u001b[0mconstants\u001b[0m \u001b[1;32mis\u001b[0m \u001b[1;32mNone\u001b[0m\u001b[1;33m:\u001b[0m\u001b[1;33m\u001b[0m\u001b[1;33m\u001b[0m\u001b[0m\n\u001b[1;32m--> 541\u001b[1;33m             \u001b[1;32mreturn\u001b[0m \u001b[0msuper\u001b[0m\u001b[1;33m(\u001b[0m\u001b[0mRNN\u001b[0m\u001b[1;33m,\u001b[0m \u001b[0mself\u001b[0m\u001b[1;33m)\u001b[0m\u001b[1;33m.\u001b[0m\u001b[0m__call__\u001b[0m\u001b[1;33m(\u001b[0m\u001b[0minputs\u001b[0m\u001b[1;33m,\u001b[0m \u001b[1;33m**\u001b[0m\u001b[0mkwargs\u001b[0m\u001b[1;33m)\u001b[0m\u001b[1;33m\u001b[0m\u001b[1;33m\u001b[0m\u001b[0m\n\u001b[0m\u001b[0;32m    542\u001b[0m \u001b[1;33m\u001b[0m\u001b[0m\n\u001b[0;32m    543\u001b[0m         \u001b[1;31m# If any of `initial_state` or `constants` are specified and are Keras\u001b[0m\u001b[1;33m\u001b[0m\u001b[1;33m\u001b[0m\u001b[1;33m\u001b[0m\u001b[0m\n",
      "\u001b[1;32mC:\\Anaconda\\lib\\site-packages\\keras\\engine\\base_layer.py\u001b[0m in \u001b[0;36m__call__\u001b[1;34m(self, inputs, **kwargs)\u001b[0m\n\u001b[0;32m    487\u001b[0m             \u001b[1;31m# Actually call the layer,\u001b[0m\u001b[1;33m\u001b[0m\u001b[1;33m\u001b[0m\u001b[1;33m\u001b[0m\u001b[0m\n\u001b[0;32m    488\u001b[0m             \u001b[1;31m# collecting output(s), mask(s), and shape(s).\u001b[0m\u001b[1;33m\u001b[0m\u001b[1;33m\u001b[0m\u001b[1;33m\u001b[0m\u001b[0m\n\u001b[1;32m--> 489\u001b[1;33m             \u001b[0moutput\u001b[0m \u001b[1;33m=\u001b[0m \u001b[0mself\u001b[0m\u001b[1;33m.\u001b[0m\u001b[0mcall\u001b[0m\u001b[1;33m(\u001b[0m\u001b[0minputs\u001b[0m\u001b[1;33m,\u001b[0m \u001b[1;33m**\u001b[0m\u001b[0mkwargs\u001b[0m\u001b[1;33m)\u001b[0m\u001b[1;33m\u001b[0m\u001b[1;33m\u001b[0m\u001b[0m\n\u001b[0m\u001b[0;32m    490\u001b[0m             \u001b[0moutput_mask\u001b[0m \u001b[1;33m=\u001b[0m \u001b[0mself\u001b[0m\u001b[1;33m.\u001b[0m\u001b[0mcompute_mask\u001b[0m\u001b[1;33m(\u001b[0m\u001b[0minputs\u001b[0m\u001b[1;33m,\u001b[0m \u001b[0mprevious_mask\u001b[0m\u001b[1;33m)\u001b[0m\u001b[1;33m\u001b[0m\u001b[1;33m\u001b[0m\u001b[0m\n\u001b[0;32m    491\u001b[0m \u001b[1;33m\u001b[0m\u001b[0m\n",
      "\u001b[1;32mC:\\Anaconda\\lib\\site-packages\\keras\\layers\\recurrent.py\u001b[0m in \u001b[0;36mcall\u001b[1;34m(self, inputs, mask, training, initial_state)\u001b[0m\n\u001b[0;32m   2245\u001b[0m                                       \u001b[0mmask\u001b[0m\u001b[1;33m=\u001b[0m\u001b[0mmask\u001b[0m\u001b[1;33m,\u001b[0m\u001b[1;33m\u001b[0m\u001b[1;33m\u001b[0m\u001b[0m\n\u001b[0;32m   2246\u001b[0m                                       \u001b[0mtraining\u001b[0m\u001b[1;33m=\u001b[0m\u001b[0mtraining\u001b[0m\u001b[1;33m,\u001b[0m\u001b[1;33m\u001b[0m\u001b[1;33m\u001b[0m\u001b[0m\n\u001b[1;32m-> 2247\u001b[1;33m                                       initial_state=initial_state)\n\u001b[0m\u001b[0;32m   2248\u001b[0m \u001b[1;33m\u001b[0m\u001b[0m\n\u001b[0;32m   2249\u001b[0m     \u001b[1;33m@\u001b[0m\u001b[0mproperty\u001b[0m\u001b[1;33m\u001b[0m\u001b[1;33m\u001b[0m\u001b[0m\n",
      "\u001b[1;32mC:\\Anaconda\\lib\\site-packages\\keras\\layers\\recurrent.py\u001b[0m in \u001b[0;36mcall\u001b[1;34m(self, inputs, mask, training, initial_state, constants)\u001b[0m\n\u001b[0;32m    680\u001b[0m                                              \u001b[0mmask\u001b[0m\u001b[1;33m=\u001b[0m\u001b[0mmask\u001b[0m\u001b[1;33m,\u001b[0m\u001b[1;33m\u001b[0m\u001b[1;33m\u001b[0m\u001b[0m\n\u001b[0;32m    681\u001b[0m                                              \u001b[0munroll\u001b[0m\u001b[1;33m=\u001b[0m\u001b[0mself\u001b[0m\u001b[1;33m.\u001b[0m\u001b[0munroll\u001b[0m\u001b[1;33m,\u001b[0m\u001b[1;33m\u001b[0m\u001b[1;33m\u001b[0m\u001b[0m\n\u001b[1;32m--> 682\u001b[1;33m                                              input_length=timesteps)\n\u001b[0m\u001b[0;32m    683\u001b[0m         \u001b[1;32mif\u001b[0m \u001b[0mself\u001b[0m\u001b[1;33m.\u001b[0m\u001b[0mstateful\u001b[0m\u001b[1;33m:\u001b[0m\u001b[1;33m\u001b[0m\u001b[1;33m\u001b[0m\u001b[0m\n\u001b[0;32m    684\u001b[0m             \u001b[0mupdates\u001b[0m \u001b[1;33m=\u001b[0m \u001b[1;33m[\u001b[0m\u001b[1;33m]\u001b[0m\u001b[1;33m\u001b[0m\u001b[1;33m\u001b[0m\u001b[0m\n",
      "\u001b[1;32mC:\\Anaconda\\lib\\site-packages\\keras\\backend\\tensorflow_backend.py\u001b[0m in \u001b[0;36mrnn\u001b[1;34m(step_function, inputs, initial_states, go_backwards, mask, constants, unroll, input_length)\u001b[0m\n\u001b[0;32m   3103\u001b[0m         input_length=input_length)\n\u001b[0;32m   3104\u001b[0m     reachable = tf_utils.get_reachable_from_inputs([learning_phase()],\n\u001b[1;32m-> 3105\u001b[1;33m                                                    targets=[last_output])\n\u001b[0m\u001b[0;32m   3106\u001b[0m     \u001b[1;32mif\u001b[0m \u001b[0mlast_output\u001b[0m \u001b[1;32min\u001b[0m \u001b[0mreachable\u001b[0m\u001b[1;33m:\u001b[0m\u001b[1;33m\u001b[0m\u001b[1;33m\u001b[0m\u001b[0m\n\u001b[0;32m   3107\u001b[0m         \u001b[0mlast_output\u001b[0m\u001b[1;33m.\u001b[0m\u001b[0m_uses_learning_phase\u001b[0m \u001b[1;33m=\u001b[0m \u001b[1;32mTrue\u001b[0m\u001b[1;33m\u001b[0m\u001b[1;33m\u001b[0m\u001b[0m\n",
      "\u001b[1;32mC:\\Anaconda\\lib\\site-packages\\tensorflow\\python\\keras\\utils\\tf_utils.py\u001b[0m in \u001b[0;36mget_reachable_from_inputs\u001b[1;34m(inputs, targets)\u001b[0m\n\u001b[0;32m    129\u001b[0m         \u001b[0moutputs\u001b[0m \u001b[1;33m=\u001b[0m \u001b[1;33m[\u001b[0m\u001b[1;33m]\u001b[0m\u001b[1;33m\u001b[0m\u001b[1;33m\u001b[0m\u001b[0m\n\u001b[0;32m    130\u001b[0m     \u001b[1;32melif\u001b[0m \u001b[0mtensor_util\u001b[0m\u001b[1;33m.\u001b[0m\u001b[0mis_tensor\u001b[0m\u001b[1;33m(\u001b[0m\u001b[0mx\u001b[0m\u001b[1;33m)\u001b[0m\u001b[1;33m:\u001b[0m\u001b[1;33m\u001b[0m\u001b[1;33m\u001b[0m\u001b[0m\n\u001b[1;32m--> 131\u001b[1;33m       \u001b[0moutputs\u001b[0m \u001b[1;33m=\u001b[0m \u001b[0mx\u001b[0m\u001b[1;33m.\u001b[0m\u001b[0mconsumers\u001b[0m\u001b[1;33m(\u001b[0m\u001b[1;33m)\u001b[0m\u001b[1;33m\u001b[0m\u001b[1;33m\u001b[0m\u001b[0m\n\u001b[0m\u001b[0;32m    132\u001b[0m     \u001b[1;32melse\u001b[0m\u001b[1;33m:\u001b[0m\u001b[1;33m\u001b[0m\u001b[1;33m\u001b[0m\u001b[0m\n\u001b[0;32m    133\u001b[0m       \u001b[1;32mraise\u001b[0m \u001b[0mTypeError\u001b[0m\u001b[1;33m(\u001b[0m\u001b[1;34m'Expected Operation, Variable, or Tensor, got '\u001b[0m \u001b[1;33m+\u001b[0m \u001b[0mstr\u001b[0m\u001b[1;33m(\u001b[0m\u001b[0mx\u001b[0m\u001b[1;33m)\u001b[0m\u001b[1;33m)\u001b[0m\u001b[1;33m\u001b[0m\u001b[1;33m\u001b[0m\u001b[0m\n",
      "\u001b[1;32mC:\\Anaconda\\lib\\site-packages\\tensorflow\\python\\framework\\ops.py\u001b[0m in \u001b[0;36mconsumers\u001b[1;34m(self)\u001b[0m\n\u001b[0;32m    591\u001b[0m     return [\n\u001b[0;32m    592\u001b[0m         \u001b[0mself\u001b[0m\u001b[1;33m.\u001b[0m\u001b[0mgraph\u001b[0m\u001b[1;33m.\u001b[0m\u001b[0m_get_operation_by_name_unsafe\u001b[0m\u001b[1;33m(\u001b[0m\u001b[0mname\u001b[0m\u001b[1;33m)\u001b[0m\u001b[1;33m\u001b[0m\u001b[1;33m\u001b[0m\u001b[0m\n\u001b[1;32m--> 593\u001b[1;33m         \u001b[1;32mfor\u001b[0m \u001b[0mname\u001b[0m \u001b[1;32min\u001b[0m \u001b[0mconsumer_names\u001b[0m\u001b[1;33m\u001b[0m\u001b[1;33m\u001b[0m\u001b[0m\n\u001b[0m\u001b[0;32m    594\u001b[0m     ]\n\u001b[0;32m    595\u001b[0m     \u001b[1;31m# pylint: enable=protected-access\u001b[0m\u001b[1;33m\u001b[0m\u001b[1;33m\u001b[0m\u001b[1;33m\u001b[0m\u001b[0m\n",
      "\u001b[1;32mC:\\Anaconda\\lib\\site-packages\\tensorflow\\python\\framework\\ops.py\u001b[0m in \u001b[0;36m<listcomp>\u001b[1;34m(.0)\u001b[0m\n\u001b[0;32m    591\u001b[0m     return [\n\u001b[0;32m    592\u001b[0m         \u001b[0mself\u001b[0m\u001b[1;33m.\u001b[0m\u001b[0mgraph\u001b[0m\u001b[1;33m.\u001b[0m\u001b[0m_get_operation_by_name_unsafe\u001b[0m\u001b[1;33m(\u001b[0m\u001b[0mname\u001b[0m\u001b[1;33m)\u001b[0m\u001b[1;33m\u001b[0m\u001b[1;33m\u001b[0m\u001b[0m\n\u001b[1;32m--> 593\u001b[1;33m         \u001b[1;32mfor\u001b[0m \u001b[0mname\u001b[0m \u001b[1;32min\u001b[0m \u001b[0mconsumer_names\u001b[0m\u001b[1;33m\u001b[0m\u001b[1;33m\u001b[0m\u001b[0m\n\u001b[0m\u001b[0;32m    594\u001b[0m     ]\n\u001b[0;32m    595\u001b[0m     \u001b[1;31m# pylint: enable=protected-access\u001b[0m\u001b[1;33m\u001b[0m\u001b[1;33m\u001b[0m\u001b[1;33m\u001b[0m\u001b[0m\n",
      "\u001b[1;32mC:\\Anaconda\\lib\\site-packages\\tensorflow\\python\\framework\\ops.py\u001b[0m in \u001b[0;36m_get_operation_by_name_unsafe\u001b[1;34m(self, name)\u001b[0m\n\u001b[0;32m   3945\u001b[0m \u001b[1;33m\u001b[0m\u001b[0m\n\u001b[0;32m   3946\u001b[0m     \u001b[1;32mwith\u001b[0m \u001b[0mself\u001b[0m\u001b[1;33m.\u001b[0m\u001b[0m_lock\u001b[0m\u001b[1;33m:\u001b[0m\u001b[1;33m\u001b[0m\u001b[1;33m\u001b[0m\u001b[0m\n\u001b[1;32m-> 3947\u001b[1;33m       \u001b[1;32mreturn\u001b[0m \u001b[0mself\u001b[0m\u001b[1;33m.\u001b[0m\u001b[0m_nodes_by_name\u001b[0m\u001b[1;33m[\u001b[0m\u001b[0mname\u001b[0m\u001b[1;33m]\u001b[0m\u001b[1;33m\u001b[0m\u001b[1;33m\u001b[0m\u001b[0m\n\u001b[0m\u001b[0;32m   3948\u001b[0m \u001b[1;33m\u001b[0m\u001b[0m\n\u001b[0;32m   3949\u001b[0m   \u001b[1;32mdef\u001b[0m \u001b[0m_get_operation_by_tf_operation\u001b[0m\u001b[1;33m(\u001b[0m\u001b[0mself\u001b[0m\u001b[1;33m,\u001b[0m \u001b[0mtf_oper\u001b[0m\u001b[1;33m)\u001b[0m\u001b[1;33m:\u001b[0m\u001b[1;33m\u001b[0m\u001b[1;33m\u001b[0m\u001b[0m\n",
      "\u001b[1;31mKeyError\u001b[0m: 'metrics_6/accuracy/Identity'"
     ]
    }
   ],
   "source": [
    "model1 = get_rnn_model()"
   ]
  },
  {
   "cell_type": "code",
   "execution_count": 185,
   "metadata": {},
   "outputs": [],
   "source": [
    "def get_cnn_model():   \n",
    "    model = Sequential()\n",
    "    \n",
    "    model.add(Embedding(max_words, 100, input_length=max_len))\n",
    "    \n",
    "    model.add(Conv1D(1024, 3, padding='valid', activation='relu', strides=1))\n",
    "    model.add(GlobalMaxPooling1D())\n",
    "    \n",
    "    \n",
    "    model.add(Dropout(0.5))\n",
    "    model.add(BatchNormalization())\n",
    "    model.add(Dropout(0.5))\n",
    "    \n",
    "    model.add(Dense(2048, activation='relu'))\n",
    "    \n",
    "    model.add(Dropout(0.5))\n",
    "    model.add(BatchNormalization())\n",
    "    model.add(Dropout(0.5))\n",
    "    \n",
    "    model.add(Dense(4, activation='sigmoid'))\n",
    "    \n",
    "    model.summary()\n",
    "    return model"
   ]
  },
  {
   "cell_type": "code",
   "execution_count": 164,
   "metadata": {},
   "outputs": [],
   "source": [
    "def plot_performance(history=None, figure_directory=None, ylim_pad=[0, 0]):\n",
    "    xlabel = 'Epoch'\n",
    "    legends = ['Training', 'Validation']\n",
    "\n",
    "    plt.figure(figsize=(20, 5))\n",
    "\n",
    "    y1 = history.history['acc']\n",
    "    y2 = history.history['val_acc']\n",
    "\n",
    "    min_y = min(min(y1), min(y2))-ylim_pad[0]\n",
    "    max_y = max(max(y1), max(y2))+ylim_pad[0]\n",
    "\n",
    "\n",
    "    plt.subplot(121)\n",
    "\n",
    "    plt.plot(y1)\n",
    "    plt.plot(y2)\n",
    "\n",
    "    plt.title('Model Accuracy\\n'+date_time(1), fontsize=17)\n",
    "    plt.xlabel(xlabel, fontsize=15)\n",
    "    plt.ylabel('Accuracy', fontsize=15)\n",
    "    plt.ylim(min_y, max_y)\n",
    "    plt.legend(legends, loc='upper left')\n",
    "    plt.grid()\n",
    "\n",
    "    y1 = history.history['loss']\n",
    "    y2 = history.history['val_loss']\n",
    "\n",
    "    min_y = min(min(y1), min(y2))-ylim_pad[1]\n",
    "    max_y = max(max(y1), max(y2))+ylim_pad[1]\n",
    "\n",
    "\n",
    "    plt.subplot(122)\n",
    "\n",
    "    plt.plot(y1)\n",
    "    plt.plot(y2)\n",
    "\n",
    "    plt.title('Model Loss\\n'+date_time(1), fontsize=17)\n",
    "    plt.xlabel(xlabel, fontsize=15)\n",
    "    plt.ylabel('Loss', fontsize=15)\n",
    "    plt.ylim(min_y, max_y)\n",
    "    plt.legend(legends, loc='upper left')\n",
    "    plt.grid()\n",
    "    if figure_directory:\n",
    "        plt.savefig(figure_directory+\"/history\")\n",
    "\n",
    "    plt.show()"
   ]
  },
  {
   "cell_type": "code",
   "execution_count": 165,
   "metadata": {},
   "outputs": [
    {
     "ename": "KeyError",
     "evalue": "'metrics_6/accuracy/Identity'",
     "output_type": "error",
     "traceback": [
      "\u001b[1;31m---------------------------------------------------------------------------\u001b[0m",
      "\u001b[1;31mKeyError\u001b[0m                                  Traceback (most recent call last)",
      "\u001b[1;32m<ipython-input-165-e6b617b7f3c9>\u001b[0m in \u001b[0;36m<module>\u001b[1;34m\u001b[0m\n\u001b[0;32m      4\u001b[0m \u001b[1;32mfrom\u001b[0m \u001b[0mkeras\u001b[0m\u001b[1;33m.\u001b[0m\u001b[0mmodels\u001b[0m \u001b[1;32mimport\u001b[0m \u001b[0mSequential\u001b[0m\u001b[1;33m\u001b[0m\u001b[1;33m\u001b[0m\u001b[0m\n\u001b[0;32m      5\u001b[0m \u001b[0mnum_class\u001b[0m \u001b[1;33m=\u001b[0m \u001b[1;36m4\u001b[0m\u001b[1;33m\u001b[0m\u001b[1;33m\u001b[0m\u001b[0m\n\u001b[1;32m----> 6\u001b[1;33m \u001b[0mmodel1\u001b[0m \u001b[1;33m=\u001b[0m \u001b[0mget_rnn_model\u001b[0m\u001b[1;33m(\u001b[0m\u001b[1;33m)\u001b[0m\u001b[1;33m\u001b[0m\u001b[1;33m\u001b[0m\u001b[0m\n\u001b[0m",
      "\u001b[1;32m<ipython-input-162-0fc5b2779933>\u001b[0m in \u001b[0;36mget_rnn_model\u001b[1;34m()\u001b[0m\n\u001b[0;32m      3\u001b[0m \u001b[1;33m\u001b[0m\u001b[0m\n\u001b[0;32m      4\u001b[0m     \u001b[0mmodel\u001b[0m\u001b[1;33m.\u001b[0m\u001b[0madd\u001b[0m\u001b[1;33m(\u001b[0m\u001b[0mEmbedding\u001b[0m\u001b[1;33m(\u001b[0m\u001b[0mmax_words\u001b[0m\u001b[1;33m,\u001b[0m \u001b[1;36m50\u001b[0m\u001b[1;33m,\u001b[0m \u001b[0minput_length\u001b[0m\u001b[1;33m=\u001b[0m\u001b[0mmax_len\u001b[0m\u001b[1;33m)\u001b[0m\u001b[1;33m)\u001b[0m\u001b[1;33m\u001b[0m\u001b[1;33m\u001b[0m\u001b[0m\n\u001b[1;32m----> 5\u001b[1;33m     \u001b[0mmodel\u001b[0m\u001b[1;33m.\u001b[0m\u001b[0madd\u001b[0m\u001b[1;33m(\u001b[0m\u001b[0mLSTM\u001b[0m\u001b[1;33m(\u001b[0m\u001b[1;36m64\u001b[0m\u001b[1;33m)\u001b[0m\u001b[1;33m)\u001b[0m\u001b[1;33m\u001b[0m\u001b[1;33m\u001b[0m\u001b[0m\n\u001b[0m\u001b[0;32m      6\u001b[0m \u001b[1;33m\u001b[0m\u001b[0m\n\u001b[0;32m      7\u001b[0m     \u001b[0mmodel\u001b[0m\u001b[1;33m.\u001b[0m\u001b[0madd\u001b[0m\u001b[1;33m(\u001b[0m\u001b[0mDropout\u001b[0m\u001b[1;33m(\u001b[0m\u001b[1;36m0.5\u001b[0m\u001b[1;33m)\u001b[0m\u001b[1;33m)\u001b[0m\u001b[1;33m\u001b[0m\u001b[1;33m\u001b[0m\u001b[0m\n",
      "\u001b[1;32mC:\\Anaconda\\lib\\site-packages\\keras\\engine\\sequential.py\u001b[0m in \u001b[0;36madd\u001b[1;34m(self, layer)\u001b[0m\n\u001b[0;32m    180\u001b[0m                 \u001b[0mself\u001b[0m\u001b[1;33m.\u001b[0m\u001b[0minputs\u001b[0m \u001b[1;33m=\u001b[0m \u001b[0mnetwork\u001b[0m\u001b[1;33m.\u001b[0m\u001b[0mget_source_inputs\u001b[0m\u001b[1;33m(\u001b[0m\u001b[0mself\u001b[0m\u001b[1;33m.\u001b[0m\u001b[0moutputs\u001b[0m\u001b[1;33m[\u001b[0m\u001b[1;36m0\u001b[0m\u001b[1;33m]\u001b[0m\u001b[1;33m)\u001b[0m\u001b[1;33m\u001b[0m\u001b[1;33m\u001b[0m\u001b[0m\n\u001b[0;32m    181\u001b[0m         \u001b[1;32melif\u001b[0m \u001b[0mself\u001b[0m\u001b[1;33m.\u001b[0m\u001b[0moutputs\u001b[0m\u001b[1;33m:\u001b[0m\u001b[1;33m\u001b[0m\u001b[1;33m\u001b[0m\u001b[0m\n\u001b[1;32m--> 182\u001b[1;33m             \u001b[0moutput_tensor\u001b[0m \u001b[1;33m=\u001b[0m \u001b[0mlayer\u001b[0m\u001b[1;33m(\u001b[0m\u001b[0mself\u001b[0m\u001b[1;33m.\u001b[0m\u001b[0moutputs\u001b[0m\u001b[1;33m[\u001b[0m\u001b[1;36m0\u001b[0m\u001b[1;33m]\u001b[0m\u001b[1;33m)\u001b[0m\u001b[1;33m\u001b[0m\u001b[1;33m\u001b[0m\u001b[0m\n\u001b[0m\u001b[0;32m    183\u001b[0m             \u001b[1;32mif\u001b[0m \u001b[0misinstance\u001b[0m\u001b[1;33m(\u001b[0m\u001b[0moutput_tensor\u001b[0m\u001b[1;33m,\u001b[0m \u001b[0mlist\u001b[0m\u001b[1;33m)\u001b[0m\u001b[1;33m:\u001b[0m\u001b[1;33m\u001b[0m\u001b[1;33m\u001b[0m\u001b[0m\n\u001b[0;32m    184\u001b[0m                 raise TypeError('All layers in a Sequential model '\n",
      "\u001b[1;32mC:\\Anaconda\\lib\\site-packages\\keras\\layers\\recurrent.py\u001b[0m in \u001b[0;36m__call__\u001b[1;34m(self, inputs, initial_state, constants, **kwargs)\u001b[0m\n\u001b[0;32m    539\u001b[0m \u001b[1;33m\u001b[0m\u001b[0m\n\u001b[0;32m    540\u001b[0m         \u001b[1;32mif\u001b[0m \u001b[0minitial_state\u001b[0m \u001b[1;32mis\u001b[0m \u001b[1;32mNone\u001b[0m \u001b[1;32mand\u001b[0m \u001b[0mconstants\u001b[0m \u001b[1;32mis\u001b[0m \u001b[1;32mNone\u001b[0m\u001b[1;33m:\u001b[0m\u001b[1;33m\u001b[0m\u001b[1;33m\u001b[0m\u001b[0m\n\u001b[1;32m--> 541\u001b[1;33m             \u001b[1;32mreturn\u001b[0m \u001b[0msuper\u001b[0m\u001b[1;33m(\u001b[0m\u001b[0mRNN\u001b[0m\u001b[1;33m,\u001b[0m \u001b[0mself\u001b[0m\u001b[1;33m)\u001b[0m\u001b[1;33m.\u001b[0m\u001b[0m__call__\u001b[0m\u001b[1;33m(\u001b[0m\u001b[0minputs\u001b[0m\u001b[1;33m,\u001b[0m \u001b[1;33m**\u001b[0m\u001b[0mkwargs\u001b[0m\u001b[1;33m)\u001b[0m\u001b[1;33m\u001b[0m\u001b[1;33m\u001b[0m\u001b[0m\n\u001b[0m\u001b[0;32m    542\u001b[0m \u001b[1;33m\u001b[0m\u001b[0m\n\u001b[0;32m    543\u001b[0m         \u001b[1;31m# If any of `initial_state` or `constants` are specified and are Keras\u001b[0m\u001b[1;33m\u001b[0m\u001b[1;33m\u001b[0m\u001b[1;33m\u001b[0m\u001b[0m\n",
      "\u001b[1;32mC:\\Anaconda\\lib\\site-packages\\keras\\engine\\base_layer.py\u001b[0m in \u001b[0;36m__call__\u001b[1;34m(self, inputs, **kwargs)\u001b[0m\n\u001b[0;32m    487\u001b[0m             \u001b[1;31m# Actually call the layer,\u001b[0m\u001b[1;33m\u001b[0m\u001b[1;33m\u001b[0m\u001b[1;33m\u001b[0m\u001b[0m\n\u001b[0;32m    488\u001b[0m             \u001b[1;31m# collecting output(s), mask(s), and shape(s).\u001b[0m\u001b[1;33m\u001b[0m\u001b[1;33m\u001b[0m\u001b[1;33m\u001b[0m\u001b[0m\n\u001b[1;32m--> 489\u001b[1;33m             \u001b[0moutput\u001b[0m \u001b[1;33m=\u001b[0m \u001b[0mself\u001b[0m\u001b[1;33m.\u001b[0m\u001b[0mcall\u001b[0m\u001b[1;33m(\u001b[0m\u001b[0minputs\u001b[0m\u001b[1;33m,\u001b[0m \u001b[1;33m**\u001b[0m\u001b[0mkwargs\u001b[0m\u001b[1;33m)\u001b[0m\u001b[1;33m\u001b[0m\u001b[1;33m\u001b[0m\u001b[0m\n\u001b[0m\u001b[0;32m    490\u001b[0m             \u001b[0moutput_mask\u001b[0m \u001b[1;33m=\u001b[0m \u001b[0mself\u001b[0m\u001b[1;33m.\u001b[0m\u001b[0mcompute_mask\u001b[0m\u001b[1;33m(\u001b[0m\u001b[0minputs\u001b[0m\u001b[1;33m,\u001b[0m \u001b[0mprevious_mask\u001b[0m\u001b[1;33m)\u001b[0m\u001b[1;33m\u001b[0m\u001b[1;33m\u001b[0m\u001b[0m\n\u001b[0;32m    491\u001b[0m \u001b[1;33m\u001b[0m\u001b[0m\n",
      "\u001b[1;32mC:\\Anaconda\\lib\\site-packages\\keras\\layers\\recurrent.py\u001b[0m in \u001b[0;36mcall\u001b[1;34m(self, inputs, mask, training, initial_state)\u001b[0m\n\u001b[0;32m   2245\u001b[0m                                       \u001b[0mmask\u001b[0m\u001b[1;33m=\u001b[0m\u001b[0mmask\u001b[0m\u001b[1;33m,\u001b[0m\u001b[1;33m\u001b[0m\u001b[1;33m\u001b[0m\u001b[0m\n\u001b[0;32m   2246\u001b[0m                                       \u001b[0mtraining\u001b[0m\u001b[1;33m=\u001b[0m\u001b[0mtraining\u001b[0m\u001b[1;33m,\u001b[0m\u001b[1;33m\u001b[0m\u001b[1;33m\u001b[0m\u001b[0m\n\u001b[1;32m-> 2247\u001b[1;33m                                       initial_state=initial_state)\n\u001b[0m\u001b[0;32m   2248\u001b[0m \u001b[1;33m\u001b[0m\u001b[0m\n\u001b[0;32m   2249\u001b[0m     \u001b[1;33m@\u001b[0m\u001b[0mproperty\u001b[0m\u001b[1;33m\u001b[0m\u001b[1;33m\u001b[0m\u001b[0m\n",
      "\u001b[1;32mC:\\Anaconda\\lib\\site-packages\\keras\\layers\\recurrent.py\u001b[0m in \u001b[0;36mcall\u001b[1;34m(self, inputs, mask, training, initial_state, constants)\u001b[0m\n\u001b[0;32m    680\u001b[0m                                              \u001b[0mmask\u001b[0m\u001b[1;33m=\u001b[0m\u001b[0mmask\u001b[0m\u001b[1;33m,\u001b[0m\u001b[1;33m\u001b[0m\u001b[1;33m\u001b[0m\u001b[0m\n\u001b[0;32m    681\u001b[0m                                              \u001b[0munroll\u001b[0m\u001b[1;33m=\u001b[0m\u001b[0mself\u001b[0m\u001b[1;33m.\u001b[0m\u001b[0munroll\u001b[0m\u001b[1;33m,\u001b[0m\u001b[1;33m\u001b[0m\u001b[1;33m\u001b[0m\u001b[0m\n\u001b[1;32m--> 682\u001b[1;33m                                              input_length=timesteps)\n\u001b[0m\u001b[0;32m    683\u001b[0m         \u001b[1;32mif\u001b[0m \u001b[0mself\u001b[0m\u001b[1;33m.\u001b[0m\u001b[0mstateful\u001b[0m\u001b[1;33m:\u001b[0m\u001b[1;33m\u001b[0m\u001b[1;33m\u001b[0m\u001b[0m\n\u001b[0;32m    684\u001b[0m             \u001b[0mupdates\u001b[0m \u001b[1;33m=\u001b[0m \u001b[1;33m[\u001b[0m\u001b[1;33m]\u001b[0m\u001b[1;33m\u001b[0m\u001b[1;33m\u001b[0m\u001b[0m\n",
      "\u001b[1;32mC:\\Anaconda\\lib\\site-packages\\keras\\backend\\tensorflow_backend.py\u001b[0m in \u001b[0;36mrnn\u001b[1;34m(step_function, inputs, initial_states, go_backwards, mask, constants, unroll, input_length)\u001b[0m\n\u001b[0;32m   3103\u001b[0m         input_length=input_length)\n\u001b[0;32m   3104\u001b[0m     reachable = tf_utils.get_reachable_from_inputs([learning_phase()],\n\u001b[1;32m-> 3105\u001b[1;33m                                                    targets=[last_output])\n\u001b[0m\u001b[0;32m   3106\u001b[0m     \u001b[1;32mif\u001b[0m \u001b[0mlast_output\u001b[0m \u001b[1;32min\u001b[0m \u001b[0mreachable\u001b[0m\u001b[1;33m:\u001b[0m\u001b[1;33m\u001b[0m\u001b[1;33m\u001b[0m\u001b[0m\n\u001b[0;32m   3107\u001b[0m         \u001b[0mlast_output\u001b[0m\u001b[1;33m.\u001b[0m\u001b[0m_uses_learning_phase\u001b[0m \u001b[1;33m=\u001b[0m \u001b[1;32mTrue\u001b[0m\u001b[1;33m\u001b[0m\u001b[1;33m\u001b[0m\u001b[0m\n",
      "\u001b[1;32mC:\\Anaconda\\lib\\site-packages\\tensorflow\\python\\keras\\utils\\tf_utils.py\u001b[0m in \u001b[0;36mget_reachable_from_inputs\u001b[1;34m(inputs, targets)\u001b[0m\n\u001b[0;32m    129\u001b[0m         \u001b[0moutputs\u001b[0m \u001b[1;33m=\u001b[0m \u001b[1;33m[\u001b[0m\u001b[1;33m]\u001b[0m\u001b[1;33m\u001b[0m\u001b[1;33m\u001b[0m\u001b[0m\n\u001b[0;32m    130\u001b[0m     \u001b[1;32melif\u001b[0m \u001b[0mtensor_util\u001b[0m\u001b[1;33m.\u001b[0m\u001b[0mis_tensor\u001b[0m\u001b[1;33m(\u001b[0m\u001b[0mx\u001b[0m\u001b[1;33m)\u001b[0m\u001b[1;33m:\u001b[0m\u001b[1;33m\u001b[0m\u001b[1;33m\u001b[0m\u001b[0m\n\u001b[1;32m--> 131\u001b[1;33m       \u001b[0moutputs\u001b[0m \u001b[1;33m=\u001b[0m \u001b[0mx\u001b[0m\u001b[1;33m.\u001b[0m\u001b[0mconsumers\u001b[0m\u001b[1;33m(\u001b[0m\u001b[1;33m)\u001b[0m\u001b[1;33m\u001b[0m\u001b[1;33m\u001b[0m\u001b[0m\n\u001b[0m\u001b[0;32m    132\u001b[0m     \u001b[1;32melse\u001b[0m\u001b[1;33m:\u001b[0m\u001b[1;33m\u001b[0m\u001b[1;33m\u001b[0m\u001b[0m\n\u001b[0;32m    133\u001b[0m       \u001b[1;32mraise\u001b[0m \u001b[0mTypeError\u001b[0m\u001b[1;33m(\u001b[0m\u001b[1;34m'Expected Operation, Variable, or Tensor, got '\u001b[0m \u001b[1;33m+\u001b[0m \u001b[0mstr\u001b[0m\u001b[1;33m(\u001b[0m\u001b[0mx\u001b[0m\u001b[1;33m)\u001b[0m\u001b[1;33m)\u001b[0m\u001b[1;33m\u001b[0m\u001b[1;33m\u001b[0m\u001b[0m\n",
      "\u001b[1;32mC:\\Anaconda\\lib\\site-packages\\tensorflow\\python\\framework\\ops.py\u001b[0m in \u001b[0;36mconsumers\u001b[1;34m(self)\u001b[0m\n\u001b[0;32m    591\u001b[0m     return [\n\u001b[0;32m    592\u001b[0m         \u001b[0mself\u001b[0m\u001b[1;33m.\u001b[0m\u001b[0mgraph\u001b[0m\u001b[1;33m.\u001b[0m\u001b[0m_get_operation_by_name_unsafe\u001b[0m\u001b[1;33m(\u001b[0m\u001b[0mname\u001b[0m\u001b[1;33m)\u001b[0m\u001b[1;33m\u001b[0m\u001b[1;33m\u001b[0m\u001b[0m\n\u001b[1;32m--> 593\u001b[1;33m         \u001b[1;32mfor\u001b[0m \u001b[0mname\u001b[0m \u001b[1;32min\u001b[0m \u001b[0mconsumer_names\u001b[0m\u001b[1;33m\u001b[0m\u001b[1;33m\u001b[0m\u001b[0m\n\u001b[0m\u001b[0;32m    594\u001b[0m     ]\n\u001b[0;32m    595\u001b[0m     \u001b[1;31m# pylint: enable=protected-access\u001b[0m\u001b[1;33m\u001b[0m\u001b[1;33m\u001b[0m\u001b[1;33m\u001b[0m\u001b[0m\n",
      "\u001b[1;32mC:\\Anaconda\\lib\\site-packages\\tensorflow\\python\\framework\\ops.py\u001b[0m in \u001b[0;36m<listcomp>\u001b[1;34m(.0)\u001b[0m\n\u001b[0;32m    591\u001b[0m     return [\n\u001b[0;32m    592\u001b[0m         \u001b[0mself\u001b[0m\u001b[1;33m.\u001b[0m\u001b[0mgraph\u001b[0m\u001b[1;33m.\u001b[0m\u001b[0m_get_operation_by_name_unsafe\u001b[0m\u001b[1;33m(\u001b[0m\u001b[0mname\u001b[0m\u001b[1;33m)\u001b[0m\u001b[1;33m\u001b[0m\u001b[1;33m\u001b[0m\u001b[0m\n\u001b[1;32m--> 593\u001b[1;33m         \u001b[1;32mfor\u001b[0m \u001b[0mname\u001b[0m \u001b[1;32min\u001b[0m \u001b[0mconsumer_names\u001b[0m\u001b[1;33m\u001b[0m\u001b[1;33m\u001b[0m\u001b[0m\n\u001b[0m\u001b[0;32m    594\u001b[0m     ]\n\u001b[0;32m    595\u001b[0m     \u001b[1;31m# pylint: enable=protected-access\u001b[0m\u001b[1;33m\u001b[0m\u001b[1;33m\u001b[0m\u001b[1;33m\u001b[0m\u001b[0m\n",
      "\u001b[1;32mC:\\Anaconda\\lib\\site-packages\\tensorflow\\python\\framework\\ops.py\u001b[0m in \u001b[0;36m_get_operation_by_name_unsafe\u001b[1;34m(self, name)\u001b[0m\n\u001b[0;32m   3945\u001b[0m \u001b[1;33m\u001b[0m\u001b[0m\n\u001b[0;32m   3946\u001b[0m     \u001b[1;32mwith\u001b[0m \u001b[0mself\u001b[0m\u001b[1;33m.\u001b[0m\u001b[0m_lock\u001b[0m\u001b[1;33m:\u001b[0m\u001b[1;33m\u001b[0m\u001b[1;33m\u001b[0m\u001b[0m\n\u001b[1;32m-> 3947\u001b[1;33m       \u001b[1;32mreturn\u001b[0m \u001b[0mself\u001b[0m\u001b[1;33m.\u001b[0m\u001b[0m_nodes_by_name\u001b[0m\u001b[1;33m[\u001b[0m\u001b[0mname\u001b[0m\u001b[1;33m]\u001b[0m\u001b[1;33m\u001b[0m\u001b[1;33m\u001b[0m\u001b[0m\n\u001b[0m\u001b[0;32m   3948\u001b[0m \u001b[1;33m\u001b[0m\u001b[0m\n\u001b[0;32m   3949\u001b[0m   \u001b[1;32mdef\u001b[0m \u001b[0m_get_operation_by_tf_operation\u001b[0m\u001b[1;33m(\u001b[0m\u001b[0mself\u001b[0m\u001b[1;33m,\u001b[0m \u001b[0mtf_oper\u001b[0m\u001b[1;33m)\u001b[0m\u001b[1;33m:\u001b[0m\u001b[1;33m\u001b[0m\u001b[1;33m\u001b[0m\u001b[0m\n",
      "\u001b[1;31mKeyError\u001b[0m: 'metrics_6/accuracy/Identity'"
     ]
    }
   ],
   "source": [
    "from keras.layers import Input, Add, concatenate, Dense, Activation, BatchNormalization, Dropout, Flatten\n",
    "from keras.layers import LeakyReLU, PReLU, Lambda, Multiply\n",
    "from keras.layers import Embedding, LSTM, Bidirectional\n",
    "from keras.models import Sequential\n",
    "num_class = 4\n"
   ]
  },
  {
   "cell_type": "code",
   "execution_count": 186,
   "metadata": {},
   "outputs": [],
   "source": [
    "loss = 'categorical_crossentropy'\n",
    "# loss = 'binary_crossentropy' only for binary classification\n",
    "metrics = ['accuracy']"
   ]
  },
  {
   "cell_type": "code",
   "execution_count": 187,
   "metadata": {},
   "outputs": [],
   "source": [
    "def date_time(x):\n",
    "    if x==1:\n",
    "        return 'Timestamp: {:%Y-%m-%d %H:%M:%S}'.format(datetime.datetime.now())\n",
    "    if x==2:    \n",
    "        return 'Timestamp: {:%Y-%b-%d %H:%M:%S}'.format(datetime.datetime.now())\n",
    "    if x==3:  \n",
    "        return 'Date now: %s' % datetime.datetime.now()\n",
    "    if x==4:  \n",
    "        return 'Date today: %s' % datetime.date.today() "
   ]
  },
  {
   "cell_type": "code",
   "execution_count": 102,
   "metadata": {},
   "outputs": [
    {
     "name": "stdout",
     "output_type": "stream",
     "text": [
      "Starting...\n",
      "\n",
      "Timestamp: 2021-07-25 16:22:31\n",
      "\n",
      "\n",
      "Compliling Model ...\n",
      "\n",
      "Trainning Model ...\n",
      "\n"
     ]
    },
    {
     "ename": "ValueError",
     "evalue": "Error when checking input: expected dense_38_input to have shape (26392,) but got array with shape (40,)",
     "output_type": "error",
     "traceback": [
      "\u001b[1;31m---------------------------------------------------------------------------\u001b[0m",
      "\u001b[1;31mValueError\u001b[0m                                Traceback (most recent call last)",
      "\u001b[1;32m<ipython-input-102-f115be8e6565>\u001b[0m in \u001b[0;36m<module>\u001b[1;34m\u001b[0m\n\u001b[0;32m     48\u001b[0m     \u001b[0mcallbacks\u001b[0m\u001b[1;33m=\u001b[0m\u001b[0mcallbacks\u001b[0m\u001b[1;33m,\u001b[0m\u001b[1;33m\u001b[0m\u001b[1;33m\u001b[0m\u001b[0m\n\u001b[0;32m     49\u001b[0m     \u001b[0mvalidation_split\u001b[0m\u001b[1;33m=\u001b[0m\u001b[0mvalidation_split\u001b[0m\u001b[1;33m,\u001b[0m\u001b[1;33m\u001b[0m\u001b[1;33m\u001b[0m\u001b[0m\n\u001b[1;32m---> 50\u001b[1;33m     \u001b[0mclass_weight\u001b[0m \u001b[1;33m=\u001b[0m\u001b[0mclass_weight\u001b[0m\u001b[1;33m\u001b[0m\u001b[1;33m\u001b[0m\u001b[0m\n\u001b[0m\u001b[0;32m     51\u001b[0m     )\n\u001b[0;32m     52\u001b[0m \u001b[1;33m\u001b[0m\u001b[0m\n",
      "\u001b[1;32mC:\\Anaconda\\lib\\site-packages\\keras\\engine\\training.py\u001b[0m in \u001b[0;36mfit\u001b[1;34m(self, x, y, batch_size, epochs, verbose, callbacks, validation_split, validation_data, shuffle, class_weight, sample_weight, initial_epoch, steps_per_epoch, validation_steps, validation_freq, max_queue_size, workers, use_multiprocessing, **kwargs)\u001b[0m\n\u001b[0;32m   1152\u001b[0m             \u001b[0msample_weight\u001b[0m\u001b[1;33m=\u001b[0m\u001b[0msample_weight\u001b[0m\u001b[1;33m,\u001b[0m\u001b[1;33m\u001b[0m\u001b[1;33m\u001b[0m\u001b[0m\n\u001b[0;32m   1153\u001b[0m             \u001b[0mclass_weight\u001b[0m\u001b[1;33m=\u001b[0m\u001b[0mclass_weight\u001b[0m\u001b[1;33m,\u001b[0m\u001b[1;33m\u001b[0m\u001b[1;33m\u001b[0m\u001b[0m\n\u001b[1;32m-> 1154\u001b[1;33m             batch_size=batch_size)\n\u001b[0m\u001b[0;32m   1155\u001b[0m \u001b[1;33m\u001b[0m\u001b[0m\n\u001b[0;32m   1156\u001b[0m         \u001b[1;31m# Prepare validation data.\u001b[0m\u001b[1;33m\u001b[0m\u001b[1;33m\u001b[0m\u001b[1;33m\u001b[0m\u001b[0m\n",
      "\u001b[1;32mC:\\Anaconda\\lib\\site-packages\\keras\\engine\\training.py\u001b[0m in \u001b[0;36m_standardize_user_data\u001b[1;34m(self, x, y, sample_weight, class_weight, check_array_lengths, batch_size)\u001b[0m\n\u001b[0;32m    577\u001b[0m             \u001b[0mfeed_input_shapes\u001b[0m\u001b[1;33m,\u001b[0m\u001b[1;33m\u001b[0m\u001b[1;33m\u001b[0m\u001b[0m\n\u001b[0;32m    578\u001b[0m             \u001b[0mcheck_batch_axis\u001b[0m\u001b[1;33m=\u001b[0m\u001b[1;32mFalse\u001b[0m\u001b[1;33m,\u001b[0m  \u001b[1;31m# Don't enforce the batch size.\u001b[0m\u001b[1;33m\u001b[0m\u001b[1;33m\u001b[0m\u001b[0m\n\u001b[1;32m--> 579\u001b[1;33m             exception_prefix='input')\n\u001b[0m\u001b[0;32m    580\u001b[0m \u001b[1;33m\u001b[0m\u001b[0m\n\u001b[0;32m    581\u001b[0m         \u001b[1;32mif\u001b[0m \u001b[0my\u001b[0m \u001b[1;32mis\u001b[0m \u001b[1;32mnot\u001b[0m \u001b[1;32mNone\u001b[0m\u001b[1;33m:\u001b[0m\u001b[1;33m\u001b[0m\u001b[1;33m\u001b[0m\u001b[0m\n",
      "\u001b[1;32mC:\\Anaconda\\lib\\site-packages\\keras\\engine\\training_utils.py\u001b[0m in \u001b[0;36mstandardize_input_data\u001b[1;34m(data, names, shapes, check_batch_axis, exception_prefix)\u001b[0m\n\u001b[0;32m    143\u001b[0m                             \u001b[1;34m': expected '\u001b[0m \u001b[1;33m+\u001b[0m \u001b[0mnames\u001b[0m\u001b[1;33m[\u001b[0m\u001b[0mi\u001b[0m\u001b[1;33m]\u001b[0m \u001b[1;33m+\u001b[0m \u001b[1;34m' to have shape '\u001b[0m \u001b[1;33m+\u001b[0m\u001b[1;33m\u001b[0m\u001b[1;33m\u001b[0m\u001b[0m\n\u001b[0;32m    144\u001b[0m                             \u001b[0mstr\u001b[0m\u001b[1;33m(\u001b[0m\u001b[0mshape\u001b[0m\u001b[1;33m)\u001b[0m \u001b[1;33m+\u001b[0m \u001b[1;34m' but got array with shape '\u001b[0m \u001b[1;33m+\u001b[0m\u001b[1;33m\u001b[0m\u001b[1;33m\u001b[0m\u001b[0m\n\u001b[1;32m--> 145\u001b[1;33m                             str(data_shape))\n\u001b[0m\u001b[0;32m    146\u001b[0m     \u001b[1;32mreturn\u001b[0m \u001b[0mdata\u001b[0m\u001b[1;33m\u001b[0m\u001b[1;33m\u001b[0m\u001b[0m\n\u001b[0;32m    147\u001b[0m \u001b[1;33m\u001b[0m\u001b[0m\n",
      "\u001b[1;31mValueError\u001b[0m: Error when checking input: expected dense_38_input to have shape (26392,) but got array with shape (40,)"
     ]
    }
   ],
   "source": [
    "import time\n",
    "import datetime\n",
    "import keras.callbacks\n",
    "from keras.callbacks import ModelCheckpoint, EarlyStopping, TensorBoard, ReduceLROnPlateau\n",
    "from keras.optimizers import RMSprop, Adam\n",
    "import keras\n",
    "\n",
    "from keras.callbacks import TensorBoard\n",
    "\n",
    "print(\"Starting...\\n\")\n",
    "\n",
    "start_time = time.time()\n",
    "print(date_time(1))\n",
    "\n",
    "print(\"\\n\\nCompliling Model ...\\n\")\n",
    "learning_rate = 0.001\n",
    "optimizer = Adam(learning_rate)\n",
    "# optimizer = Adam()\n",
    "\n",
    "model1.compile(optimizer=optimizer, loss=loss, metrics=metrics)\n",
    "\n",
    "verbose = 1\n",
    "epochs = 100\n",
    "batch_size = 128\n",
    "validation_split = 0.2\n",
    "\n",
    "print(\"Trainning Model ...\\n\")\n",
    "\n",
    "callbacks = [\n",
    "    keras.callbacks.EarlyStopping(\n",
    "        # Stop training when `val_loss` is no longer improving\n",
    "        monitor=\"val_loss\",\n",
    "        # \"no longer improving\" being defined as \"no better than 1e-2 less\"\n",
    "        #min_delta=1e-2,\n",
    "        min_delta=1,\n",
    "        # \"no longer improving\" being further defined as \"for at least 2 epochs\"\n",
    "        patience=90,\n",
    "        verbose=1,\n",
    "    )\n",
    "]\n",
    "\n",
    "history1 = model1.fit(\n",
    "    X_train_seq,\n",
    "    Y_train,\n",
    "    batch_size=batch_size,\n",
    "    epochs=epochs,\n",
    "    verbose=verbose,\n",
    "    callbacks=callbacks,\n",
    "    validation_split=validation_split,\n",
    "    class_weight =class_weight\n",
    "    )\n",
    "\n",
    "elapsed_time = time.time() - start_time\n",
    "elapsed_time = time.strftime(\"%H:%M:%S\", time.gmtime(elapsed_time))\n",
    "\n",
    "print(\"\\nElapsed Time: \" + elapsed_time)\n",
    "print(\"Completed Model Trainning\", date_time(1))"
   ]
  },
  {
   "cell_type": "code",
   "execution_count": 103,
   "metadata": {},
   "outputs": [
    {
     "ename": "NameError",
     "evalue": "name 'history1' is not defined",
     "output_type": "error",
     "traceback": [
      "\u001b[1;31m---------------------------------------------------------------------------\u001b[0m",
      "\u001b[1;31mNameError\u001b[0m                                 Traceback (most recent call last)",
      "\u001b[1;32m<ipython-input-103-b6e30421139e>\u001b[0m in \u001b[0;36m<module>\u001b[1;34m\u001b[0m\n\u001b[1;32m----> 1\u001b[1;33m \u001b[0mplot_performance\u001b[0m\u001b[1;33m(\u001b[0m\u001b[0mhistory\u001b[0m\u001b[1;33m=\u001b[0m\u001b[0mhistory1\u001b[0m\u001b[1;33m)\u001b[0m\u001b[1;33m\u001b[0m\u001b[1;33m\u001b[0m\u001b[0m\n\u001b[0m",
      "\u001b[1;31mNameError\u001b[0m: name 'history1' is not defined"
     ]
    }
   ],
   "source": [
    "plot_performance(history=history1)"
   ]
  },
  {
   "cell_type": "code",
   "execution_count": 188,
   "metadata": {},
   "outputs": [
    {
     "ename": "TypeError",
     "evalue": "get_cnn_model() got an unexpected keyword argument 'num_class'",
     "output_type": "error",
     "traceback": [
      "\u001b[1;31m---------------------------------------------------------------------------\u001b[0m",
      "\u001b[1;31mTypeError\u001b[0m                                 Traceback (most recent call last)",
      "\u001b[1;32m<ipython-input-188-2df7fbff7190>\u001b[0m in \u001b[0;36m<module>\u001b[1;34m\u001b[0m\n\u001b[0;32m      1\u001b[0m \u001b[0mnum_class\u001b[0m \u001b[1;33m=\u001b[0m \u001b[1;36m4\u001b[0m\u001b[1;33m\u001b[0m\u001b[1;33m\u001b[0m\u001b[0m\n\u001b[1;32m----> 2\u001b[1;33m \u001b[0mmodel2\u001b[0m \u001b[1;33m=\u001b[0m \u001b[0mget_cnn_model\u001b[0m\u001b[1;33m(\u001b[0m\u001b[0mnum_class\u001b[0m\u001b[1;33m=\u001b[0m\u001b[0mnum_class\u001b[0m\u001b[1;33m)\u001b[0m\u001b[1;33m\u001b[0m\u001b[1;33m\u001b[0m\u001b[0m\n\u001b[0m",
      "\u001b[1;31mTypeError\u001b[0m: get_cnn_model() got an unexpected keyword argument 'num_class'"
     ]
    }
   ],
   "source": [
    "num_class = 4\n",
    "model2 = get_cnn_model(num_class=num_class)"
   ]
  },
  {
   "cell_type": "code",
   "execution_count": 105,
   "metadata": {},
   "outputs": [
    {
     "name": "stdout",
     "output_type": "stream",
     "text": [
      "Starting...\n",
      "\n",
      "Timestamp: 2021-07-25 16:40:06\n",
      "\n",
      "\n",
      "Compliling Model ...\n",
      "\n",
      "Trainning Model ...\n",
      "\n",
      "Train on 7067 samples, validate on 1767 samples\n",
      "Epoch 1/100\n",
      "7067/7067 [==============================] - 18s 3ms/step - loss: 2.3462 - accuracy: 0.2829 - val_loss: 1.3714 - val_accuracy: 0.3237\n",
      "Epoch 2/100\n",
      "7067/7067 [==============================] - 16s 2ms/step - loss: 1.6871 - accuracy: 0.3962 - val_loss: 1.3523 - val_accuracy: 0.3599\n",
      "Epoch 3/100\n",
      "7067/7067 [==============================] - 16s 2ms/step - loss: 0.9477 - accuracy: 0.6356 - val_loss: 1.2925 - val_accuracy: 0.3384\n",
      "Epoch 4/100\n",
      "7067/7067 [==============================] - 16s 2ms/step - loss: 0.3574 - accuracy: 0.8678 - val_loss: 1.2013 - val_accuracy: 0.3860\n",
      "Epoch 5/100\n",
      "7067/7067 [==============================] - 16s 2ms/step - loss: 0.1660 - accuracy: 0.9441 - val_loss: 1.0389 - val_accuracy: 0.5529\n",
      "Epoch 6/100\n",
      "7067/7067 [==============================] - 16s 2ms/step - loss: 0.0778 - accuracy: 0.9755 - val_loss: 0.9233 - val_accuracy: 0.6180\n",
      "Epoch 7/100\n",
      "7067/7067 [==============================] - 17s 2ms/step - loss: 0.0504 - accuracy: 0.9844 - val_loss: 0.8314 - val_accuracy: 0.6735\n",
      "Epoch 8/100\n",
      "7067/7067 [==============================] - 16s 2ms/step - loss: 0.0265 - accuracy: 0.9932 - val_loss: 0.7988 - val_accuracy: 0.6836\n",
      "Epoch 9/100\n",
      "7067/7067 [==============================] - 16s 2ms/step - loss: 0.0255 - accuracy: 0.9929 - val_loss: 0.8054 - val_accuracy: 0.6955\n",
      "Epoch 10/100\n",
      "7067/7067 [==============================] - 16s 2ms/step - loss: 0.0246 - accuracy: 0.9936 - val_loss: 0.8593 - val_accuracy: 0.6972\n",
      "Epoch 11/100\n",
      "7067/7067 [==============================] - 16s 2ms/step - loss: 0.0212 - accuracy: 0.9941 - val_loss: 0.9420 - val_accuracy: 0.6927\n",
      "Epoch 12/100\n",
      "7067/7067 [==============================] - 16s 2ms/step - loss: 0.0151 - accuracy: 0.9956 - val_loss: 1.0451 - val_accuracy: 0.6933\n",
      "Epoch 13/100\n",
      "7067/7067 [==============================] - 16s 2ms/step - loss: 0.0174 - accuracy: 0.9955 - val_loss: 1.1403 - val_accuracy: 0.6876\n",
      "Epoch 14/100\n",
      "7067/7067 [==============================] - 15s 2ms/step - loss: 0.0198 - accuracy: 0.9936 - val_loss: 1.2012 - val_accuracy: 0.6933\n",
      "Epoch 15/100\n",
      "7067/7067 [==============================] - 16s 2ms/step - loss: 0.0131 - accuracy: 0.9963 - val_loss: 1.2426 - val_accuracy: 0.6984\n",
      "Epoch 16/100\n",
      "7067/7067 [==============================] - 16s 2ms/step - loss: 0.0124 - accuracy: 0.9966 - val_loss: 1.3092 - val_accuracy: 0.7035\n",
      "Epoch 17/100\n",
      "7067/7067 [==============================] - 16s 2ms/step - loss: 0.0096 - accuracy: 0.9972 - val_loss: 1.3170 - val_accuracy: 0.7018\n",
      "Epoch 18/100\n",
      "7067/7067 [==============================] - 16s 2ms/step - loss: 0.0101 - accuracy: 0.9965 - val_loss: 1.3439 - val_accuracy: 0.6961\n",
      "Epoch 19/100\n",
      "7067/7067 [==============================] - 16s 2ms/step - loss: 0.0160 - accuracy: 0.9963 - val_loss: 1.3703 - val_accuracy: 0.6967\n",
      "Epoch 20/100\n",
      "7067/7067 [==============================] - 16s 2ms/step - loss: 0.0107 - accuracy: 0.9970 - val_loss: 1.3923 - val_accuracy: 0.7001\n",
      "Epoch 21/100\n",
      "7067/7067 [==============================] - 16s 2ms/step - loss: 0.0132 - accuracy: 0.9960 - val_loss: 1.4365 - val_accuracy: 0.7080\n",
      "Epoch 22/100\n",
      "7067/7067 [==============================] - 15s 2ms/step - loss: 0.0163 - accuracy: 0.9948 - val_loss: 1.3833 - val_accuracy: 0.7001\n",
      "Epoch 23/100\n",
      "7067/7067 [==============================] - 16s 2ms/step - loss: 0.0121 - accuracy: 0.9963 - val_loss: 1.4099 - val_accuracy: 0.6984\n",
      "Epoch 24/100\n",
      "7067/7067 [==============================] - 16s 2ms/step - loss: 0.0126 - accuracy: 0.9969 - val_loss: 1.4336 - val_accuracy: 0.6950\n",
      "Epoch 25/100\n",
      "7067/7067 [==============================] - 16s 2ms/step - loss: 0.0135 - accuracy: 0.9967 - val_loss: 1.4189 - val_accuracy: 0.7046\n",
      "Epoch 26/100\n",
      "7067/7067 [==============================] - 16s 2ms/step - loss: 0.0112 - accuracy: 0.9973 - val_loss: 1.4403 - val_accuracy: 0.7006\n",
      "Epoch 27/100\n",
      "7067/7067 [==============================] - 16s 2ms/step - loss: 0.0118 - accuracy: 0.9969 - val_loss: 1.4266 - val_accuracy: 0.6984\n",
      "Epoch 28/100\n",
      "7067/7067 [==============================] - 16s 2ms/step - loss: 0.0074 - accuracy: 0.9979 - val_loss: 1.4688 - val_accuracy: 0.6938\n",
      "Epoch 29/100\n",
      "7067/7067 [==============================] - 16s 2ms/step - loss: 0.0127 - accuracy: 0.9966 - val_loss: 1.4738 - val_accuracy: 0.7029\n",
      "Epoch 30/100\n",
      "7067/7067 [==============================] - 16s 2ms/step - loss: 0.0101 - accuracy: 0.9965 - val_loss: 1.4829 - val_accuracy: 0.6995\n",
      "Epoch 31/100\n",
      "7067/7067 [==============================] - 16s 2ms/step - loss: 0.0095 - accuracy: 0.9975 - val_loss: 1.5308 - val_accuracy: 0.6904\n",
      "Epoch 32/100\n",
      "7067/7067 [==============================] - 16s 2ms/step - loss: 0.0108 - accuracy: 0.9972 - val_loss: 1.4669 - val_accuracy: 0.6972\n",
      "Epoch 33/100\n",
      "7067/7067 [==============================] - 16s 2ms/step - loss: 0.0116 - accuracy: 0.9972 - val_loss: 1.4936 - val_accuracy: 0.6921\n",
      "Epoch 34/100\n",
      "7067/7067 [==============================] - 16s 2ms/step - loss: 0.0119 - accuracy: 0.9972 - val_loss: 1.4907 - val_accuracy: 0.6978\n",
      "Epoch 35/100\n",
      "7067/7067 [==============================] - 15s 2ms/step - loss: 0.0068 - accuracy: 0.9979 - val_loss: 1.5150 - val_accuracy: 0.6950\n",
      "Epoch 36/100\n",
      "7067/7067 [==============================] - 15s 2ms/step - loss: 0.0102 - accuracy: 0.9973 - val_loss: 1.5191 - val_accuracy: 0.6955\n",
      "Epoch 37/100\n",
      "7067/7067 [==============================] - 15s 2ms/step - loss: 0.0131 - accuracy: 0.9969 - val_loss: 1.5870 - val_accuracy: 0.6950\n",
      "Epoch 38/100\n",
      "7067/7067 [==============================] - 15s 2ms/step - loss: 0.0129 - accuracy: 0.9960 - val_loss: 1.5706 - val_accuracy: 0.6984\n",
      "Epoch 39/100\n",
      "7067/7067 [==============================] - 15s 2ms/step - loss: 0.0084 - accuracy: 0.9969 - val_loss: 1.5929 - val_accuracy: 0.6950\n",
      "Epoch 40/100\n",
      "7067/7067 [==============================] - 16s 2ms/step - loss: 0.0128 - accuracy: 0.9965 - val_loss: 1.6943 - val_accuracy: 0.6808\n",
      "Epoch 41/100\n",
      "7067/7067 [==============================] - 16s 2ms/step - loss: 0.0117 - accuracy: 0.9969 - val_loss: 1.6930 - val_accuracy: 0.6814\n",
      "Epoch 42/100\n",
      "7067/7067 [==============================] - 15s 2ms/step - loss: 0.0090 - accuracy: 0.9976 - val_loss: 1.6541 - val_accuracy: 0.6927\n",
      "Epoch 43/100\n",
      "7067/7067 [==============================] - 16s 2ms/step - loss: 0.0117 - accuracy: 0.9969 - val_loss: 1.6177 - val_accuracy: 0.6961\n",
      "Epoch 44/100\n",
      "7067/7067 [==============================] - 16s 2ms/step - loss: 0.0193 - accuracy: 0.9952 - val_loss: 1.6386 - val_accuracy: 0.6887\n",
      "Epoch 45/100\n",
      "7067/7067 [==============================] - 16s 2ms/step - loss: 0.0095 - accuracy: 0.9967 - val_loss: 1.6090 - val_accuracy: 0.6950\n",
      "Epoch 46/100\n",
      "7067/7067 [==============================] - 16s 2ms/step - loss: 0.0107 - accuracy: 0.9970 - val_loss: 1.6427 - val_accuracy: 0.6916\n",
      "Epoch 47/100\n",
      "7067/7067 [==============================] - 16s 2ms/step - loss: 0.0148 - accuracy: 0.9962 - val_loss: 1.6486 - val_accuracy: 0.6944\n",
      "Epoch 48/100\n",
      "7067/7067 [==============================] - 15s 2ms/step - loss: 0.0137 - accuracy: 0.9970 - val_loss: 1.6902 - val_accuracy: 0.6921\n",
      "Epoch 49/100\n",
      "7067/7067 [==============================] - 15s 2ms/step - loss: 0.0138 - accuracy: 0.9962 - val_loss: 1.6750 - val_accuracy: 0.6950\n",
      "Epoch 50/100\n",
      "7067/7067 [==============================] - 16s 2ms/step - loss: 0.0152 - accuracy: 0.9956 - val_loss: 1.6837 - val_accuracy: 0.6967\n",
      "Epoch 51/100\n",
      "7067/7067 [==============================] - 16s 2ms/step - loss: 0.0116 - accuracy: 0.9965 - val_loss: 1.7265 - val_accuracy: 0.7046\n",
      "Epoch 52/100\n",
      "7067/7067 [==============================] - 16s 2ms/step - loss: 0.0140 - accuracy: 0.9959 - val_loss: 1.8141 - val_accuracy: 0.7001\n",
      "Epoch 53/100\n",
      "7067/7067 [==============================] - 16s 2ms/step - loss: 0.0143 - accuracy: 0.9953 - val_loss: 1.7774 - val_accuracy: 0.7080\n",
      "Epoch 54/100\n",
      "7067/7067 [==============================] - 16s 2ms/step - loss: 0.0124 - accuracy: 0.9956 - val_loss: 1.8003 - val_accuracy: 0.6955\n",
      "Epoch 55/100\n",
      "7067/7067 [==============================] - 16s 2ms/step - loss: 0.0152 - accuracy: 0.9959 - val_loss: 1.8551 - val_accuracy: 0.7114\n"
     ]
    },
    {
     "name": "stdout",
     "output_type": "stream",
     "text": [
      "Epoch 56/100\n",
      "7067/7067 [==============================] - 16s 2ms/step - loss: 0.0192 - accuracy: 0.9950 - val_loss: 1.9322 - val_accuracy: 0.6955\n",
      "Epoch 57/100\n",
      "7067/7067 [==============================] - 16s 2ms/step - loss: 0.0212 - accuracy: 0.9935 - val_loss: 1.8767 - val_accuracy: 0.7080\n",
      "Epoch 58/100\n",
      "7067/7067 [==============================] - 16s 2ms/step - loss: 0.0265 - accuracy: 0.9938 - val_loss: 1.8866 - val_accuracy: 0.6995\n",
      "Epoch 59/100\n",
      "7067/7067 [==============================] - 16s 2ms/step - loss: 0.0158 - accuracy: 0.9948 - val_loss: 1.9551 - val_accuracy: 0.6933\n",
      "Epoch 60/100\n",
      "7067/7067 [==============================] - 16s 2ms/step - loss: 0.0160 - accuracy: 0.9956 - val_loss: 1.9173 - val_accuracy: 0.6882\n",
      "Epoch 61/100\n",
      "7067/7067 [==============================] - 15s 2ms/step - loss: 0.0178 - accuracy: 0.9942 - val_loss: 1.9233 - val_accuracy: 0.6904\n",
      "Epoch 62/100\n",
      "7067/7067 [==============================] - 16s 2ms/step - loss: 0.0219 - accuracy: 0.9941 - val_loss: 2.0422 - val_accuracy: 0.6916\n",
      "Epoch 63/100\n",
      "7067/7067 [==============================] - 15s 2ms/step - loss: 0.0169 - accuracy: 0.9941 - val_loss: 2.0665 - val_accuracy: 0.6819\n",
      "Epoch 64/100\n",
      "7067/7067 [==============================] - 16s 2ms/step - loss: 0.0179 - accuracy: 0.9941 - val_loss: 2.1151 - val_accuracy: 0.6831\n",
      "Epoch 65/100\n",
      "7067/7067 [==============================] - 16s 2ms/step - loss: 0.0122 - accuracy: 0.9966 - val_loss: 2.0290 - val_accuracy: 0.6955\n",
      "Epoch 66/100\n",
      "7067/7067 [==============================] - 16s 2ms/step - loss: 0.0129 - accuracy: 0.9962 - val_loss: 2.1159 - val_accuracy: 0.6904\n",
      "Epoch 67/100\n",
      "7067/7067 [==============================] - 15s 2ms/step - loss: 0.0078 - accuracy: 0.9980 - val_loss: 2.0835 - val_accuracy: 0.6865\n",
      "Epoch 68/100\n",
      "7067/7067 [==============================] - 16s 2ms/step - loss: 0.0115 - accuracy: 0.9959 - val_loss: 2.0582 - val_accuracy: 0.6893\n",
      "Epoch 69/100\n",
      "7067/7067 [==============================] - 15s 2ms/step - loss: 0.0107 - accuracy: 0.9972 - val_loss: 2.0056 - val_accuracy: 0.6927\n",
      "Epoch 70/100\n",
      "7067/7067 [==============================] - 16s 2ms/step - loss: 0.0123 - accuracy: 0.9963 - val_loss: 2.1193 - val_accuracy: 0.6938\n",
      "Epoch 71/100\n",
      "7067/7067 [==============================] - 16s 2ms/step - loss: 0.0127 - accuracy: 0.9966 - val_loss: 2.0247 - val_accuracy: 0.6910\n",
      "Epoch 72/100\n",
      "7067/7067 [==============================] - 16s 2ms/step - loss: 0.0217 - accuracy: 0.9946 - val_loss: 2.0343 - val_accuracy: 0.6842\n",
      "Epoch 73/100\n",
      "7067/7067 [==============================] - 16s 2ms/step - loss: 0.0206 - accuracy: 0.9950 - val_loss: 2.0091 - val_accuracy: 0.7012\n",
      "Epoch 74/100\n",
      "7067/7067 [==============================] - 16s 2ms/step - loss: 0.0178 - accuracy: 0.9952 - val_loss: 2.1023 - val_accuracy: 0.6859\n",
      "Epoch 75/100\n",
      "7067/7067 [==============================] - 16s 2ms/step - loss: 0.0136 - accuracy: 0.9956 - val_loss: 2.0365 - val_accuracy: 0.6831\n",
      "Epoch 76/100\n",
      "7067/7067 [==============================] - 16s 2ms/step - loss: 0.0223 - accuracy: 0.9950 - val_loss: 2.0432 - val_accuracy: 0.7046\n",
      "Epoch 77/100\n",
      "7067/7067 [==============================] - 16s 2ms/step - loss: 0.0164 - accuracy: 0.9943 - val_loss: 2.1928 - val_accuracy: 0.6893\n",
      "Epoch 78/100\n",
      "7067/7067 [==============================] - 16s 2ms/step - loss: 0.0151 - accuracy: 0.9956 - val_loss: 2.2776 - val_accuracy: 0.6904\n",
      "Epoch 79/100\n",
      "7067/7067 [==============================] - 16s 2ms/step - loss: 0.0165 - accuracy: 0.9956 - val_loss: 2.1887 - val_accuracy: 0.6967\n",
      "Epoch 80/100\n",
      "7067/7067 [==============================] - 16s 2ms/step - loss: 0.0119 - accuracy: 0.9955 - val_loss: 2.1115 - val_accuracy: 0.7029\n",
      "Epoch 81/100\n",
      "7067/7067 [==============================] - 16s 2ms/step - loss: 0.0168 - accuracy: 0.9956 - val_loss: 2.0959 - val_accuracy: 0.6984\n",
      "Epoch 82/100\n",
      "7067/7067 [==============================] - 16s 2ms/step - loss: 0.0165 - accuracy: 0.9960 - val_loss: 2.1004 - val_accuracy: 0.7182\n",
      "Epoch 83/100\n",
      "7067/7067 [==============================] - 16s 2ms/step - loss: 0.0140 - accuracy: 0.9962 - val_loss: 2.0658 - val_accuracy: 0.7018\n",
      "Epoch 84/100\n",
      "7067/7067 [==============================] - 16s 2ms/step - loss: 0.0122 - accuracy: 0.9965 - val_loss: 2.1050 - val_accuracy: 0.6944\n",
      "Epoch 85/100\n",
      "7067/7067 [==============================] - 16s 2ms/step - loss: 0.0134 - accuracy: 0.9960 - val_loss: 2.1849 - val_accuracy: 0.6984\n",
      "Epoch 86/100\n",
      "7067/7067 [==============================] - 16s 2ms/step - loss: 0.0215 - accuracy: 0.9941 - val_loss: 2.1465 - val_accuracy: 0.6984\n",
      "Epoch 87/100\n",
      "7067/7067 [==============================] - 16s 2ms/step - loss: 0.0169 - accuracy: 0.9966 - val_loss: 2.2058 - val_accuracy: 0.6927\n",
      "Epoch 88/100\n",
      "7067/7067 [==============================] - 16s 2ms/step - loss: 0.0114 - accuracy: 0.9967 - val_loss: 2.2661 - val_accuracy: 0.6882\n",
      "Epoch 89/100\n",
      "7067/7067 [==============================] - 16s 2ms/step - loss: 0.0102 - accuracy: 0.9965 - val_loss: 2.2759 - val_accuracy: 0.6927\n",
      "Epoch 90/100\n",
      "7067/7067 [==============================] - 15s 2ms/step - loss: 0.0162 - accuracy: 0.9960 - val_loss: 2.3331 - val_accuracy: 0.6950\n",
      "Epoch 91/100\n",
      "7067/7067 [==============================] - 16s 2ms/step - loss: 0.0187 - accuracy: 0.9959 - val_loss: 2.3534 - val_accuracy: 0.6984\n",
      "Epoch 00091: early stopping\n",
      "\n",
      "Elapsed Time: 00:23:57\n",
      "Completed Model Trainning Timestamp: 2021-07-25 17:04:04\n"
     ]
    }
   ],
   "source": [
    "print(\"Starting...\\n\")\n",
    "\n",
    "start_time = time.time()\n",
    "print(date_time(1))\n",
    "\n",
    "print(\"\\n\\nCompliling Model ...\\n\")\n",
    "learning_rate = 0.001\n",
    "optimizer = Adam(learning_rate)\n",
    "# optimizer = Adam()\n",
    "\n",
    "model2.compile(optimizer=optimizer, loss=loss, metrics=metrics)\n",
    "\n",
    "verbose = 1\n",
    "epochs = 100\n",
    "batch_size = 128\n",
    "validation_split = 0.2\n",
    "\n",
    "print(\"Trainning Model ...\\n\")\n",
    "\n",
    "history2 = model2.fit(\n",
    "    X_train_seq,\n",
    "    Y_train,\n",
    "    batch_size=batch_size,\n",
    "    epochs=epochs,\n",
    "    verbose=verbose,\n",
    "    callbacks=callbacks,\n",
    "    validation_split=validation_split,\n",
    "    class_weight =class_weight\n",
    "    )\n",
    "\n",
    "elapsed_time = time.time() - start_time\n",
    "elapsed_time = time.strftime(\"%H:%M:%S\", time.gmtime(elapsed_time))\n",
    "\n",
    "print(\"\\nElapsed Time: \" + elapsed_time)\n",
    "print(\"Completed Model Trainning\", date_time(1))"
   ]
  },
  {
   "cell_type": "code",
   "execution_count": 106,
   "metadata": {},
   "outputs": [
    {
     "ename": "KeyError",
     "evalue": "'acc'",
     "output_type": "error",
     "traceback": [
      "\u001b[1;31m---------------------------------------------------------------------------\u001b[0m",
      "\u001b[1;31mKeyError\u001b[0m                                  Traceback (most recent call last)",
      "\u001b[1;32m<ipython-input-106-97ba8bd53ae6>\u001b[0m in \u001b[0;36m<module>\u001b[1;34m\u001b[0m\n\u001b[1;32m----> 1\u001b[1;33m \u001b[0mplot_performance\u001b[0m\u001b[1;33m(\u001b[0m\u001b[0mhistory\u001b[0m\u001b[1;33m=\u001b[0m\u001b[0mhistory2\u001b[0m\u001b[1;33m)\u001b[0m\u001b[1;33m\u001b[0m\u001b[1;33m\u001b[0m\u001b[0m\n\u001b[0m",
      "\u001b[1;32m<ipython-input-98-cf80a7c675e0>\u001b[0m in \u001b[0;36mplot_performance\u001b[1;34m(history, figure_directory, ylim_pad)\u001b[0m\n\u001b[0;32m      5\u001b[0m     \u001b[0mplt\u001b[0m\u001b[1;33m.\u001b[0m\u001b[0mfigure\u001b[0m\u001b[1;33m(\u001b[0m\u001b[0mfigsize\u001b[0m\u001b[1;33m=\u001b[0m\u001b[1;33m(\u001b[0m\u001b[1;36m20\u001b[0m\u001b[1;33m,\u001b[0m \u001b[1;36m5\u001b[0m\u001b[1;33m)\u001b[0m\u001b[1;33m)\u001b[0m\u001b[1;33m\u001b[0m\u001b[1;33m\u001b[0m\u001b[0m\n\u001b[0;32m      6\u001b[0m \u001b[1;33m\u001b[0m\u001b[0m\n\u001b[1;32m----> 7\u001b[1;33m     \u001b[0my1\u001b[0m \u001b[1;33m=\u001b[0m \u001b[0mhistory\u001b[0m\u001b[1;33m.\u001b[0m\u001b[0mhistory\u001b[0m\u001b[1;33m[\u001b[0m\u001b[1;34m'acc'\u001b[0m\u001b[1;33m]\u001b[0m\u001b[1;33m\u001b[0m\u001b[1;33m\u001b[0m\u001b[0m\n\u001b[0m\u001b[0;32m      8\u001b[0m     \u001b[0my2\u001b[0m \u001b[1;33m=\u001b[0m \u001b[0mhistory\u001b[0m\u001b[1;33m.\u001b[0m\u001b[0mhistory\u001b[0m\u001b[1;33m[\u001b[0m\u001b[1;34m'val_acc'\u001b[0m\u001b[1;33m]\u001b[0m\u001b[1;33m\u001b[0m\u001b[1;33m\u001b[0m\u001b[0m\n\u001b[0;32m      9\u001b[0m \u001b[1;33m\u001b[0m\u001b[0m\n",
      "\u001b[1;31mKeyError\u001b[0m: 'acc'"
     ]
    },
    {
     "data": {
      "text/plain": [
       "<Figure size 1440x360 with 0 Axes>"
      ]
     },
     "metadata": {},
     "output_type": "display_data"
    }
   ],
   "source": [
    "plot_performance(history=history2)"
   ]
  },
  {
   "cell_type": "code",
   "execution_count": 107,
   "metadata": {},
   "outputs": [
    {
     "ename": "ValueError",
     "evalue": "Error when checking input: expected dense_38_input to have shape (26392,) but got array with shape (40,)",
     "output_type": "error",
     "traceback": [
      "\u001b[1;31m---------------------------------------------------------------------------\u001b[0m",
      "\u001b[1;31mValueError\u001b[0m                                Traceback (most recent call last)",
      "\u001b[1;32m<ipython-input-107-9e25e3611a21>\u001b[0m in \u001b[0;36m<module>\u001b[1;34m\u001b[0m\n\u001b[0;32m      1\u001b[0m \u001b[0mtest_X_seq\u001b[0m \u001b[1;33m=\u001b[0m \u001b[0mtokenizer\u001b[0m\u001b[1;33m.\u001b[0m\u001b[0mtexts_to_sequences\u001b[0m\u001b[1;33m(\u001b[0m\u001b[0mX_test\u001b[0m\u001b[1;33m)\u001b[0m\u001b[1;33m\u001b[0m\u001b[1;33m\u001b[0m\u001b[0m\n\u001b[0;32m      2\u001b[0m \u001b[0mtest_X_seq\u001b[0m \u001b[1;33m=\u001b[0m \u001b[0msequence\u001b[0m\u001b[1;33m.\u001b[0m\u001b[0mpad_sequences\u001b[0m\u001b[1;33m(\u001b[0m\u001b[0mtest_X_seq\u001b[0m\u001b[1;33m,\u001b[0m \u001b[0mmaxlen\u001b[0m\u001b[1;33m=\u001b[0m\u001b[0mmax_len\u001b[0m\u001b[1;33m)\u001b[0m\u001b[1;33m\u001b[0m\u001b[1;33m\u001b[0m\u001b[0m\n\u001b[1;32m----> 3\u001b[1;33m \u001b[0maccuracy1\u001b[0m \u001b[1;33m=\u001b[0m \u001b[0mmodel1\u001b[0m\u001b[1;33m.\u001b[0m\u001b[0mevaluate\u001b[0m\u001b[1;33m(\u001b[0m\u001b[0mtest_X_seq\u001b[0m\u001b[1;33m,\u001b[0m \u001b[0mY_test\u001b[0m\u001b[1;33m)\u001b[0m\u001b[1;33m\u001b[0m\u001b[1;33m\u001b[0m\u001b[0m\n\u001b[0m\u001b[0;32m      4\u001b[0m \u001b[0maccuracy2\u001b[0m \u001b[1;33m=\u001b[0m \u001b[0mmodel2\u001b[0m\u001b[1;33m.\u001b[0m\u001b[0mevaluate\u001b[0m\u001b[1;33m(\u001b[0m\u001b[0mtest_X_seq\u001b[0m\u001b[1;33m,\u001b[0m \u001b[0mY_test\u001b[0m\u001b[1;33m)\u001b[0m\u001b[1;33m\u001b[0m\u001b[1;33m\u001b[0m\u001b[0m\n",
      "\u001b[1;32mC:\\Anaconda\\lib\\site-packages\\keras\\engine\\training.py\u001b[0m in \u001b[0;36mevaluate\u001b[1;34m(self, x, y, batch_size, verbose, sample_weight, steps, callbacks, max_queue_size, workers, use_multiprocessing)\u001b[0m\n\u001b[0;32m   1347\u001b[0m             \u001b[0mx\u001b[0m\u001b[1;33m,\u001b[0m \u001b[0my\u001b[0m\u001b[1;33m,\u001b[0m\u001b[1;33m\u001b[0m\u001b[1;33m\u001b[0m\u001b[0m\n\u001b[0;32m   1348\u001b[0m             \u001b[0msample_weight\u001b[0m\u001b[1;33m=\u001b[0m\u001b[0msample_weight\u001b[0m\u001b[1;33m,\u001b[0m\u001b[1;33m\u001b[0m\u001b[1;33m\u001b[0m\u001b[0m\n\u001b[1;32m-> 1349\u001b[1;33m             batch_size=batch_size)\n\u001b[0m\u001b[0;32m   1350\u001b[0m         \u001b[1;31m# Prepare inputs, delegate logic to `test_loop`.\u001b[0m\u001b[1;33m\u001b[0m\u001b[1;33m\u001b[0m\u001b[1;33m\u001b[0m\u001b[0m\n\u001b[0;32m   1351\u001b[0m         \u001b[1;32mif\u001b[0m \u001b[0mself\u001b[0m\u001b[1;33m.\u001b[0m\u001b[0m_uses_dynamic_learning_phase\u001b[0m\u001b[1;33m(\u001b[0m\u001b[1;33m)\u001b[0m\u001b[1;33m:\u001b[0m\u001b[1;33m\u001b[0m\u001b[1;33m\u001b[0m\u001b[0m\n",
      "\u001b[1;32mC:\\Anaconda\\lib\\site-packages\\keras\\engine\\training.py\u001b[0m in \u001b[0;36m_standardize_user_data\u001b[1;34m(self, x, y, sample_weight, class_weight, check_array_lengths, batch_size)\u001b[0m\n\u001b[0;32m    577\u001b[0m             \u001b[0mfeed_input_shapes\u001b[0m\u001b[1;33m,\u001b[0m\u001b[1;33m\u001b[0m\u001b[1;33m\u001b[0m\u001b[0m\n\u001b[0;32m    578\u001b[0m             \u001b[0mcheck_batch_axis\u001b[0m\u001b[1;33m=\u001b[0m\u001b[1;32mFalse\u001b[0m\u001b[1;33m,\u001b[0m  \u001b[1;31m# Don't enforce the batch size.\u001b[0m\u001b[1;33m\u001b[0m\u001b[1;33m\u001b[0m\u001b[0m\n\u001b[1;32m--> 579\u001b[1;33m             exception_prefix='input')\n\u001b[0m\u001b[0;32m    580\u001b[0m \u001b[1;33m\u001b[0m\u001b[0m\n\u001b[0;32m    581\u001b[0m         \u001b[1;32mif\u001b[0m \u001b[0my\u001b[0m \u001b[1;32mis\u001b[0m \u001b[1;32mnot\u001b[0m \u001b[1;32mNone\u001b[0m\u001b[1;33m:\u001b[0m\u001b[1;33m\u001b[0m\u001b[1;33m\u001b[0m\u001b[0m\n",
      "\u001b[1;32mC:\\Anaconda\\lib\\site-packages\\keras\\engine\\training_utils.py\u001b[0m in \u001b[0;36mstandardize_input_data\u001b[1;34m(data, names, shapes, check_batch_axis, exception_prefix)\u001b[0m\n\u001b[0;32m    143\u001b[0m                             \u001b[1;34m': expected '\u001b[0m \u001b[1;33m+\u001b[0m \u001b[0mnames\u001b[0m\u001b[1;33m[\u001b[0m\u001b[0mi\u001b[0m\u001b[1;33m]\u001b[0m \u001b[1;33m+\u001b[0m \u001b[1;34m' to have shape '\u001b[0m \u001b[1;33m+\u001b[0m\u001b[1;33m\u001b[0m\u001b[1;33m\u001b[0m\u001b[0m\n\u001b[0;32m    144\u001b[0m                             \u001b[0mstr\u001b[0m\u001b[1;33m(\u001b[0m\u001b[0mshape\u001b[0m\u001b[1;33m)\u001b[0m \u001b[1;33m+\u001b[0m \u001b[1;34m' but got array with shape '\u001b[0m \u001b[1;33m+\u001b[0m\u001b[1;33m\u001b[0m\u001b[1;33m\u001b[0m\u001b[0m\n\u001b[1;32m--> 145\u001b[1;33m                             str(data_shape))\n\u001b[0m\u001b[0;32m    146\u001b[0m     \u001b[1;32mreturn\u001b[0m \u001b[0mdata\u001b[0m\u001b[1;33m\u001b[0m\u001b[1;33m\u001b[0m\u001b[0m\n\u001b[0;32m    147\u001b[0m \u001b[1;33m\u001b[0m\u001b[0m\n",
      "\u001b[1;31mValueError\u001b[0m: Error when checking input: expected dense_38_input to have shape (26392,) but got array with shape (40,)"
     ]
    }
   ],
   "source": [
    "test_X_seq = tokenizer.texts_to_sequences(X_test)\n",
    "test_X_seq = sequence.pad_sequences(test_X_seq, maxlen=max_len)\n",
    "accuracy1 = model1.evaluate(test_X_seq, Y_test)\n",
    "accuracy2 = model2.evaluate(test_X_seq, Y_test)"
   ]
  },
  {
   "cell_type": "code",
   "execution_count": 108,
   "metadata": {},
   "outputs": [
    {
     "name": "stdout",
     "output_type": "stream",
     "text": [
      "Model Performance of RNN (Test Accuracy):\n"
     ]
    },
    {
     "ename": "NameError",
     "evalue": "name 'accuracy1' is not defined",
     "output_type": "error",
     "traceback": [
      "\u001b[1;31m---------------------------------------------------------------------------\u001b[0m",
      "\u001b[1;31mNameError\u001b[0m                                 Traceback (most recent call last)",
      "\u001b[1;32m<ipython-input-108-d8e9f6236c42>\u001b[0m in \u001b[0;36m<module>\u001b[1;34m\u001b[0m\n\u001b[0;32m      1\u001b[0m \u001b[0mprint\u001b[0m\u001b[1;33m(\u001b[0m\u001b[1;34m\"Model Performance of RNN (Test Accuracy):\"\u001b[0m\u001b[1;33m)\u001b[0m\u001b[1;33m\u001b[0m\u001b[1;33m\u001b[0m\u001b[0m\n\u001b[1;32m----> 2\u001b[1;33m \u001b[0mprint\u001b[0m\u001b[1;33m(\u001b[0m\u001b[1;34m'Accuracy: {:0.2f}%\\nLoss: {:0.3f}\\n'\u001b[0m\u001b[1;33m.\u001b[0m\u001b[0mformat\u001b[0m\u001b[1;33m(\u001b[0m\u001b[0maccuracy1\u001b[0m\u001b[1;33m[\u001b[0m\u001b[1;36m1\u001b[0m\u001b[1;33m]\u001b[0m\u001b[1;33m*\u001b[0m\u001b[1;36m100\u001b[0m\u001b[1;33m,\u001b[0m \u001b[0maccuracy1\u001b[0m\u001b[1;33m[\u001b[0m\u001b[1;36m0\u001b[0m\u001b[1;33m]\u001b[0m\u001b[1;33m)\u001b[0m\u001b[1;33m)\u001b[0m\u001b[1;33m\u001b[0m\u001b[1;33m\u001b[0m\u001b[0m\n\u001b[0m\u001b[0;32m      3\u001b[0m \u001b[1;33m\u001b[0m\u001b[0m\n\u001b[0;32m      4\u001b[0m \u001b[0mprint\u001b[0m\u001b[1;33m(\u001b[0m\u001b[1;34m\"\\nModel Performance of RNN (Test Accuracy):\"\u001b[0m\u001b[1;33m)\u001b[0m\u001b[1;33m\u001b[0m\u001b[1;33m\u001b[0m\u001b[0m\n\u001b[0;32m      5\u001b[0m \u001b[0mprint\u001b[0m\u001b[1;33m(\u001b[0m\u001b[1;34m'v: {:0.2f}%\\nLoss: {:0.3f}\\n'\u001b[0m\u001b[1;33m.\u001b[0m\u001b[0mformat\u001b[0m\u001b[1;33m(\u001b[0m\u001b[0maccuracy2\u001b[0m\u001b[1;33m[\u001b[0m\u001b[1;36m1\u001b[0m\u001b[1;33m]\u001b[0m\u001b[1;33m*\u001b[0m\u001b[1;36m100\u001b[0m\u001b[1;33m,\u001b[0m \u001b[0maccuracy2\u001b[0m\u001b[1;33m[\u001b[0m\u001b[1;36m0\u001b[0m\u001b[1;33m]\u001b[0m\u001b[1;33m)\u001b[0m\u001b[1;33m)\u001b[0m\u001b[1;33m\u001b[0m\u001b[1;33m\u001b[0m\u001b[0m\n",
      "\u001b[1;31mNameError\u001b[0m: name 'accuracy1' is not defined"
     ]
    }
   ],
   "source": [
    "print(\"Model Performance of RNN (Test Accuracy):\")\n",
    "print('Accuracy: {:0.2f}%\\nLoss: {:0.3f}\\n'.format(accuracy1[1]*100, accuracy1[0]))\n",
    "\n",
    "print(\"\\nModel Performance of RNN (Test Accuracy):\")\n",
    "print('v: {:0.2f}%\\nLoss: {:0.3f}\\n'.format(accuracy2[1]*100, accuracy2[0]))"
   ]
  },
  {
   "cell_type": "code",
   "execution_count": null,
   "metadata": {},
   "outputs": [],
   "source": [
    "ypreds1 = model1.predict_classes(test_X_seq, verbose=1)\n",
    "ypreds2 = model2.predict_classes(test_X_seq, verbose=1)"
   ]
  },
  {
   "cell_type": "code",
   "execution_count": null,
   "metadata": {},
   "outputs": [],
   "source": [
    "def plot_model_performace(result):\n",
    "    sns.set_style(\"ticks\")\n",
    "    figsize=(22, 6)\n",
    "\n",
    "    ticksize = 12\n",
    "    titlesize = ticksize + 8\n",
    "    labelsize = ticksize + 5\n",
    "\n",
    "    xlabel = \"Model\"\n",
    "    ylabel = \"Score\"\n",
    "\n",
    "    title = \"Model Performance\"\n",
    "\n",
    "    params = {'figure.figsize' : figsize,\n",
    "              'axes.labelsize' : labelsize,\n",
    "              'axes.titlesize' : titlesize,\n",
    "              'xtick.labelsize': ticksize,\n",
    "              'ytick.labelsize': ticksize}\n",
    "\n",
    "    plt.rcParams.update(params)\n",
    "\n",
    "    col1 = \"model\"\n",
    "    col2 = \"score\"\n",
    "    sns.barplot(x=col1, y=col2, data=result)\n",
    "    plt.title(title.title())\n",
    "    plt.xlabel(xlabel)\n",
    "    plt.ylabel(ylabel)\n",
    "    plt.xticks(rotation=90)\n",
    "    plt.grid()\n",
    "    plt.plot()\n",
    "    plt.show()\n",
    "    print(result)"
   ]
  },
  {
   "cell_type": "code",
   "execution_count": null,
   "metadata": {},
   "outputs": [],
   "source": [
    "plot_confusion_matrix(Y_test, ypreds1, title=\"RNN\")"
   ]
  },
  {
   "cell_type": "code",
   "execution_count": null,
   "metadata": {},
   "outputs": [],
   "source": [
    "result = pd.DataFrame({'model': 'RNN', 'score': accuracy1[1]*100}, index=[-1])\n",
    "row2 = pd.DataFrame({'model': 'CNN', 'score': accuracy2[1]*100}, index=[-1])\n",
    "result = pd.concat([row2, result.ix[:]]).reset_index(drop=True)"
   ]
  },
  {
   "cell_type": "code",
   "execution_count": null,
   "metadata": {},
   "outputs": [],
   "source": [
    "plot_model_performace(result)"
   ]
  },
  {
   "cell_type": "code",
   "execution_count": null,
   "metadata": {},
   "outputs": [],
   "source": []
  },
  {
   "cell_type": "code",
   "execution_count": null,
   "metadata": {},
   "outputs": [],
   "source": []
  },
  {
   "cell_type": "code",
   "execution_count": null,
   "metadata": {},
   "outputs": [],
   "source": []
  }
 ],
 "metadata": {
  "kernelspec": {
   "display_name": "Python 3",
   "language": "python",
   "name": "python3"
  },
  "language_info": {
   "codemirror_mode": {
    "name": "ipython",
    "version": 3
   },
   "file_extension": ".py",
   "mimetype": "text/x-python",
   "name": "python",
   "nbconvert_exporter": "python",
   "pygments_lexer": "ipython3",
   "version": "3.7.3"
  }
 },
 "nbformat": 4,
 "nbformat_minor": 2
}
